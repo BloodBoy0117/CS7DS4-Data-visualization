{
 "cells": [
  {
   "cell_type": "markdown",
   "id": "623de90d",
   "metadata": {},
   "source": [
    "# Assignment 4: Addressing Complexity\n",
    "### Xinyi Li 23337042"
   ]
  },
  {
   "cell_type": "code",
   "execution_count": 38,
   "id": "11cc5e3c",
   "metadata": {},
   "outputs": [],
   "source": [
    "import pandas as pd\n",
    "import matplotlib.pyplot as plt\n",
    "import seaborn as sns\n",
    "import plotly.express as px\n",
    "from plotly.subplots import make_subplots\n",
    "import plotly.graph_objects as go\n",
    "import dash\n",
    "import dash_core_components as dcc\n",
    "import dash_html_components as html\n",
    "from dash.dependencies import Input, Output, State"
   ]
  },
  {
   "cell_type": "code",
   "execution_count": 39,
   "id": "f12c6f8e",
   "metadata": {},
   "outputs": [
    {
     "data": {
      "text/html": [
       "<div>\n",
       "<style scoped>\n",
       "    .dataframe tbody tr th:only-of-type {\n",
       "        vertical-align: middle;\n",
       "    }\n",
       "\n",
       "    .dataframe tbody tr th {\n",
       "        vertical-align: top;\n",
       "    }\n",
       "\n",
       "    .dataframe thead th {\n",
       "        text-align: right;\n",
       "    }\n",
       "</style>\n",
       "<table border=\"1\" class=\"dataframe\">\n",
       "  <thead>\n",
       "    <tr style=\"text-align: right;\">\n",
       "      <th></th>\n",
       "      <th>Countries and areas</th>\n",
       "      <th>Latitude</th>\n",
       "      <th>Longitude</th>\n",
       "      <th>OOSR_Pre0Primary_Age_Male</th>\n",
       "      <th>OOSR_Pre0Primary_Age_Female</th>\n",
       "      <th>OOSR_Primary_Age_Male</th>\n",
       "      <th>OOSR_Primary_Age_Female</th>\n",
       "      <th>OOSR_Lower_Secondary_Age_Male</th>\n",
       "      <th>OOSR_Lower_Secondary_Age_Female</th>\n",
       "      <th>OOSR_Upper_Secondary_Age_Male</th>\n",
       "      <th>...</th>\n",
       "      <th>Primary_End_Proficiency_Reading</th>\n",
       "      <th>Primary_End_Proficiency_Math</th>\n",
       "      <th>Lower_Secondary_End_Proficiency_Reading</th>\n",
       "      <th>Lower_Secondary_End_Proficiency_Math</th>\n",
       "      <th>Youth_15_24_Literacy_Rate_Male</th>\n",
       "      <th>Youth_15_24_Literacy_Rate_Female</th>\n",
       "      <th>Birth_Rate</th>\n",
       "      <th>Gross_Primary_Education_Enrollment</th>\n",
       "      <th>Gross_Tertiary_Education_Enrollment</th>\n",
       "      <th>Unemployment_Rate</th>\n",
       "    </tr>\n",
       "  </thead>\n",
       "  <tbody>\n",
       "    <tr>\n",
       "      <th>0</th>\n",
       "      <td>Afghanistan</td>\n",
       "      <td>33.939110</td>\n",
       "      <td>67.709953</td>\n",
       "      <td>0</td>\n",
       "      <td>0</td>\n",
       "      <td>0</td>\n",
       "      <td>0</td>\n",
       "      <td>0</td>\n",
       "      <td>0</td>\n",
       "      <td>44</td>\n",
       "      <td>...</td>\n",
       "      <td>13</td>\n",
       "      <td>11</td>\n",
       "      <td>0</td>\n",
       "      <td>0</td>\n",
       "      <td>74</td>\n",
       "      <td>56</td>\n",
       "      <td>32.49</td>\n",
       "      <td>104.0</td>\n",
       "      <td>9.7</td>\n",
       "      <td>11.12</td>\n",
       "    </tr>\n",
       "    <tr>\n",
       "      <th>1</th>\n",
       "      <td>Albania</td>\n",
       "      <td>41.153332</td>\n",
       "      <td>20.168331</td>\n",
       "      <td>4</td>\n",
       "      <td>2</td>\n",
       "      <td>6</td>\n",
       "      <td>3</td>\n",
       "      <td>6</td>\n",
       "      <td>1</td>\n",
       "      <td>21</td>\n",
       "      <td>...</td>\n",
       "      <td>0</td>\n",
       "      <td>0</td>\n",
       "      <td>48</td>\n",
       "      <td>58</td>\n",
       "      <td>99</td>\n",
       "      <td>100</td>\n",
       "      <td>11.78</td>\n",
       "      <td>107.0</td>\n",
       "      <td>55.0</td>\n",
       "      <td>12.33</td>\n",
       "    </tr>\n",
       "    <tr>\n",
       "      <th>2</th>\n",
       "      <td>Algeria</td>\n",
       "      <td>28.033886</td>\n",
       "      <td>1.659626</td>\n",
       "      <td>0</td>\n",
       "      <td>0</td>\n",
       "      <td>0</td>\n",
       "      <td>0</td>\n",
       "      <td>0</td>\n",
       "      <td>0</td>\n",
       "      <td>0</td>\n",
       "      <td>...</td>\n",
       "      <td>0</td>\n",
       "      <td>0</td>\n",
       "      <td>21</td>\n",
       "      <td>19</td>\n",
       "      <td>98</td>\n",
       "      <td>97</td>\n",
       "      <td>24.28</td>\n",
       "      <td>109.9</td>\n",
       "      <td>51.4</td>\n",
       "      <td>11.70</td>\n",
       "    </tr>\n",
       "    <tr>\n",
       "      <th>3</th>\n",
       "      <td>Andorra</td>\n",
       "      <td>42.506285</td>\n",
       "      <td>1.521801</td>\n",
       "      <td>0</td>\n",
       "      <td>0</td>\n",
       "      <td>0</td>\n",
       "      <td>0</td>\n",
       "      <td>0</td>\n",
       "      <td>0</td>\n",
       "      <td>0</td>\n",
       "      <td>...</td>\n",
       "      <td>0</td>\n",
       "      <td>0</td>\n",
       "      <td>0</td>\n",
       "      <td>0</td>\n",
       "      <td>0</td>\n",
       "      <td>0</td>\n",
       "      <td>7.20</td>\n",
       "      <td>106.4</td>\n",
       "      <td>0.0</td>\n",
       "      <td>0.00</td>\n",
       "    </tr>\n",
       "    <tr>\n",
       "      <th>4</th>\n",
       "      <td>Angola</td>\n",
       "      <td>11.202692</td>\n",
       "      <td>17.873887</td>\n",
       "      <td>31</td>\n",
       "      <td>39</td>\n",
       "      <td>0</td>\n",
       "      <td>0</td>\n",
       "      <td>0</td>\n",
       "      <td>0</td>\n",
       "      <td>0</td>\n",
       "      <td>...</td>\n",
       "      <td>0</td>\n",
       "      <td>0</td>\n",
       "      <td>0</td>\n",
       "      <td>0</td>\n",
       "      <td>0</td>\n",
       "      <td>0</td>\n",
       "      <td>40.73</td>\n",
       "      <td>113.5</td>\n",
       "      <td>9.3</td>\n",
       "      <td>6.89</td>\n",
       "    </tr>\n",
       "  </tbody>\n",
       "</table>\n",
       "<p>5 rows × 29 columns</p>\n",
       "</div>"
      ],
      "text/plain": [
       "  Countries and areas  Latitude   Longitude  OOSR_Pre0Primary_Age_Male  \\\n",
       "0         Afghanistan  33.939110  67.709953                          0   \n",
       "1             Albania  41.153332  20.168331                          4   \n",
       "2             Algeria  28.033886   1.659626                          0   \n",
       "3             Andorra  42.506285   1.521801                          0   \n",
       "4              Angola  11.202692  17.873887                         31   \n",
       "\n",
       "   OOSR_Pre0Primary_Age_Female  OOSR_Primary_Age_Male  \\\n",
       "0                            0                      0   \n",
       "1                            2                      6   \n",
       "2                            0                      0   \n",
       "3                            0                      0   \n",
       "4                           39                      0   \n",
       "\n",
       "   OOSR_Primary_Age_Female  OOSR_Lower_Secondary_Age_Male  \\\n",
       "0                        0                              0   \n",
       "1                        3                              6   \n",
       "2                        0                              0   \n",
       "3                        0                              0   \n",
       "4                        0                              0   \n",
       "\n",
       "   OOSR_Lower_Secondary_Age_Female  OOSR_Upper_Secondary_Age_Male  ...  \\\n",
       "0                                0                             44  ...   \n",
       "1                                1                             21  ...   \n",
       "2                                0                              0  ...   \n",
       "3                                0                              0  ...   \n",
       "4                                0                              0  ...   \n",
       "\n",
       "   Primary_End_Proficiency_Reading  Primary_End_Proficiency_Math  \\\n",
       "0                               13                            11   \n",
       "1                                0                             0   \n",
       "2                                0                             0   \n",
       "3                                0                             0   \n",
       "4                                0                             0   \n",
       "\n",
       "   Lower_Secondary_End_Proficiency_Reading  \\\n",
       "0                                        0   \n",
       "1                                       48   \n",
       "2                                       21   \n",
       "3                                        0   \n",
       "4                                        0   \n",
       "\n",
       "   Lower_Secondary_End_Proficiency_Math  Youth_15_24_Literacy_Rate_Male  \\\n",
       "0                                     0                              74   \n",
       "1                                    58                              99   \n",
       "2                                    19                              98   \n",
       "3                                     0                               0   \n",
       "4                                     0                               0   \n",
       "\n",
       "   Youth_15_24_Literacy_Rate_Female  Birth_Rate  \\\n",
       "0                                56       32.49   \n",
       "1                               100       11.78   \n",
       "2                                97       24.28   \n",
       "3                                 0        7.20   \n",
       "4                                 0       40.73   \n",
       "\n",
       "   Gross_Primary_Education_Enrollment  Gross_Tertiary_Education_Enrollment  \\\n",
       "0                               104.0                                  9.7   \n",
       "1                               107.0                                 55.0   \n",
       "2                               109.9                                 51.4   \n",
       "3                               106.4                                  0.0   \n",
       "4                               113.5                                  9.3   \n",
       "\n",
       "   Unemployment_Rate  \n",
       "0              11.12  \n",
       "1              12.33  \n",
       "2              11.70  \n",
       "3               0.00  \n",
       "4               6.89  \n",
       "\n",
       "[5 rows x 29 columns]"
      ]
     },
     "execution_count": 39,
     "metadata": {},
     "output_type": "execute_result"
    }
   ],
   "source": [
    "df=pd.read_csv('Global_Education.csv',encoding='ISO-8859-1')\n",
    "df.head()"
   ]
  },
  {
   "cell_type": "code",
   "execution_count": 40,
   "id": "a718d62c",
   "metadata": {},
   "outputs": [
    {
     "name": "stdout",
     "output_type": "stream",
     "text": [
      "Countries and areas                         object\n",
      "Latitude                                   float64\n",
      "Longitude                                  float64\n",
      "OOSR_Pre0Primary_Age_Male                    int64\n",
      "OOSR_Pre0Primary_Age_Female                  int64\n",
      "OOSR_Primary_Age_Male                        int64\n",
      "OOSR_Primary_Age_Female                      int64\n",
      "OOSR_Lower_Secondary_Age_Male                int64\n",
      "OOSR_Lower_Secondary_Age_Female              int64\n",
      "OOSR_Upper_Secondary_Age_Male                int64\n",
      "OOSR_Upper_Secondary_Age_Female              int64\n",
      "Completion_Rate_Primary_Male                 int64\n",
      "Completion_Rate_Primary_Female               int64\n",
      "Completion_Rate_Lower_Secondary_Male         int64\n",
      "Completion_Rate_Lower_Secondary_Female       int64\n",
      "Completion_Rate_Upper_Secondary_Male         int64\n",
      "Completion_Rate_Upper_Secondary_Female       int64\n",
      "Grade_2_3_Proficiency_Reading                int64\n",
      "Grade_2_3_Proficiency_Math                   int64\n",
      "Primary_End_Proficiency_Reading              int64\n",
      "Primary_End_Proficiency_Math                 int64\n",
      "Lower_Secondary_End_Proficiency_Reading      int64\n",
      "Lower_Secondary_End_Proficiency_Math         int64\n",
      "Youth_15_24_Literacy_Rate_Male               int64\n",
      "Youth_15_24_Literacy_Rate_Female             int64\n",
      "Birth_Rate                                 float64\n",
      "Gross_Primary_Education_Enrollment         float64\n",
      "Gross_Tertiary_Education_Enrollment        float64\n",
      "Unemployment_Rate                          float64\n",
      "dtype: object\n"
     ]
    }
   ],
   "source": [
    "print(df.dtypes)"
   ]
  },
  {
   "cell_type": "code",
   "execution_count": 41,
   "id": "a107f6c1",
   "metadata": {},
   "outputs": [
    {
     "data": {
      "text/plain": [
       "Countries and areas                        0\n",
       "Latitude                                   0\n",
       "Longitude                                  0\n",
       "OOSR_Pre0Primary_Age_Male                  0\n",
       "OOSR_Pre0Primary_Age_Female                0\n",
       "OOSR_Primary_Age_Male                      0\n",
       "OOSR_Primary_Age_Female                    0\n",
       "OOSR_Lower_Secondary_Age_Male              0\n",
       "OOSR_Lower_Secondary_Age_Female            0\n",
       "OOSR_Upper_Secondary_Age_Male              0\n",
       "OOSR_Upper_Secondary_Age_Female            0\n",
       "Completion_Rate_Primary_Male               0\n",
       "Completion_Rate_Primary_Female             0\n",
       "Completion_Rate_Lower_Secondary_Male       0\n",
       "Completion_Rate_Lower_Secondary_Female     0\n",
       "Completion_Rate_Upper_Secondary_Male       0\n",
       "Completion_Rate_Upper_Secondary_Female     0\n",
       "Grade_2_3_Proficiency_Reading              0\n",
       "Grade_2_3_Proficiency_Math                 0\n",
       "Primary_End_Proficiency_Reading            0\n",
       "Primary_End_Proficiency_Math               0\n",
       "Lower_Secondary_End_Proficiency_Reading    0\n",
       "Lower_Secondary_End_Proficiency_Math       0\n",
       "Youth_15_24_Literacy_Rate_Male             0\n",
       "Youth_15_24_Literacy_Rate_Female           0\n",
       "Birth_Rate                                 0\n",
       "Gross_Primary_Education_Enrollment         0\n",
       "Gross_Tertiary_Education_Enrollment        0\n",
       "Unemployment_Rate                          0\n",
       "dtype: int64"
      ]
     },
     "execution_count": 41,
     "metadata": {},
     "output_type": "execute_result"
    }
   ],
   "source": [
    "df.isnull().sum()"
   ]
  },
  {
   "cell_type": "code",
   "execution_count": 42,
   "id": "e822bf03",
   "metadata": {},
   "outputs": [
    {
     "data": {
      "text/html": [
       "<div>\n",
       "<style scoped>\n",
       "    .dataframe tbody tr th:only-of-type {\n",
       "        vertical-align: middle;\n",
       "    }\n",
       "\n",
       "    .dataframe tbody tr th {\n",
       "        vertical-align: top;\n",
       "    }\n",
       "\n",
       "    .dataframe thead th {\n",
       "        text-align: right;\n",
       "    }\n",
       "</style>\n",
       "<table border=\"1\" class=\"dataframe\">\n",
       "  <thead>\n",
       "    <tr style=\"text-align: right;\">\n",
       "      <th></th>\n",
       "      <th>Latitude</th>\n",
       "      <th>Longitude</th>\n",
       "      <th>OOSR_Pre0Primary_Age_Male</th>\n",
       "      <th>OOSR_Pre0Primary_Age_Female</th>\n",
       "      <th>OOSR_Primary_Age_Male</th>\n",
       "      <th>OOSR_Primary_Age_Female</th>\n",
       "      <th>OOSR_Lower_Secondary_Age_Male</th>\n",
       "      <th>OOSR_Lower_Secondary_Age_Female</th>\n",
       "      <th>OOSR_Upper_Secondary_Age_Male</th>\n",
       "      <th>OOSR_Upper_Secondary_Age_Female</th>\n",
       "      <th>...</th>\n",
       "      <th>Primary_End_Proficiency_Reading</th>\n",
       "      <th>Primary_End_Proficiency_Math</th>\n",
       "      <th>Lower_Secondary_End_Proficiency_Reading</th>\n",
       "      <th>Lower_Secondary_End_Proficiency_Math</th>\n",
       "      <th>Youth_15_24_Literacy_Rate_Male</th>\n",
       "      <th>Youth_15_24_Literacy_Rate_Female</th>\n",
       "      <th>Birth_Rate</th>\n",
       "      <th>Gross_Primary_Education_Enrollment</th>\n",
       "      <th>Gross_Tertiary_Education_Enrollment</th>\n",
       "      <th>Unemployment_Rate</th>\n",
       "    </tr>\n",
       "  </thead>\n",
       "  <tbody>\n",
       "    <tr>\n",
       "      <th>count</th>\n",
       "      <td>202.000000</td>\n",
       "      <td>202.000000</td>\n",
       "      <td>202.000000</td>\n",
       "      <td>202.000000</td>\n",
       "      <td>202.000000</td>\n",
       "      <td>202.000000</td>\n",
       "      <td>202.000000</td>\n",
       "      <td>202.000000</td>\n",
       "      <td>202.000000</td>\n",
       "      <td>202.000000</td>\n",
       "      <td>...</td>\n",
       "      <td>202.000000</td>\n",
       "      <td>202.000000</td>\n",
       "      <td>202.000000</td>\n",
       "      <td>202.000000</td>\n",
       "      <td>202.000000</td>\n",
       "      <td>202.000000</td>\n",
       "      <td>202.000000</td>\n",
       "      <td>202.000000</td>\n",
       "      <td>202.000000</td>\n",
       "      <td>202.000000</td>\n",
       "    </tr>\n",
       "    <tr>\n",
       "      <th>mean</th>\n",
       "      <td>25.081422</td>\n",
       "      <td>55.166928</td>\n",
       "      <td>19.658416</td>\n",
       "      <td>19.282178</td>\n",
       "      <td>5.282178</td>\n",
       "      <td>5.569307</td>\n",
       "      <td>8.707921</td>\n",
       "      <td>8.831683</td>\n",
       "      <td>20.292079</td>\n",
       "      <td>19.975248</td>\n",
       "      <td>...</td>\n",
       "      <td>10.717822</td>\n",
       "      <td>10.376238</td>\n",
       "      <td>25.787129</td>\n",
       "      <td>24.450495</td>\n",
       "      <td>35.801980</td>\n",
       "      <td>35.084158</td>\n",
       "      <td>18.914010</td>\n",
       "      <td>94.942574</td>\n",
       "      <td>34.392574</td>\n",
       "      <td>6.000000</td>\n",
       "    </tr>\n",
       "    <tr>\n",
       "      <th>std</th>\n",
       "      <td>16.813639</td>\n",
       "      <td>45.976287</td>\n",
       "      <td>25.007604</td>\n",
       "      <td>25.171147</td>\n",
       "      <td>9.396442</td>\n",
       "      <td>10.383092</td>\n",
       "      <td>13.258203</td>\n",
       "      <td>14.724717</td>\n",
       "      <td>21.485592</td>\n",
       "      <td>23.140376</td>\n",
       "      <td>...</td>\n",
       "      <td>24.866101</td>\n",
       "      <td>22.484423</td>\n",
       "      <td>33.181384</td>\n",
       "      <td>31.965467</td>\n",
       "      <td>45.535186</td>\n",
       "      <td>45.249643</td>\n",
       "      <td>10.828184</td>\n",
       "      <td>29.769338</td>\n",
       "      <td>29.978206</td>\n",
       "      <td>5.273136</td>\n",
       "    </tr>\n",
       "    <tr>\n",
       "      <th>min</th>\n",
       "      <td>0.023559</td>\n",
       "      <td>0.824782</td>\n",
       "      <td>0.000000</td>\n",
       "      <td>0.000000</td>\n",
       "      <td>0.000000</td>\n",
       "      <td>0.000000</td>\n",
       "      <td>0.000000</td>\n",
       "      <td>0.000000</td>\n",
       "      <td>0.000000</td>\n",
       "      <td>0.000000</td>\n",
       "      <td>...</td>\n",
       "      <td>0.000000</td>\n",
       "      <td>0.000000</td>\n",
       "      <td>0.000000</td>\n",
       "      <td>0.000000</td>\n",
       "      <td>0.000000</td>\n",
       "      <td>0.000000</td>\n",
       "      <td>0.000000</td>\n",
       "      <td>0.000000</td>\n",
       "      <td>0.000000</td>\n",
       "      <td>0.000000</td>\n",
       "    </tr>\n",
       "    <tr>\n",
       "      <th>25%</th>\n",
       "      <td>11.685062</td>\n",
       "      <td>18.665678</td>\n",
       "      <td>0.000000</td>\n",
       "      <td>0.000000</td>\n",
       "      <td>0.000000</td>\n",
       "      <td>0.000000</td>\n",
       "      <td>0.000000</td>\n",
       "      <td>0.000000</td>\n",
       "      <td>0.250000</td>\n",
       "      <td>0.250000</td>\n",
       "      <td>...</td>\n",
       "      <td>0.000000</td>\n",
       "      <td>0.000000</td>\n",
       "      <td>0.000000</td>\n",
       "      <td>0.000000</td>\n",
       "      <td>0.000000</td>\n",
       "      <td>0.000000</td>\n",
       "      <td>10.355000</td>\n",
       "      <td>97.200000</td>\n",
       "      <td>9.000000</td>\n",
       "      <td>2.302500</td>\n",
       "    </tr>\n",
       "    <tr>\n",
       "      <th>50%</th>\n",
       "      <td>21.207861</td>\n",
       "      <td>43.518091</td>\n",
       "      <td>9.000000</td>\n",
       "      <td>7.000000</td>\n",
       "      <td>1.000000</td>\n",
       "      <td>1.000000</td>\n",
       "      <td>2.000000</td>\n",
       "      <td>2.000000</td>\n",
       "      <td>15.000000</td>\n",
       "      <td>12.000000</td>\n",
       "      <td>...</td>\n",
       "      <td>0.000000</td>\n",
       "      <td>0.000000</td>\n",
       "      <td>0.000000</td>\n",
       "      <td>0.000000</td>\n",
       "      <td>0.000000</td>\n",
       "      <td>0.000000</td>\n",
       "      <td>17.550000</td>\n",
       "      <td>101.850000</td>\n",
       "      <td>24.850000</td>\n",
       "      <td>4.585000</td>\n",
       "    </tr>\n",
       "    <tr>\n",
       "      <th>75%</th>\n",
       "      <td>39.901792</td>\n",
       "      <td>77.684945</td>\n",
       "      <td>31.000000</td>\n",
       "      <td>30.000000</td>\n",
       "      <td>6.000000</td>\n",
       "      <td>6.750000</td>\n",
       "      <td>12.750000</td>\n",
       "      <td>10.750000</td>\n",
       "      <td>32.750000</td>\n",
       "      <td>30.000000</td>\n",
       "      <td>...</td>\n",
       "      <td>0.000000</td>\n",
       "      <td>0.000000</td>\n",
       "      <td>56.750000</td>\n",
       "      <td>50.750000</td>\n",
       "      <td>94.000000</td>\n",
       "      <td>96.750000</td>\n",
       "      <td>27.692500</td>\n",
       "      <td>107.300000</td>\n",
       "      <td>59.975000</td>\n",
       "      <td>8.655000</td>\n",
       "    </tr>\n",
       "    <tr>\n",
       "      <th>max</th>\n",
       "      <td>64.963051</td>\n",
       "      <td>178.065032</td>\n",
       "      <td>96.000000</td>\n",
       "      <td>96.000000</td>\n",
       "      <td>58.000000</td>\n",
       "      <td>67.000000</td>\n",
       "      <td>61.000000</td>\n",
       "      <td>70.000000</td>\n",
       "      <td>84.000000</td>\n",
       "      <td>89.000000</td>\n",
       "      <td>...</td>\n",
       "      <td>99.000000</td>\n",
       "      <td>89.000000</td>\n",
       "      <td>89.000000</td>\n",
       "      <td>94.000000</td>\n",
       "      <td>100.000000</td>\n",
       "      <td>100.000000</td>\n",
       "      <td>46.080000</td>\n",
       "      <td>142.500000</td>\n",
       "      <td>136.600000</td>\n",
       "      <td>28.180000</td>\n",
       "    </tr>\n",
       "  </tbody>\n",
       "</table>\n",
       "<p>8 rows × 28 columns</p>\n",
       "</div>"
      ],
      "text/plain": [
       "        Latitude    Longitude  OOSR_Pre0Primary_Age_Male  \\\n",
       "count  202.000000  202.000000                 202.000000   \n",
       "mean    25.081422   55.166928                  19.658416   \n",
       "std     16.813639   45.976287                  25.007604   \n",
       "min      0.023559    0.824782                   0.000000   \n",
       "25%     11.685062   18.665678                   0.000000   \n",
       "50%     21.207861   43.518091                   9.000000   \n",
       "75%     39.901792   77.684945                  31.000000   \n",
       "max     64.963051  178.065032                  96.000000   \n",
       "\n",
       "       OOSR_Pre0Primary_Age_Female  OOSR_Primary_Age_Male  \\\n",
       "count                   202.000000             202.000000   \n",
       "mean                     19.282178               5.282178   \n",
       "std                      25.171147               9.396442   \n",
       "min                       0.000000               0.000000   \n",
       "25%                       0.000000               0.000000   \n",
       "50%                       7.000000               1.000000   \n",
       "75%                      30.000000               6.000000   \n",
       "max                      96.000000              58.000000   \n",
       "\n",
       "       OOSR_Primary_Age_Female  OOSR_Lower_Secondary_Age_Male  \\\n",
       "count               202.000000                     202.000000   \n",
       "mean                  5.569307                       8.707921   \n",
       "std                  10.383092                      13.258203   \n",
       "min                   0.000000                       0.000000   \n",
       "25%                   0.000000                       0.000000   \n",
       "50%                   1.000000                       2.000000   \n",
       "75%                   6.750000                      12.750000   \n",
       "max                  67.000000                      61.000000   \n",
       "\n",
       "       OOSR_Lower_Secondary_Age_Female  OOSR_Upper_Secondary_Age_Male  \\\n",
       "count                       202.000000                     202.000000   \n",
       "mean                          8.831683                      20.292079   \n",
       "std                          14.724717                      21.485592   \n",
       "min                           0.000000                       0.000000   \n",
       "25%                           0.000000                       0.250000   \n",
       "50%                           2.000000                      15.000000   \n",
       "75%                          10.750000                      32.750000   \n",
       "max                          70.000000                      84.000000   \n",
       "\n",
       "       OOSR_Upper_Secondary_Age_Female  ...  Primary_End_Proficiency_Reading  \\\n",
       "count                       202.000000  ...                       202.000000   \n",
       "mean                         19.975248  ...                        10.717822   \n",
       "std                          23.140376  ...                        24.866101   \n",
       "min                           0.000000  ...                         0.000000   \n",
       "25%                           0.250000  ...                         0.000000   \n",
       "50%                          12.000000  ...                         0.000000   \n",
       "75%                          30.000000  ...                         0.000000   \n",
       "max                          89.000000  ...                        99.000000   \n",
       "\n",
       "       Primary_End_Proficiency_Math  Lower_Secondary_End_Proficiency_Reading  \\\n",
       "count                    202.000000                               202.000000   \n",
       "mean                      10.376238                                25.787129   \n",
       "std                       22.484423                                33.181384   \n",
       "min                        0.000000                                 0.000000   \n",
       "25%                        0.000000                                 0.000000   \n",
       "50%                        0.000000                                 0.000000   \n",
       "75%                        0.000000                                56.750000   \n",
       "max                       89.000000                                89.000000   \n",
       "\n",
       "       Lower_Secondary_End_Proficiency_Math  Youth_15_24_Literacy_Rate_Male  \\\n",
       "count                            202.000000                      202.000000   \n",
       "mean                              24.450495                       35.801980   \n",
       "std                               31.965467                       45.535186   \n",
       "min                                0.000000                        0.000000   \n",
       "25%                                0.000000                        0.000000   \n",
       "50%                                0.000000                        0.000000   \n",
       "75%                               50.750000                       94.000000   \n",
       "max                               94.000000                      100.000000   \n",
       "\n",
       "       Youth_15_24_Literacy_Rate_Female  Birth_Rate  \\\n",
       "count                        202.000000  202.000000   \n",
       "mean                          35.084158   18.914010   \n",
       "std                           45.249643   10.828184   \n",
       "min                            0.000000    0.000000   \n",
       "25%                            0.000000   10.355000   \n",
       "50%                            0.000000   17.550000   \n",
       "75%                           96.750000   27.692500   \n",
       "max                          100.000000   46.080000   \n",
       "\n",
       "       Gross_Primary_Education_Enrollment  \\\n",
       "count                          202.000000   \n",
       "mean                            94.942574   \n",
       "std                             29.769338   \n",
       "min                              0.000000   \n",
       "25%                             97.200000   \n",
       "50%                            101.850000   \n",
       "75%                            107.300000   \n",
       "max                            142.500000   \n",
       "\n",
       "       Gross_Tertiary_Education_Enrollment  Unemployment_Rate  \n",
       "count                           202.000000         202.000000  \n",
       "mean                             34.392574           6.000000  \n",
       "std                              29.978206           5.273136  \n",
       "min                               0.000000           0.000000  \n",
       "25%                               9.000000           2.302500  \n",
       "50%                              24.850000           4.585000  \n",
       "75%                              59.975000           8.655000  \n",
       "max                             136.600000          28.180000  \n",
       "\n",
       "[8 rows x 28 columns]"
      ]
     },
     "execution_count": 42,
     "metadata": {},
     "output_type": "execute_result"
    }
   ],
   "source": [
    "df.describe()"
   ]
  },
  {
   "cell_type": "markdown",
   "id": "6b76489e",
   "metadata": {},
   "source": [
    "### Global Education Analysis"
   ]
  },
  {
   "cell_type": "code",
   "execution_count": 43,
   "id": "b1f8bbe1",
   "metadata": {
    "scrolled": false
   },
   "outputs": [
    {
     "data": {
      "application/vnd.plotly.v1+json": {
       "config": {
        "plotlyServerURL": "https://plot.ly"
       },
       "data": [
        {
         "alignmentgroup": "True",
         "hoverinfo": "all",
         "hovertemplate": "Country: %{x}<br>Rate: %{y}",
         "legendgroup": "OOSR_Pre0Primary_Age_Male",
         "marker": {
          "color": "#636efa",
          "pattern": {
           "shape": ""
          }
         },
         "name": "OOSR_Pre0Primary_Age_Male",
         "offsetgroup": "OOSR_Pre0Primary_Age_Male",
         "orientation": "v",
         "showlegend": true,
         "textposition": "auto",
         "type": "bar",
         "x": [
          "Afghanistan",
          "Albania",
          "Algeria",
          "Andorra",
          "Angola",
          "Anguilla",
          "Antigua and Barbuda",
          "Argentina",
          "Armenia",
          "Australia",
          "Austria",
          "Azerbaijan",
          "The Bahamas",
          "Bahrain",
          "Bangladesh",
          "Barbados",
          "Belarus",
          "Belgium",
          "Belize",
          "Benin",
          "Bhutan",
          "Bolivia",
          "Bosnia and Herzegovina",
          "Botswana",
          "Brazil",
          "British Virgin Islands",
          "Brunei",
          "Bulgaria",
          "Burkina Faso",
          "Burundi",
          "Cape Verde",
          "Cambodia",
          "Cameroon",
          "Canada",
          "Central African Republic",
          "Chad",
          "Chile",
          "China",
          "Colombia",
          "Comoros",
          "Republic of the Congo",
          "Cook Islands",
          "Costa Rica",
          "Ivory Coast",
          "Croatia",
          "Cuba",
          "Cyprus",
          "Czech Republic",
          "North Korea",
          "Democratic Republic of the Congo",
          "Denmark",
          "Djibouti",
          "Dominica",
          "Dominican Republic",
          "Ecuador",
          "Egypt",
          "El Salvador",
          "Equatorial Guinea",
          "Eritrea",
          "Estonia",
          "Eswatini",
          "Ethiopia",
          "Fiji",
          "Finland",
          "France",
          "Gabon",
          "The Gambia",
          "Georgia",
          "Germany",
          "Ghana",
          "Greece",
          "Grenada",
          "Guatemala",
          "Guinea",
          "Guinea0Bissau",
          "Guyana",
          "Haiti",
          "Vatican City",
          "Honduras",
          "Hungary",
          "Iceland",
          "India",
          "Indonesia",
          "Iran",
          "Iraq",
          "Republic of Ireland",
          "Israel",
          "Italy",
          "Jamaica",
          "Japan",
          "Jordan",
          "Kazakhstan",
          "Kenya",
          "Kiribati",
          "Kuwait",
          "Kyrgyzstan",
          "Laos",
          "Latvia",
          "Lebanon",
          "Lesotho",
          "Liberia",
          "Libya",
          "Liechtenstein",
          "Lithuania",
          "Luxembourg",
          "Madagascar",
          "Malawi",
          "Malaysia",
          "Maldives",
          "Mali",
          "Malta",
          "Marshall Islands",
          "Mauritania",
          "Mauritius",
          "Mexico",
          "Federated States of Micronesia",
          "Monaco",
          "Mongolia",
          "Montenegro",
          "Montserrat",
          "Morocco",
          "Mozambique",
          "Myanmar",
          "Namibia",
          "Nauru",
          "Nepal",
          "Netherlands",
          "New Zealand",
          "Nicaragua",
          "Niger",
          "Nigeria",
          "Niue",
          "North Macedonia",
          "Norway",
          "Oman",
          "Pakistan",
          "Palau",
          "Panama",
          "Papua New Guinea",
          "Paraguay",
          "Peru",
          "Philippines",
          "Poland",
          "Portugal",
          "Qatar",
          "South Korea",
          "Moldova",
          "Romania",
          "Russia",
          "Rwanda",
          "Saint Kitts and Nevis",
          "Saint Lucia",
          "Saint Vincent and the Grenadines",
          "Samoa",
          "San Marino",
          "Sï¿½ï¿½ï¿½ï¿½ï¿½ï¿½ï¿½ï¿",
          "Saudi Arabia",
          "Senegal",
          "Serbia",
          "Seychelles",
          "Sierra Leone",
          "Singapore",
          "Slovakia",
          "Slovenia",
          "Solomon Islands",
          "Somalia",
          "South Africa",
          "South Sudan",
          "Spain",
          "Sri Lanka",
          "Palestinian National Authority",
          "Sudan",
          "Suriname",
          "Sweden",
          "Switzerland",
          "Syria",
          "Tajikistan",
          "Thailand",
          "East Timor",
          "Togo",
          "Tokelau",
          "Tonga",
          "Trinidad and Tobago",
          "Tunisia",
          "Turkey",
          "Turkmenistan",
          "Turks and Caicos Islands",
          "Tuvalu",
          "Uganda",
          "Ukraine",
          "United Arab Emirates",
          "United Kingdom",
          "Tanzania",
          "United States",
          "Uruguay",
          "Uzbekistan",
          "Vanuatu",
          "Venezuela",
          "Vietnam",
          "Yemen",
          "Zambia",
          "Zimbabwe"
         ],
         "xaxis": "x",
         "y": [
          0,
          4,
          0,
          0,
          31,
          14,
          14,
          2,
          52,
          13,
          0,
          32,
          0,
          31,
          0,
          6,
          0,
          3,
          18,
          15,
          58,
          9,
          72,
          79,
          0,
          9,
          17,
          19,
          81,
          52,
          19,
          48,
          56,
          0,
          0,
          85,
          8,
          0,
          3,
          71,
          71,
          3,
          4,
          78,
          5,
          2,
          1,
          10,
          0,
          0,
          2,
          85,
          21,
          7,
          8,
          63,
          18,
          57,
          73,
          12,
          0,
          62,
          0,
          2,
          0,
          0,
          42,
          0,
          1,
          14,
          6,
          4,
          16,
          57,
          0,
          0,
          0,
          0,
          24,
          12,
          4,
          0,
          8,
          50,
          0,
          2,
          1,
          6,
          8,
          0,
          55,
          22,
          0,
          0,
          21,
          11,
          31,
          2,
          0,
          58,
          21,
          0,
          1,
          3,
          1,
          43,
          0,
          1,
          8,
          53,
          0,
          32,
          0,
          9,
          2,
          30,
          0,
          3,
          23,
          19,
          31,
          0,
          88,
          33,
          11,
          9,
          1,
          6,
          0,
          76,
          0,
          13,
          51,
          3,
          16,
          0,
          0,
          25,
          28,
          31,
          1,
          14,
          4,
          5,
          10,
          1,
          5,
          18,
          9,
          48,
          0,
          5,
          9,
          65,
          12,
          49,
          51,
          85,
          9,
          9,
          58,
          0,
          15,
          5,
          36,
          0,
          28,
          78,
          5,
          0,
          35,
          60,
          12,
          0,
          1,
          60,
          87,
          1,
          51,
          1,
          20,
          0,
          0,
          0,
          23,
          0,
          19,
          13,
          0,
          0,
          0,
          3,
          45,
          12,
          2,
          53,
          38,
          14,
          0,
          96,
          0,
          60
         ],
         "yaxis": "y"
        },
        {
         "alignmentgroup": "True",
         "hoverinfo": "all",
         "hovertemplate": "Country: %{x}<br>Rate: %{y}",
         "legendgroup": "OOSR_Pre0Primary_Age_Female",
         "marker": {
          "color": "#EF553B",
          "pattern": {
           "shape": ""
          }
         },
         "name": "OOSR_Pre0Primary_Age_Female",
         "offsetgroup": "OOSR_Pre0Primary_Age_Female",
         "orientation": "v",
         "showlegend": true,
         "textposition": "auto",
         "type": "bar",
         "x": [
          "Afghanistan",
          "Albania",
          "Algeria",
          "Andorra",
          "Angola",
          "Anguilla",
          "Antigua and Barbuda",
          "Argentina",
          "Armenia",
          "Australia",
          "Austria",
          "Azerbaijan",
          "The Bahamas",
          "Bahrain",
          "Bangladesh",
          "Barbados",
          "Belarus",
          "Belgium",
          "Belize",
          "Benin",
          "Bhutan",
          "Bolivia",
          "Bosnia and Herzegovina",
          "Botswana",
          "Brazil",
          "British Virgin Islands",
          "Brunei",
          "Bulgaria",
          "Burkina Faso",
          "Burundi",
          "Cape Verde",
          "Cambodia",
          "Cameroon",
          "Canada",
          "Central African Republic",
          "Chad",
          "Chile",
          "China",
          "Colombia",
          "Comoros",
          "Republic of the Congo",
          "Cook Islands",
          "Costa Rica",
          "Ivory Coast",
          "Croatia",
          "Cuba",
          "Cyprus",
          "Czech Republic",
          "North Korea",
          "Democratic Republic of the Congo",
          "Denmark",
          "Djibouti",
          "Dominica",
          "Dominican Republic",
          "Ecuador",
          "Egypt",
          "El Salvador",
          "Equatorial Guinea",
          "Eritrea",
          "Estonia",
          "Eswatini",
          "Ethiopia",
          "Fiji",
          "Finland",
          "France",
          "Gabon",
          "The Gambia",
          "Georgia",
          "Germany",
          "Ghana",
          "Greece",
          "Grenada",
          "Guatemala",
          "Guinea",
          "Guinea0Bissau",
          "Guyana",
          "Haiti",
          "Vatican City",
          "Honduras",
          "Hungary",
          "Iceland",
          "India",
          "Indonesia",
          "Iran",
          "Iraq",
          "Republic of Ireland",
          "Israel",
          "Italy",
          "Jamaica",
          "Japan",
          "Jordan",
          "Kazakhstan",
          "Kenya",
          "Kiribati",
          "Kuwait",
          "Kyrgyzstan",
          "Laos",
          "Latvia",
          "Lebanon",
          "Lesotho",
          "Liberia",
          "Libya",
          "Liechtenstein",
          "Lithuania",
          "Luxembourg",
          "Madagascar",
          "Malawi",
          "Malaysia",
          "Maldives",
          "Mali",
          "Malta",
          "Marshall Islands",
          "Mauritania",
          "Mauritius",
          "Mexico",
          "Federated States of Micronesia",
          "Monaco",
          "Mongolia",
          "Montenegro",
          "Montserrat",
          "Morocco",
          "Mozambique",
          "Myanmar",
          "Namibia",
          "Nauru",
          "Nepal",
          "Netherlands",
          "New Zealand",
          "Nicaragua",
          "Niger",
          "Nigeria",
          "Niue",
          "North Macedonia",
          "Norway",
          "Oman",
          "Pakistan",
          "Palau",
          "Panama",
          "Papua New Guinea",
          "Paraguay",
          "Peru",
          "Philippines",
          "Poland",
          "Portugal",
          "Qatar",
          "South Korea",
          "Moldova",
          "Romania",
          "Russia",
          "Rwanda",
          "Saint Kitts and Nevis",
          "Saint Lucia",
          "Saint Vincent and the Grenadines",
          "Samoa",
          "San Marino",
          "Sï¿½ï¿½ï¿½ï¿½ï¿½ï¿½ï¿½ï¿",
          "Saudi Arabia",
          "Senegal",
          "Serbia",
          "Seychelles",
          "Sierra Leone",
          "Singapore",
          "Slovakia",
          "Slovenia",
          "Solomon Islands",
          "Somalia",
          "South Africa",
          "South Sudan",
          "Spain",
          "Sri Lanka",
          "Palestinian National Authority",
          "Sudan",
          "Suriname",
          "Sweden",
          "Switzerland",
          "Syria",
          "Tajikistan",
          "Thailand",
          "East Timor",
          "Togo",
          "Tokelau",
          "Tonga",
          "Trinidad and Tobago",
          "Tunisia",
          "Turkey",
          "Turkmenistan",
          "Turks and Caicos Islands",
          "Tuvalu",
          "Uganda",
          "Ukraine",
          "United Arab Emirates",
          "United Kingdom",
          "Tanzania",
          "United States",
          "Uruguay",
          "Uzbekistan",
          "Vanuatu",
          "Venezuela",
          "Vietnam",
          "Yemen",
          "Zambia",
          "Zimbabwe"
         ],
         "xaxis": "x",
         "y": [
          0,
          2,
          0,
          0,
          39,
          0,
          4,
          2,
          50,
          14,
          0,
          19,
          0,
          28,
          0,
          10,
          4,
          2,
          16,
          16,
          59,
          8,
          73,
          78,
          1,
          2,
          18,
          20,
          81,
          50,
          19,
          44,
          57,
          0,
          0,
          87,
          8,
          0,
          1,
          70,
          70,
          0,
          4,
          78,
          5,
          2,
          2,
          10,
          0,
          0,
          2,
          88,
          7,
          6,
          3,
          63,
          17,
          55,
          73,
          12,
          0,
          64,
          1,
          3,
          0,
          0,
          36,
          0,
          1,
          12,
          5,
          1,
          16,
          60,
          0,
          0,
          0,
          0,
          22,
          14,
          3,
          0,
          2,
          49,
          0,
          2,
          0,
          7,
          6,
          0,
          55,
          23,
          0,
          0,
          16,
          10,
          30,
          2,
          0,
          57,
          21,
          0,
          2,
          3,
          1,
          38,
          0,
          1,
          5,
          57,
          5,
          31,
          0,
          8,
          0,
          34,
          0,
          5,
          24,
          14,
          39,
          0,
          88,
          30,
          3,
          17,
          0,
          7,
          0,
          76,
          0,
          38,
          51,
          3,
          13,
          14,
          19,
          23,
          29,
          30,
          1,
          13,
          5,
          6,
          7,
          1,
          5,
          18,
          10,
          47,
          21,
          0,
          3,
          65,
          14,
          46,
          48,
          83,
          10,
          6,
          57,
          0,
          17,
          6,
          33,
          0,
          27,
          81,
          5,
          0,
          34,
          60,
          10,
          0,
          0,
          61,
          88,
          1,
          48,
          7,
          0,
          0,
          0,
          0,
          25,
          0,
          0,
          9,
          0,
          0,
          0,
          0,
          42,
          8,
          1,
          55,
          38,
          14,
          0,
          96,
          0,
          58
         ],
         "yaxis": "y"
        }
       ],
       "layout": {
        "barmode": "relative",
        "legend": {
         "title": {
          "text": "Gender"
         },
         "tracegroupgap": 0
        },
        "template": {
         "data": {
          "bar": [
           {
            "error_x": {
             "color": "#2a3f5f"
            },
            "error_y": {
             "color": "#2a3f5f"
            },
            "marker": {
             "line": {
              "color": "#E5ECF6",
              "width": 0.5
             },
             "pattern": {
              "fillmode": "overlay",
              "size": 10,
              "solidity": 0.2
             }
            },
            "type": "bar"
           }
          ],
          "barpolar": [
           {
            "marker": {
             "line": {
              "color": "#E5ECF6",
              "width": 0.5
             },
             "pattern": {
              "fillmode": "overlay",
              "size": 10,
              "solidity": 0.2
             }
            },
            "type": "barpolar"
           }
          ],
          "carpet": [
           {
            "aaxis": {
             "endlinecolor": "#2a3f5f",
             "gridcolor": "white",
             "linecolor": "white",
             "minorgridcolor": "white",
             "startlinecolor": "#2a3f5f"
            },
            "baxis": {
             "endlinecolor": "#2a3f5f",
             "gridcolor": "white",
             "linecolor": "white",
             "minorgridcolor": "white",
             "startlinecolor": "#2a3f5f"
            },
            "type": "carpet"
           }
          ],
          "choropleth": [
           {
            "colorbar": {
             "outlinewidth": 0,
             "ticks": ""
            },
            "type": "choropleth"
           }
          ],
          "contour": [
           {
            "colorbar": {
             "outlinewidth": 0,
             "ticks": ""
            },
            "colorscale": [
             [
              0,
              "#0d0887"
             ],
             [
              0.1111111111111111,
              "#46039f"
             ],
             [
              0.2222222222222222,
              "#7201a8"
             ],
             [
              0.3333333333333333,
              "#9c179e"
             ],
             [
              0.4444444444444444,
              "#bd3786"
             ],
             [
              0.5555555555555556,
              "#d8576b"
             ],
             [
              0.6666666666666666,
              "#ed7953"
             ],
             [
              0.7777777777777778,
              "#fb9f3a"
             ],
             [
              0.8888888888888888,
              "#fdca26"
             ],
             [
              1,
              "#f0f921"
             ]
            ],
            "type": "contour"
           }
          ],
          "contourcarpet": [
           {
            "colorbar": {
             "outlinewidth": 0,
             "ticks": ""
            },
            "type": "contourcarpet"
           }
          ],
          "heatmap": [
           {
            "colorbar": {
             "outlinewidth": 0,
             "ticks": ""
            },
            "colorscale": [
             [
              0,
              "#0d0887"
             ],
             [
              0.1111111111111111,
              "#46039f"
             ],
             [
              0.2222222222222222,
              "#7201a8"
             ],
             [
              0.3333333333333333,
              "#9c179e"
             ],
             [
              0.4444444444444444,
              "#bd3786"
             ],
             [
              0.5555555555555556,
              "#d8576b"
             ],
             [
              0.6666666666666666,
              "#ed7953"
             ],
             [
              0.7777777777777778,
              "#fb9f3a"
             ],
             [
              0.8888888888888888,
              "#fdca26"
             ],
             [
              1,
              "#f0f921"
             ]
            ],
            "type": "heatmap"
           }
          ],
          "heatmapgl": [
           {
            "colorbar": {
             "outlinewidth": 0,
             "ticks": ""
            },
            "colorscale": [
             [
              0,
              "#0d0887"
             ],
             [
              0.1111111111111111,
              "#46039f"
             ],
             [
              0.2222222222222222,
              "#7201a8"
             ],
             [
              0.3333333333333333,
              "#9c179e"
             ],
             [
              0.4444444444444444,
              "#bd3786"
             ],
             [
              0.5555555555555556,
              "#d8576b"
             ],
             [
              0.6666666666666666,
              "#ed7953"
             ],
             [
              0.7777777777777778,
              "#fb9f3a"
             ],
             [
              0.8888888888888888,
              "#fdca26"
             ],
             [
              1,
              "#f0f921"
             ]
            ],
            "type": "heatmapgl"
           }
          ],
          "histogram": [
           {
            "marker": {
             "pattern": {
              "fillmode": "overlay",
              "size": 10,
              "solidity": 0.2
             }
            },
            "type": "histogram"
           }
          ],
          "histogram2d": [
           {
            "colorbar": {
             "outlinewidth": 0,
             "ticks": ""
            },
            "colorscale": [
             [
              0,
              "#0d0887"
             ],
             [
              0.1111111111111111,
              "#46039f"
             ],
             [
              0.2222222222222222,
              "#7201a8"
             ],
             [
              0.3333333333333333,
              "#9c179e"
             ],
             [
              0.4444444444444444,
              "#bd3786"
             ],
             [
              0.5555555555555556,
              "#d8576b"
             ],
             [
              0.6666666666666666,
              "#ed7953"
             ],
             [
              0.7777777777777778,
              "#fb9f3a"
             ],
             [
              0.8888888888888888,
              "#fdca26"
             ],
             [
              1,
              "#f0f921"
             ]
            ],
            "type": "histogram2d"
           }
          ],
          "histogram2dcontour": [
           {
            "colorbar": {
             "outlinewidth": 0,
             "ticks": ""
            },
            "colorscale": [
             [
              0,
              "#0d0887"
             ],
             [
              0.1111111111111111,
              "#46039f"
             ],
             [
              0.2222222222222222,
              "#7201a8"
             ],
             [
              0.3333333333333333,
              "#9c179e"
             ],
             [
              0.4444444444444444,
              "#bd3786"
             ],
             [
              0.5555555555555556,
              "#d8576b"
             ],
             [
              0.6666666666666666,
              "#ed7953"
             ],
             [
              0.7777777777777778,
              "#fb9f3a"
             ],
             [
              0.8888888888888888,
              "#fdca26"
             ],
             [
              1,
              "#f0f921"
             ]
            ],
            "type": "histogram2dcontour"
           }
          ],
          "mesh3d": [
           {
            "colorbar": {
             "outlinewidth": 0,
             "ticks": ""
            },
            "type": "mesh3d"
           }
          ],
          "parcoords": [
           {
            "line": {
             "colorbar": {
              "outlinewidth": 0,
              "ticks": ""
             }
            },
            "type": "parcoords"
           }
          ],
          "pie": [
           {
            "automargin": true,
            "type": "pie"
           }
          ],
          "scatter": [
           {
            "fillpattern": {
             "fillmode": "overlay",
             "size": 10,
             "solidity": 0.2
            },
            "type": "scatter"
           }
          ],
          "scatter3d": [
           {
            "line": {
             "colorbar": {
              "outlinewidth": 0,
              "ticks": ""
             }
            },
            "marker": {
             "colorbar": {
              "outlinewidth": 0,
              "ticks": ""
             }
            },
            "type": "scatter3d"
           }
          ],
          "scattercarpet": [
           {
            "marker": {
             "colorbar": {
              "outlinewidth": 0,
              "ticks": ""
             }
            },
            "type": "scattercarpet"
           }
          ],
          "scattergeo": [
           {
            "marker": {
             "colorbar": {
              "outlinewidth": 0,
              "ticks": ""
             }
            },
            "type": "scattergeo"
           }
          ],
          "scattergl": [
           {
            "marker": {
             "colorbar": {
              "outlinewidth": 0,
              "ticks": ""
             }
            },
            "type": "scattergl"
           }
          ],
          "scattermapbox": [
           {
            "marker": {
             "colorbar": {
              "outlinewidth": 0,
              "ticks": ""
             }
            },
            "type": "scattermapbox"
           }
          ],
          "scatterpolar": [
           {
            "marker": {
             "colorbar": {
              "outlinewidth": 0,
              "ticks": ""
             }
            },
            "type": "scatterpolar"
           }
          ],
          "scatterpolargl": [
           {
            "marker": {
             "colorbar": {
              "outlinewidth": 0,
              "ticks": ""
             }
            },
            "type": "scatterpolargl"
           }
          ],
          "scatterternary": [
           {
            "marker": {
             "colorbar": {
              "outlinewidth": 0,
              "ticks": ""
             }
            },
            "type": "scatterternary"
           }
          ],
          "surface": [
           {
            "colorbar": {
             "outlinewidth": 0,
             "ticks": ""
            },
            "colorscale": [
             [
              0,
              "#0d0887"
             ],
             [
              0.1111111111111111,
              "#46039f"
             ],
             [
              0.2222222222222222,
              "#7201a8"
             ],
             [
              0.3333333333333333,
              "#9c179e"
             ],
             [
              0.4444444444444444,
              "#bd3786"
             ],
             [
              0.5555555555555556,
              "#d8576b"
             ],
             [
              0.6666666666666666,
              "#ed7953"
             ],
             [
              0.7777777777777778,
              "#fb9f3a"
             ],
             [
              0.8888888888888888,
              "#fdca26"
             ],
             [
              1,
              "#f0f921"
             ]
            ],
            "type": "surface"
           }
          ],
          "table": [
           {
            "cells": {
             "fill": {
              "color": "#EBF0F8"
             },
             "line": {
              "color": "white"
             }
            },
            "header": {
             "fill": {
              "color": "#C8D4E3"
             },
             "line": {
              "color": "white"
             }
            },
            "type": "table"
           }
          ]
         },
         "layout": {
          "annotationdefaults": {
           "arrowcolor": "#2a3f5f",
           "arrowhead": 0,
           "arrowwidth": 1
          },
          "autotypenumbers": "strict",
          "coloraxis": {
           "colorbar": {
            "outlinewidth": 0,
            "ticks": ""
           }
          },
          "colorscale": {
           "diverging": [
            [
             0,
             "#8e0152"
            ],
            [
             0.1,
             "#c51b7d"
            ],
            [
             0.2,
             "#de77ae"
            ],
            [
             0.3,
             "#f1b6da"
            ],
            [
             0.4,
             "#fde0ef"
            ],
            [
             0.5,
             "#f7f7f7"
            ],
            [
             0.6,
             "#e6f5d0"
            ],
            [
             0.7,
             "#b8e186"
            ],
            [
             0.8,
             "#7fbc41"
            ],
            [
             0.9,
             "#4d9221"
            ],
            [
             1,
             "#276419"
            ]
           ],
           "sequential": [
            [
             0,
             "#0d0887"
            ],
            [
             0.1111111111111111,
             "#46039f"
            ],
            [
             0.2222222222222222,
             "#7201a8"
            ],
            [
             0.3333333333333333,
             "#9c179e"
            ],
            [
             0.4444444444444444,
             "#bd3786"
            ],
            [
             0.5555555555555556,
             "#d8576b"
            ],
            [
             0.6666666666666666,
             "#ed7953"
            ],
            [
             0.7777777777777778,
             "#fb9f3a"
            ],
            [
             0.8888888888888888,
             "#fdca26"
            ],
            [
             1,
             "#f0f921"
            ]
           ],
           "sequentialminus": [
            [
             0,
             "#0d0887"
            ],
            [
             0.1111111111111111,
             "#46039f"
            ],
            [
             0.2222222222222222,
             "#7201a8"
            ],
            [
             0.3333333333333333,
             "#9c179e"
            ],
            [
             0.4444444444444444,
             "#bd3786"
            ],
            [
             0.5555555555555556,
             "#d8576b"
            ],
            [
             0.6666666666666666,
             "#ed7953"
            ],
            [
             0.7777777777777778,
             "#fb9f3a"
            ],
            [
             0.8888888888888888,
             "#fdca26"
            ],
            [
             1,
             "#f0f921"
            ]
           ]
          },
          "colorway": [
           "#636efa",
           "#EF553B",
           "#00cc96",
           "#ab63fa",
           "#FFA15A",
           "#19d3f3",
           "#FF6692",
           "#B6E880",
           "#FF97FF",
           "#FECB52"
          ],
          "font": {
           "color": "#2a3f5f"
          },
          "geo": {
           "bgcolor": "white",
           "lakecolor": "white",
           "landcolor": "#E5ECF6",
           "showlakes": true,
           "showland": true,
           "subunitcolor": "white"
          },
          "hoverlabel": {
           "align": "left"
          },
          "hovermode": "closest",
          "mapbox": {
           "style": "light"
          },
          "paper_bgcolor": "white",
          "plot_bgcolor": "#E5ECF6",
          "polar": {
           "angularaxis": {
            "gridcolor": "white",
            "linecolor": "white",
            "ticks": ""
           },
           "bgcolor": "#E5ECF6",
           "radialaxis": {
            "gridcolor": "white",
            "linecolor": "white",
            "ticks": ""
           }
          },
          "scene": {
           "xaxis": {
            "backgroundcolor": "#E5ECF6",
            "gridcolor": "white",
            "gridwidth": 2,
            "linecolor": "white",
            "showbackground": true,
            "ticks": "",
            "zerolinecolor": "white"
           },
           "yaxis": {
            "backgroundcolor": "#E5ECF6",
            "gridcolor": "white",
            "gridwidth": 2,
            "linecolor": "white",
            "showbackground": true,
            "ticks": "",
            "zerolinecolor": "white"
           },
           "zaxis": {
            "backgroundcolor": "#E5ECF6",
            "gridcolor": "white",
            "gridwidth": 2,
            "linecolor": "white",
            "showbackground": true,
            "ticks": "",
            "zerolinecolor": "white"
           }
          },
          "shapedefaults": {
           "line": {
            "color": "#2a3f5f"
           }
          },
          "ternary": {
           "aaxis": {
            "gridcolor": "white",
            "linecolor": "white",
            "ticks": ""
           },
           "baxis": {
            "gridcolor": "white",
            "linecolor": "white",
            "ticks": ""
           },
           "bgcolor": "#E5ECF6",
           "caxis": {
            "gridcolor": "white",
            "linecolor": "white",
            "ticks": ""
           }
          },
          "title": {
           "x": 0.05
          },
          "xaxis": {
           "automargin": true,
           "gridcolor": "white",
           "linecolor": "white",
           "ticks": "",
           "title": {
            "standoff": 15
           },
           "zerolinecolor": "white",
           "zerolinewidth": 2
          },
          "yaxis": {
           "automargin": true,
           "gridcolor": "white",
           "linecolor": "white",
           "ticks": "",
           "title": {
            "standoff": 15
           },
           "zerolinecolor": "white",
           "zerolinewidth": 2
          }
         }
        },
        "title": {
         "text": "Out-of-School Rates by Gender (Pre-Primary Age)"
        },
        "xaxis": {
         "anchor": "y",
         "domain": [
          0,
          1
         ],
         "title": {
          "text": "Countries and areas"
         }
        },
        "yaxis": {
         "anchor": "x",
         "domain": [
          0,
          1
         ],
         "title": {
          "text": "Rate"
         }
        }
       }
      },
      "text/html": [
       "<div>                            <div id=\"1201c1fb-e1ef-48e2-bb47-3d7ac536e7a6\" class=\"plotly-graph-div\" style=\"height:525px; width:100%;\"></div>            <script type=\"text/javascript\">                require([\"plotly\"], function(Plotly) {                    window.PLOTLYENV=window.PLOTLYENV || {};                                    if (document.getElementById(\"1201c1fb-e1ef-48e2-bb47-3d7ac536e7a6\")) {                    Plotly.newPlot(                        \"1201c1fb-e1ef-48e2-bb47-3d7ac536e7a6\",                        [{\"alignmentgroup\":\"True\",\"hovertemplate\":\"Country: %{x}<br>Rate: %{y}\",\"legendgroup\":\"OOSR_Pre0Primary_Age_Male\",\"marker\":{\"color\":\"#636efa\",\"pattern\":{\"shape\":\"\"}},\"name\":\"OOSR_Pre0Primary_Age_Male\",\"offsetgroup\":\"OOSR_Pre0Primary_Age_Male\",\"orientation\":\"v\",\"showlegend\":true,\"textposition\":\"auto\",\"x\":[\"Afghanistan\",\"Albania\",\"Algeria\",\"Andorra\",\"Angola\",\"Anguilla\",\"Antigua and Barbuda\",\"Argentina\",\"Armenia\",\"Australia\",\"Austria\",\"Azerbaijan\",\"The Bahamas\",\"Bahrain\",\"Bangladesh\",\"Barbados\",\"Belarus\",\"Belgium\",\"Belize\",\"Benin\",\"Bhutan\",\"Bolivia\",\"Bosnia and Herzegovina\",\"Botswana\",\"Brazil\",\"British Virgin Islands\",\"Brunei\",\"Bulgaria\",\"Burkina Faso\",\"Burundi\",\"Cape Verde\",\"Cambodia\",\"Cameroon\",\"Canada\",\"Central African Republic\",\"Chad\",\"Chile\",\"China\",\"Colombia\",\"Comoros\",\"Republic of the Congo\",\"Cook Islands\",\"Costa Rica\",\"Ivory Coast\",\"Croatia\",\"Cuba\",\"Cyprus\",\"Czech Republic\",\"North Korea\",\"Democratic Republic of the Congo\",\"Denmark\",\"Djibouti\",\"Dominica\",\"Dominican Republic\",\"Ecuador\",\"Egypt\",\"El Salvador\",\"Equatorial Guinea\",\"Eritrea\",\"Estonia\",\"Eswatini\",\"Ethiopia\",\"Fiji\",\"Finland\",\"France\",\"Gabon\",\"The Gambia\",\"Georgia\",\"Germany\",\"Ghana\",\"Greece\",\"Grenada\",\"Guatemala\",\"Guinea\",\"Guinea0Bissau\",\"Guyana\",\"Haiti\",\"Vatican City\",\"Honduras\",\"Hungary\",\"Iceland\",\"India\",\"Indonesia\",\"Iran\",\"Iraq\",\"Republic of Ireland\",\"Israel\",\"Italy\",\"Jamaica\",\"Japan\",\"Jordan\",\"Kazakhstan\",\"Kenya\",\"Kiribati\",\"Kuwait\",\"Kyrgyzstan\",\"Laos\",\"Latvia\",\"Lebanon\",\"Lesotho\",\"Liberia\",\"Libya\",\"Liechtenstein\",\"Lithuania\",\"Luxembourg\",\"Madagascar\",\"Malawi\",\"Malaysia\",\"Maldives\",\"Mali\",\"Malta\",\"Marshall Islands\",\"Mauritania\",\"Mauritius\",\"Mexico\",\"Federated States of Micronesia\",\"Monaco\",\"Mongolia\",\"Montenegro\",\"Montserrat\",\"Morocco\",\"Mozambique\",\"Myanmar\",\"Namibia\",\"Nauru\",\"Nepal\",\"Netherlands\",\"New Zealand\",\"Nicaragua\",\"Niger\",\"Nigeria\",\"Niue\",\"North Macedonia\",\"Norway\",\"Oman\",\"Pakistan\",\"Palau\",\"Panama\",\"Papua New Guinea\",\"Paraguay\",\"Peru\",\"Philippines\",\"Poland\",\"Portugal\",\"Qatar\",\"South Korea\",\"Moldova\",\"Romania\",\"Russia\",\"Rwanda\",\"Saint Kitts and Nevis\",\"Saint Lucia\",\"Saint Vincent and the Grenadines\",\"Samoa\",\"San Marino\",\"S\\u00ef\\u00bf\\u00bd\\u00ef\\u00bf\\u00bd\\u00ef\\u00bf\\u00bd\\u00ef\\u00bf\\u00bd\\u00ef\\u00bf\\u00bd\\u00ef\\u00bf\\u00bd\\u00ef\\u00bf\\u00bd\\u00ef\\u00bf\",\"Saudi Arabia\",\"Senegal\",\"Serbia\",\"Seychelles\",\"Sierra Leone\",\"Singapore\",\"Slovakia\",\"Slovenia\",\"Solomon Islands\",\"Somalia\",\"South Africa\",\"South Sudan\",\"Spain\",\"Sri Lanka\",\"Palestinian National Authority\",\"Sudan\",\"Suriname\",\"Sweden\",\"Switzerland\",\"Syria\",\"Tajikistan\",\"Thailand\",\"East Timor\",\"Togo\",\"Tokelau\",\"Tonga\",\"Trinidad and Tobago\",\"Tunisia\",\"Turkey\",\"Turkmenistan\",\"Turks and Caicos Islands\",\"Tuvalu\",\"Uganda\",\"Ukraine\",\"United Arab Emirates\",\"United Kingdom\",\"Tanzania\",\"United States\",\"Uruguay\",\"Uzbekistan\",\"Vanuatu\",\"Venezuela\",\"Vietnam\",\"Yemen\",\"Zambia\",\"Zimbabwe\"],\"xaxis\":\"x\",\"y\":[0,4,0,0,31,14,14,2,52,13,0,32,0,31,0,6,0,3,18,15,58,9,72,79,0,9,17,19,81,52,19,48,56,0,0,85,8,0,3,71,71,3,4,78,5,2,1,10,0,0,2,85,21,7,8,63,18,57,73,12,0,62,0,2,0,0,42,0,1,14,6,4,16,57,0,0,0,0,24,12,4,0,8,50,0,2,1,6,8,0,55,22,0,0,21,11,31,2,0,58,21,0,1,3,1,43,0,1,8,53,0,32,0,9,2,30,0,3,23,19,31,0,88,33,11,9,1,6,0,76,0,13,51,3,16,0,0,25,28,31,1,14,4,5,10,1,5,18,9,48,0,5,9,65,12,49,51,85,9,9,58,0,15,5,36,0,28,78,5,0,35,60,12,0,1,60,87,1,51,1,20,0,0,0,23,0,19,13,0,0,0,3,45,12,2,53,38,14,0,96,0,60],\"yaxis\":\"y\",\"type\":\"bar\",\"hoverinfo\":\"all\"},{\"alignmentgroup\":\"True\",\"hovertemplate\":\"Country: %{x}<br>Rate: %{y}\",\"legendgroup\":\"OOSR_Pre0Primary_Age_Female\",\"marker\":{\"color\":\"#EF553B\",\"pattern\":{\"shape\":\"\"}},\"name\":\"OOSR_Pre0Primary_Age_Female\",\"offsetgroup\":\"OOSR_Pre0Primary_Age_Female\",\"orientation\":\"v\",\"showlegend\":true,\"textposition\":\"auto\",\"x\":[\"Afghanistan\",\"Albania\",\"Algeria\",\"Andorra\",\"Angola\",\"Anguilla\",\"Antigua and Barbuda\",\"Argentina\",\"Armenia\",\"Australia\",\"Austria\",\"Azerbaijan\",\"The Bahamas\",\"Bahrain\",\"Bangladesh\",\"Barbados\",\"Belarus\",\"Belgium\",\"Belize\",\"Benin\",\"Bhutan\",\"Bolivia\",\"Bosnia and Herzegovina\",\"Botswana\",\"Brazil\",\"British Virgin Islands\",\"Brunei\",\"Bulgaria\",\"Burkina Faso\",\"Burundi\",\"Cape Verde\",\"Cambodia\",\"Cameroon\",\"Canada\",\"Central African Republic\",\"Chad\",\"Chile\",\"China\",\"Colombia\",\"Comoros\",\"Republic of the Congo\",\"Cook Islands\",\"Costa Rica\",\"Ivory Coast\",\"Croatia\",\"Cuba\",\"Cyprus\",\"Czech Republic\",\"North Korea\",\"Democratic Republic of the Congo\",\"Denmark\",\"Djibouti\",\"Dominica\",\"Dominican Republic\",\"Ecuador\",\"Egypt\",\"El Salvador\",\"Equatorial Guinea\",\"Eritrea\",\"Estonia\",\"Eswatini\",\"Ethiopia\",\"Fiji\",\"Finland\",\"France\",\"Gabon\",\"The Gambia\",\"Georgia\",\"Germany\",\"Ghana\",\"Greece\",\"Grenada\",\"Guatemala\",\"Guinea\",\"Guinea0Bissau\",\"Guyana\",\"Haiti\",\"Vatican City\",\"Honduras\",\"Hungary\",\"Iceland\",\"India\",\"Indonesia\",\"Iran\",\"Iraq\",\"Republic of Ireland\",\"Israel\",\"Italy\",\"Jamaica\",\"Japan\",\"Jordan\",\"Kazakhstan\",\"Kenya\",\"Kiribati\",\"Kuwait\",\"Kyrgyzstan\",\"Laos\",\"Latvia\",\"Lebanon\",\"Lesotho\",\"Liberia\",\"Libya\",\"Liechtenstein\",\"Lithuania\",\"Luxembourg\",\"Madagascar\",\"Malawi\",\"Malaysia\",\"Maldives\",\"Mali\",\"Malta\",\"Marshall Islands\",\"Mauritania\",\"Mauritius\",\"Mexico\",\"Federated States of Micronesia\",\"Monaco\",\"Mongolia\",\"Montenegro\",\"Montserrat\",\"Morocco\",\"Mozambique\",\"Myanmar\",\"Namibia\",\"Nauru\",\"Nepal\",\"Netherlands\",\"New Zealand\",\"Nicaragua\",\"Niger\",\"Nigeria\",\"Niue\",\"North Macedonia\",\"Norway\",\"Oman\",\"Pakistan\",\"Palau\",\"Panama\",\"Papua New Guinea\",\"Paraguay\",\"Peru\",\"Philippines\",\"Poland\",\"Portugal\",\"Qatar\",\"South Korea\",\"Moldova\",\"Romania\",\"Russia\",\"Rwanda\",\"Saint Kitts and Nevis\",\"Saint Lucia\",\"Saint Vincent and the Grenadines\",\"Samoa\",\"San Marino\",\"S\\u00ef\\u00bf\\u00bd\\u00ef\\u00bf\\u00bd\\u00ef\\u00bf\\u00bd\\u00ef\\u00bf\\u00bd\\u00ef\\u00bf\\u00bd\\u00ef\\u00bf\\u00bd\\u00ef\\u00bf\\u00bd\\u00ef\\u00bf\",\"Saudi Arabia\",\"Senegal\",\"Serbia\",\"Seychelles\",\"Sierra Leone\",\"Singapore\",\"Slovakia\",\"Slovenia\",\"Solomon Islands\",\"Somalia\",\"South Africa\",\"South Sudan\",\"Spain\",\"Sri Lanka\",\"Palestinian National Authority\",\"Sudan\",\"Suriname\",\"Sweden\",\"Switzerland\",\"Syria\",\"Tajikistan\",\"Thailand\",\"East Timor\",\"Togo\",\"Tokelau\",\"Tonga\",\"Trinidad and Tobago\",\"Tunisia\",\"Turkey\",\"Turkmenistan\",\"Turks and Caicos Islands\",\"Tuvalu\",\"Uganda\",\"Ukraine\",\"United Arab Emirates\",\"United Kingdom\",\"Tanzania\",\"United States\",\"Uruguay\",\"Uzbekistan\",\"Vanuatu\",\"Venezuela\",\"Vietnam\",\"Yemen\",\"Zambia\",\"Zimbabwe\"],\"xaxis\":\"x\",\"y\":[0,2,0,0,39,0,4,2,50,14,0,19,0,28,0,10,4,2,16,16,59,8,73,78,1,2,18,20,81,50,19,44,57,0,0,87,8,0,1,70,70,0,4,78,5,2,2,10,0,0,2,88,7,6,3,63,17,55,73,12,0,64,1,3,0,0,36,0,1,12,5,1,16,60,0,0,0,0,22,14,3,0,2,49,0,2,0,7,6,0,55,23,0,0,16,10,30,2,0,57,21,0,2,3,1,38,0,1,5,57,5,31,0,8,0,34,0,5,24,14,39,0,88,30,3,17,0,7,0,76,0,38,51,3,13,14,19,23,29,30,1,13,5,6,7,1,5,18,10,47,21,0,3,65,14,46,48,83,10,6,57,0,17,6,33,0,27,81,5,0,34,60,10,0,0,61,88,1,48,7,0,0,0,0,25,0,0,9,0,0,0,0,42,8,1,55,38,14,0,96,0,58],\"yaxis\":\"y\",\"type\":\"bar\",\"hoverinfo\":\"all\"}],                        {\"template\":{\"data\":{\"histogram2dcontour\":[{\"type\":\"histogram2dcontour\",\"colorbar\":{\"outlinewidth\":0,\"ticks\":\"\"},\"colorscale\":[[0.0,\"#0d0887\"],[0.1111111111111111,\"#46039f\"],[0.2222222222222222,\"#7201a8\"],[0.3333333333333333,\"#9c179e\"],[0.4444444444444444,\"#bd3786\"],[0.5555555555555556,\"#d8576b\"],[0.6666666666666666,\"#ed7953\"],[0.7777777777777778,\"#fb9f3a\"],[0.8888888888888888,\"#fdca26\"],[1.0,\"#f0f921\"]]}],\"choropleth\":[{\"type\":\"choropleth\",\"colorbar\":{\"outlinewidth\":0,\"ticks\":\"\"}}],\"histogram2d\":[{\"type\":\"histogram2d\",\"colorbar\":{\"outlinewidth\":0,\"ticks\":\"\"},\"colorscale\":[[0.0,\"#0d0887\"],[0.1111111111111111,\"#46039f\"],[0.2222222222222222,\"#7201a8\"],[0.3333333333333333,\"#9c179e\"],[0.4444444444444444,\"#bd3786\"],[0.5555555555555556,\"#d8576b\"],[0.6666666666666666,\"#ed7953\"],[0.7777777777777778,\"#fb9f3a\"],[0.8888888888888888,\"#fdca26\"],[1.0,\"#f0f921\"]]}],\"heatmap\":[{\"type\":\"heatmap\",\"colorbar\":{\"outlinewidth\":0,\"ticks\":\"\"},\"colorscale\":[[0.0,\"#0d0887\"],[0.1111111111111111,\"#46039f\"],[0.2222222222222222,\"#7201a8\"],[0.3333333333333333,\"#9c179e\"],[0.4444444444444444,\"#bd3786\"],[0.5555555555555556,\"#d8576b\"],[0.6666666666666666,\"#ed7953\"],[0.7777777777777778,\"#fb9f3a\"],[0.8888888888888888,\"#fdca26\"],[1.0,\"#f0f921\"]]}],\"heatmapgl\":[{\"type\":\"heatmapgl\",\"colorbar\":{\"outlinewidth\":0,\"ticks\":\"\"},\"colorscale\":[[0.0,\"#0d0887\"],[0.1111111111111111,\"#46039f\"],[0.2222222222222222,\"#7201a8\"],[0.3333333333333333,\"#9c179e\"],[0.4444444444444444,\"#bd3786\"],[0.5555555555555556,\"#d8576b\"],[0.6666666666666666,\"#ed7953\"],[0.7777777777777778,\"#fb9f3a\"],[0.8888888888888888,\"#fdca26\"],[1.0,\"#f0f921\"]]}],\"contourcarpet\":[{\"type\":\"contourcarpet\",\"colorbar\":{\"outlinewidth\":0,\"ticks\":\"\"}}],\"contour\":[{\"type\":\"contour\",\"colorbar\":{\"outlinewidth\":0,\"ticks\":\"\"},\"colorscale\":[[0.0,\"#0d0887\"],[0.1111111111111111,\"#46039f\"],[0.2222222222222222,\"#7201a8\"],[0.3333333333333333,\"#9c179e\"],[0.4444444444444444,\"#bd3786\"],[0.5555555555555556,\"#d8576b\"],[0.6666666666666666,\"#ed7953\"],[0.7777777777777778,\"#fb9f3a\"],[0.8888888888888888,\"#fdca26\"],[1.0,\"#f0f921\"]]}],\"surface\":[{\"type\":\"surface\",\"colorbar\":{\"outlinewidth\":0,\"ticks\":\"\"},\"colorscale\":[[0.0,\"#0d0887\"],[0.1111111111111111,\"#46039f\"],[0.2222222222222222,\"#7201a8\"],[0.3333333333333333,\"#9c179e\"],[0.4444444444444444,\"#bd3786\"],[0.5555555555555556,\"#d8576b\"],[0.6666666666666666,\"#ed7953\"],[0.7777777777777778,\"#fb9f3a\"],[0.8888888888888888,\"#fdca26\"],[1.0,\"#f0f921\"]]}],\"mesh3d\":[{\"type\":\"mesh3d\",\"colorbar\":{\"outlinewidth\":0,\"ticks\":\"\"}}],\"scatter\":[{\"fillpattern\":{\"fillmode\":\"overlay\",\"size\":10,\"solidity\":0.2},\"type\":\"scatter\"}],\"parcoords\":[{\"type\":\"parcoords\",\"line\":{\"colorbar\":{\"outlinewidth\":0,\"ticks\":\"\"}}}],\"scatterpolargl\":[{\"type\":\"scatterpolargl\",\"marker\":{\"colorbar\":{\"outlinewidth\":0,\"ticks\":\"\"}}}],\"bar\":[{\"error_x\":{\"color\":\"#2a3f5f\"},\"error_y\":{\"color\":\"#2a3f5f\"},\"marker\":{\"line\":{\"color\":\"#E5ECF6\",\"width\":0.5},\"pattern\":{\"fillmode\":\"overlay\",\"size\":10,\"solidity\":0.2}},\"type\":\"bar\"}],\"scattergeo\":[{\"type\":\"scattergeo\",\"marker\":{\"colorbar\":{\"outlinewidth\":0,\"ticks\":\"\"}}}],\"scatterpolar\":[{\"type\":\"scatterpolar\",\"marker\":{\"colorbar\":{\"outlinewidth\":0,\"ticks\":\"\"}}}],\"histogram\":[{\"marker\":{\"pattern\":{\"fillmode\":\"overlay\",\"size\":10,\"solidity\":0.2}},\"type\":\"histogram\"}],\"scattergl\":[{\"type\":\"scattergl\",\"marker\":{\"colorbar\":{\"outlinewidth\":0,\"ticks\":\"\"}}}],\"scatter3d\":[{\"type\":\"scatter3d\",\"line\":{\"colorbar\":{\"outlinewidth\":0,\"ticks\":\"\"}},\"marker\":{\"colorbar\":{\"outlinewidth\":0,\"ticks\":\"\"}}}],\"scattermapbox\":[{\"type\":\"scattermapbox\",\"marker\":{\"colorbar\":{\"outlinewidth\":0,\"ticks\":\"\"}}}],\"scatterternary\":[{\"type\":\"scatterternary\",\"marker\":{\"colorbar\":{\"outlinewidth\":0,\"ticks\":\"\"}}}],\"scattercarpet\":[{\"type\":\"scattercarpet\",\"marker\":{\"colorbar\":{\"outlinewidth\":0,\"ticks\":\"\"}}}],\"carpet\":[{\"aaxis\":{\"endlinecolor\":\"#2a3f5f\",\"gridcolor\":\"white\",\"linecolor\":\"white\",\"minorgridcolor\":\"white\",\"startlinecolor\":\"#2a3f5f\"},\"baxis\":{\"endlinecolor\":\"#2a3f5f\",\"gridcolor\":\"white\",\"linecolor\":\"white\",\"minorgridcolor\":\"white\",\"startlinecolor\":\"#2a3f5f\"},\"type\":\"carpet\"}],\"table\":[{\"cells\":{\"fill\":{\"color\":\"#EBF0F8\"},\"line\":{\"color\":\"white\"}},\"header\":{\"fill\":{\"color\":\"#C8D4E3\"},\"line\":{\"color\":\"white\"}},\"type\":\"table\"}],\"barpolar\":[{\"marker\":{\"line\":{\"color\":\"#E5ECF6\",\"width\":0.5},\"pattern\":{\"fillmode\":\"overlay\",\"size\":10,\"solidity\":0.2}},\"type\":\"barpolar\"}],\"pie\":[{\"automargin\":true,\"type\":\"pie\"}]},\"layout\":{\"autotypenumbers\":\"strict\",\"colorway\":[\"#636efa\",\"#EF553B\",\"#00cc96\",\"#ab63fa\",\"#FFA15A\",\"#19d3f3\",\"#FF6692\",\"#B6E880\",\"#FF97FF\",\"#FECB52\"],\"font\":{\"color\":\"#2a3f5f\"},\"hovermode\":\"closest\",\"hoverlabel\":{\"align\":\"left\"},\"paper_bgcolor\":\"white\",\"plot_bgcolor\":\"#E5ECF6\",\"polar\":{\"bgcolor\":\"#E5ECF6\",\"angularaxis\":{\"gridcolor\":\"white\",\"linecolor\":\"white\",\"ticks\":\"\"},\"radialaxis\":{\"gridcolor\":\"white\",\"linecolor\":\"white\",\"ticks\":\"\"}},\"ternary\":{\"bgcolor\":\"#E5ECF6\",\"aaxis\":{\"gridcolor\":\"white\",\"linecolor\":\"white\",\"ticks\":\"\"},\"baxis\":{\"gridcolor\":\"white\",\"linecolor\":\"white\",\"ticks\":\"\"},\"caxis\":{\"gridcolor\":\"white\",\"linecolor\":\"white\",\"ticks\":\"\"}},\"coloraxis\":{\"colorbar\":{\"outlinewidth\":0,\"ticks\":\"\"}},\"colorscale\":{\"sequential\":[[0.0,\"#0d0887\"],[0.1111111111111111,\"#46039f\"],[0.2222222222222222,\"#7201a8\"],[0.3333333333333333,\"#9c179e\"],[0.4444444444444444,\"#bd3786\"],[0.5555555555555556,\"#d8576b\"],[0.6666666666666666,\"#ed7953\"],[0.7777777777777778,\"#fb9f3a\"],[0.8888888888888888,\"#fdca26\"],[1.0,\"#f0f921\"]],\"sequentialminus\":[[0.0,\"#0d0887\"],[0.1111111111111111,\"#46039f\"],[0.2222222222222222,\"#7201a8\"],[0.3333333333333333,\"#9c179e\"],[0.4444444444444444,\"#bd3786\"],[0.5555555555555556,\"#d8576b\"],[0.6666666666666666,\"#ed7953\"],[0.7777777777777778,\"#fb9f3a\"],[0.8888888888888888,\"#fdca26\"],[1.0,\"#f0f921\"]],\"diverging\":[[0,\"#8e0152\"],[0.1,\"#c51b7d\"],[0.2,\"#de77ae\"],[0.3,\"#f1b6da\"],[0.4,\"#fde0ef\"],[0.5,\"#f7f7f7\"],[0.6,\"#e6f5d0\"],[0.7,\"#b8e186\"],[0.8,\"#7fbc41\"],[0.9,\"#4d9221\"],[1,\"#276419\"]]},\"xaxis\":{\"gridcolor\":\"white\",\"linecolor\":\"white\",\"ticks\":\"\",\"title\":{\"standoff\":15},\"zerolinecolor\":\"white\",\"automargin\":true,\"zerolinewidth\":2},\"yaxis\":{\"gridcolor\":\"white\",\"linecolor\":\"white\",\"ticks\":\"\",\"title\":{\"standoff\":15},\"zerolinecolor\":\"white\",\"automargin\":true,\"zerolinewidth\":2},\"scene\":{\"xaxis\":{\"backgroundcolor\":\"#E5ECF6\",\"gridcolor\":\"white\",\"linecolor\":\"white\",\"showbackground\":true,\"ticks\":\"\",\"zerolinecolor\":\"white\",\"gridwidth\":2},\"yaxis\":{\"backgroundcolor\":\"#E5ECF6\",\"gridcolor\":\"white\",\"linecolor\":\"white\",\"showbackground\":true,\"ticks\":\"\",\"zerolinecolor\":\"white\",\"gridwidth\":2},\"zaxis\":{\"backgroundcolor\":\"#E5ECF6\",\"gridcolor\":\"white\",\"linecolor\":\"white\",\"showbackground\":true,\"ticks\":\"\",\"zerolinecolor\":\"white\",\"gridwidth\":2}},\"shapedefaults\":{\"line\":{\"color\":\"#2a3f5f\"}},\"annotationdefaults\":{\"arrowcolor\":\"#2a3f5f\",\"arrowhead\":0,\"arrowwidth\":1},\"geo\":{\"bgcolor\":\"white\",\"landcolor\":\"#E5ECF6\",\"subunitcolor\":\"white\",\"showland\":true,\"showlakes\":true,\"lakecolor\":\"white\"},\"title\":{\"x\":0.05},\"mapbox\":{\"style\":\"light\"}}},\"xaxis\":{\"anchor\":\"y\",\"domain\":[0.0,1.0],\"title\":{\"text\":\"Countries and areas\"}},\"yaxis\":{\"anchor\":\"x\",\"domain\":[0.0,1.0],\"title\":{\"text\":\"Rate\"}},\"legend\":{\"title\":{\"text\":\"Gender\"},\"tracegroupgap\":0},\"title\":{\"text\":\"Out-of-School Rates by Gender (Pre-Primary Age)\"},\"barmode\":\"relative\"},                        {\"responsive\": true}                    ).then(function(){\n",
       "                            \n",
       "var gd = document.getElementById('1201c1fb-e1ef-48e2-bb47-3d7ac536e7a6');\n",
       "var x = new MutationObserver(function (mutations, observer) {{\n",
       "        var display = window.getComputedStyle(gd).display;\n",
       "        if (!display || display === 'none') {{\n",
       "            console.log([gd, 'removed!']);\n",
       "            Plotly.purge(gd);\n",
       "            observer.disconnect();\n",
       "        }}\n",
       "}});\n",
       "\n",
       "// Listen for the removal of the full notebook cells\n",
       "var notebookContainer = gd.closest('#notebook-container');\n",
       "if (notebookContainer) {{\n",
       "    x.observe(notebookContainer, {childList: true});\n",
       "}}\n",
       "\n",
       "// Listen for the clearing of the current output cell\n",
       "var outputEl = gd.closest('.output');\n",
       "if (outputEl) {{\n",
       "    x.observe(outputEl, {childList: true});\n",
       "}}\n",
       "\n",
       "                        })                };                });            </script>        </div>"
      ]
     },
     "metadata": {},
     "output_type": "display_data"
    },
    {
     "data": {
      "application/vnd.plotly.v1+json": {
       "config": {
        "plotlyServerURL": "https://plot.ly"
       },
       "data": [
        {
         "alignmentgroup": "True",
         "hoverinfo": "all",
         "hovertemplate": "Country: %{x}<br>Rate: %{y}",
         "legendgroup": "OOSR_Primary_Age_Male",
         "marker": {
          "color": "#636efa",
          "pattern": {
           "shape": ""
          }
         },
         "name": "OOSR_Primary_Age_Male",
         "offsetgroup": "OOSR_Primary_Age_Male",
         "orientation": "v",
         "showlegend": true,
         "textposition": "auto",
         "type": "bar",
         "x": [
          "Afghanistan",
          "Albania",
          "Algeria",
          "Andorra",
          "Angola",
          "Anguilla",
          "Antigua and Barbuda",
          "Argentina",
          "Armenia",
          "Australia",
          "Austria",
          "Azerbaijan",
          "The Bahamas",
          "Bahrain",
          "Bangladesh",
          "Barbados",
          "Belarus",
          "Belgium",
          "Belize",
          "Benin",
          "Bhutan",
          "Bolivia",
          "Bosnia and Herzegovina",
          "Botswana",
          "Brazil",
          "British Virgin Islands",
          "Brunei",
          "Bulgaria",
          "Burkina Faso",
          "Burundi",
          "Cape Verde",
          "Cambodia",
          "Cameroon",
          "Canada",
          "Central African Republic",
          "Chad",
          "Chile",
          "China",
          "Colombia",
          "Comoros",
          "Republic of the Congo",
          "Cook Islands",
          "Costa Rica",
          "Ivory Coast",
          "Croatia",
          "Cuba",
          "Cyprus",
          "Czech Republic",
          "North Korea",
          "Democratic Republic of the Congo",
          "Denmark",
          "Djibouti",
          "Dominica",
          "Dominican Republic",
          "Ecuador",
          "Egypt",
          "El Salvador",
          "Equatorial Guinea",
          "Eritrea",
          "Estonia",
          "Eswatini",
          "Ethiopia",
          "Fiji",
          "Finland",
          "France",
          "Gabon",
          "The Gambia",
          "Georgia",
          "Germany",
          "Ghana",
          "Greece",
          "Grenada",
          "Guatemala",
          "Guinea",
          "Guinea0Bissau",
          "Guyana",
          "Haiti",
          "Vatican City",
          "Honduras",
          "Hungary",
          "Iceland",
          "India",
          "Indonesia",
          "Iran",
          "Iraq",
          "Republic of Ireland",
          "Israel",
          "Italy",
          "Jamaica",
          "Japan",
          "Jordan",
          "Kazakhstan",
          "Kenya",
          "Kiribati",
          "Kuwait",
          "Kyrgyzstan",
          "Laos",
          "Latvia",
          "Lebanon",
          "Lesotho",
          "Liberia",
          "Libya",
          "Liechtenstein",
          "Lithuania",
          "Luxembourg",
          "Madagascar",
          "Malawi",
          "Malaysia",
          "Maldives",
          "Mali",
          "Malta",
          "Marshall Islands",
          "Mauritania",
          "Mauritius",
          "Mexico",
          "Federated States of Micronesia",
          "Monaco",
          "Mongolia",
          "Montenegro",
          "Montserrat",
          "Morocco",
          "Mozambique",
          "Myanmar",
          "Namibia",
          "Nauru",
          "Nepal",
          "Netherlands",
          "New Zealand",
          "Nicaragua",
          "Niger",
          "Nigeria",
          "Niue",
          "North Macedonia",
          "Norway",
          "Oman",
          "Pakistan",
          "Palau",
          "Panama",
          "Papua New Guinea",
          "Paraguay",
          "Peru",
          "Philippines",
          "Poland",
          "Portugal",
          "Qatar",
          "South Korea",
          "Moldova",
          "Romania",
          "Russia",
          "Rwanda",
          "Saint Kitts and Nevis",
          "Saint Lucia",
          "Saint Vincent and the Grenadines",
          "Samoa",
          "San Marino",
          "Sï¿½ï¿½ï¿½ï¿½ï¿½ï¿½ï¿½ï¿",
          "Saudi Arabia",
          "Senegal",
          "Serbia",
          "Seychelles",
          "Sierra Leone",
          "Singapore",
          "Slovakia",
          "Slovenia",
          "Solomon Islands",
          "Somalia",
          "South Africa",
          "South Sudan",
          "Spain",
          "Sri Lanka",
          "Palestinian National Authority",
          "Sudan",
          "Suriname",
          "Sweden",
          "Switzerland",
          "Syria",
          "Tajikistan",
          "Thailand",
          "East Timor",
          "Togo",
          "Tokelau",
          "Tonga",
          "Trinidad and Tobago",
          "Tunisia",
          "Turkey",
          "Turkmenistan",
          "Turks and Caicos Islands",
          "Tuvalu",
          "Uganda",
          "Ukraine",
          "United Arab Emirates",
          "United Kingdom",
          "Tanzania",
          "United States",
          "Uruguay",
          "Uzbekistan",
          "Vanuatu",
          "Venezuela",
          "Vietnam",
          "Yemen",
          "Zambia",
          "Zimbabwe"
         ],
         "xaxis": "x",
         "y": [
          0,
          6,
          0,
          0,
          0,
          0,
          4,
          0,
          9,
          0,
          0,
          10,
          0,
          2,
          0,
          1,
          1,
          1,
          1,
          3,
          5,
          5,
          0,
          12,
          1,
          4,
          0,
          13,
          21,
          9,
          6,
          9,
          4,
          0,
          0,
          17,
          1,
          0,
          3,
          18,
          15,
          2,
          3,
          2,
          0,
          1,
          0,
          1,
          0,
          0,
          1,
          32,
          4,
          4,
          0,
          0,
          14,
          56,
          45,
          2,
          15,
          11,
          1,
          1,
          0,
          0,
          19,
          2,
          1,
          1,
          2,
          0,
          11,
          15,
          0,
          0,
          0,
          0,
          11,
          4,
          0,
          3,
          3,
          0,
          0,
          0,
          0,
          3,
          0,
          0,
          18,
          10,
          0,
          0,
          4,
          0,
          8,
          2,
          0,
          3,
          22,
          0,
          3,
          0,
          1,
          0,
          0,
          0,
          3,
          38,
          0,
          25,
          25,
          3,
          0,
          9,
          0,
          2,
          3,
          15,
          2,
          1,
          0,
          0,
          0,
          0,
          1,
          1,
          0,
          37,
          0,
          0,
          1,
          0,
          0,
          0,
          0,
          13,
          4,
          0,
          0,
          3,
          2,
          0,
          3,
          1,
          9,
          12,
          1,
          6,
          0,
          3,
          0,
          0,
          0,
          6,
          1,
          30,
          2,
          0,
          2,
          0,
          5,
          1,
          9,
          0,
          12,
          58,
          3,
          2,
          3,
          31,
          14,
          0,
          0,
          27,
          1,
          0,
          7,
          2,
          0,
          0,
          0,
          0,
          5,
          0,
          0,
          13,
          6,
          9,
          8,
          1,
          15,
          1,
          3,
          0,
          8,
          10,
          0,
          10,
          17,
          0
         ],
         "yaxis": "y"
        },
        {
         "alignmentgroup": "True",
         "hoverinfo": "all",
         "hovertemplate": "Country: %{x}<br>Rate: %{y}",
         "legendgroup": "OOSR_Primary_Age_Female",
         "marker": {
          "color": "#EF553B",
          "pattern": {
           "shape": ""
          }
         },
         "name": "OOSR_Primary_Age_Female",
         "offsetgroup": "OOSR_Primary_Age_Female",
         "orientation": "v",
         "showlegend": true,
         "textposition": "auto",
         "type": "bar",
         "x": [
          "Afghanistan",
          "Albania",
          "Algeria",
          "Andorra",
          "Angola",
          "Anguilla",
          "Antigua and Barbuda",
          "Argentina",
          "Armenia",
          "Australia",
          "Austria",
          "Azerbaijan",
          "The Bahamas",
          "Bahrain",
          "Bangladesh",
          "Barbados",
          "Belarus",
          "Belgium",
          "Belize",
          "Benin",
          "Bhutan",
          "Bolivia",
          "Bosnia and Herzegovina",
          "Botswana",
          "Brazil",
          "British Virgin Islands",
          "Brunei",
          "Bulgaria",
          "Burkina Faso",
          "Burundi",
          "Cape Verde",
          "Cambodia",
          "Cameroon",
          "Canada",
          "Central African Republic",
          "Chad",
          "Chile",
          "China",
          "Colombia",
          "Comoros",
          "Republic of the Congo",
          "Cook Islands",
          "Costa Rica",
          "Ivory Coast",
          "Croatia",
          "Cuba",
          "Cyprus",
          "Czech Republic",
          "North Korea",
          "Democratic Republic of the Congo",
          "Denmark",
          "Djibouti",
          "Dominica",
          "Dominican Republic",
          "Ecuador",
          "Egypt",
          "El Salvador",
          "Equatorial Guinea",
          "Eritrea",
          "Estonia",
          "Eswatini",
          "Ethiopia",
          "Fiji",
          "Finland",
          "France",
          "Gabon",
          "The Gambia",
          "Georgia",
          "Germany",
          "Ghana",
          "Greece",
          "Grenada",
          "Guatemala",
          "Guinea",
          "Guinea0Bissau",
          "Guyana",
          "Haiti",
          "Vatican City",
          "Honduras",
          "Hungary",
          "Iceland",
          "India",
          "Indonesia",
          "Iran",
          "Iraq",
          "Republic of Ireland",
          "Israel",
          "Italy",
          "Jamaica",
          "Japan",
          "Jordan",
          "Kazakhstan",
          "Kenya",
          "Kiribati",
          "Kuwait",
          "Kyrgyzstan",
          "Laos",
          "Latvia",
          "Lebanon",
          "Lesotho",
          "Liberia",
          "Libya",
          "Liechtenstein",
          "Lithuania",
          "Luxembourg",
          "Madagascar",
          "Malawi",
          "Malaysia",
          "Maldives",
          "Mali",
          "Malta",
          "Marshall Islands",
          "Mauritania",
          "Mauritius",
          "Mexico",
          "Federated States of Micronesia",
          "Monaco",
          "Mongolia",
          "Montenegro",
          "Montserrat",
          "Morocco",
          "Mozambique",
          "Myanmar",
          "Namibia",
          "Nauru",
          "Nepal",
          "Netherlands",
          "New Zealand",
          "Nicaragua",
          "Niger",
          "Nigeria",
          "Niue",
          "North Macedonia",
          "Norway",
          "Oman",
          "Pakistan",
          "Palau",
          "Panama",
          "Papua New Guinea",
          "Paraguay",
          "Peru",
          "Philippines",
          "Poland",
          "Portugal",
          "Qatar",
          "South Korea",
          "Moldova",
          "Romania",
          "Russia",
          "Rwanda",
          "Saint Kitts and Nevis",
          "Saint Lucia",
          "Saint Vincent and the Grenadines",
          "Samoa",
          "San Marino",
          "Sï¿½ï¿½ï¿½ï¿½ï¿½ï¿½ï¿½ï¿",
          "Saudi Arabia",
          "Senegal",
          "Serbia",
          "Seychelles",
          "Sierra Leone",
          "Singapore",
          "Slovakia",
          "Slovenia",
          "Solomon Islands",
          "Somalia",
          "South Africa",
          "South Sudan",
          "Spain",
          "Sri Lanka",
          "Palestinian National Authority",
          "Sudan",
          "Suriname",
          "Sweden",
          "Switzerland",
          "Syria",
          "Tajikistan",
          "Thailand",
          "East Timor",
          "Togo",
          "Tokelau",
          "Tonga",
          "Trinidad and Tobago",
          "Tunisia",
          "Turkey",
          "Turkmenistan",
          "Turks and Caicos Islands",
          "Tuvalu",
          "Uganda",
          "Ukraine",
          "United Arab Emirates",
          "United Kingdom",
          "Tanzania",
          "United States",
          "Uruguay",
          "Uzbekistan",
          "Vanuatu",
          "Venezuela",
          "Vietnam",
          "Yemen",
          "Zambia",
          "Zimbabwe"
         ],
         "xaxis": "x",
         "y": [
          0,
          3,
          0,
          0,
          0,
          0,
          1,
          0,
          9,
          0,
          0,
          7,
          0,
          3,
          0,
          2,
          2,
          0,
          1,
          10,
          2,
          5,
          0,
          10,
          1,
          3,
          0,
          13,
          22,
          6,
          7,
          9,
          13,
          0,
          0,
          35,
          2,
          0,
          2,
          18,
          16,
          2,
          3,
          8,
          0,
          1,
          1,
          0,
          0,
          0,
          0,
          35,
          3,
          4,
          0,
          0,
          13,
          55,
          50,
          2,
          17,
          18,
          1,
          1,
          0,
          0,
          10,
          2,
          0,
          0,
          1,
          0,
          10,
          29,
          0,
          0,
          0,
          0,
          14,
          5,
          1,
          1,
          8,
          0,
          0,
          0,
          0,
          3,
          0,
          0,
          19,
          9,
          0,
          0,
          1,
          0,
          9,
          1,
          0,
          2,
          21,
          0,
          2,
          0,
          1,
          0,
          0,
          0,
          1,
          44,
          0,
          27,
          21,
          1,
          0,
          11,
          0,
          3,
          3,
          15,
          3,
          4,
          0,
          0,
          0,
          0,
          1,
          1,
          0,
          45,
          0,
          0,
          1,
          0,
          0,
          0,
          0,
          14,
          10,
          0,
          0,
          3,
          2,
          1,
          0,
          1,
          11,
          13,
          0,
          6,
          0,
          0,
          0,
          0,
          0,
          6,
          3,
          21,
          2,
          0,
          2,
          0,
          4,
          0,
          4,
          0,
          10,
          67,
          3,
          3,
          3,
          35,
          11,
          0,
          0,
          28,
          2,
          0,
          3,
          4,
          0,
          0,
          0,
          0,
          5,
          0,
          0,
          17,
          3,
          7,
          5,
          1,
          12,
          1,
          3,
          2,
          7,
          10,
          0,
          21,
          13,
          0
         ],
         "yaxis": "y"
        }
       ],
       "layout": {
        "barmode": "relative",
        "legend": {
         "title": {
          "text": "Gender"
         },
         "tracegroupgap": 0
        },
        "template": {
         "data": {
          "bar": [
           {
            "error_x": {
             "color": "#2a3f5f"
            },
            "error_y": {
             "color": "#2a3f5f"
            },
            "marker": {
             "line": {
              "color": "#E5ECF6",
              "width": 0.5
             },
             "pattern": {
              "fillmode": "overlay",
              "size": 10,
              "solidity": 0.2
             }
            },
            "type": "bar"
           }
          ],
          "barpolar": [
           {
            "marker": {
             "line": {
              "color": "#E5ECF6",
              "width": 0.5
             },
             "pattern": {
              "fillmode": "overlay",
              "size": 10,
              "solidity": 0.2
             }
            },
            "type": "barpolar"
           }
          ],
          "carpet": [
           {
            "aaxis": {
             "endlinecolor": "#2a3f5f",
             "gridcolor": "white",
             "linecolor": "white",
             "minorgridcolor": "white",
             "startlinecolor": "#2a3f5f"
            },
            "baxis": {
             "endlinecolor": "#2a3f5f",
             "gridcolor": "white",
             "linecolor": "white",
             "minorgridcolor": "white",
             "startlinecolor": "#2a3f5f"
            },
            "type": "carpet"
           }
          ],
          "choropleth": [
           {
            "colorbar": {
             "outlinewidth": 0,
             "ticks": ""
            },
            "type": "choropleth"
           }
          ],
          "contour": [
           {
            "colorbar": {
             "outlinewidth": 0,
             "ticks": ""
            },
            "colorscale": [
             [
              0,
              "#0d0887"
             ],
             [
              0.1111111111111111,
              "#46039f"
             ],
             [
              0.2222222222222222,
              "#7201a8"
             ],
             [
              0.3333333333333333,
              "#9c179e"
             ],
             [
              0.4444444444444444,
              "#bd3786"
             ],
             [
              0.5555555555555556,
              "#d8576b"
             ],
             [
              0.6666666666666666,
              "#ed7953"
             ],
             [
              0.7777777777777778,
              "#fb9f3a"
             ],
             [
              0.8888888888888888,
              "#fdca26"
             ],
             [
              1,
              "#f0f921"
             ]
            ],
            "type": "contour"
           }
          ],
          "contourcarpet": [
           {
            "colorbar": {
             "outlinewidth": 0,
             "ticks": ""
            },
            "type": "contourcarpet"
           }
          ],
          "heatmap": [
           {
            "colorbar": {
             "outlinewidth": 0,
             "ticks": ""
            },
            "colorscale": [
             [
              0,
              "#0d0887"
             ],
             [
              0.1111111111111111,
              "#46039f"
             ],
             [
              0.2222222222222222,
              "#7201a8"
             ],
             [
              0.3333333333333333,
              "#9c179e"
             ],
             [
              0.4444444444444444,
              "#bd3786"
             ],
             [
              0.5555555555555556,
              "#d8576b"
             ],
             [
              0.6666666666666666,
              "#ed7953"
             ],
             [
              0.7777777777777778,
              "#fb9f3a"
             ],
             [
              0.8888888888888888,
              "#fdca26"
             ],
             [
              1,
              "#f0f921"
             ]
            ],
            "type": "heatmap"
           }
          ],
          "heatmapgl": [
           {
            "colorbar": {
             "outlinewidth": 0,
             "ticks": ""
            },
            "colorscale": [
             [
              0,
              "#0d0887"
             ],
             [
              0.1111111111111111,
              "#46039f"
             ],
             [
              0.2222222222222222,
              "#7201a8"
             ],
             [
              0.3333333333333333,
              "#9c179e"
             ],
             [
              0.4444444444444444,
              "#bd3786"
             ],
             [
              0.5555555555555556,
              "#d8576b"
             ],
             [
              0.6666666666666666,
              "#ed7953"
             ],
             [
              0.7777777777777778,
              "#fb9f3a"
             ],
             [
              0.8888888888888888,
              "#fdca26"
             ],
             [
              1,
              "#f0f921"
             ]
            ],
            "type": "heatmapgl"
           }
          ],
          "histogram": [
           {
            "marker": {
             "pattern": {
              "fillmode": "overlay",
              "size": 10,
              "solidity": 0.2
             }
            },
            "type": "histogram"
           }
          ],
          "histogram2d": [
           {
            "colorbar": {
             "outlinewidth": 0,
             "ticks": ""
            },
            "colorscale": [
             [
              0,
              "#0d0887"
             ],
             [
              0.1111111111111111,
              "#46039f"
             ],
             [
              0.2222222222222222,
              "#7201a8"
             ],
             [
              0.3333333333333333,
              "#9c179e"
             ],
             [
              0.4444444444444444,
              "#bd3786"
             ],
             [
              0.5555555555555556,
              "#d8576b"
             ],
             [
              0.6666666666666666,
              "#ed7953"
             ],
             [
              0.7777777777777778,
              "#fb9f3a"
             ],
             [
              0.8888888888888888,
              "#fdca26"
             ],
             [
              1,
              "#f0f921"
             ]
            ],
            "type": "histogram2d"
           }
          ],
          "histogram2dcontour": [
           {
            "colorbar": {
             "outlinewidth": 0,
             "ticks": ""
            },
            "colorscale": [
             [
              0,
              "#0d0887"
             ],
             [
              0.1111111111111111,
              "#46039f"
             ],
             [
              0.2222222222222222,
              "#7201a8"
             ],
             [
              0.3333333333333333,
              "#9c179e"
             ],
             [
              0.4444444444444444,
              "#bd3786"
             ],
             [
              0.5555555555555556,
              "#d8576b"
             ],
             [
              0.6666666666666666,
              "#ed7953"
             ],
             [
              0.7777777777777778,
              "#fb9f3a"
             ],
             [
              0.8888888888888888,
              "#fdca26"
             ],
             [
              1,
              "#f0f921"
             ]
            ],
            "type": "histogram2dcontour"
           }
          ],
          "mesh3d": [
           {
            "colorbar": {
             "outlinewidth": 0,
             "ticks": ""
            },
            "type": "mesh3d"
           }
          ],
          "parcoords": [
           {
            "line": {
             "colorbar": {
              "outlinewidth": 0,
              "ticks": ""
             }
            },
            "type": "parcoords"
           }
          ],
          "pie": [
           {
            "automargin": true,
            "type": "pie"
           }
          ],
          "scatter": [
           {
            "fillpattern": {
             "fillmode": "overlay",
             "size": 10,
             "solidity": 0.2
            },
            "type": "scatter"
           }
          ],
          "scatter3d": [
           {
            "line": {
             "colorbar": {
              "outlinewidth": 0,
              "ticks": ""
             }
            },
            "marker": {
             "colorbar": {
              "outlinewidth": 0,
              "ticks": ""
             }
            },
            "type": "scatter3d"
           }
          ],
          "scattercarpet": [
           {
            "marker": {
             "colorbar": {
              "outlinewidth": 0,
              "ticks": ""
             }
            },
            "type": "scattercarpet"
           }
          ],
          "scattergeo": [
           {
            "marker": {
             "colorbar": {
              "outlinewidth": 0,
              "ticks": ""
             }
            },
            "type": "scattergeo"
           }
          ],
          "scattergl": [
           {
            "marker": {
             "colorbar": {
              "outlinewidth": 0,
              "ticks": ""
             }
            },
            "type": "scattergl"
           }
          ],
          "scattermapbox": [
           {
            "marker": {
             "colorbar": {
              "outlinewidth": 0,
              "ticks": ""
             }
            },
            "type": "scattermapbox"
           }
          ],
          "scatterpolar": [
           {
            "marker": {
             "colorbar": {
              "outlinewidth": 0,
              "ticks": ""
             }
            },
            "type": "scatterpolar"
           }
          ],
          "scatterpolargl": [
           {
            "marker": {
             "colorbar": {
              "outlinewidth": 0,
              "ticks": ""
             }
            },
            "type": "scatterpolargl"
           }
          ],
          "scatterternary": [
           {
            "marker": {
             "colorbar": {
              "outlinewidth": 0,
              "ticks": ""
             }
            },
            "type": "scatterternary"
           }
          ],
          "surface": [
           {
            "colorbar": {
             "outlinewidth": 0,
             "ticks": ""
            },
            "colorscale": [
             [
              0,
              "#0d0887"
             ],
             [
              0.1111111111111111,
              "#46039f"
             ],
             [
              0.2222222222222222,
              "#7201a8"
             ],
             [
              0.3333333333333333,
              "#9c179e"
             ],
             [
              0.4444444444444444,
              "#bd3786"
             ],
             [
              0.5555555555555556,
              "#d8576b"
             ],
             [
              0.6666666666666666,
              "#ed7953"
             ],
             [
              0.7777777777777778,
              "#fb9f3a"
             ],
             [
              0.8888888888888888,
              "#fdca26"
             ],
             [
              1,
              "#f0f921"
             ]
            ],
            "type": "surface"
           }
          ],
          "table": [
           {
            "cells": {
             "fill": {
              "color": "#EBF0F8"
             },
             "line": {
              "color": "white"
             }
            },
            "header": {
             "fill": {
              "color": "#C8D4E3"
             },
             "line": {
              "color": "white"
             }
            },
            "type": "table"
           }
          ]
         },
         "layout": {
          "annotationdefaults": {
           "arrowcolor": "#2a3f5f",
           "arrowhead": 0,
           "arrowwidth": 1
          },
          "autotypenumbers": "strict",
          "coloraxis": {
           "colorbar": {
            "outlinewidth": 0,
            "ticks": ""
           }
          },
          "colorscale": {
           "diverging": [
            [
             0,
             "#8e0152"
            ],
            [
             0.1,
             "#c51b7d"
            ],
            [
             0.2,
             "#de77ae"
            ],
            [
             0.3,
             "#f1b6da"
            ],
            [
             0.4,
             "#fde0ef"
            ],
            [
             0.5,
             "#f7f7f7"
            ],
            [
             0.6,
             "#e6f5d0"
            ],
            [
             0.7,
             "#b8e186"
            ],
            [
             0.8,
             "#7fbc41"
            ],
            [
             0.9,
             "#4d9221"
            ],
            [
             1,
             "#276419"
            ]
           ],
           "sequential": [
            [
             0,
             "#0d0887"
            ],
            [
             0.1111111111111111,
             "#46039f"
            ],
            [
             0.2222222222222222,
             "#7201a8"
            ],
            [
             0.3333333333333333,
             "#9c179e"
            ],
            [
             0.4444444444444444,
             "#bd3786"
            ],
            [
             0.5555555555555556,
             "#d8576b"
            ],
            [
             0.6666666666666666,
             "#ed7953"
            ],
            [
             0.7777777777777778,
             "#fb9f3a"
            ],
            [
             0.8888888888888888,
             "#fdca26"
            ],
            [
             1,
             "#f0f921"
            ]
           ],
           "sequentialminus": [
            [
             0,
             "#0d0887"
            ],
            [
             0.1111111111111111,
             "#46039f"
            ],
            [
             0.2222222222222222,
             "#7201a8"
            ],
            [
             0.3333333333333333,
             "#9c179e"
            ],
            [
             0.4444444444444444,
             "#bd3786"
            ],
            [
             0.5555555555555556,
             "#d8576b"
            ],
            [
             0.6666666666666666,
             "#ed7953"
            ],
            [
             0.7777777777777778,
             "#fb9f3a"
            ],
            [
             0.8888888888888888,
             "#fdca26"
            ],
            [
             1,
             "#f0f921"
            ]
           ]
          },
          "colorway": [
           "#636efa",
           "#EF553B",
           "#00cc96",
           "#ab63fa",
           "#FFA15A",
           "#19d3f3",
           "#FF6692",
           "#B6E880",
           "#FF97FF",
           "#FECB52"
          ],
          "font": {
           "color": "#2a3f5f"
          },
          "geo": {
           "bgcolor": "white",
           "lakecolor": "white",
           "landcolor": "#E5ECF6",
           "showlakes": true,
           "showland": true,
           "subunitcolor": "white"
          },
          "hoverlabel": {
           "align": "left"
          },
          "hovermode": "closest",
          "mapbox": {
           "style": "light"
          },
          "paper_bgcolor": "white",
          "plot_bgcolor": "#E5ECF6",
          "polar": {
           "angularaxis": {
            "gridcolor": "white",
            "linecolor": "white",
            "ticks": ""
           },
           "bgcolor": "#E5ECF6",
           "radialaxis": {
            "gridcolor": "white",
            "linecolor": "white",
            "ticks": ""
           }
          },
          "scene": {
           "xaxis": {
            "backgroundcolor": "#E5ECF6",
            "gridcolor": "white",
            "gridwidth": 2,
            "linecolor": "white",
            "showbackground": true,
            "ticks": "",
            "zerolinecolor": "white"
           },
           "yaxis": {
            "backgroundcolor": "#E5ECF6",
            "gridcolor": "white",
            "gridwidth": 2,
            "linecolor": "white",
            "showbackground": true,
            "ticks": "",
            "zerolinecolor": "white"
           },
           "zaxis": {
            "backgroundcolor": "#E5ECF6",
            "gridcolor": "white",
            "gridwidth": 2,
            "linecolor": "white",
            "showbackground": true,
            "ticks": "",
            "zerolinecolor": "white"
           }
          },
          "shapedefaults": {
           "line": {
            "color": "#2a3f5f"
           }
          },
          "ternary": {
           "aaxis": {
            "gridcolor": "white",
            "linecolor": "white",
            "ticks": ""
           },
           "baxis": {
            "gridcolor": "white",
            "linecolor": "white",
            "ticks": ""
           },
           "bgcolor": "#E5ECF6",
           "caxis": {
            "gridcolor": "white",
            "linecolor": "white",
            "ticks": ""
           }
          },
          "title": {
           "x": 0.05
          },
          "xaxis": {
           "automargin": true,
           "gridcolor": "white",
           "linecolor": "white",
           "ticks": "",
           "title": {
            "standoff": 15
           },
           "zerolinecolor": "white",
           "zerolinewidth": 2
          },
          "yaxis": {
           "automargin": true,
           "gridcolor": "white",
           "linecolor": "white",
           "ticks": "",
           "title": {
            "standoff": 15
           },
           "zerolinecolor": "white",
           "zerolinewidth": 2
          }
         }
        },
        "title": {
         "text": "Out-of-School Rates by Gender (Primary Age)"
        },
        "xaxis": {
         "anchor": "y",
         "domain": [
          0,
          1
         ],
         "title": {
          "text": "Countries and areas"
         }
        },
        "yaxis": {
         "anchor": "x",
         "domain": [
          0,
          1
         ],
         "title": {
          "text": "Rate"
         }
        }
       }
      },
      "text/html": [
       "<div>                            <div id=\"aec49652-fabc-41cf-8380-72b5e4062269\" class=\"plotly-graph-div\" style=\"height:525px; width:100%;\"></div>            <script type=\"text/javascript\">                require([\"plotly\"], function(Plotly) {                    window.PLOTLYENV=window.PLOTLYENV || {};                                    if (document.getElementById(\"aec49652-fabc-41cf-8380-72b5e4062269\")) {                    Plotly.newPlot(                        \"aec49652-fabc-41cf-8380-72b5e4062269\",                        [{\"alignmentgroup\":\"True\",\"hovertemplate\":\"Country: %{x}<br>Rate: %{y}\",\"legendgroup\":\"OOSR_Primary_Age_Male\",\"marker\":{\"color\":\"#636efa\",\"pattern\":{\"shape\":\"\"}},\"name\":\"OOSR_Primary_Age_Male\",\"offsetgroup\":\"OOSR_Primary_Age_Male\",\"orientation\":\"v\",\"showlegend\":true,\"textposition\":\"auto\",\"x\":[\"Afghanistan\",\"Albania\",\"Algeria\",\"Andorra\",\"Angola\",\"Anguilla\",\"Antigua and Barbuda\",\"Argentina\",\"Armenia\",\"Australia\",\"Austria\",\"Azerbaijan\",\"The Bahamas\",\"Bahrain\",\"Bangladesh\",\"Barbados\",\"Belarus\",\"Belgium\",\"Belize\",\"Benin\",\"Bhutan\",\"Bolivia\",\"Bosnia and Herzegovina\",\"Botswana\",\"Brazil\",\"British Virgin Islands\",\"Brunei\",\"Bulgaria\",\"Burkina Faso\",\"Burundi\",\"Cape Verde\",\"Cambodia\",\"Cameroon\",\"Canada\",\"Central African Republic\",\"Chad\",\"Chile\",\"China\",\"Colombia\",\"Comoros\",\"Republic of the Congo\",\"Cook Islands\",\"Costa Rica\",\"Ivory Coast\",\"Croatia\",\"Cuba\",\"Cyprus\",\"Czech Republic\",\"North Korea\",\"Democratic Republic of the Congo\",\"Denmark\",\"Djibouti\",\"Dominica\",\"Dominican Republic\",\"Ecuador\",\"Egypt\",\"El Salvador\",\"Equatorial Guinea\",\"Eritrea\",\"Estonia\",\"Eswatini\",\"Ethiopia\",\"Fiji\",\"Finland\",\"France\",\"Gabon\",\"The Gambia\",\"Georgia\",\"Germany\",\"Ghana\",\"Greece\",\"Grenada\",\"Guatemala\",\"Guinea\",\"Guinea0Bissau\",\"Guyana\",\"Haiti\",\"Vatican City\",\"Honduras\",\"Hungary\",\"Iceland\",\"India\",\"Indonesia\",\"Iran\",\"Iraq\",\"Republic of Ireland\",\"Israel\",\"Italy\",\"Jamaica\",\"Japan\",\"Jordan\",\"Kazakhstan\",\"Kenya\",\"Kiribati\",\"Kuwait\",\"Kyrgyzstan\",\"Laos\",\"Latvia\",\"Lebanon\",\"Lesotho\",\"Liberia\",\"Libya\",\"Liechtenstein\",\"Lithuania\",\"Luxembourg\",\"Madagascar\",\"Malawi\",\"Malaysia\",\"Maldives\",\"Mali\",\"Malta\",\"Marshall Islands\",\"Mauritania\",\"Mauritius\",\"Mexico\",\"Federated States of Micronesia\",\"Monaco\",\"Mongolia\",\"Montenegro\",\"Montserrat\",\"Morocco\",\"Mozambique\",\"Myanmar\",\"Namibia\",\"Nauru\",\"Nepal\",\"Netherlands\",\"New Zealand\",\"Nicaragua\",\"Niger\",\"Nigeria\",\"Niue\",\"North Macedonia\",\"Norway\",\"Oman\",\"Pakistan\",\"Palau\",\"Panama\",\"Papua New Guinea\",\"Paraguay\",\"Peru\",\"Philippines\",\"Poland\",\"Portugal\",\"Qatar\",\"South Korea\",\"Moldova\",\"Romania\",\"Russia\",\"Rwanda\",\"Saint Kitts and Nevis\",\"Saint Lucia\",\"Saint Vincent and the Grenadines\",\"Samoa\",\"San Marino\",\"S\\u00ef\\u00bf\\u00bd\\u00ef\\u00bf\\u00bd\\u00ef\\u00bf\\u00bd\\u00ef\\u00bf\\u00bd\\u00ef\\u00bf\\u00bd\\u00ef\\u00bf\\u00bd\\u00ef\\u00bf\\u00bd\\u00ef\\u00bf\",\"Saudi Arabia\",\"Senegal\",\"Serbia\",\"Seychelles\",\"Sierra Leone\",\"Singapore\",\"Slovakia\",\"Slovenia\",\"Solomon Islands\",\"Somalia\",\"South Africa\",\"South Sudan\",\"Spain\",\"Sri Lanka\",\"Palestinian National Authority\",\"Sudan\",\"Suriname\",\"Sweden\",\"Switzerland\",\"Syria\",\"Tajikistan\",\"Thailand\",\"East Timor\",\"Togo\",\"Tokelau\",\"Tonga\",\"Trinidad and Tobago\",\"Tunisia\",\"Turkey\",\"Turkmenistan\",\"Turks and Caicos Islands\",\"Tuvalu\",\"Uganda\",\"Ukraine\",\"United Arab Emirates\",\"United Kingdom\",\"Tanzania\",\"United States\",\"Uruguay\",\"Uzbekistan\",\"Vanuatu\",\"Venezuela\",\"Vietnam\",\"Yemen\",\"Zambia\",\"Zimbabwe\"],\"xaxis\":\"x\",\"y\":[0,6,0,0,0,0,4,0,9,0,0,10,0,2,0,1,1,1,1,3,5,5,0,12,1,4,0,13,21,9,6,9,4,0,0,17,1,0,3,18,15,2,3,2,0,1,0,1,0,0,1,32,4,4,0,0,14,56,45,2,15,11,1,1,0,0,19,2,1,1,2,0,11,15,0,0,0,0,11,4,0,3,3,0,0,0,0,3,0,0,18,10,0,0,4,0,8,2,0,3,22,0,3,0,1,0,0,0,3,38,0,25,25,3,0,9,0,2,3,15,2,1,0,0,0,0,1,1,0,37,0,0,1,0,0,0,0,13,4,0,0,3,2,0,3,1,9,12,1,6,0,3,0,0,0,6,1,30,2,0,2,0,5,1,9,0,12,58,3,2,3,31,14,0,0,27,1,0,7,2,0,0,0,0,5,0,0,13,6,9,8,1,15,1,3,0,8,10,0,10,17,0],\"yaxis\":\"y\",\"type\":\"bar\",\"hoverinfo\":\"all\"},{\"alignmentgroup\":\"True\",\"hovertemplate\":\"Country: %{x}<br>Rate: %{y}\",\"legendgroup\":\"OOSR_Primary_Age_Female\",\"marker\":{\"color\":\"#EF553B\",\"pattern\":{\"shape\":\"\"}},\"name\":\"OOSR_Primary_Age_Female\",\"offsetgroup\":\"OOSR_Primary_Age_Female\",\"orientation\":\"v\",\"showlegend\":true,\"textposition\":\"auto\",\"x\":[\"Afghanistan\",\"Albania\",\"Algeria\",\"Andorra\",\"Angola\",\"Anguilla\",\"Antigua and Barbuda\",\"Argentina\",\"Armenia\",\"Australia\",\"Austria\",\"Azerbaijan\",\"The Bahamas\",\"Bahrain\",\"Bangladesh\",\"Barbados\",\"Belarus\",\"Belgium\",\"Belize\",\"Benin\",\"Bhutan\",\"Bolivia\",\"Bosnia and Herzegovina\",\"Botswana\",\"Brazil\",\"British Virgin Islands\",\"Brunei\",\"Bulgaria\",\"Burkina Faso\",\"Burundi\",\"Cape Verde\",\"Cambodia\",\"Cameroon\",\"Canada\",\"Central African Republic\",\"Chad\",\"Chile\",\"China\",\"Colombia\",\"Comoros\",\"Republic of the Congo\",\"Cook Islands\",\"Costa Rica\",\"Ivory Coast\",\"Croatia\",\"Cuba\",\"Cyprus\",\"Czech Republic\",\"North Korea\",\"Democratic Republic of the Congo\",\"Denmark\",\"Djibouti\",\"Dominica\",\"Dominican Republic\",\"Ecuador\",\"Egypt\",\"El Salvador\",\"Equatorial Guinea\",\"Eritrea\",\"Estonia\",\"Eswatini\",\"Ethiopia\",\"Fiji\",\"Finland\",\"France\",\"Gabon\",\"The Gambia\",\"Georgia\",\"Germany\",\"Ghana\",\"Greece\",\"Grenada\",\"Guatemala\",\"Guinea\",\"Guinea0Bissau\",\"Guyana\",\"Haiti\",\"Vatican City\",\"Honduras\",\"Hungary\",\"Iceland\",\"India\",\"Indonesia\",\"Iran\",\"Iraq\",\"Republic of Ireland\",\"Israel\",\"Italy\",\"Jamaica\",\"Japan\",\"Jordan\",\"Kazakhstan\",\"Kenya\",\"Kiribati\",\"Kuwait\",\"Kyrgyzstan\",\"Laos\",\"Latvia\",\"Lebanon\",\"Lesotho\",\"Liberia\",\"Libya\",\"Liechtenstein\",\"Lithuania\",\"Luxembourg\",\"Madagascar\",\"Malawi\",\"Malaysia\",\"Maldives\",\"Mali\",\"Malta\",\"Marshall Islands\",\"Mauritania\",\"Mauritius\",\"Mexico\",\"Federated States of Micronesia\",\"Monaco\",\"Mongolia\",\"Montenegro\",\"Montserrat\",\"Morocco\",\"Mozambique\",\"Myanmar\",\"Namibia\",\"Nauru\",\"Nepal\",\"Netherlands\",\"New Zealand\",\"Nicaragua\",\"Niger\",\"Nigeria\",\"Niue\",\"North Macedonia\",\"Norway\",\"Oman\",\"Pakistan\",\"Palau\",\"Panama\",\"Papua New Guinea\",\"Paraguay\",\"Peru\",\"Philippines\",\"Poland\",\"Portugal\",\"Qatar\",\"South Korea\",\"Moldova\",\"Romania\",\"Russia\",\"Rwanda\",\"Saint Kitts and Nevis\",\"Saint Lucia\",\"Saint Vincent and the Grenadines\",\"Samoa\",\"San Marino\",\"S\\u00ef\\u00bf\\u00bd\\u00ef\\u00bf\\u00bd\\u00ef\\u00bf\\u00bd\\u00ef\\u00bf\\u00bd\\u00ef\\u00bf\\u00bd\\u00ef\\u00bf\\u00bd\\u00ef\\u00bf\\u00bd\\u00ef\\u00bf\",\"Saudi Arabia\",\"Senegal\",\"Serbia\",\"Seychelles\",\"Sierra Leone\",\"Singapore\",\"Slovakia\",\"Slovenia\",\"Solomon Islands\",\"Somalia\",\"South Africa\",\"South Sudan\",\"Spain\",\"Sri Lanka\",\"Palestinian National Authority\",\"Sudan\",\"Suriname\",\"Sweden\",\"Switzerland\",\"Syria\",\"Tajikistan\",\"Thailand\",\"East Timor\",\"Togo\",\"Tokelau\",\"Tonga\",\"Trinidad and Tobago\",\"Tunisia\",\"Turkey\",\"Turkmenistan\",\"Turks and Caicos Islands\",\"Tuvalu\",\"Uganda\",\"Ukraine\",\"United Arab Emirates\",\"United Kingdom\",\"Tanzania\",\"United States\",\"Uruguay\",\"Uzbekistan\",\"Vanuatu\",\"Venezuela\",\"Vietnam\",\"Yemen\",\"Zambia\",\"Zimbabwe\"],\"xaxis\":\"x\",\"y\":[0,3,0,0,0,0,1,0,9,0,0,7,0,3,0,2,2,0,1,10,2,5,0,10,1,3,0,13,22,6,7,9,13,0,0,35,2,0,2,18,16,2,3,8,0,1,1,0,0,0,0,35,3,4,0,0,13,55,50,2,17,18,1,1,0,0,10,2,0,0,1,0,10,29,0,0,0,0,14,5,1,1,8,0,0,0,0,3,0,0,19,9,0,0,1,0,9,1,0,2,21,0,2,0,1,0,0,0,1,44,0,27,21,1,0,11,0,3,3,15,3,4,0,0,0,0,1,1,0,45,0,0,1,0,0,0,0,14,10,0,0,3,2,1,0,1,11,13,0,6,0,0,0,0,0,6,3,21,2,0,2,0,4,0,4,0,10,67,3,3,3,35,11,0,0,28,2,0,3,4,0,0,0,0,5,0,0,17,3,7,5,1,12,1,3,2,7,10,0,21,13,0],\"yaxis\":\"y\",\"type\":\"bar\",\"hoverinfo\":\"all\"}],                        {\"template\":{\"data\":{\"histogram2dcontour\":[{\"type\":\"histogram2dcontour\",\"colorbar\":{\"outlinewidth\":0,\"ticks\":\"\"},\"colorscale\":[[0.0,\"#0d0887\"],[0.1111111111111111,\"#46039f\"],[0.2222222222222222,\"#7201a8\"],[0.3333333333333333,\"#9c179e\"],[0.4444444444444444,\"#bd3786\"],[0.5555555555555556,\"#d8576b\"],[0.6666666666666666,\"#ed7953\"],[0.7777777777777778,\"#fb9f3a\"],[0.8888888888888888,\"#fdca26\"],[1.0,\"#f0f921\"]]}],\"choropleth\":[{\"type\":\"choropleth\",\"colorbar\":{\"outlinewidth\":0,\"ticks\":\"\"}}],\"histogram2d\":[{\"type\":\"histogram2d\",\"colorbar\":{\"outlinewidth\":0,\"ticks\":\"\"},\"colorscale\":[[0.0,\"#0d0887\"],[0.1111111111111111,\"#46039f\"],[0.2222222222222222,\"#7201a8\"],[0.3333333333333333,\"#9c179e\"],[0.4444444444444444,\"#bd3786\"],[0.5555555555555556,\"#d8576b\"],[0.6666666666666666,\"#ed7953\"],[0.7777777777777778,\"#fb9f3a\"],[0.8888888888888888,\"#fdca26\"],[1.0,\"#f0f921\"]]}],\"heatmap\":[{\"type\":\"heatmap\",\"colorbar\":{\"outlinewidth\":0,\"ticks\":\"\"},\"colorscale\":[[0.0,\"#0d0887\"],[0.1111111111111111,\"#46039f\"],[0.2222222222222222,\"#7201a8\"],[0.3333333333333333,\"#9c179e\"],[0.4444444444444444,\"#bd3786\"],[0.5555555555555556,\"#d8576b\"],[0.6666666666666666,\"#ed7953\"],[0.7777777777777778,\"#fb9f3a\"],[0.8888888888888888,\"#fdca26\"],[1.0,\"#f0f921\"]]}],\"heatmapgl\":[{\"type\":\"heatmapgl\",\"colorbar\":{\"outlinewidth\":0,\"ticks\":\"\"},\"colorscale\":[[0.0,\"#0d0887\"],[0.1111111111111111,\"#46039f\"],[0.2222222222222222,\"#7201a8\"],[0.3333333333333333,\"#9c179e\"],[0.4444444444444444,\"#bd3786\"],[0.5555555555555556,\"#d8576b\"],[0.6666666666666666,\"#ed7953\"],[0.7777777777777778,\"#fb9f3a\"],[0.8888888888888888,\"#fdca26\"],[1.0,\"#f0f921\"]]}],\"contourcarpet\":[{\"type\":\"contourcarpet\",\"colorbar\":{\"outlinewidth\":0,\"ticks\":\"\"}}],\"contour\":[{\"type\":\"contour\",\"colorbar\":{\"outlinewidth\":0,\"ticks\":\"\"},\"colorscale\":[[0.0,\"#0d0887\"],[0.1111111111111111,\"#46039f\"],[0.2222222222222222,\"#7201a8\"],[0.3333333333333333,\"#9c179e\"],[0.4444444444444444,\"#bd3786\"],[0.5555555555555556,\"#d8576b\"],[0.6666666666666666,\"#ed7953\"],[0.7777777777777778,\"#fb9f3a\"],[0.8888888888888888,\"#fdca26\"],[1.0,\"#f0f921\"]]}],\"surface\":[{\"type\":\"surface\",\"colorbar\":{\"outlinewidth\":0,\"ticks\":\"\"},\"colorscale\":[[0.0,\"#0d0887\"],[0.1111111111111111,\"#46039f\"],[0.2222222222222222,\"#7201a8\"],[0.3333333333333333,\"#9c179e\"],[0.4444444444444444,\"#bd3786\"],[0.5555555555555556,\"#d8576b\"],[0.6666666666666666,\"#ed7953\"],[0.7777777777777778,\"#fb9f3a\"],[0.8888888888888888,\"#fdca26\"],[1.0,\"#f0f921\"]]}],\"mesh3d\":[{\"type\":\"mesh3d\",\"colorbar\":{\"outlinewidth\":0,\"ticks\":\"\"}}],\"scatter\":[{\"fillpattern\":{\"fillmode\":\"overlay\",\"size\":10,\"solidity\":0.2},\"type\":\"scatter\"}],\"parcoords\":[{\"type\":\"parcoords\",\"line\":{\"colorbar\":{\"outlinewidth\":0,\"ticks\":\"\"}}}],\"scatterpolargl\":[{\"type\":\"scatterpolargl\",\"marker\":{\"colorbar\":{\"outlinewidth\":0,\"ticks\":\"\"}}}],\"bar\":[{\"error_x\":{\"color\":\"#2a3f5f\"},\"error_y\":{\"color\":\"#2a3f5f\"},\"marker\":{\"line\":{\"color\":\"#E5ECF6\",\"width\":0.5},\"pattern\":{\"fillmode\":\"overlay\",\"size\":10,\"solidity\":0.2}},\"type\":\"bar\"}],\"scattergeo\":[{\"type\":\"scattergeo\",\"marker\":{\"colorbar\":{\"outlinewidth\":0,\"ticks\":\"\"}}}],\"scatterpolar\":[{\"type\":\"scatterpolar\",\"marker\":{\"colorbar\":{\"outlinewidth\":0,\"ticks\":\"\"}}}],\"histogram\":[{\"marker\":{\"pattern\":{\"fillmode\":\"overlay\",\"size\":10,\"solidity\":0.2}},\"type\":\"histogram\"}],\"scattergl\":[{\"type\":\"scattergl\",\"marker\":{\"colorbar\":{\"outlinewidth\":0,\"ticks\":\"\"}}}],\"scatter3d\":[{\"type\":\"scatter3d\",\"line\":{\"colorbar\":{\"outlinewidth\":0,\"ticks\":\"\"}},\"marker\":{\"colorbar\":{\"outlinewidth\":0,\"ticks\":\"\"}}}],\"scattermapbox\":[{\"type\":\"scattermapbox\",\"marker\":{\"colorbar\":{\"outlinewidth\":0,\"ticks\":\"\"}}}],\"scatterternary\":[{\"type\":\"scatterternary\",\"marker\":{\"colorbar\":{\"outlinewidth\":0,\"ticks\":\"\"}}}],\"scattercarpet\":[{\"type\":\"scattercarpet\",\"marker\":{\"colorbar\":{\"outlinewidth\":0,\"ticks\":\"\"}}}],\"carpet\":[{\"aaxis\":{\"endlinecolor\":\"#2a3f5f\",\"gridcolor\":\"white\",\"linecolor\":\"white\",\"minorgridcolor\":\"white\",\"startlinecolor\":\"#2a3f5f\"},\"baxis\":{\"endlinecolor\":\"#2a3f5f\",\"gridcolor\":\"white\",\"linecolor\":\"white\",\"minorgridcolor\":\"white\",\"startlinecolor\":\"#2a3f5f\"},\"type\":\"carpet\"}],\"table\":[{\"cells\":{\"fill\":{\"color\":\"#EBF0F8\"},\"line\":{\"color\":\"white\"}},\"header\":{\"fill\":{\"color\":\"#C8D4E3\"},\"line\":{\"color\":\"white\"}},\"type\":\"table\"}],\"barpolar\":[{\"marker\":{\"line\":{\"color\":\"#E5ECF6\",\"width\":0.5},\"pattern\":{\"fillmode\":\"overlay\",\"size\":10,\"solidity\":0.2}},\"type\":\"barpolar\"}],\"pie\":[{\"automargin\":true,\"type\":\"pie\"}]},\"layout\":{\"autotypenumbers\":\"strict\",\"colorway\":[\"#636efa\",\"#EF553B\",\"#00cc96\",\"#ab63fa\",\"#FFA15A\",\"#19d3f3\",\"#FF6692\",\"#B6E880\",\"#FF97FF\",\"#FECB52\"],\"font\":{\"color\":\"#2a3f5f\"},\"hovermode\":\"closest\",\"hoverlabel\":{\"align\":\"left\"},\"paper_bgcolor\":\"white\",\"plot_bgcolor\":\"#E5ECF6\",\"polar\":{\"bgcolor\":\"#E5ECF6\",\"angularaxis\":{\"gridcolor\":\"white\",\"linecolor\":\"white\",\"ticks\":\"\"},\"radialaxis\":{\"gridcolor\":\"white\",\"linecolor\":\"white\",\"ticks\":\"\"}},\"ternary\":{\"bgcolor\":\"#E5ECF6\",\"aaxis\":{\"gridcolor\":\"white\",\"linecolor\":\"white\",\"ticks\":\"\"},\"baxis\":{\"gridcolor\":\"white\",\"linecolor\":\"white\",\"ticks\":\"\"},\"caxis\":{\"gridcolor\":\"white\",\"linecolor\":\"white\",\"ticks\":\"\"}},\"coloraxis\":{\"colorbar\":{\"outlinewidth\":0,\"ticks\":\"\"}},\"colorscale\":{\"sequential\":[[0.0,\"#0d0887\"],[0.1111111111111111,\"#46039f\"],[0.2222222222222222,\"#7201a8\"],[0.3333333333333333,\"#9c179e\"],[0.4444444444444444,\"#bd3786\"],[0.5555555555555556,\"#d8576b\"],[0.6666666666666666,\"#ed7953\"],[0.7777777777777778,\"#fb9f3a\"],[0.8888888888888888,\"#fdca26\"],[1.0,\"#f0f921\"]],\"sequentialminus\":[[0.0,\"#0d0887\"],[0.1111111111111111,\"#46039f\"],[0.2222222222222222,\"#7201a8\"],[0.3333333333333333,\"#9c179e\"],[0.4444444444444444,\"#bd3786\"],[0.5555555555555556,\"#d8576b\"],[0.6666666666666666,\"#ed7953\"],[0.7777777777777778,\"#fb9f3a\"],[0.8888888888888888,\"#fdca26\"],[1.0,\"#f0f921\"]],\"diverging\":[[0,\"#8e0152\"],[0.1,\"#c51b7d\"],[0.2,\"#de77ae\"],[0.3,\"#f1b6da\"],[0.4,\"#fde0ef\"],[0.5,\"#f7f7f7\"],[0.6,\"#e6f5d0\"],[0.7,\"#b8e186\"],[0.8,\"#7fbc41\"],[0.9,\"#4d9221\"],[1,\"#276419\"]]},\"xaxis\":{\"gridcolor\":\"white\",\"linecolor\":\"white\",\"ticks\":\"\",\"title\":{\"standoff\":15},\"zerolinecolor\":\"white\",\"automargin\":true,\"zerolinewidth\":2},\"yaxis\":{\"gridcolor\":\"white\",\"linecolor\":\"white\",\"ticks\":\"\",\"title\":{\"standoff\":15},\"zerolinecolor\":\"white\",\"automargin\":true,\"zerolinewidth\":2},\"scene\":{\"xaxis\":{\"backgroundcolor\":\"#E5ECF6\",\"gridcolor\":\"white\",\"linecolor\":\"white\",\"showbackground\":true,\"ticks\":\"\",\"zerolinecolor\":\"white\",\"gridwidth\":2},\"yaxis\":{\"backgroundcolor\":\"#E5ECF6\",\"gridcolor\":\"white\",\"linecolor\":\"white\",\"showbackground\":true,\"ticks\":\"\",\"zerolinecolor\":\"white\",\"gridwidth\":2},\"zaxis\":{\"backgroundcolor\":\"#E5ECF6\",\"gridcolor\":\"white\",\"linecolor\":\"white\",\"showbackground\":true,\"ticks\":\"\",\"zerolinecolor\":\"white\",\"gridwidth\":2}},\"shapedefaults\":{\"line\":{\"color\":\"#2a3f5f\"}},\"annotationdefaults\":{\"arrowcolor\":\"#2a3f5f\",\"arrowhead\":0,\"arrowwidth\":1},\"geo\":{\"bgcolor\":\"white\",\"landcolor\":\"#E5ECF6\",\"subunitcolor\":\"white\",\"showland\":true,\"showlakes\":true,\"lakecolor\":\"white\"},\"title\":{\"x\":0.05},\"mapbox\":{\"style\":\"light\"}}},\"xaxis\":{\"anchor\":\"y\",\"domain\":[0.0,1.0],\"title\":{\"text\":\"Countries and areas\"}},\"yaxis\":{\"anchor\":\"x\",\"domain\":[0.0,1.0],\"title\":{\"text\":\"Rate\"}},\"legend\":{\"title\":{\"text\":\"Gender\"},\"tracegroupgap\":0},\"title\":{\"text\":\"Out-of-School Rates by Gender (Primary Age)\"},\"barmode\":\"relative\"},                        {\"responsive\": true}                    ).then(function(){\n",
       "                            \n",
       "var gd = document.getElementById('aec49652-fabc-41cf-8380-72b5e4062269');\n",
       "var x = new MutationObserver(function (mutations, observer) {{\n",
       "        var display = window.getComputedStyle(gd).display;\n",
       "        if (!display || display === 'none') {{\n",
       "            console.log([gd, 'removed!']);\n",
       "            Plotly.purge(gd);\n",
       "            observer.disconnect();\n",
       "        }}\n",
       "}});\n",
       "\n",
       "// Listen for the removal of the full notebook cells\n",
       "var notebookContainer = gd.closest('#notebook-container');\n",
       "if (notebookContainer) {{\n",
       "    x.observe(notebookContainer, {childList: true});\n",
       "}}\n",
       "\n",
       "// Listen for the clearing of the current output cell\n",
       "var outputEl = gd.closest('.output');\n",
       "if (outputEl) {{\n",
       "    x.observe(outputEl, {childList: true});\n",
       "}}\n",
       "\n",
       "                        })                };                });            </script>        </div>"
      ]
     },
     "metadata": {},
     "output_type": "display_data"
    },
    {
     "data": {
      "application/vnd.plotly.v1+json": {
       "config": {
        "plotlyServerURL": "https://plot.ly"
       },
       "data": [
        {
         "alignmentgroup": "True",
         "hoverinfo": "all",
         "hovertemplate": "Country: %{x}<br>Rate: %{y}",
         "legendgroup": "OOSR_Lower_Secondary_Age_Male",
         "marker": {
          "color": "#636efa",
          "pattern": {
           "shape": ""
          }
         },
         "name": "OOSR_Lower_Secondary_Age_Male",
         "offsetgroup": "OOSR_Lower_Secondary_Age_Male",
         "orientation": "v",
         "showlegend": true,
         "textposition": "auto",
         "type": "bar",
         "x": [
          "Afghanistan",
          "Albania",
          "Algeria",
          "Andorra",
          "Angola",
          "Anguilla",
          "Antigua and Barbuda",
          "Argentina",
          "Armenia",
          "Australia",
          "Austria",
          "Azerbaijan",
          "The Bahamas",
          "Bahrain",
          "Bangladesh",
          "Barbados",
          "Belarus",
          "Belgium",
          "Belize",
          "Benin",
          "Bhutan",
          "Bolivia",
          "Bosnia and Herzegovina",
          "Botswana",
          "Brazil",
          "British Virgin Islands",
          "Brunei",
          "Bulgaria",
          "Burkina Faso",
          "Burundi",
          "Cape Verde",
          "Cambodia",
          "Cameroon",
          "Canada",
          "Central African Republic",
          "Chad",
          "Chile",
          "China",
          "Colombia",
          "Comoros",
          "Republic of the Congo",
          "Cook Islands",
          "Costa Rica",
          "Ivory Coast",
          "Croatia",
          "Cuba",
          "Cyprus",
          "Czech Republic",
          "North Korea",
          "Democratic Republic of the Congo",
          "Denmark",
          "Djibouti",
          "Dominica",
          "Dominican Republic",
          "Ecuador",
          "Egypt",
          "El Salvador",
          "Equatorial Guinea",
          "Eritrea",
          "Estonia",
          "Eswatini",
          "Ethiopia",
          "Fiji",
          "Finland",
          "France",
          "Gabon",
          "The Gambia",
          "Georgia",
          "Germany",
          "Ghana",
          "Greece",
          "Grenada",
          "Guatemala",
          "Guinea",
          "Guinea0Bissau",
          "Guyana",
          "Haiti",
          "Vatican City",
          "Honduras",
          "Hungary",
          "Iceland",
          "India",
          "Indonesia",
          "Iran",
          "Iraq",
          "Republic of Ireland",
          "Israel",
          "Italy",
          "Jamaica",
          "Japan",
          "Jordan",
          "Kazakhstan",
          "Kenya",
          "Kiribati",
          "Kuwait",
          "Kyrgyzstan",
          "Laos",
          "Latvia",
          "Lebanon",
          "Lesotho",
          "Liberia",
          "Libya",
          "Liechtenstein",
          "Lithuania",
          "Luxembourg",
          "Madagascar",
          "Malawi",
          "Malaysia",
          "Maldives",
          "Mali",
          "Malta",
          "Marshall Islands",
          "Mauritania",
          "Mauritius",
          "Mexico",
          "Federated States of Micronesia",
          "Monaco",
          "Mongolia",
          "Montenegro",
          "Montserrat",
          "Morocco",
          "Mozambique",
          "Myanmar",
          "Namibia",
          "Nauru",
          "Nepal",
          "Netherlands",
          "New Zealand",
          "Nicaragua",
          "Niger",
          "Nigeria",
          "Niue",
          "North Macedonia",
          "Norway",
          "Oman",
          "Pakistan",
          "Palau",
          "Panama",
          "Papua New Guinea",
          "Paraguay",
          "Peru",
          "Philippines",
          "Poland",
          "Portugal",
          "Qatar",
          "South Korea",
          "Moldova",
          "Romania",
          "Russia",
          "Rwanda",
          "Saint Kitts and Nevis",
          "Saint Lucia",
          "Saint Vincent and the Grenadines",
          "Samoa",
          "San Marino",
          "Sï¿½ï¿½ï¿½ï¿½ï¿½ï¿½ï¿½ï¿",
          "Saudi Arabia",
          "Senegal",
          "Serbia",
          "Seychelles",
          "Sierra Leone",
          "Singapore",
          "Slovakia",
          "Slovenia",
          "Solomon Islands",
          "Somalia",
          "South Africa",
          "South Sudan",
          "Spain",
          "Sri Lanka",
          "Palestinian National Authority",
          "Sudan",
          "Suriname",
          "Sweden",
          "Switzerland",
          "Syria",
          "Tajikistan",
          "Thailand",
          "East Timor",
          "Togo",
          "Tokelau",
          "Tonga",
          "Trinidad and Tobago",
          "Tunisia",
          "Turkey",
          "Turkmenistan",
          "Turks and Caicos Islands",
          "Tuvalu",
          "Uganda",
          "Ukraine",
          "United Arab Emirates",
          "United Kingdom",
          "Tanzania",
          "United States",
          "Uruguay",
          "Uzbekistan",
          "Vanuatu",
          "Venezuela",
          "Vietnam",
          "Yemen",
          "Zambia",
          "Zimbabwe"
         ],
         "xaxis": "x",
         "y": [
          0,
          6,
          0,
          0,
          0,
          0,
          1,
          0,
          11,
          2,
          1,
          0,
          23,
          7,
          0,
          7,
          1,
          1,
          9,
          27,
          18,
          13,
          0,
          0,
          2,
          8,
          0,
          12,
          48,
          36,
          14,
          12,
          33,
          0,
          0,
          55,
          5,
          0,
          6,
          20,
          0,
          4,
          3,
          41,
          3,
          10,
          2,
          1,
          0,
          0,
          0,
          48,
          3,
          6,
          6,
          3,
          17,
          0,
          32,
          2,
          3,
          45,
          0,
          1,
          1,
          0,
          0,
          1,
          6,
          13,
          3,
          0,
          30,
          43,
          0,
          0,
          0,
          0,
          44,
          3,
          1,
          18,
          19,
          3,
          0,
          0,
          0,
          2,
          19,
          0,
          29,
          0,
          0,
          0,
          9,
          2,
          27,
          1,
          0,
          21,
          17,
          0,
          1,
          0,
          4,
          31,
          19,
          15,
          0,
          49,
          2,
          33,
          31,
          6,
          9,
          15,
          0,
          8,
          8,
          0,
          8,
          39,
          22,
          0,
          13,
          4,
          3,
          1,
          0,
          61,
          0,
          0,
          0,
          0,
          0,
          0,
          0,
          13,
          10,
          0,
          3,
          14,
          1,
          0,
          1,
          3,
          15,
          9,
          2,
          6,
          0,
          9,
          1,
          0,
          0,
          12,
          0,
          0,
          2,
          0,
          49,
          0,
          5,
          2,
          0,
          0,
          16,
          49,
          1,
          0,
          4,
          33,
          19,
          0,
          1,
          37,
          0,
          0,
          12,
          15,
          0,
          6,
          0,
          0,
          6,
          0,
          22,
          27,
          0,
          4,
          2,
          2,
          0,
          3,
          1,
          0,
          2,
          15,
          0,
          23,
          0,
          0
         ],
         "yaxis": "y"
        },
        {
         "alignmentgroup": "True",
         "hoverinfo": "all",
         "hovertemplate": "Country: %{x}<br>Rate: %{y}",
         "legendgroup": "OOSR_Lower_Secondary_Age_Female",
         "marker": {
          "color": "#EF553B",
          "pattern": {
           "shape": ""
          }
         },
         "name": "OOSR_Lower_Secondary_Age_Female",
         "offsetgroup": "OOSR_Lower_Secondary_Age_Female",
         "orientation": "v",
         "showlegend": true,
         "textposition": "auto",
         "type": "bar",
         "x": [
          "Afghanistan",
          "Albania",
          "Algeria",
          "Andorra",
          "Angola",
          "Anguilla",
          "Antigua and Barbuda",
          "Argentina",
          "Armenia",
          "Australia",
          "Austria",
          "Azerbaijan",
          "The Bahamas",
          "Bahrain",
          "Bangladesh",
          "Barbados",
          "Belarus",
          "Belgium",
          "Belize",
          "Benin",
          "Bhutan",
          "Bolivia",
          "Bosnia and Herzegovina",
          "Botswana",
          "Brazil",
          "British Virgin Islands",
          "Brunei",
          "Bulgaria",
          "Burkina Faso",
          "Burundi",
          "Cape Verde",
          "Cambodia",
          "Cameroon",
          "Canada",
          "Central African Republic",
          "Chad",
          "Chile",
          "China",
          "Colombia",
          "Comoros",
          "Republic of the Congo",
          "Cook Islands",
          "Costa Rica",
          "Ivory Coast",
          "Croatia",
          "Cuba",
          "Cyprus",
          "Czech Republic",
          "North Korea",
          "Democratic Republic of the Congo",
          "Denmark",
          "Djibouti",
          "Dominica",
          "Dominican Republic",
          "Ecuador",
          "Egypt",
          "El Salvador",
          "Equatorial Guinea",
          "Eritrea",
          "Estonia",
          "Eswatini",
          "Ethiopia",
          "Fiji",
          "Finland",
          "France",
          "Gabon",
          "The Gambia",
          "Georgia",
          "Germany",
          "Ghana",
          "Greece",
          "Grenada",
          "Guatemala",
          "Guinea",
          "Guinea0Bissau",
          "Guyana",
          "Haiti",
          "Vatican City",
          "Honduras",
          "Hungary",
          "Iceland",
          "India",
          "Indonesia",
          "Iran",
          "Iraq",
          "Republic of Ireland",
          "Israel",
          "Italy",
          "Jamaica",
          "Japan",
          "Jordan",
          "Kazakhstan",
          "Kenya",
          "Kiribati",
          "Kuwait",
          "Kyrgyzstan",
          "Laos",
          "Latvia",
          "Lebanon",
          "Lesotho",
          "Liberia",
          "Libya",
          "Liechtenstein",
          "Lithuania",
          "Luxembourg",
          "Madagascar",
          "Malawi",
          "Malaysia",
          "Maldives",
          "Mali",
          "Malta",
          "Marshall Islands",
          "Mauritania",
          "Mauritius",
          "Mexico",
          "Federated States of Micronesia",
          "Monaco",
          "Mongolia",
          "Montenegro",
          "Montserrat",
          "Morocco",
          "Mozambique",
          "Myanmar",
          "Namibia",
          "Nauru",
          "Nepal",
          "Netherlands",
          "New Zealand",
          "Nicaragua",
          "Niger",
          "Nigeria",
          "Niue",
          "North Macedonia",
          "Norway",
          "Oman",
          "Pakistan",
          "Palau",
          "Panama",
          "Papua New Guinea",
          "Paraguay",
          "Peru",
          "Philippines",
          "Poland",
          "Portugal",
          "Qatar",
          "South Korea",
          "Moldova",
          "Romania",
          "Russia",
          "Rwanda",
          "Saint Kitts and Nevis",
          "Saint Lucia",
          "Saint Vincent and the Grenadines",
          "Samoa",
          "San Marino",
          "Sï¿½ï¿½ï¿½ï¿½ï¿½ï¿½ï¿½ï¿",
          "Saudi Arabia",
          "Senegal",
          "Serbia",
          "Seychelles",
          "Sierra Leone",
          "Singapore",
          "Slovakia",
          "Slovenia",
          "Solomon Islands",
          "Somalia",
          "South Africa",
          "South Sudan",
          "Spain",
          "Sri Lanka",
          "Palestinian National Authority",
          "Sudan",
          "Suriname",
          "Sweden",
          "Switzerland",
          "Syria",
          "Tajikistan",
          "Thailand",
          "East Timor",
          "Togo",
          "Tokelau",
          "Tonga",
          "Trinidad and Tobago",
          "Tunisia",
          "Turkey",
          "Turkmenistan",
          "Turks and Caicos Islands",
          "Tuvalu",
          "Uganda",
          "Ukraine",
          "United Arab Emirates",
          "United Kingdom",
          "Tanzania",
          "United States",
          "Uruguay",
          "Uzbekistan",
          "Vanuatu",
          "Venezuela",
          "Vietnam",
          "Yemen",
          "Zambia",
          "Zimbabwe"
         ],
         "xaxis": "x",
         "y": [
          0,
          1,
          0,
          0,
          0,
          0,
          2,
          0,
          9,
          3,
          0,
          0,
          21,
          0,
          0,
          3,
          1,
          1,
          11,
          43,
          6,
          14,
          0,
          0,
          3,
          7,
          0,
          13,
          44,
          31,
          13,
          14,
          40,
          0,
          0,
          70,
          6,
          0,
          5,
          18,
          0,
          6,
          1,
          48,
          1,
          10,
          2,
          2,
          0,
          0,
          1,
          48,
          1,
          6,
          3,
          2,
          17,
          0,
          40,
          0,
          3,
          49,
          0,
          0,
          1,
          0,
          0,
          2,
          4,
          8,
          5,
          0,
          35,
          60,
          0,
          0,
          0,
          0,
          31,
          3,
          0,
          12,
          14,
          6,
          0,
          0,
          0,
          2,
          17,
          0,
          30,
          0,
          0,
          0,
          4,
          3,
          28,
          1,
          0,
          13,
          26,
          0,
          7,
          0,
          5,
          29,
          18,
          12,
          0,
          56,
          1,
          29,
          25,
          4,
          7,
          10,
          0,
          7,
          7,
          0,
          11,
          47,
          20,
          0,
          4,
          1,
          2,
          1,
          0,
          69,
          0,
          0,
          0,
          1,
          0,
          0,
          0,
          12,
          19,
          0,
          3,
          7,
          3,
          0,
          9,
          3,
          16,
          9,
          1,
          2,
          0,
          10,
          2,
          0,
          0,
          7,
          3,
          0,
          2,
          0,
          49,
          1,
          5,
          1,
          0,
          0,
          13,
          63,
          1,
          0,
          1,
          35,
          11,
          0,
          1,
          39,
          0,
          0,
          9,
          28,
          0,
          4,
          0,
          0,
          7,
          0,
          17,
          32,
          0,
          3,
          3,
          2,
          0,
          1,
          0,
          2,
          4,
          13,
          0,
          34,
          0,
          0
         ],
         "yaxis": "y"
        }
       ],
       "layout": {
        "barmode": "relative",
        "legend": {
         "title": {
          "text": "Gender"
         },
         "tracegroupgap": 0
        },
        "template": {
         "data": {
          "bar": [
           {
            "error_x": {
             "color": "#2a3f5f"
            },
            "error_y": {
             "color": "#2a3f5f"
            },
            "marker": {
             "line": {
              "color": "#E5ECF6",
              "width": 0.5
             },
             "pattern": {
              "fillmode": "overlay",
              "size": 10,
              "solidity": 0.2
             }
            },
            "type": "bar"
           }
          ],
          "barpolar": [
           {
            "marker": {
             "line": {
              "color": "#E5ECF6",
              "width": 0.5
             },
             "pattern": {
              "fillmode": "overlay",
              "size": 10,
              "solidity": 0.2
             }
            },
            "type": "barpolar"
           }
          ],
          "carpet": [
           {
            "aaxis": {
             "endlinecolor": "#2a3f5f",
             "gridcolor": "white",
             "linecolor": "white",
             "minorgridcolor": "white",
             "startlinecolor": "#2a3f5f"
            },
            "baxis": {
             "endlinecolor": "#2a3f5f",
             "gridcolor": "white",
             "linecolor": "white",
             "minorgridcolor": "white",
             "startlinecolor": "#2a3f5f"
            },
            "type": "carpet"
           }
          ],
          "choropleth": [
           {
            "colorbar": {
             "outlinewidth": 0,
             "ticks": ""
            },
            "type": "choropleth"
           }
          ],
          "contour": [
           {
            "colorbar": {
             "outlinewidth": 0,
             "ticks": ""
            },
            "colorscale": [
             [
              0,
              "#0d0887"
             ],
             [
              0.1111111111111111,
              "#46039f"
             ],
             [
              0.2222222222222222,
              "#7201a8"
             ],
             [
              0.3333333333333333,
              "#9c179e"
             ],
             [
              0.4444444444444444,
              "#bd3786"
             ],
             [
              0.5555555555555556,
              "#d8576b"
             ],
             [
              0.6666666666666666,
              "#ed7953"
             ],
             [
              0.7777777777777778,
              "#fb9f3a"
             ],
             [
              0.8888888888888888,
              "#fdca26"
             ],
             [
              1,
              "#f0f921"
             ]
            ],
            "type": "contour"
           }
          ],
          "contourcarpet": [
           {
            "colorbar": {
             "outlinewidth": 0,
             "ticks": ""
            },
            "type": "contourcarpet"
           }
          ],
          "heatmap": [
           {
            "colorbar": {
             "outlinewidth": 0,
             "ticks": ""
            },
            "colorscale": [
             [
              0,
              "#0d0887"
             ],
             [
              0.1111111111111111,
              "#46039f"
             ],
             [
              0.2222222222222222,
              "#7201a8"
             ],
             [
              0.3333333333333333,
              "#9c179e"
             ],
             [
              0.4444444444444444,
              "#bd3786"
             ],
             [
              0.5555555555555556,
              "#d8576b"
             ],
             [
              0.6666666666666666,
              "#ed7953"
             ],
             [
              0.7777777777777778,
              "#fb9f3a"
             ],
             [
              0.8888888888888888,
              "#fdca26"
             ],
             [
              1,
              "#f0f921"
             ]
            ],
            "type": "heatmap"
           }
          ],
          "heatmapgl": [
           {
            "colorbar": {
             "outlinewidth": 0,
             "ticks": ""
            },
            "colorscale": [
             [
              0,
              "#0d0887"
             ],
             [
              0.1111111111111111,
              "#46039f"
             ],
             [
              0.2222222222222222,
              "#7201a8"
             ],
             [
              0.3333333333333333,
              "#9c179e"
             ],
             [
              0.4444444444444444,
              "#bd3786"
             ],
             [
              0.5555555555555556,
              "#d8576b"
             ],
             [
              0.6666666666666666,
              "#ed7953"
             ],
             [
              0.7777777777777778,
              "#fb9f3a"
             ],
             [
              0.8888888888888888,
              "#fdca26"
             ],
             [
              1,
              "#f0f921"
             ]
            ],
            "type": "heatmapgl"
           }
          ],
          "histogram": [
           {
            "marker": {
             "pattern": {
              "fillmode": "overlay",
              "size": 10,
              "solidity": 0.2
             }
            },
            "type": "histogram"
           }
          ],
          "histogram2d": [
           {
            "colorbar": {
             "outlinewidth": 0,
             "ticks": ""
            },
            "colorscale": [
             [
              0,
              "#0d0887"
             ],
             [
              0.1111111111111111,
              "#46039f"
             ],
             [
              0.2222222222222222,
              "#7201a8"
             ],
             [
              0.3333333333333333,
              "#9c179e"
             ],
             [
              0.4444444444444444,
              "#bd3786"
             ],
             [
              0.5555555555555556,
              "#d8576b"
             ],
             [
              0.6666666666666666,
              "#ed7953"
             ],
             [
              0.7777777777777778,
              "#fb9f3a"
             ],
             [
              0.8888888888888888,
              "#fdca26"
             ],
             [
              1,
              "#f0f921"
             ]
            ],
            "type": "histogram2d"
           }
          ],
          "histogram2dcontour": [
           {
            "colorbar": {
             "outlinewidth": 0,
             "ticks": ""
            },
            "colorscale": [
             [
              0,
              "#0d0887"
             ],
             [
              0.1111111111111111,
              "#46039f"
             ],
             [
              0.2222222222222222,
              "#7201a8"
             ],
             [
              0.3333333333333333,
              "#9c179e"
             ],
             [
              0.4444444444444444,
              "#bd3786"
             ],
             [
              0.5555555555555556,
              "#d8576b"
             ],
             [
              0.6666666666666666,
              "#ed7953"
             ],
             [
              0.7777777777777778,
              "#fb9f3a"
             ],
             [
              0.8888888888888888,
              "#fdca26"
             ],
             [
              1,
              "#f0f921"
             ]
            ],
            "type": "histogram2dcontour"
           }
          ],
          "mesh3d": [
           {
            "colorbar": {
             "outlinewidth": 0,
             "ticks": ""
            },
            "type": "mesh3d"
           }
          ],
          "parcoords": [
           {
            "line": {
             "colorbar": {
              "outlinewidth": 0,
              "ticks": ""
             }
            },
            "type": "parcoords"
           }
          ],
          "pie": [
           {
            "automargin": true,
            "type": "pie"
           }
          ],
          "scatter": [
           {
            "fillpattern": {
             "fillmode": "overlay",
             "size": 10,
             "solidity": 0.2
            },
            "type": "scatter"
           }
          ],
          "scatter3d": [
           {
            "line": {
             "colorbar": {
              "outlinewidth": 0,
              "ticks": ""
             }
            },
            "marker": {
             "colorbar": {
              "outlinewidth": 0,
              "ticks": ""
             }
            },
            "type": "scatter3d"
           }
          ],
          "scattercarpet": [
           {
            "marker": {
             "colorbar": {
              "outlinewidth": 0,
              "ticks": ""
             }
            },
            "type": "scattercarpet"
           }
          ],
          "scattergeo": [
           {
            "marker": {
             "colorbar": {
              "outlinewidth": 0,
              "ticks": ""
             }
            },
            "type": "scattergeo"
           }
          ],
          "scattergl": [
           {
            "marker": {
             "colorbar": {
              "outlinewidth": 0,
              "ticks": ""
             }
            },
            "type": "scattergl"
           }
          ],
          "scattermapbox": [
           {
            "marker": {
             "colorbar": {
              "outlinewidth": 0,
              "ticks": ""
             }
            },
            "type": "scattermapbox"
           }
          ],
          "scatterpolar": [
           {
            "marker": {
             "colorbar": {
              "outlinewidth": 0,
              "ticks": ""
             }
            },
            "type": "scatterpolar"
           }
          ],
          "scatterpolargl": [
           {
            "marker": {
             "colorbar": {
              "outlinewidth": 0,
              "ticks": ""
             }
            },
            "type": "scatterpolargl"
           }
          ],
          "scatterternary": [
           {
            "marker": {
             "colorbar": {
              "outlinewidth": 0,
              "ticks": ""
             }
            },
            "type": "scatterternary"
           }
          ],
          "surface": [
           {
            "colorbar": {
             "outlinewidth": 0,
             "ticks": ""
            },
            "colorscale": [
             [
              0,
              "#0d0887"
             ],
             [
              0.1111111111111111,
              "#46039f"
             ],
             [
              0.2222222222222222,
              "#7201a8"
             ],
             [
              0.3333333333333333,
              "#9c179e"
             ],
             [
              0.4444444444444444,
              "#bd3786"
             ],
             [
              0.5555555555555556,
              "#d8576b"
             ],
             [
              0.6666666666666666,
              "#ed7953"
             ],
             [
              0.7777777777777778,
              "#fb9f3a"
             ],
             [
              0.8888888888888888,
              "#fdca26"
             ],
             [
              1,
              "#f0f921"
             ]
            ],
            "type": "surface"
           }
          ],
          "table": [
           {
            "cells": {
             "fill": {
              "color": "#EBF0F8"
             },
             "line": {
              "color": "white"
             }
            },
            "header": {
             "fill": {
              "color": "#C8D4E3"
             },
             "line": {
              "color": "white"
             }
            },
            "type": "table"
           }
          ]
         },
         "layout": {
          "annotationdefaults": {
           "arrowcolor": "#2a3f5f",
           "arrowhead": 0,
           "arrowwidth": 1
          },
          "autotypenumbers": "strict",
          "coloraxis": {
           "colorbar": {
            "outlinewidth": 0,
            "ticks": ""
           }
          },
          "colorscale": {
           "diverging": [
            [
             0,
             "#8e0152"
            ],
            [
             0.1,
             "#c51b7d"
            ],
            [
             0.2,
             "#de77ae"
            ],
            [
             0.3,
             "#f1b6da"
            ],
            [
             0.4,
             "#fde0ef"
            ],
            [
             0.5,
             "#f7f7f7"
            ],
            [
             0.6,
             "#e6f5d0"
            ],
            [
             0.7,
             "#b8e186"
            ],
            [
             0.8,
             "#7fbc41"
            ],
            [
             0.9,
             "#4d9221"
            ],
            [
             1,
             "#276419"
            ]
           ],
           "sequential": [
            [
             0,
             "#0d0887"
            ],
            [
             0.1111111111111111,
             "#46039f"
            ],
            [
             0.2222222222222222,
             "#7201a8"
            ],
            [
             0.3333333333333333,
             "#9c179e"
            ],
            [
             0.4444444444444444,
             "#bd3786"
            ],
            [
             0.5555555555555556,
             "#d8576b"
            ],
            [
             0.6666666666666666,
             "#ed7953"
            ],
            [
             0.7777777777777778,
             "#fb9f3a"
            ],
            [
             0.8888888888888888,
             "#fdca26"
            ],
            [
             1,
             "#f0f921"
            ]
           ],
           "sequentialminus": [
            [
             0,
             "#0d0887"
            ],
            [
             0.1111111111111111,
             "#46039f"
            ],
            [
             0.2222222222222222,
             "#7201a8"
            ],
            [
             0.3333333333333333,
             "#9c179e"
            ],
            [
             0.4444444444444444,
             "#bd3786"
            ],
            [
             0.5555555555555556,
             "#d8576b"
            ],
            [
             0.6666666666666666,
             "#ed7953"
            ],
            [
             0.7777777777777778,
             "#fb9f3a"
            ],
            [
             0.8888888888888888,
             "#fdca26"
            ],
            [
             1,
             "#f0f921"
            ]
           ]
          },
          "colorway": [
           "#636efa",
           "#EF553B",
           "#00cc96",
           "#ab63fa",
           "#FFA15A",
           "#19d3f3",
           "#FF6692",
           "#B6E880",
           "#FF97FF",
           "#FECB52"
          ],
          "font": {
           "color": "#2a3f5f"
          },
          "geo": {
           "bgcolor": "white",
           "lakecolor": "white",
           "landcolor": "#E5ECF6",
           "showlakes": true,
           "showland": true,
           "subunitcolor": "white"
          },
          "hoverlabel": {
           "align": "left"
          },
          "hovermode": "closest",
          "mapbox": {
           "style": "light"
          },
          "paper_bgcolor": "white",
          "plot_bgcolor": "#E5ECF6",
          "polar": {
           "angularaxis": {
            "gridcolor": "white",
            "linecolor": "white",
            "ticks": ""
           },
           "bgcolor": "#E5ECF6",
           "radialaxis": {
            "gridcolor": "white",
            "linecolor": "white",
            "ticks": ""
           }
          },
          "scene": {
           "xaxis": {
            "backgroundcolor": "#E5ECF6",
            "gridcolor": "white",
            "gridwidth": 2,
            "linecolor": "white",
            "showbackground": true,
            "ticks": "",
            "zerolinecolor": "white"
           },
           "yaxis": {
            "backgroundcolor": "#E5ECF6",
            "gridcolor": "white",
            "gridwidth": 2,
            "linecolor": "white",
            "showbackground": true,
            "ticks": "",
            "zerolinecolor": "white"
           },
           "zaxis": {
            "backgroundcolor": "#E5ECF6",
            "gridcolor": "white",
            "gridwidth": 2,
            "linecolor": "white",
            "showbackground": true,
            "ticks": "",
            "zerolinecolor": "white"
           }
          },
          "shapedefaults": {
           "line": {
            "color": "#2a3f5f"
           }
          },
          "ternary": {
           "aaxis": {
            "gridcolor": "white",
            "linecolor": "white",
            "ticks": ""
           },
           "baxis": {
            "gridcolor": "white",
            "linecolor": "white",
            "ticks": ""
           },
           "bgcolor": "#E5ECF6",
           "caxis": {
            "gridcolor": "white",
            "linecolor": "white",
            "ticks": ""
           }
          },
          "title": {
           "x": 0.05
          },
          "xaxis": {
           "automargin": true,
           "gridcolor": "white",
           "linecolor": "white",
           "ticks": "",
           "title": {
            "standoff": 15
           },
           "zerolinecolor": "white",
           "zerolinewidth": 2
          },
          "yaxis": {
           "automargin": true,
           "gridcolor": "white",
           "linecolor": "white",
           "ticks": "",
           "title": {
            "standoff": 15
           },
           "zerolinecolor": "white",
           "zerolinewidth": 2
          }
         }
        },
        "title": {
         "text": "Out-of-School Rates by Gender (Lower_Secondary Age)"
        },
        "xaxis": {
         "anchor": "y",
         "domain": [
          0,
          1
         ],
         "title": {
          "text": "Countries and areas"
         }
        },
        "yaxis": {
         "anchor": "x",
         "domain": [
          0,
          1
         ],
         "title": {
          "text": "Rate"
         }
        }
       }
      },
      "text/html": [
       "<div>                            <div id=\"4f8a1491-133c-4fce-a30e-8fdd0837f5be\" class=\"plotly-graph-div\" style=\"height:525px; width:100%;\"></div>            <script type=\"text/javascript\">                require([\"plotly\"], function(Plotly) {                    window.PLOTLYENV=window.PLOTLYENV || {};                                    if (document.getElementById(\"4f8a1491-133c-4fce-a30e-8fdd0837f5be\")) {                    Plotly.newPlot(                        \"4f8a1491-133c-4fce-a30e-8fdd0837f5be\",                        [{\"alignmentgroup\":\"True\",\"hovertemplate\":\"Country: %{x}<br>Rate: %{y}\",\"legendgroup\":\"OOSR_Lower_Secondary_Age_Male\",\"marker\":{\"color\":\"#636efa\",\"pattern\":{\"shape\":\"\"}},\"name\":\"OOSR_Lower_Secondary_Age_Male\",\"offsetgroup\":\"OOSR_Lower_Secondary_Age_Male\",\"orientation\":\"v\",\"showlegend\":true,\"textposition\":\"auto\",\"x\":[\"Afghanistan\",\"Albania\",\"Algeria\",\"Andorra\",\"Angola\",\"Anguilla\",\"Antigua and Barbuda\",\"Argentina\",\"Armenia\",\"Australia\",\"Austria\",\"Azerbaijan\",\"The Bahamas\",\"Bahrain\",\"Bangladesh\",\"Barbados\",\"Belarus\",\"Belgium\",\"Belize\",\"Benin\",\"Bhutan\",\"Bolivia\",\"Bosnia and Herzegovina\",\"Botswana\",\"Brazil\",\"British Virgin Islands\",\"Brunei\",\"Bulgaria\",\"Burkina Faso\",\"Burundi\",\"Cape Verde\",\"Cambodia\",\"Cameroon\",\"Canada\",\"Central African Republic\",\"Chad\",\"Chile\",\"China\",\"Colombia\",\"Comoros\",\"Republic of the Congo\",\"Cook Islands\",\"Costa Rica\",\"Ivory Coast\",\"Croatia\",\"Cuba\",\"Cyprus\",\"Czech Republic\",\"North Korea\",\"Democratic Republic of the Congo\",\"Denmark\",\"Djibouti\",\"Dominica\",\"Dominican Republic\",\"Ecuador\",\"Egypt\",\"El Salvador\",\"Equatorial Guinea\",\"Eritrea\",\"Estonia\",\"Eswatini\",\"Ethiopia\",\"Fiji\",\"Finland\",\"France\",\"Gabon\",\"The Gambia\",\"Georgia\",\"Germany\",\"Ghana\",\"Greece\",\"Grenada\",\"Guatemala\",\"Guinea\",\"Guinea0Bissau\",\"Guyana\",\"Haiti\",\"Vatican City\",\"Honduras\",\"Hungary\",\"Iceland\",\"India\",\"Indonesia\",\"Iran\",\"Iraq\",\"Republic of Ireland\",\"Israel\",\"Italy\",\"Jamaica\",\"Japan\",\"Jordan\",\"Kazakhstan\",\"Kenya\",\"Kiribati\",\"Kuwait\",\"Kyrgyzstan\",\"Laos\",\"Latvia\",\"Lebanon\",\"Lesotho\",\"Liberia\",\"Libya\",\"Liechtenstein\",\"Lithuania\",\"Luxembourg\",\"Madagascar\",\"Malawi\",\"Malaysia\",\"Maldives\",\"Mali\",\"Malta\",\"Marshall Islands\",\"Mauritania\",\"Mauritius\",\"Mexico\",\"Federated States of Micronesia\",\"Monaco\",\"Mongolia\",\"Montenegro\",\"Montserrat\",\"Morocco\",\"Mozambique\",\"Myanmar\",\"Namibia\",\"Nauru\",\"Nepal\",\"Netherlands\",\"New Zealand\",\"Nicaragua\",\"Niger\",\"Nigeria\",\"Niue\",\"North Macedonia\",\"Norway\",\"Oman\",\"Pakistan\",\"Palau\",\"Panama\",\"Papua New Guinea\",\"Paraguay\",\"Peru\",\"Philippines\",\"Poland\",\"Portugal\",\"Qatar\",\"South Korea\",\"Moldova\",\"Romania\",\"Russia\",\"Rwanda\",\"Saint Kitts and Nevis\",\"Saint Lucia\",\"Saint Vincent and the Grenadines\",\"Samoa\",\"San Marino\",\"S\\u00ef\\u00bf\\u00bd\\u00ef\\u00bf\\u00bd\\u00ef\\u00bf\\u00bd\\u00ef\\u00bf\\u00bd\\u00ef\\u00bf\\u00bd\\u00ef\\u00bf\\u00bd\\u00ef\\u00bf\\u00bd\\u00ef\\u00bf\",\"Saudi Arabia\",\"Senegal\",\"Serbia\",\"Seychelles\",\"Sierra Leone\",\"Singapore\",\"Slovakia\",\"Slovenia\",\"Solomon Islands\",\"Somalia\",\"South Africa\",\"South Sudan\",\"Spain\",\"Sri Lanka\",\"Palestinian National Authority\",\"Sudan\",\"Suriname\",\"Sweden\",\"Switzerland\",\"Syria\",\"Tajikistan\",\"Thailand\",\"East Timor\",\"Togo\",\"Tokelau\",\"Tonga\",\"Trinidad and Tobago\",\"Tunisia\",\"Turkey\",\"Turkmenistan\",\"Turks and Caicos Islands\",\"Tuvalu\",\"Uganda\",\"Ukraine\",\"United Arab Emirates\",\"United Kingdom\",\"Tanzania\",\"United States\",\"Uruguay\",\"Uzbekistan\",\"Vanuatu\",\"Venezuela\",\"Vietnam\",\"Yemen\",\"Zambia\",\"Zimbabwe\"],\"xaxis\":\"x\",\"y\":[0,6,0,0,0,0,1,0,11,2,1,0,23,7,0,7,1,1,9,27,18,13,0,0,2,8,0,12,48,36,14,12,33,0,0,55,5,0,6,20,0,4,3,41,3,10,2,1,0,0,0,48,3,6,6,3,17,0,32,2,3,45,0,1,1,0,0,1,6,13,3,0,30,43,0,0,0,0,44,3,1,18,19,3,0,0,0,2,19,0,29,0,0,0,9,2,27,1,0,21,17,0,1,0,4,31,19,15,0,49,2,33,31,6,9,15,0,8,8,0,8,39,22,0,13,4,3,1,0,61,0,0,0,0,0,0,0,13,10,0,3,14,1,0,1,3,15,9,2,6,0,9,1,0,0,12,0,0,2,0,49,0,5,2,0,0,16,49,1,0,4,33,19,0,1,37,0,0,12,15,0,6,0,0,6,0,22,27,0,4,2,2,0,3,1,0,2,15,0,23,0,0],\"yaxis\":\"y\",\"type\":\"bar\",\"hoverinfo\":\"all\"},{\"alignmentgroup\":\"True\",\"hovertemplate\":\"Country: %{x}<br>Rate: %{y}\",\"legendgroup\":\"OOSR_Lower_Secondary_Age_Female\",\"marker\":{\"color\":\"#EF553B\",\"pattern\":{\"shape\":\"\"}},\"name\":\"OOSR_Lower_Secondary_Age_Female\",\"offsetgroup\":\"OOSR_Lower_Secondary_Age_Female\",\"orientation\":\"v\",\"showlegend\":true,\"textposition\":\"auto\",\"x\":[\"Afghanistan\",\"Albania\",\"Algeria\",\"Andorra\",\"Angola\",\"Anguilla\",\"Antigua and Barbuda\",\"Argentina\",\"Armenia\",\"Australia\",\"Austria\",\"Azerbaijan\",\"The Bahamas\",\"Bahrain\",\"Bangladesh\",\"Barbados\",\"Belarus\",\"Belgium\",\"Belize\",\"Benin\",\"Bhutan\",\"Bolivia\",\"Bosnia and Herzegovina\",\"Botswana\",\"Brazil\",\"British Virgin Islands\",\"Brunei\",\"Bulgaria\",\"Burkina Faso\",\"Burundi\",\"Cape Verde\",\"Cambodia\",\"Cameroon\",\"Canada\",\"Central African Republic\",\"Chad\",\"Chile\",\"China\",\"Colombia\",\"Comoros\",\"Republic of the Congo\",\"Cook Islands\",\"Costa Rica\",\"Ivory Coast\",\"Croatia\",\"Cuba\",\"Cyprus\",\"Czech Republic\",\"North Korea\",\"Democratic Republic of the Congo\",\"Denmark\",\"Djibouti\",\"Dominica\",\"Dominican Republic\",\"Ecuador\",\"Egypt\",\"El Salvador\",\"Equatorial Guinea\",\"Eritrea\",\"Estonia\",\"Eswatini\",\"Ethiopia\",\"Fiji\",\"Finland\",\"France\",\"Gabon\",\"The Gambia\",\"Georgia\",\"Germany\",\"Ghana\",\"Greece\",\"Grenada\",\"Guatemala\",\"Guinea\",\"Guinea0Bissau\",\"Guyana\",\"Haiti\",\"Vatican City\",\"Honduras\",\"Hungary\",\"Iceland\",\"India\",\"Indonesia\",\"Iran\",\"Iraq\",\"Republic of Ireland\",\"Israel\",\"Italy\",\"Jamaica\",\"Japan\",\"Jordan\",\"Kazakhstan\",\"Kenya\",\"Kiribati\",\"Kuwait\",\"Kyrgyzstan\",\"Laos\",\"Latvia\",\"Lebanon\",\"Lesotho\",\"Liberia\",\"Libya\",\"Liechtenstein\",\"Lithuania\",\"Luxembourg\",\"Madagascar\",\"Malawi\",\"Malaysia\",\"Maldives\",\"Mali\",\"Malta\",\"Marshall Islands\",\"Mauritania\",\"Mauritius\",\"Mexico\",\"Federated States of Micronesia\",\"Monaco\",\"Mongolia\",\"Montenegro\",\"Montserrat\",\"Morocco\",\"Mozambique\",\"Myanmar\",\"Namibia\",\"Nauru\",\"Nepal\",\"Netherlands\",\"New Zealand\",\"Nicaragua\",\"Niger\",\"Nigeria\",\"Niue\",\"North Macedonia\",\"Norway\",\"Oman\",\"Pakistan\",\"Palau\",\"Panama\",\"Papua New Guinea\",\"Paraguay\",\"Peru\",\"Philippines\",\"Poland\",\"Portugal\",\"Qatar\",\"South Korea\",\"Moldova\",\"Romania\",\"Russia\",\"Rwanda\",\"Saint Kitts and Nevis\",\"Saint Lucia\",\"Saint Vincent and the Grenadines\",\"Samoa\",\"San Marino\",\"S\\u00ef\\u00bf\\u00bd\\u00ef\\u00bf\\u00bd\\u00ef\\u00bf\\u00bd\\u00ef\\u00bf\\u00bd\\u00ef\\u00bf\\u00bd\\u00ef\\u00bf\\u00bd\\u00ef\\u00bf\\u00bd\\u00ef\\u00bf\",\"Saudi Arabia\",\"Senegal\",\"Serbia\",\"Seychelles\",\"Sierra Leone\",\"Singapore\",\"Slovakia\",\"Slovenia\",\"Solomon Islands\",\"Somalia\",\"South Africa\",\"South Sudan\",\"Spain\",\"Sri Lanka\",\"Palestinian National Authority\",\"Sudan\",\"Suriname\",\"Sweden\",\"Switzerland\",\"Syria\",\"Tajikistan\",\"Thailand\",\"East Timor\",\"Togo\",\"Tokelau\",\"Tonga\",\"Trinidad and Tobago\",\"Tunisia\",\"Turkey\",\"Turkmenistan\",\"Turks and Caicos Islands\",\"Tuvalu\",\"Uganda\",\"Ukraine\",\"United Arab Emirates\",\"United Kingdom\",\"Tanzania\",\"United States\",\"Uruguay\",\"Uzbekistan\",\"Vanuatu\",\"Venezuela\",\"Vietnam\",\"Yemen\",\"Zambia\",\"Zimbabwe\"],\"xaxis\":\"x\",\"y\":[0,1,0,0,0,0,2,0,9,3,0,0,21,0,0,3,1,1,11,43,6,14,0,0,3,7,0,13,44,31,13,14,40,0,0,70,6,0,5,18,0,6,1,48,1,10,2,2,0,0,1,48,1,6,3,2,17,0,40,0,3,49,0,0,1,0,0,2,4,8,5,0,35,60,0,0,0,0,31,3,0,12,14,6,0,0,0,2,17,0,30,0,0,0,4,3,28,1,0,13,26,0,7,0,5,29,18,12,0,56,1,29,25,4,7,10,0,7,7,0,11,47,20,0,4,1,2,1,0,69,0,0,0,1,0,0,0,12,19,0,3,7,3,0,9,3,16,9,1,2,0,10,2,0,0,7,3,0,2,0,49,1,5,1,0,0,13,63,1,0,1,35,11,0,1,39,0,0,9,28,0,4,0,0,7,0,17,32,0,3,3,2,0,1,0,2,4,13,0,34,0,0],\"yaxis\":\"y\",\"type\":\"bar\",\"hoverinfo\":\"all\"}],                        {\"template\":{\"data\":{\"histogram2dcontour\":[{\"type\":\"histogram2dcontour\",\"colorbar\":{\"outlinewidth\":0,\"ticks\":\"\"},\"colorscale\":[[0.0,\"#0d0887\"],[0.1111111111111111,\"#46039f\"],[0.2222222222222222,\"#7201a8\"],[0.3333333333333333,\"#9c179e\"],[0.4444444444444444,\"#bd3786\"],[0.5555555555555556,\"#d8576b\"],[0.6666666666666666,\"#ed7953\"],[0.7777777777777778,\"#fb9f3a\"],[0.8888888888888888,\"#fdca26\"],[1.0,\"#f0f921\"]]}],\"choropleth\":[{\"type\":\"choropleth\",\"colorbar\":{\"outlinewidth\":0,\"ticks\":\"\"}}],\"histogram2d\":[{\"type\":\"histogram2d\",\"colorbar\":{\"outlinewidth\":0,\"ticks\":\"\"},\"colorscale\":[[0.0,\"#0d0887\"],[0.1111111111111111,\"#46039f\"],[0.2222222222222222,\"#7201a8\"],[0.3333333333333333,\"#9c179e\"],[0.4444444444444444,\"#bd3786\"],[0.5555555555555556,\"#d8576b\"],[0.6666666666666666,\"#ed7953\"],[0.7777777777777778,\"#fb9f3a\"],[0.8888888888888888,\"#fdca26\"],[1.0,\"#f0f921\"]]}],\"heatmap\":[{\"type\":\"heatmap\",\"colorbar\":{\"outlinewidth\":0,\"ticks\":\"\"},\"colorscale\":[[0.0,\"#0d0887\"],[0.1111111111111111,\"#46039f\"],[0.2222222222222222,\"#7201a8\"],[0.3333333333333333,\"#9c179e\"],[0.4444444444444444,\"#bd3786\"],[0.5555555555555556,\"#d8576b\"],[0.6666666666666666,\"#ed7953\"],[0.7777777777777778,\"#fb9f3a\"],[0.8888888888888888,\"#fdca26\"],[1.0,\"#f0f921\"]]}],\"heatmapgl\":[{\"type\":\"heatmapgl\",\"colorbar\":{\"outlinewidth\":0,\"ticks\":\"\"},\"colorscale\":[[0.0,\"#0d0887\"],[0.1111111111111111,\"#46039f\"],[0.2222222222222222,\"#7201a8\"],[0.3333333333333333,\"#9c179e\"],[0.4444444444444444,\"#bd3786\"],[0.5555555555555556,\"#d8576b\"],[0.6666666666666666,\"#ed7953\"],[0.7777777777777778,\"#fb9f3a\"],[0.8888888888888888,\"#fdca26\"],[1.0,\"#f0f921\"]]}],\"contourcarpet\":[{\"type\":\"contourcarpet\",\"colorbar\":{\"outlinewidth\":0,\"ticks\":\"\"}}],\"contour\":[{\"type\":\"contour\",\"colorbar\":{\"outlinewidth\":0,\"ticks\":\"\"},\"colorscale\":[[0.0,\"#0d0887\"],[0.1111111111111111,\"#46039f\"],[0.2222222222222222,\"#7201a8\"],[0.3333333333333333,\"#9c179e\"],[0.4444444444444444,\"#bd3786\"],[0.5555555555555556,\"#d8576b\"],[0.6666666666666666,\"#ed7953\"],[0.7777777777777778,\"#fb9f3a\"],[0.8888888888888888,\"#fdca26\"],[1.0,\"#f0f921\"]]}],\"surface\":[{\"type\":\"surface\",\"colorbar\":{\"outlinewidth\":0,\"ticks\":\"\"},\"colorscale\":[[0.0,\"#0d0887\"],[0.1111111111111111,\"#46039f\"],[0.2222222222222222,\"#7201a8\"],[0.3333333333333333,\"#9c179e\"],[0.4444444444444444,\"#bd3786\"],[0.5555555555555556,\"#d8576b\"],[0.6666666666666666,\"#ed7953\"],[0.7777777777777778,\"#fb9f3a\"],[0.8888888888888888,\"#fdca26\"],[1.0,\"#f0f921\"]]}],\"mesh3d\":[{\"type\":\"mesh3d\",\"colorbar\":{\"outlinewidth\":0,\"ticks\":\"\"}}],\"scatter\":[{\"fillpattern\":{\"fillmode\":\"overlay\",\"size\":10,\"solidity\":0.2},\"type\":\"scatter\"}],\"parcoords\":[{\"type\":\"parcoords\",\"line\":{\"colorbar\":{\"outlinewidth\":0,\"ticks\":\"\"}}}],\"scatterpolargl\":[{\"type\":\"scatterpolargl\",\"marker\":{\"colorbar\":{\"outlinewidth\":0,\"ticks\":\"\"}}}],\"bar\":[{\"error_x\":{\"color\":\"#2a3f5f\"},\"error_y\":{\"color\":\"#2a3f5f\"},\"marker\":{\"line\":{\"color\":\"#E5ECF6\",\"width\":0.5},\"pattern\":{\"fillmode\":\"overlay\",\"size\":10,\"solidity\":0.2}},\"type\":\"bar\"}],\"scattergeo\":[{\"type\":\"scattergeo\",\"marker\":{\"colorbar\":{\"outlinewidth\":0,\"ticks\":\"\"}}}],\"scatterpolar\":[{\"type\":\"scatterpolar\",\"marker\":{\"colorbar\":{\"outlinewidth\":0,\"ticks\":\"\"}}}],\"histogram\":[{\"marker\":{\"pattern\":{\"fillmode\":\"overlay\",\"size\":10,\"solidity\":0.2}},\"type\":\"histogram\"}],\"scattergl\":[{\"type\":\"scattergl\",\"marker\":{\"colorbar\":{\"outlinewidth\":0,\"ticks\":\"\"}}}],\"scatter3d\":[{\"type\":\"scatter3d\",\"line\":{\"colorbar\":{\"outlinewidth\":0,\"ticks\":\"\"}},\"marker\":{\"colorbar\":{\"outlinewidth\":0,\"ticks\":\"\"}}}],\"scattermapbox\":[{\"type\":\"scattermapbox\",\"marker\":{\"colorbar\":{\"outlinewidth\":0,\"ticks\":\"\"}}}],\"scatterternary\":[{\"type\":\"scatterternary\",\"marker\":{\"colorbar\":{\"outlinewidth\":0,\"ticks\":\"\"}}}],\"scattercarpet\":[{\"type\":\"scattercarpet\",\"marker\":{\"colorbar\":{\"outlinewidth\":0,\"ticks\":\"\"}}}],\"carpet\":[{\"aaxis\":{\"endlinecolor\":\"#2a3f5f\",\"gridcolor\":\"white\",\"linecolor\":\"white\",\"minorgridcolor\":\"white\",\"startlinecolor\":\"#2a3f5f\"},\"baxis\":{\"endlinecolor\":\"#2a3f5f\",\"gridcolor\":\"white\",\"linecolor\":\"white\",\"minorgridcolor\":\"white\",\"startlinecolor\":\"#2a3f5f\"},\"type\":\"carpet\"}],\"table\":[{\"cells\":{\"fill\":{\"color\":\"#EBF0F8\"},\"line\":{\"color\":\"white\"}},\"header\":{\"fill\":{\"color\":\"#C8D4E3\"},\"line\":{\"color\":\"white\"}},\"type\":\"table\"}],\"barpolar\":[{\"marker\":{\"line\":{\"color\":\"#E5ECF6\",\"width\":0.5},\"pattern\":{\"fillmode\":\"overlay\",\"size\":10,\"solidity\":0.2}},\"type\":\"barpolar\"}],\"pie\":[{\"automargin\":true,\"type\":\"pie\"}]},\"layout\":{\"autotypenumbers\":\"strict\",\"colorway\":[\"#636efa\",\"#EF553B\",\"#00cc96\",\"#ab63fa\",\"#FFA15A\",\"#19d3f3\",\"#FF6692\",\"#B6E880\",\"#FF97FF\",\"#FECB52\"],\"font\":{\"color\":\"#2a3f5f\"},\"hovermode\":\"closest\",\"hoverlabel\":{\"align\":\"left\"},\"paper_bgcolor\":\"white\",\"plot_bgcolor\":\"#E5ECF6\",\"polar\":{\"bgcolor\":\"#E5ECF6\",\"angularaxis\":{\"gridcolor\":\"white\",\"linecolor\":\"white\",\"ticks\":\"\"},\"radialaxis\":{\"gridcolor\":\"white\",\"linecolor\":\"white\",\"ticks\":\"\"}},\"ternary\":{\"bgcolor\":\"#E5ECF6\",\"aaxis\":{\"gridcolor\":\"white\",\"linecolor\":\"white\",\"ticks\":\"\"},\"baxis\":{\"gridcolor\":\"white\",\"linecolor\":\"white\",\"ticks\":\"\"},\"caxis\":{\"gridcolor\":\"white\",\"linecolor\":\"white\",\"ticks\":\"\"}},\"coloraxis\":{\"colorbar\":{\"outlinewidth\":0,\"ticks\":\"\"}},\"colorscale\":{\"sequential\":[[0.0,\"#0d0887\"],[0.1111111111111111,\"#46039f\"],[0.2222222222222222,\"#7201a8\"],[0.3333333333333333,\"#9c179e\"],[0.4444444444444444,\"#bd3786\"],[0.5555555555555556,\"#d8576b\"],[0.6666666666666666,\"#ed7953\"],[0.7777777777777778,\"#fb9f3a\"],[0.8888888888888888,\"#fdca26\"],[1.0,\"#f0f921\"]],\"sequentialminus\":[[0.0,\"#0d0887\"],[0.1111111111111111,\"#46039f\"],[0.2222222222222222,\"#7201a8\"],[0.3333333333333333,\"#9c179e\"],[0.4444444444444444,\"#bd3786\"],[0.5555555555555556,\"#d8576b\"],[0.6666666666666666,\"#ed7953\"],[0.7777777777777778,\"#fb9f3a\"],[0.8888888888888888,\"#fdca26\"],[1.0,\"#f0f921\"]],\"diverging\":[[0,\"#8e0152\"],[0.1,\"#c51b7d\"],[0.2,\"#de77ae\"],[0.3,\"#f1b6da\"],[0.4,\"#fde0ef\"],[0.5,\"#f7f7f7\"],[0.6,\"#e6f5d0\"],[0.7,\"#b8e186\"],[0.8,\"#7fbc41\"],[0.9,\"#4d9221\"],[1,\"#276419\"]]},\"xaxis\":{\"gridcolor\":\"white\",\"linecolor\":\"white\",\"ticks\":\"\",\"title\":{\"standoff\":15},\"zerolinecolor\":\"white\",\"automargin\":true,\"zerolinewidth\":2},\"yaxis\":{\"gridcolor\":\"white\",\"linecolor\":\"white\",\"ticks\":\"\",\"title\":{\"standoff\":15},\"zerolinecolor\":\"white\",\"automargin\":true,\"zerolinewidth\":2},\"scene\":{\"xaxis\":{\"backgroundcolor\":\"#E5ECF6\",\"gridcolor\":\"white\",\"linecolor\":\"white\",\"showbackground\":true,\"ticks\":\"\",\"zerolinecolor\":\"white\",\"gridwidth\":2},\"yaxis\":{\"backgroundcolor\":\"#E5ECF6\",\"gridcolor\":\"white\",\"linecolor\":\"white\",\"showbackground\":true,\"ticks\":\"\",\"zerolinecolor\":\"white\",\"gridwidth\":2},\"zaxis\":{\"backgroundcolor\":\"#E5ECF6\",\"gridcolor\":\"white\",\"linecolor\":\"white\",\"showbackground\":true,\"ticks\":\"\",\"zerolinecolor\":\"white\",\"gridwidth\":2}},\"shapedefaults\":{\"line\":{\"color\":\"#2a3f5f\"}},\"annotationdefaults\":{\"arrowcolor\":\"#2a3f5f\",\"arrowhead\":0,\"arrowwidth\":1},\"geo\":{\"bgcolor\":\"white\",\"landcolor\":\"#E5ECF6\",\"subunitcolor\":\"white\",\"showland\":true,\"showlakes\":true,\"lakecolor\":\"white\"},\"title\":{\"x\":0.05},\"mapbox\":{\"style\":\"light\"}}},\"xaxis\":{\"anchor\":\"y\",\"domain\":[0.0,1.0],\"title\":{\"text\":\"Countries and areas\"}},\"yaxis\":{\"anchor\":\"x\",\"domain\":[0.0,1.0],\"title\":{\"text\":\"Rate\"}},\"legend\":{\"title\":{\"text\":\"Gender\"},\"tracegroupgap\":0},\"title\":{\"text\":\"Out-of-School Rates by Gender (Lower_Secondary Age)\"},\"barmode\":\"relative\"},                        {\"responsive\": true}                    ).then(function(){\n",
       "                            \n",
       "var gd = document.getElementById('4f8a1491-133c-4fce-a30e-8fdd0837f5be');\n",
       "var x = new MutationObserver(function (mutations, observer) {{\n",
       "        var display = window.getComputedStyle(gd).display;\n",
       "        if (!display || display === 'none') {{\n",
       "            console.log([gd, 'removed!']);\n",
       "            Plotly.purge(gd);\n",
       "            observer.disconnect();\n",
       "        }}\n",
       "}});\n",
       "\n",
       "// Listen for the removal of the full notebook cells\n",
       "var notebookContainer = gd.closest('#notebook-container');\n",
       "if (notebookContainer) {{\n",
       "    x.observe(notebookContainer, {childList: true});\n",
       "}}\n",
       "\n",
       "// Listen for the clearing of the current output cell\n",
       "var outputEl = gd.closest('.output');\n",
       "if (outputEl) {{\n",
       "    x.observe(outputEl, {childList: true});\n",
       "}}\n",
       "\n",
       "                        })                };                });            </script>        </div>"
      ]
     },
     "metadata": {},
     "output_type": "display_data"
    },
    {
     "data": {
      "application/vnd.plotly.v1+json": {
       "config": {
        "plotlyServerURL": "https://plot.ly"
       },
       "data": [
        {
         "alignmentgroup": "True",
         "hoverinfo": "all",
         "hovertemplate": "Country: %{x}<br>Rate: %{y}",
         "legendgroup": "OOSR_Upper_Secondary_Age_Male",
         "marker": {
          "color": "#636efa",
          "pattern": {
           "shape": ""
          }
         },
         "name": "OOSR_Upper_Secondary_Age_Male",
         "offsetgroup": "OOSR_Upper_Secondary_Age_Male",
         "orientation": "v",
         "showlegend": true,
         "textposition": "auto",
         "type": "bar",
         "x": [
          "Afghanistan",
          "Albania",
          "Algeria",
          "Andorra",
          "Angola",
          "Anguilla",
          "Antigua and Barbuda",
          "Argentina",
          "Armenia",
          "Australia",
          "Austria",
          "Azerbaijan",
          "The Bahamas",
          "Bahrain",
          "Bangladesh",
          "Barbados",
          "Belarus",
          "Belgium",
          "Belize",
          "Benin",
          "Bhutan",
          "Bolivia",
          "Bosnia and Herzegovina",
          "Botswana",
          "Brazil",
          "British Virgin Islands",
          "Brunei",
          "Bulgaria",
          "Burkina Faso",
          "Burundi",
          "Cape Verde",
          "Cambodia",
          "Cameroon",
          "Canada",
          "Central African Republic",
          "Chad",
          "Chile",
          "China",
          "Colombia",
          "Comoros",
          "Republic of the Congo",
          "Cook Islands",
          "Costa Rica",
          "Ivory Coast",
          "Croatia",
          "Cuba",
          "Cyprus",
          "Czech Republic",
          "North Korea",
          "Democratic Republic of the Congo",
          "Denmark",
          "Djibouti",
          "Dominica",
          "Dominican Republic",
          "Ecuador",
          "Egypt",
          "El Salvador",
          "Equatorial Guinea",
          "Eritrea",
          "Estonia",
          "Eswatini",
          "Ethiopia",
          "Fiji",
          "Finland",
          "France",
          "Gabon",
          "The Gambia",
          "Georgia",
          "Germany",
          "Ghana",
          "Greece",
          "Grenada",
          "Guatemala",
          "Guinea",
          "Guinea0Bissau",
          "Guyana",
          "Haiti",
          "Vatican City",
          "Honduras",
          "Hungary",
          "Iceland",
          "India",
          "Indonesia",
          "Iran",
          "Iraq",
          "Republic of Ireland",
          "Israel",
          "Italy",
          "Jamaica",
          "Japan",
          "Jordan",
          "Kazakhstan",
          "Kenya",
          "Kiribati",
          "Kuwait",
          "Kyrgyzstan",
          "Laos",
          "Latvia",
          "Lebanon",
          "Lesotho",
          "Liberia",
          "Libya",
          "Liechtenstein",
          "Lithuania",
          "Luxembourg",
          "Madagascar",
          "Malawi",
          "Malaysia",
          "Maldives",
          "Mali",
          "Malta",
          "Marshall Islands",
          "Mauritania",
          "Mauritius",
          "Mexico",
          "Federated States of Micronesia",
          "Monaco",
          "Mongolia",
          "Montenegro",
          "Montserrat",
          "Morocco",
          "Mozambique",
          "Myanmar",
          "Namibia",
          "Nauru",
          "Nepal",
          "Netherlands",
          "New Zealand",
          "Nicaragua",
          "Niger",
          "Nigeria",
          "Niue",
          "North Macedonia",
          "Norway",
          "Oman",
          "Pakistan",
          "Palau",
          "Panama",
          "Papua New Guinea",
          "Paraguay",
          "Peru",
          "Philippines",
          "Poland",
          "Portugal",
          "Qatar",
          "South Korea",
          "Moldova",
          "Romania",
          "Russia",
          "Rwanda",
          "Saint Kitts and Nevis",
          "Saint Lucia",
          "Saint Vincent and the Grenadines",
          "Samoa",
          "San Marino",
          "Sï¿½ï¿½ï¿½ï¿½ï¿½ï¿½ï¿½ï¿",
          "Saudi Arabia",
          "Senegal",
          "Serbia",
          "Seychelles",
          "Sierra Leone",
          "Singapore",
          "Slovakia",
          "Slovenia",
          "Solomon Islands",
          "Somalia",
          "South Africa",
          "South Sudan",
          "Spain",
          "Sri Lanka",
          "Palestinian National Authority",
          "Sudan",
          "Suriname",
          "Sweden",
          "Switzerland",
          "Syria",
          "Tajikistan",
          "Thailand",
          "East Timor",
          "Togo",
          "Tokelau",
          "Tonga",
          "Trinidad and Tobago",
          "Tunisia",
          "Turkey",
          "Turkmenistan",
          "Turks and Caicos Islands",
          "Tuvalu",
          "Uganda",
          "Ukraine",
          "United Arab Emirates",
          "United Kingdom",
          "Tanzania",
          "United States",
          "Uruguay",
          "Uzbekistan",
          "Vanuatu",
          "Venezuela",
          "Vietnam",
          "Yemen",
          "Zambia",
          "Zimbabwe"
         ],
         "xaxis": "x",
         "y": [
          44,
          21,
          0,
          0,
          0,
          0,
          14,
          15,
          16,
          10,
          10,
          0,
          29,
          18,
          41,
          7,
          6,
          1,
          38,
          46,
          33,
          22,
          22,
          0,
          16,
          24,
          19,
          10,
          67,
          67,
          29,
          0,
          50,
          6,
          0,
          71,
          5,
          0,
          22,
          52,
          0,
          30,
          7,
          52,
          16,
          20,
          6,
          3,
          0,
          0,
          11,
          66,
          19,
          23,
          20,
          23,
          33,
          0,
          45,
          1,
          14,
          73,
          0,
          3,
          5,
          0,
          0,
          7,
          12,
          28,
          4,
          8,
          57,
          59,
          0,
          0,
          0,
          0,
          58,
          12,
          15,
          47,
          23,
          25,
          0,
          2,
          0,
          6,
          25,
          0,
          48,
          0,
          0,
          0,
          20,
          30,
          42,
          5,
          0,
          38,
          20,
          0,
          10,
          4,
          22,
          63,
          62,
          41,
          0,
          71,
          10,
          45,
          63,
          25,
          28,
          0,
          0,
          22,
          12,
          0,
          26,
          65,
          47,
          0,
          52,
          26,
          1,
          4,
          0,
          84,
          0,
          0,
          0,
          8,
          8,
          0,
          0,
          35,
          40,
          33,
          15,
          24,
          4,
          2,
          0,
          4,
          36,
          21,
          3,
          50,
          4,
          20,
          16,
          15,
          51,
          19,
          3,
          0,
          14,
          24,
          64,
          0,
          11,
          2,
          0,
          0,
          22,
          57,
          2,
          18,
          32,
          53,
          42,
          1,
          16,
          66,
          0,
          21,
          27,
          47,
          53,
          43,
          0,
          0,
          17,
          0,
          29,
          61,
          0,
          7,
          2,
          5,
          84,
          4,
          15,
          14,
          41,
          28,
          0,
          46,
          0,
          45
         ],
         "yaxis": "y"
        },
        {
         "alignmentgroup": "True",
         "hoverinfo": "all",
         "hovertemplate": "Country: %{x}<br>Rate: %{y}",
         "legendgroup": "OOSR_Upper_Secondary_Age_Female",
         "marker": {
          "color": "#EF553B",
          "pattern": {
           "shape": ""
          }
         },
         "name": "OOSR_Upper_Secondary_Age_Female",
         "offsetgroup": "OOSR_Upper_Secondary_Age_Female",
         "orientation": "v",
         "showlegend": true,
         "textposition": "auto",
         "type": "bar",
         "x": [
          "Afghanistan",
          "Albania",
          "Algeria",
          "Andorra",
          "Angola",
          "Anguilla",
          "Antigua and Barbuda",
          "Argentina",
          "Armenia",
          "Australia",
          "Austria",
          "Azerbaijan",
          "The Bahamas",
          "Bahrain",
          "Bangladesh",
          "Barbados",
          "Belarus",
          "Belgium",
          "Belize",
          "Benin",
          "Bhutan",
          "Bolivia",
          "Bosnia and Herzegovina",
          "Botswana",
          "Brazil",
          "British Virgin Islands",
          "Brunei",
          "Bulgaria",
          "Burkina Faso",
          "Burundi",
          "Cape Verde",
          "Cambodia",
          "Cameroon",
          "Canada",
          "Central African Republic",
          "Chad",
          "Chile",
          "China",
          "Colombia",
          "Comoros",
          "Republic of the Congo",
          "Cook Islands",
          "Costa Rica",
          "Ivory Coast",
          "Croatia",
          "Cuba",
          "Cyprus",
          "Czech Republic",
          "North Korea",
          "Democratic Republic of the Congo",
          "Denmark",
          "Djibouti",
          "Dominica",
          "Dominican Republic",
          "Ecuador",
          "Egypt",
          "El Salvador",
          "Equatorial Guinea",
          "Eritrea",
          "Estonia",
          "Eswatini",
          "Ethiopia",
          "Fiji",
          "Finland",
          "France",
          "Gabon",
          "The Gambia",
          "Georgia",
          "Germany",
          "Ghana",
          "Greece",
          "Grenada",
          "Guatemala",
          "Guinea",
          "Guinea0Bissau",
          "Guyana",
          "Haiti",
          "Vatican City",
          "Honduras",
          "Hungary",
          "Iceland",
          "India",
          "Indonesia",
          "Iran",
          "Iraq",
          "Republic of Ireland",
          "Israel",
          "Italy",
          "Jamaica",
          "Japan",
          "Jordan",
          "Kazakhstan",
          "Kenya",
          "Kiribati",
          "Kuwait",
          "Kyrgyzstan",
          "Laos",
          "Latvia",
          "Lebanon",
          "Lesotho",
          "Liberia",
          "Libya",
          "Liechtenstein",
          "Lithuania",
          "Luxembourg",
          "Madagascar",
          "Malawi",
          "Malaysia",
          "Maldives",
          "Mali",
          "Malta",
          "Marshall Islands",
          "Mauritania",
          "Mauritius",
          "Mexico",
          "Federated States of Micronesia",
          "Monaco",
          "Mongolia",
          "Montenegro",
          "Montserrat",
          "Morocco",
          "Mozambique",
          "Myanmar",
          "Namibia",
          "Nauru",
          "Nepal",
          "Netherlands",
          "New Zealand",
          "Nicaragua",
          "Niger",
          "Nigeria",
          "Niue",
          "North Macedonia",
          "Norway",
          "Oman",
          "Pakistan",
          "Palau",
          "Panama",
          "Papua New Guinea",
          "Paraguay",
          "Peru",
          "Philippines",
          "Poland",
          "Portugal",
          "Qatar",
          "South Korea",
          "Moldova",
          "Romania",
          "Russia",
          "Rwanda",
          "Saint Kitts and Nevis",
          "Saint Lucia",
          "Saint Vincent and the Grenadines",
          "Samoa",
          "San Marino",
          "Sï¿½ï¿½ï¿½ï¿½ï¿½ï¿½ï¿½ï¿",
          "Saudi Arabia",
          "Senegal",
          "Serbia",
          "Seychelles",
          "Sierra Leone",
          "Singapore",
          "Slovakia",
          "Slovenia",
          "Solomon Islands",
          "Somalia",
          "South Africa",
          "South Sudan",
          "Spain",
          "Sri Lanka",
          "Palestinian National Authority",
          "Sudan",
          "Suriname",
          "Sweden",
          "Switzerland",
          "Syria",
          "Tajikistan",
          "Thailand",
          "East Timor",
          "Togo",
          "Tokelau",
          "Tonga",
          "Trinidad and Tobago",
          "Tunisia",
          "Turkey",
          "Turkmenistan",
          "Turks and Caicos Islands",
          "Tuvalu",
          "Uganda",
          "Ukraine",
          "United Arab Emirates",
          "United Kingdom",
          "Tanzania",
          "United States",
          "Uruguay",
          "Uzbekistan",
          "Vanuatu",
          "Venezuela",
          "Vietnam",
          "Yemen",
          "Zambia",
          "Zimbabwe"
         ],
         "xaxis": "x",
         "y": [
          69,
          15,
          0,
          0,
          0,
          0,
          12,
          7,
          4,
          6,
          9,
          0,
          24,
          6,
          36,
          3,
          4,
          2,
          35,
          66,
          22,
          22,
          19,
          0,
          14,
          16,
          16,
          14,
          65,
          62,
          24,
          0,
          58,
          6,
          0,
          85,
          5,
          0,
          20,
          48,
          0,
          27,
          5,
          64,
          11,
          15,
          8,
          3,
          0,
          0,
          9,
          67,
          17,
          21,
          18,
          24,
          35,
          0,
          53,
          2,
          18,
          75,
          0,
          5,
          4,
          0,
          0,
          4,
          16,
          28,
          6,
          7,
          61,
          76,
          0,
          0,
          0,
          0,
          54,
          12,
          11,
          48,
          22,
          27,
          0,
          1,
          0,
          5,
          22,
          0,
          43,
          0,
          0,
          0,
          17,
          26,
          46,
          4,
          0,
          29,
          31,
          0,
          22,
          2,
          17,
          64,
          76,
          32,
          0,
          79,
          7,
          41,
          59,
          17,
          24,
          0,
          0,
          20,
          10,
          0,
          30,
          73,
          38,
          0,
          60,
          13,
          1,
          1,
          0,
          89,
          0,
          0,
          0,
          7,
          17,
          0,
          0,
          31,
          51,
          30,
          21,
          17,
          4,
          4,
          0,
          4,
          35,
          19,
          3,
          49,
          5,
          21,
          14,
          5,
          57,
          16,
          9,
          0,
          11,
          12,
          67,
          0,
          11,
          1,
          0,
          0,
          20,
          72,
          1,
          13,
          18,
          50,
          34,
          3,
          20,
          66,
          0,
          21,
          22,
          66,
          30,
          33,
          0,
          0,
          17,
          0,
          35,
          39,
          0,
          4,
          2,
          4,
          88,
          3,
          9,
          15,
          46,
          19,
          0,
          68,
          0,
          50
         ],
         "yaxis": "y"
        }
       ],
       "layout": {
        "barmode": "relative",
        "legend": {
         "title": {
          "text": "Gender"
         },
         "tracegroupgap": 0
        },
        "template": {
         "data": {
          "bar": [
           {
            "error_x": {
             "color": "#2a3f5f"
            },
            "error_y": {
             "color": "#2a3f5f"
            },
            "marker": {
             "line": {
              "color": "#E5ECF6",
              "width": 0.5
             },
             "pattern": {
              "fillmode": "overlay",
              "size": 10,
              "solidity": 0.2
             }
            },
            "type": "bar"
           }
          ],
          "barpolar": [
           {
            "marker": {
             "line": {
              "color": "#E5ECF6",
              "width": 0.5
             },
             "pattern": {
              "fillmode": "overlay",
              "size": 10,
              "solidity": 0.2
             }
            },
            "type": "barpolar"
           }
          ],
          "carpet": [
           {
            "aaxis": {
             "endlinecolor": "#2a3f5f",
             "gridcolor": "white",
             "linecolor": "white",
             "minorgridcolor": "white",
             "startlinecolor": "#2a3f5f"
            },
            "baxis": {
             "endlinecolor": "#2a3f5f",
             "gridcolor": "white",
             "linecolor": "white",
             "minorgridcolor": "white",
             "startlinecolor": "#2a3f5f"
            },
            "type": "carpet"
           }
          ],
          "choropleth": [
           {
            "colorbar": {
             "outlinewidth": 0,
             "ticks": ""
            },
            "type": "choropleth"
           }
          ],
          "contour": [
           {
            "colorbar": {
             "outlinewidth": 0,
             "ticks": ""
            },
            "colorscale": [
             [
              0,
              "#0d0887"
             ],
             [
              0.1111111111111111,
              "#46039f"
             ],
             [
              0.2222222222222222,
              "#7201a8"
             ],
             [
              0.3333333333333333,
              "#9c179e"
             ],
             [
              0.4444444444444444,
              "#bd3786"
             ],
             [
              0.5555555555555556,
              "#d8576b"
             ],
             [
              0.6666666666666666,
              "#ed7953"
             ],
             [
              0.7777777777777778,
              "#fb9f3a"
             ],
             [
              0.8888888888888888,
              "#fdca26"
             ],
             [
              1,
              "#f0f921"
             ]
            ],
            "type": "contour"
           }
          ],
          "contourcarpet": [
           {
            "colorbar": {
             "outlinewidth": 0,
             "ticks": ""
            },
            "type": "contourcarpet"
           }
          ],
          "heatmap": [
           {
            "colorbar": {
             "outlinewidth": 0,
             "ticks": ""
            },
            "colorscale": [
             [
              0,
              "#0d0887"
             ],
             [
              0.1111111111111111,
              "#46039f"
             ],
             [
              0.2222222222222222,
              "#7201a8"
             ],
             [
              0.3333333333333333,
              "#9c179e"
             ],
             [
              0.4444444444444444,
              "#bd3786"
             ],
             [
              0.5555555555555556,
              "#d8576b"
             ],
             [
              0.6666666666666666,
              "#ed7953"
             ],
             [
              0.7777777777777778,
              "#fb9f3a"
             ],
             [
              0.8888888888888888,
              "#fdca26"
             ],
             [
              1,
              "#f0f921"
             ]
            ],
            "type": "heatmap"
           }
          ],
          "heatmapgl": [
           {
            "colorbar": {
             "outlinewidth": 0,
             "ticks": ""
            },
            "colorscale": [
             [
              0,
              "#0d0887"
             ],
             [
              0.1111111111111111,
              "#46039f"
             ],
             [
              0.2222222222222222,
              "#7201a8"
             ],
             [
              0.3333333333333333,
              "#9c179e"
             ],
             [
              0.4444444444444444,
              "#bd3786"
             ],
             [
              0.5555555555555556,
              "#d8576b"
             ],
             [
              0.6666666666666666,
              "#ed7953"
             ],
             [
              0.7777777777777778,
              "#fb9f3a"
             ],
             [
              0.8888888888888888,
              "#fdca26"
             ],
             [
              1,
              "#f0f921"
             ]
            ],
            "type": "heatmapgl"
           }
          ],
          "histogram": [
           {
            "marker": {
             "pattern": {
              "fillmode": "overlay",
              "size": 10,
              "solidity": 0.2
             }
            },
            "type": "histogram"
           }
          ],
          "histogram2d": [
           {
            "colorbar": {
             "outlinewidth": 0,
             "ticks": ""
            },
            "colorscale": [
             [
              0,
              "#0d0887"
             ],
             [
              0.1111111111111111,
              "#46039f"
             ],
             [
              0.2222222222222222,
              "#7201a8"
             ],
             [
              0.3333333333333333,
              "#9c179e"
             ],
             [
              0.4444444444444444,
              "#bd3786"
             ],
             [
              0.5555555555555556,
              "#d8576b"
             ],
             [
              0.6666666666666666,
              "#ed7953"
             ],
             [
              0.7777777777777778,
              "#fb9f3a"
             ],
             [
              0.8888888888888888,
              "#fdca26"
             ],
             [
              1,
              "#f0f921"
             ]
            ],
            "type": "histogram2d"
           }
          ],
          "histogram2dcontour": [
           {
            "colorbar": {
             "outlinewidth": 0,
             "ticks": ""
            },
            "colorscale": [
             [
              0,
              "#0d0887"
             ],
             [
              0.1111111111111111,
              "#46039f"
             ],
             [
              0.2222222222222222,
              "#7201a8"
             ],
             [
              0.3333333333333333,
              "#9c179e"
             ],
             [
              0.4444444444444444,
              "#bd3786"
             ],
             [
              0.5555555555555556,
              "#d8576b"
             ],
             [
              0.6666666666666666,
              "#ed7953"
             ],
             [
              0.7777777777777778,
              "#fb9f3a"
             ],
             [
              0.8888888888888888,
              "#fdca26"
             ],
             [
              1,
              "#f0f921"
             ]
            ],
            "type": "histogram2dcontour"
           }
          ],
          "mesh3d": [
           {
            "colorbar": {
             "outlinewidth": 0,
             "ticks": ""
            },
            "type": "mesh3d"
           }
          ],
          "parcoords": [
           {
            "line": {
             "colorbar": {
              "outlinewidth": 0,
              "ticks": ""
             }
            },
            "type": "parcoords"
           }
          ],
          "pie": [
           {
            "automargin": true,
            "type": "pie"
           }
          ],
          "scatter": [
           {
            "fillpattern": {
             "fillmode": "overlay",
             "size": 10,
             "solidity": 0.2
            },
            "type": "scatter"
           }
          ],
          "scatter3d": [
           {
            "line": {
             "colorbar": {
              "outlinewidth": 0,
              "ticks": ""
             }
            },
            "marker": {
             "colorbar": {
              "outlinewidth": 0,
              "ticks": ""
             }
            },
            "type": "scatter3d"
           }
          ],
          "scattercarpet": [
           {
            "marker": {
             "colorbar": {
              "outlinewidth": 0,
              "ticks": ""
             }
            },
            "type": "scattercarpet"
           }
          ],
          "scattergeo": [
           {
            "marker": {
             "colorbar": {
              "outlinewidth": 0,
              "ticks": ""
             }
            },
            "type": "scattergeo"
           }
          ],
          "scattergl": [
           {
            "marker": {
             "colorbar": {
              "outlinewidth": 0,
              "ticks": ""
             }
            },
            "type": "scattergl"
           }
          ],
          "scattermapbox": [
           {
            "marker": {
             "colorbar": {
              "outlinewidth": 0,
              "ticks": ""
             }
            },
            "type": "scattermapbox"
           }
          ],
          "scatterpolar": [
           {
            "marker": {
             "colorbar": {
              "outlinewidth": 0,
              "ticks": ""
             }
            },
            "type": "scatterpolar"
           }
          ],
          "scatterpolargl": [
           {
            "marker": {
             "colorbar": {
              "outlinewidth": 0,
              "ticks": ""
             }
            },
            "type": "scatterpolargl"
           }
          ],
          "scatterternary": [
           {
            "marker": {
             "colorbar": {
              "outlinewidth": 0,
              "ticks": ""
             }
            },
            "type": "scatterternary"
           }
          ],
          "surface": [
           {
            "colorbar": {
             "outlinewidth": 0,
             "ticks": ""
            },
            "colorscale": [
             [
              0,
              "#0d0887"
             ],
             [
              0.1111111111111111,
              "#46039f"
             ],
             [
              0.2222222222222222,
              "#7201a8"
             ],
             [
              0.3333333333333333,
              "#9c179e"
             ],
             [
              0.4444444444444444,
              "#bd3786"
             ],
             [
              0.5555555555555556,
              "#d8576b"
             ],
             [
              0.6666666666666666,
              "#ed7953"
             ],
             [
              0.7777777777777778,
              "#fb9f3a"
             ],
             [
              0.8888888888888888,
              "#fdca26"
             ],
             [
              1,
              "#f0f921"
             ]
            ],
            "type": "surface"
           }
          ],
          "table": [
           {
            "cells": {
             "fill": {
              "color": "#EBF0F8"
             },
             "line": {
              "color": "white"
             }
            },
            "header": {
             "fill": {
              "color": "#C8D4E3"
             },
             "line": {
              "color": "white"
             }
            },
            "type": "table"
           }
          ]
         },
         "layout": {
          "annotationdefaults": {
           "arrowcolor": "#2a3f5f",
           "arrowhead": 0,
           "arrowwidth": 1
          },
          "autotypenumbers": "strict",
          "coloraxis": {
           "colorbar": {
            "outlinewidth": 0,
            "ticks": ""
           }
          },
          "colorscale": {
           "diverging": [
            [
             0,
             "#8e0152"
            ],
            [
             0.1,
             "#c51b7d"
            ],
            [
             0.2,
             "#de77ae"
            ],
            [
             0.3,
             "#f1b6da"
            ],
            [
             0.4,
             "#fde0ef"
            ],
            [
             0.5,
             "#f7f7f7"
            ],
            [
             0.6,
             "#e6f5d0"
            ],
            [
             0.7,
             "#b8e186"
            ],
            [
             0.8,
             "#7fbc41"
            ],
            [
             0.9,
             "#4d9221"
            ],
            [
             1,
             "#276419"
            ]
           ],
           "sequential": [
            [
             0,
             "#0d0887"
            ],
            [
             0.1111111111111111,
             "#46039f"
            ],
            [
             0.2222222222222222,
             "#7201a8"
            ],
            [
             0.3333333333333333,
             "#9c179e"
            ],
            [
             0.4444444444444444,
             "#bd3786"
            ],
            [
             0.5555555555555556,
             "#d8576b"
            ],
            [
             0.6666666666666666,
             "#ed7953"
            ],
            [
             0.7777777777777778,
             "#fb9f3a"
            ],
            [
             0.8888888888888888,
             "#fdca26"
            ],
            [
             1,
             "#f0f921"
            ]
           ],
           "sequentialminus": [
            [
             0,
             "#0d0887"
            ],
            [
             0.1111111111111111,
             "#46039f"
            ],
            [
             0.2222222222222222,
             "#7201a8"
            ],
            [
             0.3333333333333333,
             "#9c179e"
            ],
            [
             0.4444444444444444,
             "#bd3786"
            ],
            [
             0.5555555555555556,
             "#d8576b"
            ],
            [
             0.6666666666666666,
             "#ed7953"
            ],
            [
             0.7777777777777778,
             "#fb9f3a"
            ],
            [
             0.8888888888888888,
             "#fdca26"
            ],
            [
             1,
             "#f0f921"
            ]
           ]
          },
          "colorway": [
           "#636efa",
           "#EF553B",
           "#00cc96",
           "#ab63fa",
           "#FFA15A",
           "#19d3f3",
           "#FF6692",
           "#B6E880",
           "#FF97FF",
           "#FECB52"
          ],
          "font": {
           "color": "#2a3f5f"
          },
          "geo": {
           "bgcolor": "white",
           "lakecolor": "white",
           "landcolor": "#E5ECF6",
           "showlakes": true,
           "showland": true,
           "subunitcolor": "white"
          },
          "hoverlabel": {
           "align": "left"
          },
          "hovermode": "closest",
          "mapbox": {
           "style": "light"
          },
          "paper_bgcolor": "white",
          "plot_bgcolor": "#E5ECF6",
          "polar": {
           "angularaxis": {
            "gridcolor": "white",
            "linecolor": "white",
            "ticks": ""
           },
           "bgcolor": "#E5ECF6",
           "radialaxis": {
            "gridcolor": "white",
            "linecolor": "white",
            "ticks": ""
           }
          },
          "scene": {
           "xaxis": {
            "backgroundcolor": "#E5ECF6",
            "gridcolor": "white",
            "gridwidth": 2,
            "linecolor": "white",
            "showbackground": true,
            "ticks": "",
            "zerolinecolor": "white"
           },
           "yaxis": {
            "backgroundcolor": "#E5ECF6",
            "gridcolor": "white",
            "gridwidth": 2,
            "linecolor": "white",
            "showbackground": true,
            "ticks": "",
            "zerolinecolor": "white"
           },
           "zaxis": {
            "backgroundcolor": "#E5ECF6",
            "gridcolor": "white",
            "gridwidth": 2,
            "linecolor": "white",
            "showbackground": true,
            "ticks": "",
            "zerolinecolor": "white"
           }
          },
          "shapedefaults": {
           "line": {
            "color": "#2a3f5f"
           }
          },
          "ternary": {
           "aaxis": {
            "gridcolor": "white",
            "linecolor": "white",
            "ticks": ""
           },
           "baxis": {
            "gridcolor": "white",
            "linecolor": "white",
            "ticks": ""
           },
           "bgcolor": "#E5ECF6",
           "caxis": {
            "gridcolor": "white",
            "linecolor": "white",
            "ticks": ""
           }
          },
          "title": {
           "x": 0.05
          },
          "xaxis": {
           "automargin": true,
           "gridcolor": "white",
           "linecolor": "white",
           "ticks": "",
           "title": {
            "standoff": 15
           },
           "zerolinecolor": "white",
           "zerolinewidth": 2
          },
          "yaxis": {
           "automargin": true,
           "gridcolor": "white",
           "linecolor": "white",
           "ticks": "",
           "title": {
            "standoff": 15
           },
           "zerolinecolor": "white",
           "zerolinewidth": 2
          }
         }
        },
        "title": {
         "text": "Out-of-School Rates by Gender (Upper_Secondary Age)"
        },
        "xaxis": {
         "anchor": "y",
         "domain": [
          0,
          1
         ],
         "title": {
          "text": "Countries and areas"
         }
        },
        "yaxis": {
         "anchor": "x",
         "domain": [
          0,
          1
         ],
         "title": {
          "text": "Rate"
         }
        }
       }
      },
      "text/html": [
       "<div>                            <div id=\"c2d5e3ad-3a5b-4fd8-8f5c-5ee8ed4413e0\" class=\"plotly-graph-div\" style=\"height:525px; width:100%;\"></div>            <script type=\"text/javascript\">                require([\"plotly\"], function(Plotly) {                    window.PLOTLYENV=window.PLOTLYENV || {};                                    if (document.getElementById(\"c2d5e3ad-3a5b-4fd8-8f5c-5ee8ed4413e0\")) {                    Plotly.newPlot(                        \"c2d5e3ad-3a5b-4fd8-8f5c-5ee8ed4413e0\",                        [{\"alignmentgroup\":\"True\",\"hovertemplate\":\"Country: %{x}<br>Rate: %{y}\",\"legendgroup\":\"OOSR_Upper_Secondary_Age_Male\",\"marker\":{\"color\":\"#636efa\",\"pattern\":{\"shape\":\"\"}},\"name\":\"OOSR_Upper_Secondary_Age_Male\",\"offsetgroup\":\"OOSR_Upper_Secondary_Age_Male\",\"orientation\":\"v\",\"showlegend\":true,\"textposition\":\"auto\",\"x\":[\"Afghanistan\",\"Albania\",\"Algeria\",\"Andorra\",\"Angola\",\"Anguilla\",\"Antigua and Barbuda\",\"Argentina\",\"Armenia\",\"Australia\",\"Austria\",\"Azerbaijan\",\"The Bahamas\",\"Bahrain\",\"Bangladesh\",\"Barbados\",\"Belarus\",\"Belgium\",\"Belize\",\"Benin\",\"Bhutan\",\"Bolivia\",\"Bosnia and Herzegovina\",\"Botswana\",\"Brazil\",\"British Virgin Islands\",\"Brunei\",\"Bulgaria\",\"Burkina Faso\",\"Burundi\",\"Cape Verde\",\"Cambodia\",\"Cameroon\",\"Canada\",\"Central African Republic\",\"Chad\",\"Chile\",\"China\",\"Colombia\",\"Comoros\",\"Republic of the Congo\",\"Cook Islands\",\"Costa Rica\",\"Ivory Coast\",\"Croatia\",\"Cuba\",\"Cyprus\",\"Czech Republic\",\"North Korea\",\"Democratic Republic of the Congo\",\"Denmark\",\"Djibouti\",\"Dominica\",\"Dominican Republic\",\"Ecuador\",\"Egypt\",\"El Salvador\",\"Equatorial Guinea\",\"Eritrea\",\"Estonia\",\"Eswatini\",\"Ethiopia\",\"Fiji\",\"Finland\",\"France\",\"Gabon\",\"The Gambia\",\"Georgia\",\"Germany\",\"Ghana\",\"Greece\",\"Grenada\",\"Guatemala\",\"Guinea\",\"Guinea0Bissau\",\"Guyana\",\"Haiti\",\"Vatican City\",\"Honduras\",\"Hungary\",\"Iceland\",\"India\",\"Indonesia\",\"Iran\",\"Iraq\",\"Republic of Ireland\",\"Israel\",\"Italy\",\"Jamaica\",\"Japan\",\"Jordan\",\"Kazakhstan\",\"Kenya\",\"Kiribati\",\"Kuwait\",\"Kyrgyzstan\",\"Laos\",\"Latvia\",\"Lebanon\",\"Lesotho\",\"Liberia\",\"Libya\",\"Liechtenstein\",\"Lithuania\",\"Luxembourg\",\"Madagascar\",\"Malawi\",\"Malaysia\",\"Maldives\",\"Mali\",\"Malta\",\"Marshall Islands\",\"Mauritania\",\"Mauritius\",\"Mexico\",\"Federated States of Micronesia\",\"Monaco\",\"Mongolia\",\"Montenegro\",\"Montserrat\",\"Morocco\",\"Mozambique\",\"Myanmar\",\"Namibia\",\"Nauru\",\"Nepal\",\"Netherlands\",\"New Zealand\",\"Nicaragua\",\"Niger\",\"Nigeria\",\"Niue\",\"North Macedonia\",\"Norway\",\"Oman\",\"Pakistan\",\"Palau\",\"Panama\",\"Papua New Guinea\",\"Paraguay\",\"Peru\",\"Philippines\",\"Poland\",\"Portugal\",\"Qatar\",\"South Korea\",\"Moldova\",\"Romania\",\"Russia\",\"Rwanda\",\"Saint Kitts and Nevis\",\"Saint Lucia\",\"Saint Vincent and the Grenadines\",\"Samoa\",\"San Marino\",\"S\\u00ef\\u00bf\\u00bd\\u00ef\\u00bf\\u00bd\\u00ef\\u00bf\\u00bd\\u00ef\\u00bf\\u00bd\\u00ef\\u00bf\\u00bd\\u00ef\\u00bf\\u00bd\\u00ef\\u00bf\\u00bd\\u00ef\\u00bf\",\"Saudi Arabia\",\"Senegal\",\"Serbia\",\"Seychelles\",\"Sierra Leone\",\"Singapore\",\"Slovakia\",\"Slovenia\",\"Solomon Islands\",\"Somalia\",\"South Africa\",\"South Sudan\",\"Spain\",\"Sri Lanka\",\"Palestinian National Authority\",\"Sudan\",\"Suriname\",\"Sweden\",\"Switzerland\",\"Syria\",\"Tajikistan\",\"Thailand\",\"East Timor\",\"Togo\",\"Tokelau\",\"Tonga\",\"Trinidad and Tobago\",\"Tunisia\",\"Turkey\",\"Turkmenistan\",\"Turks and Caicos Islands\",\"Tuvalu\",\"Uganda\",\"Ukraine\",\"United Arab Emirates\",\"United Kingdom\",\"Tanzania\",\"United States\",\"Uruguay\",\"Uzbekistan\",\"Vanuatu\",\"Venezuela\",\"Vietnam\",\"Yemen\",\"Zambia\",\"Zimbabwe\"],\"xaxis\":\"x\",\"y\":[44,21,0,0,0,0,14,15,16,10,10,0,29,18,41,7,6,1,38,46,33,22,22,0,16,24,19,10,67,67,29,0,50,6,0,71,5,0,22,52,0,30,7,52,16,20,6,3,0,0,11,66,19,23,20,23,33,0,45,1,14,73,0,3,5,0,0,7,12,28,4,8,57,59,0,0,0,0,58,12,15,47,23,25,0,2,0,6,25,0,48,0,0,0,20,30,42,5,0,38,20,0,10,4,22,63,62,41,0,71,10,45,63,25,28,0,0,22,12,0,26,65,47,0,52,26,1,4,0,84,0,0,0,8,8,0,0,35,40,33,15,24,4,2,0,4,36,21,3,50,4,20,16,15,51,19,3,0,14,24,64,0,11,2,0,0,22,57,2,18,32,53,42,1,16,66,0,21,27,47,53,43,0,0,17,0,29,61,0,7,2,5,84,4,15,14,41,28,0,46,0,45],\"yaxis\":\"y\",\"type\":\"bar\",\"hoverinfo\":\"all\"},{\"alignmentgroup\":\"True\",\"hovertemplate\":\"Country: %{x}<br>Rate: %{y}\",\"legendgroup\":\"OOSR_Upper_Secondary_Age_Female\",\"marker\":{\"color\":\"#EF553B\",\"pattern\":{\"shape\":\"\"}},\"name\":\"OOSR_Upper_Secondary_Age_Female\",\"offsetgroup\":\"OOSR_Upper_Secondary_Age_Female\",\"orientation\":\"v\",\"showlegend\":true,\"textposition\":\"auto\",\"x\":[\"Afghanistan\",\"Albania\",\"Algeria\",\"Andorra\",\"Angola\",\"Anguilla\",\"Antigua and Barbuda\",\"Argentina\",\"Armenia\",\"Australia\",\"Austria\",\"Azerbaijan\",\"The Bahamas\",\"Bahrain\",\"Bangladesh\",\"Barbados\",\"Belarus\",\"Belgium\",\"Belize\",\"Benin\",\"Bhutan\",\"Bolivia\",\"Bosnia and Herzegovina\",\"Botswana\",\"Brazil\",\"British Virgin Islands\",\"Brunei\",\"Bulgaria\",\"Burkina Faso\",\"Burundi\",\"Cape Verde\",\"Cambodia\",\"Cameroon\",\"Canada\",\"Central African Republic\",\"Chad\",\"Chile\",\"China\",\"Colombia\",\"Comoros\",\"Republic of the Congo\",\"Cook Islands\",\"Costa Rica\",\"Ivory Coast\",\"Croatia\",\"Cuba\",\"Cyprus\",\"Czech Republic\",\"North Korea\",\"Democratic Republic of the Congo\",\"Denmark\",\"Djibouti\",\"Dominica\",\"Dominican Republic\",\"Ecuador\",\"Egypt\",\"El Salvador\",\"Equatorial Guinea\",\"Eritrea\",\"Estonia\",\"Eswatini\",\"Ethiopia\",\"Fiji\",\"Finland\",\"France\",\"Gabon\",\"The Gambia\",\"Georgia\",\"Germany\",\"Ghana\",\"Greece\",\"Grenada\",\"Guatemala\",\"Guinea\",\"Guinea0Bissau\",\"Guyana\",\"Haiti\",\"Vatican City\",\"Honduras\",\"Hungary\",\"Iceland\",\"India\",\"Indonesia\",\"Iran\",\"Iraq\",\"Republic of Ireland\",\"Israel\",\"Italy\",\"Jamaica\",\"Japan\",\"Jordan\",\"Kazakhstan\",\"Kenya\",\"Kiribati\",\"Kuwait\",\"Kyrgyzstan\",\"Laos\",\"Latvia\",\"Lebanon\",\"Lesotho\",\"Liberia\",\"Libya\",\"Liechtenstein\",\"Lithuania\",\"Luxembourg\",\"Madagascar\",\"Malawi\",\"Malaysia\",\"Maldives\",\"Mali\",\"Malta\",\"Marshall Islands\",\"Mauritania\",\"Mauritius\",\"Mexico\",\"Federated States of Micronesia\",\"Monaco\",\"Mongolia\",\"Montenegro\",\"Montserrat\",\"Morocco\",\"Mozambique\",\"Myanmar\",\"Namibia\",\"Nauru\",\"Nepal\",\"Netherlands\",\"New Zealand\",\"Nicaragua\",\"Niger\",\"Nigeria\",\"Niue\",\"North Macedonia\",\"Norway\",\"Oman\",\"Pakistan\",\"Palau\",\"Panama\",\"Papua New Guinea\",\"Paraguay\",\"Peru\",\"Philippines\",\"Poland\",\"Portugal\",\"Qatar\",\"South Korea\",\"Moldova\",\"Romania\",\"Russia\",\"Rwanda\",\"Saint Kitts and Nevis\",\"Saint Lucia\",\"Saint Vincent and the Grenadines\",\"Samoa\",\"San Marino\",\"S\\u00ef\\u00bf\\u00bd\\u00ef\\u00bf\\u00bd\\u00ef\\u00bf\\u00bd\\u00ef\\u00bf\\u00bd\\u00ef\\u00bf\\u00bd\\u00ef\\u00bf\\u00bd\\u00ef\\u00bf\\u00bd\\u00ef\\u00bf\",\"Saudi Arabia\",\"Senegal\",\"Serbia\",\"Seychelles\",\"Sierra Leone\",\"Singapore\",\"Slovakia\",\"Slovenia\",\"Solomon Islands\",\"Somalia\",\"South Africa\",\"South Sudan\",\"Spain\",\"Sri Lanka\",\"Palestinian National Authority\",\"Sudan\",\"Suriname\",\"Sweden\",\"Switzerland\",\"Syria\",\"Tajikistan\",\"Thailand\",\"East Timor\",\"Togo\",\"Tokelau\",\"Tonga\",\"Trinidad and Tobago\",\"Tunisia\",\"Turkey\",\"Turkmenistan\",\"Turks and Caicos Islands\",\"Tuvalu\",\"Uganda\",\"Ukraine\",\"United Arab Emirates\",\"United Kingdom\",\"Tanzania\",\"United States\",\"Uruguay\",\"Uzbekistan\",\"Vanuatu\",\"Venezuela\",\"Vietnam\",\"Yemen\",\"Zambia\",\"Zimbabwe\"],\"xaxis\":\"x\",\"y\":[69,15,0,0,0,0,12,7,4,6,9,0,24,6,36,3,4,2,35,66,22,22,19,0,14,16,16,14,65,62,24,0,58,6,0,85,5,0,20,48,0,27,5,64,11,15,8,3,0,0,9,67,17,21,18,24,35,0,53,2,18,75,0,5,4,0,0,4,16,28,6,7,61,76,0,0,0,0,54,12,11,48,22,27,0,1,0,5,22,0,43,0,0,0,17,26,46,4,0,29,31,0,22,2,17,64,76,32,0,79,7,41,59,17,24,0,0,20,10,0,30,73,38,0,60,13,1,1,0,89,0,0,0,7,17,0,0,31,51,30,21,17,4,4,0,4,35,19,3,49,5,21,14,5,57,16,9,0,11,12,67,0,11,1,0,0,20,72,1,13,18,50,34,3,20,66,0,21,22,66,30,33,0,0,17,0,35,39,0,4,2,4,88,3,9,15,46,19,0,68,0,50],\"yaxis\":\"y\",\"type\":\"bar\",\"hoverinfo\":\"all\"}],                        {\"template\":{\"data\":{\"histogram2dcontour\":[{\"type\":\"histogram2dcontour\",\"colorbar\":{\"outlinewidth\":0,\"ticks\":\"\"},\"colorscale\":[[0.0,\"#0d0887\"],[0.1111111111111111,\"#46039f\"],[0.2222222222222222,\"#7201a8\"],[0.3333333333333333,\"#9c179e\"],[0.4444444444444444,\"#bd3786\"],[0.5555555555555556,\"#d8576b\"],[0.6666666666666666,\"#ed7953\"],[0.7777777777777778,\"#fb9f3a\"],[0.8888888888888888,\"#fdca26\"],[1.0,\"#f0f921\"]]}],\"choropleth\":[{\"type\":\"choropleth\",\"colorbar\":{\"outlinewidth\":0,\"ticks\":\"\"}}],\"histogram2d\":[{\"type\":\"histogram2d\",\"colorbar\":{\"outlinewidth\":0,\"ticks\":\"\"},\"colorscale\":[[0.0,\"#0d0887\"],[0.1111111111111111,\"#46039f\"],[0.2222222222222222,\"#7201a8\"],[0.3333333333333333,\"#9c179e\"],[0.4444444444444444,\"#bd3786\"],[0.5555555555555556,\"#d8576b\"],[0.6666666666666666,\"#ed7953\"],[0.7777777777777778,\"#fb9f3a\"],[0.8888888888888888,\"#fdca26\"],[1.0,\"#f0f921\"]]}],\"heatmap\":[{\"type\":\"heatmap\",\"colorbar\":{\"outlinewidth\":0,\"ticks\":\"\"},\"colorscale\":[[0.0,\"#0d0887\"],[0.1111111111111111,\"#46039f\"],[0.2222222222222222,\"#7201a8\"],[0.3333333333333333,\"#9c179e\"],[0.4444444444444444,\"#bd3786\"],[0.5555555555555556,\"#d8576b\"],[0.6666666666666666,\"#ed7953\"],[0.7777777777777778,\"#fb9f3a\"],[0.8888888888888888,\"#fdca26\"],[1.0,\"#f0f921\"]]}],\"heatmapgl\":[{\"type\":\"heatmapgl\",\"colorbar\":{\"outlinewidth\":0,\"ticks\":\"\"},\"colorscale\":[[0.0,\"#0d0887\"],[0.1111111111111111,\"#46039f\"],[0.2222222222222222,\"#7201a8\"],[0.3333333333333333,\"#9c179e\"],[0.4444444444444444,\"#bd3786\"],[0.5555555555555556,\"#d8576b\"],[0.6666666666666666,\"#ed7953\"],[0.7777777777777778,\"#fb9f3a\"],[0.8888888888888888,\"#fdca26\"],[1.0,\"#f0f921\"]]}],\"contourcarpet\":[{\"type\":\"contourcarpet\",\"colorbar\":{\"outlinewidth\":0,\"ticks\":\"\"}}],\"contour\":[{\"type\":\"contour\",\"colorbar\":{\"outlinewidth\":0,\"ticks\":\"\"},\"colorscale\":[[0.0,\"#0d0887\"],[0.1111111111111111,\"#46039f\"],[0.2222222222222222,\"#7201a8\"],[0.3333333333333333,\"#9c179e\"],[0.4444444444444444,\"#bd3786\"],[0.5555555555555556,\"#d8576b\"],[0.6666666666666666,\"#ed7953\"],[0.7777777777777778,\"#fb9f3a\"],[0.8888888888888888,\"#fdca26\"],[1.0,\"#f0f921\"]]}],\"surface\":[{\"type\":\"surface\",\"colorbar\":{\"outlinewidth\":0,\"ticks\":\"\"},\"colorscale\":[[0.0,\"#0d0887\"],[0.1111111111111111,\"#46039f\"],[0.2222222222222222,\"#7201a8\"],[0.3333333333333333,\"#9c179e\"],[0.4444444444444444,\"#bd3786\"],[0.5555555555555556,\"#d8576b\"],[0.6666666666666666,\"#ed7953\"],[0.7777777777777778,\"#fb9f3a\"],[0.8888888888888888,\"#fdca26\"],[1.0,\"#f0f921\"]]}],\"mesh3d\":[{\"type\":\"mesh3d\",\"colorbar\":{\"outlinewidth\":0,\"ticks\":\"\"}}],\"scatter\":[{\"fillpattern\":{\"fillmode\":\"overlay\",\"size\":10,\"solidity\":0.2},\"type\":\"scatter\"}],\"parcoords\":[{\"type\":\"parcoords\",\"line\":{\"colorbar\":{\"outlinewidth\":0,\"ticks\":\"\"}}}],\"scatterpolargl\":[{\"type\":\"scatterpolargl\",\"marker\":{\"colorbar\":{\"outlinewidth\":0,\"ticks\":\"\"}}}],\"bar\":[{\"error_x\":{\"color\":\"#2a3f5f\"},\"error_y\":{\"color\":\"#2a3f5f\"},\"marker\":{\"line\":{\"color\":\"#E5ECF6\",\"width\":0.5},\"pattern\":{\"fillmode\":\"overlay\",\"size\":10,\"solidity\":0.2}},\"type\":\"bar\"}],\"scattergeo\":[{\"type\":\"scattergeo\",\"marker\":{\"colorbar\":{\"outlinewidth\":0,\"ticks\":\"\"}}}],\"scatterpolar\":[{\"type\":\"scatterpolar\",\"marker\":{\"colorbar\":{\"outlinewidth\":0,\"ticks\":\"\"}}}],\"histogram\":[{\"marker\":{\"pattern\":{\"fillmode\":\"overlay\",\"size\":10,\"solidity\":0.2}},\"type\":\"histogram\"}],\"scattergl\":[{\"type\":\"scattergl\",\"marker\":{\"colorbar\":{\"outlinewidth\":0,\"ticks\":\"\"}}}],\"scatter3d\":[{\"type\":\"scatter3d\",\"line\":{\"colorbar\":{\"outlinewidth\":0,\"ticks\":\"\"}},\"marker\":{\"colorbar\":{\"outlinewidth\":0,\"ticks\":\"\"}}}],\"scattermapbox\":[{\"type\":\"scattermapbox\",\"marker\":{\"colorbar\":{\"outlinewidth\":0,\"ticks\":\"\"}}}],\"scatterternary\":[{\"type\":\"scatterternary\",\"marker\":{\"colorbar\":{\"outlinewidth\":0,\"ticks\":\"\"}}}],\"scattercarpet\":[{\"type\":\"scattercarpet\",\"marker\":{\"colorbar\":{\"outlinewidth\":0,\"ticks\":\"\"}}}],\"carpet\":[{\"aaxis\":{\"endlinecolor\":\"#2a3f5f\",\"gridcolor\":\"white\",\"linecolor\":\"white\",\"minorgridcolor\":\"white\",\"startlinecolor\":\"#2a3f5f\"},\"baxis\":{\"endlinecolor\":\"#2a3f5f\",\"gridcolor\":\"white\",\"linecolor\":\"white\",\"minorgridcolor\":\"white\",\"startlinecolor\":\"#2a3f5f\"},\"type\":\"carpet\"}],\"table\":[{\"cells\":{\"fill\":{\"color\":\"#EBF0F8\"},\"line\":{\"color\":\"white\"}},\"header\":{\"fill\":{\"color\":\"#C8D4E3\"},\"line\":{\"color\":\"white\"}},\"type\":\"table\"}],\"barpolar\":[{\"marker\":{\"line\":{\"color\":\"#E5ECF6\",\"width\":0.5},\"pattern\":{\"fillmode\":\"overlay\",\"size\":10,\"solidity\":0.2}},\"type\":\"barpolar\"}],\"pie\":[{\"automargin\":true,\"type\":\"pie\"}]},\"layout\":{\"autotypenumbers\":\"strict\",\"colorway\":[\"#636efa\",\"#EF553B\",\"#00cc96\",\"#ab63fa\",\"#FFA15A\",\"#19d3f3\",\"#FF6692\",\"#B6E880\",\"#FF97FF\",\"#FECB52\"],\"font\":{\"color\":\"#2a3f5f\"},\"hovermode\":\"closest\",\"hoverlabel\":{\"align\":\"left\"},\"paper_bgcolor\":\"white\",\"plot_bgcolor\":\"#E5ECF6\",\"polar\":{\"bgcolor\":\"#E5ECF6\",\"angularaxis\":{\"gridcolor\":\"white\",\"linecolor\":\"white\",\"ticks\":\"\"},\"radialaxis\":{\"gridcolor\":\"white\",\"linecolor\":\"white\",\"ticks\":\"\"}},\"ternary\":{\"bgcolor\":\"#E5ECF6\",\"aaxis\":{\"gridcolor\":\"white\",\"linecolor\":\"white\",\"ticks\":\"\"},\"baxis\":{\"gridcolor\":\"white\",\"linecolor\":\"white\",\"ticks\":\"\"},\"caxis\":{\"gridcolor\":\"white\",\"linecolor\":\"white\",\"ticks\":\"\"}},\"coloraxis\":{\"colorbar\":{\"outlinewidth\":0,\"ticks\":\"\"}},\"colorscale\":{\"sequential\":[[0.0,\"#0d0887\"],[0.1111111111111111,\"#46039f\"],[0.2222222222222222,\"#7201a8\"],[0.3333333333333333,\"#9c179e\"],[0.4444444444444444,\"#bd3786\"],[0.5555555555555556,\"#d8576b\"],[0.6666666666666666,\"#ed7953\"],[0.7777777777777778,\"#fb9f3a\"],[0.8888888888888888,\"#fdca26\"],[1.0,\"#f0f921\"]],\"sequentialminus\":[[0.0,\"#0d0887\"],[0.1111111111111111,\"#46039f\"],[0.2222222222222222,\"#7201a8\"],[0.3333333333333333,\"#9c179e\"],[0.4444444444444444,\"#bd3786\"],[0.5555555555555556,\"#d8576b\"],[0.6666666666666666,\"#ed7953\"],[0.7777777777777778,\"#fb9f3a\"],[0.8888888888888888,\"#fdca26\"],[1.0,\"#f0f921\"]],\"diverging\":[[0,\"#8e0152\"],[0.1,\"#c51b7d\"],[0.2,\"#de77ae\"],[0.3,\"#f1b6da\"],[0.4,\"#fde0ef\"],[0.5,\"#f7f7f7\"],[0.6,\"#e6f5d0\"],[0.7,\"#b8e186\"],[0.8,\"#7fbc41\"],[0.9,\"#4d9221\"],[1,\"#276419\"]]},\"xaxis\":{\"gridcolor\":\"white\",\"linecolor\":\"white\",\"ticks\":\"\",\"title\":{\"standoff\":15},\"zerolinecolor\":\"white\",\"automargin\":true,\"zerolinewidth\":2},\"yaxis\":{\"gridcolor\":\"white\",\"linecolor\":\"white\",\"ticks\":\"\",\"title\":{\"standoff\":15},\"zerolinecolor\":\"white\",\"automargin\":true,\"zerolinewidth\":2},\"scene\":{\"xaxis\":{\"backgroundcolor\":\"#E5ECF6\",\"gridcolor\":\"white\",\"linecolor\":\"white\",\"showbackground\":true,\"ticks\":\"\",\"zerolinecolor\":\"white\",\"gridwidth\":2},\"yaxis\":{\"backgroundcolor\":\"#E5ECF6\",\"gridcolor\":\"white\",\"linecolor\":\"white\",\"showbackground\":true,\"ticks\":\"\",\"zerolinecolor\":\"white\",\"gridwidth\":2},\"zaxis\":{\"backgroundcolor\":\"#E5ECF6\",\"gridcolor\":\"white\",\"linecolor\":\"white\",\"showbackground\":true,\"ticks\":\"\",\"zerolinecolor\":\"white\",\"gridwidth\":2}},\"shapedefaults\":{\"line\":{\"color\":\"#2a3f5f\"}},\"annotationdefaults\":{\"arrowcolor\":\"#2a3f5f\",\"arrowhead\":0,\"arrowwidth\":1},\"geo\":{\"bgcolor\":\"white\",\"landcolor\":\"#E5ECF6\",\"subunitcolor\":\"white\",\"showland\":true,\"showlakes\":true,\"lakecolor\":\"white\"},\"title\":{\"x\":0.05},\"mapbox\":{\"style\":\"light\"}}},\"xaxis\":{\"anchor\":\"y\",\"domain\":[0.0,1.0],\"title\":{\"text\":\"Countries and areas\"}},\"yaxis\":{\"anchor\":\"x\",\"domain\":[0.0,1.0],\"title\":{\"text\":\"Rate\"}},\"legend\":{\"title\":{\"text\":\"Gender\"},\"tracegroupgap\":0},\"title\":{\"text\":\"Out-of-School Rates by Gender (Upper_Secondary Age)\"},\"barmode\":\"relative\"},                        {\"responsive\": true}                    ).then(function(){\n",
       "                            \n",
       "var gd = document.getElementById('c2d5e3ad-3a5b-4fd8-8f5c-5ee8ed4413e0');\n",
       "var x = new MutationObserver(function (mutations, observer) {{\n",
       "        var display = window.getComputedStyle(gd).display;\n",
       "        if (!display || display === 'none') {{\n",
       "            console.log([gd, 'removed!']);\n",
       "            Plotly.purge(gd);\n",
       "            observer.disconnect();\n",
       "        }}\n",
       "}});\n",
       "\n",
       "// Listen for the removal of the full notebook cells\n",
       "var notebookContainer = gd.closest('#notebook-container');\n",
       "if (notebookContainer) {{\n",
       "    x.observe(notebookContainer, {childList: true});\n",
       "}}\n",
       "\n",
       "// Listen for the clearing of the current output cell\n",
       "var outputEl = gd.closest('.output');\n",
       "if (outputEl) {{\n",
       "    x.observe(outputEl, {childList: true});\n",
       "}}\n",
       "\n",
       "                        })                };                });            </script>        </div>"
      ]
     },
     "metadata": {},
     "output_type": "display_data"
    },
    {
     "data": {
      "application/vnd.plotly.v1+json": {
       "config": {
        "plotlyServerURL": "https://plot.ly"
       },
       "data": [
        {
         "hovertemplate": "<b>%{hovertext}</b><br><br>Countries and areas=%{x}<br>Birth_Rate=%{marker.size}<br>Gross_Primary_Education_Enrollment=%{marker.color}<extra></extra>",
         "hovertext": [
          "Afghanistan",
          "Albania",
          "Algeria",
          "Andorra",
          "Angola",
          "Anguilla",
          "Antigua and Barbuda",
          "Argentina",
          "Armenia",
          "Australia",
          "Austria",
          "Azerbaijan",
          "The Bahamas",
          "Bahrain",
          "Bangladesh",
          "Barbados",
          "Belarus",
          "Belgium",
          "Belize",
          "Benin",
          "Bhutan",
          "Bolivia",
          "Bosnia and Herzegovina",
          "Botswana",
          "Brazil",
          "British Virgin Islands",
          "Brunei",
          "Bulgaria",
          "Burkina Faso",
          "Burundi",
          "Cape Verde",
          "Cambodia",
          "Cameroon",
          "Canada",
          "Central African Republic",
          "Chad",
          "Chile",
          "China",
          "Colombia",
          "Comoros",
          "Republic of the Congo",
          "Cook Islands",
          "Costa Rica",
          "Ivory Coast",
          "Croatia",
          "Cuba",
          "Cyprus",
          "Czech Republic",
          "North Korea",
          "Democratic Republic of the Congo",
          "Denmark",
          "Djibouti",
          "Dominica",
          "Dominican Republic",
          "Ecuador",
          "Egypt",
          "El Salvador",
          "Equatorial Guinea",
          "Eritrea",
          "Estonia",
          "Eswatini",
          "Ethiopia",
          "Fiji",
          "Finland",
          "France",
          "Gabon",
          "The Gambia",
          "Georgia",
          "Germany",
          "Ghana",
          "Greece",
          "Grenada",
          "Guatemala",
          "Guinea",
          "Guinea0Bissau",
          "Guyana",
          "Haiti",
          "Vatican City",
          "Honduras",
          "Hungary",
          "Iceland",
          "India",
          "Indonesia",
          "Iran",
          "Iraq",
          "Republic of Ireland",
          "Israel",
          "Italy",
          "Jamaica",
          "Japan",
          "Jordan",
          "Kazakhstan",
          "Kenya",
          "Kiribati",
          "Kuwait",
          "Kyrgyzstan",
          "Laos",
          "Latvia",
          "Lebanon",
          "Lesotho",
          "Liberia",
          "Libya",
          "Liechtenstein",
          "Lithuania",
          "Luxembourg",
          "Madagascar",
          "Malawi",
          "Malaysia",
          "Maldives",
          "Mali",
          "Malta",
          "Marshall Islands",
          "Mauritania",
          "Mauritius",
          "Mexico",
          "Federated States of Micronesia",
          "Monaco",
          "Mongolia",
          "Montenegro",
          "Montserrat",
          "Morocco",
          "Mozambique",
          "Myanmar",
          "Namibia",
          "Nauru",
          "Nepal",
          "Netherlands",
          "New Zealand",
          "Nicaragua",
          "Niger",
          "Nigeria",
          "Niue",
          "North Macedonia",
          "Norway",
          "Oman",
          "Pakistan",
          "Palau",
          "Panama",
          "Papua New Guinea",
          "Paraguay",
          "Peru",
          "Philippines",
          "Poland",
          "Portugal",
          "Qatar",
          "South Korea",
          "Moldova",
          "Romania",
          "Russia",
          "Rwanda",
          "Saint Kitts and Nevis",
          "Saint Lucia",
          "Saint Vincent and the Grenadines",
          "Samoa",
          "San Marino",
          "Sï¿½ï¿½ï¿½ï¿½ï¿½ï¿½ï¿½ï¿",
          "Saudi Arabia",
          "Senegal",
          "Serbia",
          "Seychelles",
          "Sierra Leone",
          "Singapore",
          "Slovakia",
          "Slovenia",
          "Solomon Islands",
          "Somalia",
          "South Africa",
          "South Sudan",
          "Spain",
          "Sri Lanka",
          "Palestinian National Authority",
          "Sudan",
          "Suriname",
          "Sweden",
          "Switzerland",
          "Syria",
          "Tajikistan",
          "Thailand",
          "East Timor",
          "Togo",
          "Tokelau",
          "Tonga",
          "Trinidad and Tobago",
          "Tunisia",
          "Turkey",
          "Turkmenistan",
          "Turks and Caicos Islands",
          "Tuvalu",
          "Uganda",
          "Ukraine",
          "United Arab Emirates",
          "United Kingdom",
          "Tanzania",
          "United States",
          "Uruguay",
          "Uzbekistan",
          "Vanuatu",
          "Venezuela",
          "Vietnam",
          "Yemen",
          "Zambia",
          "Zimbabwe"
         ],
         "legendgroup": "",
         "marker": {
          "color": [
           104,
           107,
           109.9,
           106.4,
           113.5,
           0,
           105,
           109.7,
           92.7,
           100.3,
           103.1,
           99.7,
           81.4,
           99.4,
           116.5,
           99.4,
           100.5,
           103.9,
           111.7,
           122,
           100.1,
           98.2,
           0,
           103.2,
           115.4,
           0,
           103.2,
           89.3,
           96.1,
           121.4,
           104,
           107.4,
           103.4,
           100.9,
           102,
           86.8,
           101.4,
           100.2,
           114.5,
           99.5,
           106.6,
           0,
           113.3,
           99.8,
           96.5,
           101.9,
           99.3,
           100.7,
           112.8,
           108,
           101.3,
           75.3,
           114.7,
           105.7,
           103.3,
           106.3,
           94.8,
           61.8,
           68.4,
           97.2,
           0,
           101,
           106.4,
           100.2,
           102.5,
           139.9,
           98,
           98.6,
           104,
           104.8,
           99.6,
           106.9,
           101.9,
           91.5,
           118.7,
           97.8,
           113.6,
           0,
           91.5,
           100.8,
           100.4,
           113,
           106.4,
           110.7,
           108.7,
           100.9,
           104.9,
           101.9,
           91,
           98.8,
           81.5,
           104.4,
           103.2,
           101.3,
           92.4,
           107.6,
           102.4,
           99.4,
           95.1,
           120.9,
           85.1,
           109,
           104.7,
           103.9,
           102.3,
           142.5,
           142.5,
           105.3,
           97.1,
           75.6,
           105,
           84.7,
           99.9,
           101.1,
           105.8,
           97.2,
           0,
           104,
           100,
           0,
           113.9,
           112.6,
           112.3,
           124.2,
           0,
           142.1,
           104.2,
           100,
           120.6,
           74.7,
           84.7,
           0,
           0,
           100.3,
           103.4,
           94.3,
           112.6,
           94.4,
           108.5,
           104.4,
           106.9,
           107.5,
           100,
           106.2,
           103.8,
           98.1,
           90.6,
           85.2,
           102.6,
           133,
           108.7,
           102.6,
           113.4,
           110.5,
           108.1,
           106.8,
           99.8,
           81,
           100.3,
           100.4,
           112.8,
           100.6,
           98.7,
           100.4,
           106.2,
           23.4,
           100.9,
           73,
           102.7,
           100.2,
           0,
           76.8,
           108.8,
           126.6,
           105.2,
           81.7,
           100.9,
           99.8,
           115.3,
           123.8,
           0,
           116.3,
           106.2,
           115.4,
           93.2,
           88.4,
           0,
           0,
           102.7,
           99,
           108.4,
           101.2,
           94.2,
           101.8,
           108.5,
           104.2,
           109.3,
           97.2,
           110.6,
           93.6,
           98.7,
           109.9
          ],
          "coloraxis": "coloraxis",
          "size": [
           32.49,
           11.78,
           24.28,
           7.2,
           40.73,
           0,
           15.33,
           17.02,
           13.99,
           12.6,
           9.7,
           14,
           13.97,
           13.99,
           18.18,
           10.65,
           9.9,
           10.3,
           20.79,
           36.22,
           17.26,
           21.75,
           8.11,
           24.82,
           13.92,
           0,
           14.9,
           8.9,
           37.93,
           39.01,
           19.49,
           22.46,
           35.39,
           10.1,
           35.35,
           42.17,
           12.43,
           10.9,
           14.88,
           31.88,
           32.86,
           0,
           13.97,
           35.74,
           9,
           10.17,
           10.46,
           10.7,
           13.89,
           41.18,
           10.6,
           21.47,
           12,
           19.51,
           19.72,
           26.38,
           18.25,
           33.24,
           30.3,
           10.9,
           0,
           32.34,
           21.28,
           8.6,
           11.3,
           31.61,
           38.54,
           13.47,
           9.5,
           29.41,
           8.1,
           16.47,
           24.56,
           36.36,
           35.13,
           19.97,
           24.35,
           0,
           21.6,
           9.6,
           12,
           17.86,
           18.07,
           18.78,
           29.08,
           12.5,
           20.8,
           7.3,
           16.1,
           7.4,
           21.98,
           21.77,
           28.75,
           27.89,
           13.94,
           27.1,
           23.55,
           10,
           17.55,
           26.81,
           33.04,
           18.83,
           9.9,
           10,
           10.3,
           32.66,
           34.12,
           16.75,
           14.2,
           41.54,
           9.2,
           29.03,
           33.69,
           10.2,
           17.6,
           22.82,
           5.9,
           24.13,
           11.73,
           0,
           18.94,
           37.52,
           17.55,
           28.64,
           0,
           19.89,
           9.7,
           11.98,
           20.64,
           46.08,
           37.91,
           0,
           0,
           10.4,
           19.19,
           28.25,
           14,
           18.98,
           27.07,
           20.57,
           17.95,
           20.55,
           10.2,
           8.5,
           9.54,
           6.4,
           10.1,
           9.6,
           11.5,
           31.7,
           12.6,
           12,
           14.24,
           24.38,
           6.8,
           31.54,
           17.8,
           34.52,
           9.2,
           17.1,
           33.41,
           8.8,
           10.6,
           9.4,
           32.44,
           41.75,
           20.51,
           35.01,
           7.9,
           15.83,
           0,
           32.18,
           18.54,
           11.4,
           10,
           23.69,
           30.76,
           10.34,
           29.42,
           33.11,
           0,
           24.3,
           12.94,
           17.56,
           16.03,
           23.83,
           0,
           0,
           38.14,
           8.7,
           10.33,
           11,
           36.7,
           11.6,
           13.86,
           23.3,
           29.6,
           17.88,
           16.75,
           30.45,
           36.19,
           30.68
          ],
          "sizemode": "area",
          "sizeref": 0.1152,
          "symbol": "circle"
         },
         "mode": "markers",
         "name": "",
         "orientation": "v",
         "showlegend": false,
         "type": "scatter",
         "x": [
          "Afghanistan",
          "Albania",
          "Algeria",
          "Andorra",
          "Angola",
          "Anguilla",
          "Antigua and Barbuda",
          "Argentina",
          "Armenia",
          "Australia",
          "Austria",
          "Azerbaijan",
          "The Bahamas",
          "Bahrain",
          "Bangladesh",
          "Barbados",
          "Belarus",
          "Belgium",
          "Belize",
          "Benin",
          "Bhutan",
          "Bolivia",
          "Bosnia and Herzegovina",
          "Botswana",
          "Brazil",
          "British Virgin Islands",
          "Brunei",
          "Bulgaria",
          "Burkina Faso",
          "Burundi",
          "Cape Verde",
          "Cambodia",
          "Cameroon",
          "Canada",
          "Central African Republic",
          "Chad",
          "Chile",
          "China",
          "Colombia",
          "Comoros",
          "Republic of the Congo",
          "Cook Islands",
          "Costa Rica",
          "Ivory Coast",
          "Croatia",
          "Cuba",
          "Cyprus",
          "Czech Republic",
          "North Korea",
          "Democratic Republic of the Congo",
          "Denmark",
          "Djibouti",
          "Dominica",
          "Dominican Republic",
          "Ecuador",
          "Egypt",
          "El Salvador",
          "Equatorial Guinea",
          "Eritrea",
          "Estonia",
          "Eswatini",
          "Ethiopia",
          "Fiji",
          "Finland",
          "France",
          "Gabon",
          "The Gambia",
          "Georgia",
          "Germany",
          "Ghana",
          "Greece",
          "Grenada",
          "Guatemala",
          "Guinea",
          "Guinea0Bissau",
          "Guyana",
          "Haiti",
          "Vatican City",
          "Honduras",
          "Hungary",
          "Iceland",
          "India",
          "Indonesia",
          "Iran",
          "Iraq",
          "Republic of Ireland",
          "Israel",
          "Italy",
          "Jamaica",
          "Japan",
          "Jordan",
          "Kazakhstan",
          "Kenya",
          "Kiribati",
          "Kuwait",
          "Kyrgyzstan",
          "Laos",
          "Latvia",
          "Lebanon",
          "Lesotho",
          "Liberia",
          "Libya",
          "Liechtenstein",
          "Lithuania",
          "Luxembourg",
          "Madagascar",
          "Malawi",
          "Malaysia",
          "Maldives",
          "Mali",
          "Malta",
          "Marshall Islands",
          "Mauritania",
          "Mauritius",
          "Mexico",
          "Federated States of Micronesia",
          "Monaco",
          "Mongolia",
          "Montenegro",
          "Montserrat",
          "Morocco",
          "Mozambique",
          "Myanmar",
          "Namibia",
          "Nauru",
          "Nepal",
          "Netherlands",
          "New Zealand",
          "Nicaragua",
          "Niger",
          "Nigeria",
          "Niue",
          "North Macedonia",
          "Norway",
          "Oman",
          "Pakistan",
          "Palau",
          "Panama",
          "Papua New Guinea",
          "Paraguay",
          "Peru",
          "Philippines",
          "Poland",
          "Portugal",
          "Qatar",
          "South Korea",
          "Moldova",
          "Romania",
          "Russia",
          "Rwanda",
          "Saint Kitts and Nevis",
          "Saint Lucia",
          "Saint Vincent and the Grenadines",
          "Samoa",
          "San Marino",
          "Sï¿½ï¿½ï¿½ï¿½ï¿½ï¿½ï¿½ï¿",
          "Saudi Arabia",
          "Senegal",
          "Serbia",
          "Seychelles",
          "Sierra Leone",
          "Singapore",
          "Slovakia",
          "Slovenia",
          "Solomon Islands",
          "Somalia",
          "South Africa",
          "South Sudan",
          "Spain",
          "Sri Lanka",
          "Palestinian National Authority",
          "Sudan",
          "Suriname",
          "Sweden",
          "Switzerland",
          "Syria",
          "Tajikistan",
          "Thailand",
          "East Timor",
          "Togo",
          "Tokelau",
          "Tonga",
          "Trinidad and Tobago",
          "Tunisia",
          "Turkey",
          "Turkmenistan",
          "Turks and Caicos Islands",
          "Tuvalu",
          "Uganda",
          "Ukraine",
          "United Arab Emirates",
          "United Kingdom",
          "Tanzania",
          "United States",
          "Uruguay",
          "Uzbekistan",
          "Vanuatu",
          "Venezuela",
          "Vietnam",
          "Yemen",
          "Zambia",
          "Zimbabwe"
         ],
         "xaxis": "x",
         "y": [
          32.49,
          11.78,
          24.28,
          7.2,
          40.73,
          0,
          15.33,
          17.02,
          13.99,
          12.6,
          9.7,
          14,
          13.97,
          13.99,
          18.18,
          10.65,
          9.9,
          10.3,
          20.79,
          36.22,
          17.26,
          21.75,
          8.11,
          24.82,
          13.92,
          0,
          14.9,
          8.9,
          37.93,
          39.01,
          19.49,
          22.46,
          35.39,
          10.1,
          35.35,
          42.17,
          12.43,
          10.9,
          14.88,
          31.88,
          32.86,
          0,
          13.97,
          35.74,
          9,
          10.17,
          10.46,
          10.7,
          13.89,
          41.18,
          10.6,
          21.47,
          12,
          19.51,
          19.72,
          26.38,
          18.25,
          33.24,
          30.3,
          10.9,
          0,
          32.34,
          21.28,
          8.6,
          11.3,
          31.61,
          38.54,
          13.47,
          9.5,
          29.41,
          8.1,
          16.47,
          24.56,
          36.36,
          35.13,
          19.97,
          24.35,
          0,
          21.6,
          9.6,
          12,
          17.86,
          18.07,
          18.78,
          29.08,
          12.5,
          20.8,
          7.3,
          16.1,
          7.4,
          21.98,
          21.77,
          28.75,
          27.89,
          13.94,
          27.1,
          23.55,
          10,
          17.55,
          26.81,
          33.04,
          18.83,
          9.9,
          10,
          10.3,
          32.66,
          34.12,
          16.75,
          14.2,
          41.54,
          9.2,
          29.03,
          33.69,
          10.2,
          17.6,
          22.82,
          5.9,
          24.13,
          11.73,
          0,
          18.94,
          37.52,
          17.55,
          28.64,
          0,
          19.89,
          9.7,
          11.98,
          20.64,
          46.08,
          37.91,
          0,
          0,
          10.4,
          19.19,
          28.25,
          14,
          18.98,
          27.07,
          20.57,
          17.95,
          20.55,
          10.2,
          8.5,
          9.54,
          6.4,
          10.1,
          9.6,
          11.5,
          31.7,
          12.6,
          12,
          14.24,
          24.38,
          6.8,
          31.54,
          17.8,
          34.52,
          9.2,
          17.1,
          33.41,
          8.8,
          10.6,
          9.4,
          32.44,
          41.75,
          20.51,
          35.01,
          7.9,
          15.83,
          0,
          32.18,
          18.54,
          11.4,
          10,
          23.69,
          30.76,
          10.34,
          29.42,
          33.11,
          0,
          24.3,
          12.94,
          17.56,
          16.03,
          23.83,
          0,
          0,
          38.14,
          8.7,
          10.33,
          11,
          36.7,
          11.6,
          13.86,
          23.3,
          29.6,
          17.88,
          16.75,
          30.45,
          36.19,
          30.68
         ],
         "yaxis": "y"
        }
       ],
       "layout": {
        "coloraxis": {
         "colorbar": {
          "title": {
           "text": "Gross_Primary_Education_Enrollment"
          }
         },
         "colorscale": [
          [
           0,
           "#0d0887"
          ],
          [
           0.1111111111111111,
           "#46039f"
          ],
          [
           0.2222222222222222,
           "#7201a8"
          ],
          [
           0.3333333333333333,
           "#9c179e"
          ],
          [
           0.4444444444444444,
           "#bd3786"
          ],
          [
           0.5555555555555556,
           "#d8576b"
          ],
          [
           0.6666666666666666,
           "#ed7953"
          ],
          [
           0.7777777777777778,
           "#fb9f3a"
          ],
          [
           0.8888888888888888,
           "#fdca26"
          ],
          [
           1,
           "#f0f921"
          ]
         ]
        },
        "hovermode": "closest",
        "legend": {
         "itemsizing": "constant",
         "tracegroupgap": 0
        },
        "template": {
         "data": {
          "bar": [
           {
            "error_x": {
             "color": "#2a3f5f"
            },
            "error_y": {
             "color": "#2a3f5f"
            },
            "marker": {
             "line": {
              "color": "#E5ECF6",
              "width": 0.5
             },
             "pattern": {
              "fillmode": "overlay",
              "size": 10,
              "solidity": 0.2
             }
            },
            "type": "bar"
           }
          ],
          "barpolar": [
           {
            "marker": {
             "line": {
              "color": "#E5ECF6",
              "width": 0.5
             },
             "pattern": {
              "fillmode": "overlay",
              "size": 10,
              "solidity": 0.2
             }
            },
            "type": "barpolar"
           }
          ],
          "carpet": [
           {
            "aaxis": {
             "endlinecolor": "#2a3f5f",
             "gridcolor": "white",
             "linecolor": "white",
             "minorgridcolor": "white",
             "startlinecolor": "#2a3f5f"
            },
            "baxis": {
             "endlinecolor": "#2a3f5f",
             "gridcolor": "white",
             "linecolor": "white",
             "minorgridcolor": "white",
             "startlinecolor": "#2a3f5f"
            },
            "type": "carpet"
           }
          ],
          "choropleth": [
           {
            "colorbar": {
             "outlinewidth": 0,
             "ticks": ""
            },
            "type": "choropleth"
           }
          ],
          "contour": [
           {
            "colorbar": {
             "outlinewidth": 0,
             "ticks": ""
            },
            "colorscale": [
             [
              0,
              "#0d0887"
             ],
             [
              0.1111111111111111,
              "#46039f"
             ],
             [
              0.2222222222222222,
              "#7201a8"
             ],
             [
              0.3333333333333333,
              "#9c179e"
             ],
             [
              0.4444444444444444,
              "#bd3786"
             ],
             [
              0.5555555555555556,
              "#d8576b"
             ],
             [
              0.6666666666666666,
              "#ed7953"
             ],
             [
              0.7777777777777778,
              "#fb9f3a"
             ],
             [
              0.8888888888888888,
              "#fdca26"
             ],
             [
              1,
              "#f0f921"
             ]
            ],
            "type": "contour"
           }
          ],
          "contourcarpet": [
           {
            "colorbar": {
             "outlinewidth": 0,
             "ticks": ""
            },
            "type": "contourcarpet"
           }
          ],
          "heatmap": [
           {
            "colorbar": {
             "outlinewidth": 0,
             "ticks": ""
            },
            "colorscale": [
             [
              0,
              "#0d0887"
             ],
             [
              0.1111111111111111,
              "#46039f"
             ],
             [
              0.2222222222222222,
              "#7201a8"
             ],
             [
              0.3333333333333333,
              "#9c179e"
             ],
             [
              0.4444444444444444,
              "#bd3786"
             ],
             [
              0.5555555555555556,
              "#d8576b"
             ],
             [
              0.6666666666666666,
              "#ed7953"
             ],
             [
              0.7777777777777778,
              "#fb9f3a"
             ],
             [
              0.8888888888888888,
              "#fdca26"
             ],
             [
              1,
              "#f0f921"
             ]
            ],
            "type": "heatmap"
           }
          ],
          "heatmapgl": [
           {
            "colorbar": {
             "outlinewidth": 0,
             "ticks": ""
            },
            "colorscale": [
             [
              0,
              "#0d0887"
             ],
             [
              0.1111111111111111,
              "#46039f"
             ],
             [
              0.2222222222222222,
              "#7201a8"
             ],
             [
              0.3333333333333333,
              "#9c179e"
             ],
             [
              0.4444444444444444,
              "#bd3786"
             ],
             [
              0.5555555555555556,
              "#d8576b"
             ],
             [
              0.6666666666666666,
              "#ed7953"
             ],
             [
              0.7777777777777778,
              "#fb9f3a"
             ],
             [
              0.8888888888888888,
              "#fdca26"
             ],
             [
              1,
              "#f0f921"
             ]
            ],
            "type": "heatmapgl"
           }
          ],
          "histogram": [
           {
            "marker": {
             "pattern": {
              "fillmode": "overlay",
              "size": 10,
              "solidity": 0.2
             }
            },
            "type": "histogram"
           }
          ],
          "histogram2d": [
           {
            "colorbar": {
             "outlinewidth": 0,
             "ticks": ""
            },
            "colorscale": [
             [
              0,
              "#0d0887"
             ],
             [
              0.1111111111111111,
              "#46039f"
             ],
             [
              0.2222222222222222,
              "#7201a8"
             ],
             [
              0.3333333333333333,
              "#9c179e"
             ],
             [
              0.4444444444444444,
              "#bd3786"
             ],
             [
              0.5555555555555556,
              "#d8576b"
             ],
             [
              0.6666666666666666,
              "#ed7953"
             ],
             [
              0.7777777777777778,
              "#fb9f3a"
             ],
             [
              0.8888888888888888,
              "#fdca26"
             ],
             [
              1,
              "#f0f921"
             ]
            ],
            "type": "histogram2d"
           }
          ],
          "histogram2dcontour": [
           {
            "colorbar": {
             "outlinewidth": 0,
             "ticks": ""
            },
            "colorscale": [
             [
              0,
              "#0d0887"
             ],
             [
              0.1111111111111111,
              "#46039f"
             ],
             [
              0.2222222222222222,
              "#7201a8"
             ],
             [
              0.3333333333333333,
              "#9c179e"
             ],
             [
              0.4444444444444444,
              "#bd3786"
             ],
             [
              0.5555555555555556,
              "#d8576b"
             ],
             [
              0.6666666666666666,
              "#ed7953"
             ],
             [
              0.7777777777777778,
              "#fb9f3a"
             ],
             [
              0.8888888888888888,
              "#fdca26"
             ],
             [
              1,
              "#f0f921"
             ]
            ],
            "type": "histogram2dcontour"
           }
          ],
          "mesh3d": [
           {
            "colorbar": {
             "outlinewidth": 0,
             "ticks": ""
            },
            "type": "mesh3d"
           }
          ],
          "parcoords": [
           {
            "line": {
             "colorbar": {
              "outlinewidth": 0,
              "ticks": ""
             }
            },
            "type": "parcoords"
           }
          ],
          "pie": [
           {
            "automargin": true,
            "type": "pie"
           }
          ],
          "scatter": [
           {
            "fillpattern": {
             "fillmode": "overlay",
             "size": 10,
             "solidity": 0.2
            },
            "type": "scatter"
           }
          ],
          "scatter3d": [
           {
            "line": {
             "colorbar": {
              "outlinewidth": 0,
              "ticks": ""
             }
            },
            "marker": {
             "colorbar": {
              "outlinewidth": 0,
              "ticks": ""
             }
            },
            "type": "scatter3d"
           }
          ],
          "scattercarpet": [
           {
            "marker": {
             "colorbar": {
              "outlinewidth": 0,
              "ticks": ""
             }
            },
            "type": "scattercarpet"
           }
          ],
          "scattergeo": [
           {
            "marker": {
             "colorbar": {
              "outlinewidth": 0,
              "ticks": ""
             }
            },
            "type": "scattergeo"
           }
          ],
          "scattergl": [
           {
            "marker": {
             "colorbar": {
              "outlinewidth": 0,
              "ticks": ""
             }
            },
            "type": "scattergl"
           }
          ],
          "scattermapbox": [
           {
            "marker": {
             "colorbar": {
              "outlinewidth": 0,
              "ticks": ""
             }
            },
            "type": "scattermapbox"
           }
          ],
          "scatterpolar": [
           {
            "marker": {
             "colorbar": {
              "outlinewidth": 0,
              "ticks": ""
             }
            },
            "type": "scatterpolar"
           }
          ],
          "scatterpolargl": [
           {
            "marker": {
             "colorbar": {
              "outlinewidth": 0,
              "ticks": ""
             }
            },
            "type": "scatterpolargl"
           }
          ],
          "scatterternary": [
           {
            "marker": {
             "colorbar": {
              "outlinewidth": 0,
              "ticks": ""
             }
            },
            "type": "scatterternary"
           }
          ],
          "surface": [
           {
            "colorbar": {
             "outlinewidth": 0,
             "ticks": ""
            },
            "colorscale": [
             [
              0,
              "#0d0887"
             ],
             [
              0.1111111111111111,
              "#46039f"
             ],
             [
              0.2222222222222222,
              "#7201a8"
             ],
             [
              0.3333333333333333,
              "#9c179e"
             ],
             [
              0.4444444444444444,
              "#bd3786"
             ],
             [
              0.5555555555555556,
              "#d8576b"
             ],
             [
              0.6666666666666666,
              "#ed7953"
             ],
             [
              0.7777777777777778,
              "#fb9f3a"
             ],
             [
              0.8888888888888888,
              "#fdca26"
             ],
             [
              1,
              "#f0f921"
             ]
            ],
            "type": "surface"
           }
          ],
          "table": [
           {
            "cells": {
             "fill": {
              "color": "#EBF0F8"
             },
             "line": {
              "color": "white"
             }
            },
            "header": {
             "fill": {
              "color": "#C8D4E3"
             },
             "line": {
              "color": "white"
             }
            },
            "type": "table"
           }
          ]
         },
         "layout": {
          "annotationdefaults": {
           "arrowcolor": "#2a3f5f",
           "arrowhead": 0,
           "arrowwidth": 1
          },
          "autotypenumbers": "strict",
          "coloraxis": {
           "colorbar": {
            "outlinewidth": 0,
            "ticks": ""
           }
          },
          "colorscale": {
           "diverging": [
            [
             0,
             "#8e0152"
            ],
            [
             0.1,
             "#c51b7d"
            ],
            [
             0.2,
             "#de77ae"
            ],
            [
             0.3,
             "#f1b6da"
            ],
            [
             0.4,
             "#fde0ef"
            ],
            [
             0.5,
             "#f7f7f7"
            ],
            [
             0.6,
             "#e6f5d0"
            ],
            [
             0.7,
             "#b8e186"
            ],
            [
             0.8,
             "#7fbc41"
            ],
            [
             0.9,
             "#4d9221"
            ],
            [
             1,
             "#276419"
            ]
           ],
           "sequential": [
            [
             0,
             "#0d0887"
            ],
            [
             0.1111111111111111,
             "#46039f"
            ],
            [
             0.2222222222222222,
             "#7201a8"
            ],
            [
             0.3333333333333333,
             "#9c179e"
            ],
            [
             0.4444444444444444,
             "#bd3786"
            ],
            [
             0.5555555555555556,
             "#d8576b"
            ],
            [
             0.6666666666666666,
             "#ed7953"
            ],
            [
             0.7777777777777778,
             "#fb9f3a"
            ],
            [
             0.8888888888888888,
             "#fdca26"
            ],
            [
             1,
             "#f0f921"
            ]
           ],
           "sequentialminus": [
            [
             0,
             "#0d0887"
            ],
            [
             0.1111111111111111,
             "#46039f"
            ],
            [
             0.2222222222222222,
             "#7201a8"
            ],
            [
             0.3333333333333333,
             "#9c179e"
            ],
            [
             0.4444444444444444,
             "#bd3786"
            ],
            [
             0.5555555555555556,
             "#d8576b"
            ],
            [
             0.6666666666666666,
             "#ed7953"
            ],
            [
             0.7777777777777778,
             "#fb9f3a"
            ],
            [
             0.8888888888888888,
             "#fdca26"
            ],
            [
             1,
             "#f0f921"
            ]
           ]
          },
          "colorway": [
           "#636efa",
           "#EF553B",
           "#00cc96",
           "#ab63fa",
           "#FFA15A",
           "#19d3f3",
           "#FF6692",
           "#B6E880",
           "#FF97FF",
           "#FECB52"
          ],
          "font": {
           "color": "#2a3f5f"
          },
          "geo": {
           "bgcolor": "white",
           "lakecolor": "white",
           "landcolor": "#E5ECF6",
           "showlakes": true,
           "showland": true,
           "subunitcolor": "white"
          },
          "hoverlabel": {
           "align": "left"
          },
          "hovermode": "closest",
          "mapbox": {
           "style": "light"
          },
          "paper_bgcolor": "white",
          "plot_bgcolor": "#E5ECF6",
          "polar": {
           "angularaxis": {
            "gridcolor": "white",
            "linecolor": "white",
            "ticks": ""
           },
           "bgcolor": "#E5ECF6",
           "radialaxis": {
            "gridcolor": "white",
            "linecolor": "white",
            "ticks": ""
           }
          },
          "scene": {
           "xaxis": {
            "backgroundcolor": "#E5ECF6",
            "gridcolor": "white",
            "gridwidth": 2,
            "linecolor": "white",
            "showbackground": true,
            "ticks": "",
            "zerolinecolor": "white"
           },
           "yaxis": {
            "backgroundcolor": "#E5ECF6",
            "gridcolor": "white",
            "gridwidth": 2,
            "linecolor": "white",
            "showbackground": true,
            "ticks": "",
            "zerolinecolor": "white"
           },
           "zaxis": {
            "backgroundcolor": "#E5ECF6",
            "gridcolor": "white",
            "gridwidth": 2,
            "linecolor": "white",
            "showbackground": true,
            "ticks": "",
            "zerolinecolor": "white"
           }
          },
          "shapedefaults": {
           "line": {
            "color": "#2a3f5f"
           }
          },
          "ternary": {
           "aaxis": {
            "gridcolor": "white",
            "linecolor": "white",
            "ticks": ""
           },
           "baxis": {
            "gridcolor": "white",
            "linecolor": "white",
            "ticks": ""
           },
           "bgcolor": "#E5ECF6",
           "caxis": {
            "gridcolor": "white",
            "linecolor": "white",
            "ticks": ""
           }
          },
          "title": {
           "x": 0.05
          },
          "xaxis": {
           "automargin": true,
           "gridcolor": "white",
           "linecolor": "white",
           "ticks": "",
           "title": {
            "standoff": 15
           },
           "zerolinecolor": "white",
           "zerolinewidth": 2
          },
          "yaxis": {
           "automargin": true,
           "gridcolor": "white",
           "linecolor": "white",
           "ticks": "",
           "title": {
            "standoff": 15
           },
           "zerolinecolor": "white",
           "zerolinewidth": 2
          }
         }
        },
        "title": {
         "text": "Relationship Between Birth Rate and Primary Education Enrollment"
        },
        "xaxis": {
         "anchor": "y",
         "domain": [
          0,
          1
         ],
         "title": {
          "text": "Countries and areas"
         }
        },
        "yaxis": {
         "anchor": "x",
         "domain": [
          0,
          1
         ],
         "title": {
          "text": "Birth_Rate"
         }
        }
       }
      },
      "text/html": [
       "<div>                            <div id=\"787cce55-87a9-47f6-9e5b-75e7a2271905\" class=\"plotly-graph-div\" style=\"height:525px; width:100%;\"></div>            <script type=\"text/javascript\">                require([\"plotly\"], function(Plotly) {                    window.PLOTLYENV=window.PLOTLYENV || {};                                    if (document.getElementById(\"787cce55-87a9-47f6-9e5b-75e7a2271905\")) {                    Plotly.newPlot(                        \"787cce55-87a9-47f6-9e5b-75e7a2271905\",                        [{\"hovertemplate\":\"<b>%{hovertext}</b><br><br>Countries and areas=%{x}<br>Birth_Rate=%{marker.size}<br>Gross_Primary_Education_Enrollment=%{marker.color}<extra></extra>\",\"hovertext\":[\"Afghanistan\",\"Albania\",\"Algeria\",\"Andorra\",\"Angola\",\"Anguilla\",\"Antigua and Barbuda\",\"Argentina\",\"Armenia\",\"Australia\",\"Austria\",\"Azerbaijan\",\"The Bahamas\",\"Bahrain\",\"Bangladesh\",\"Barbados\",\"Belarus\",\"Belgium\",\"Belize\",\"Benin\",\"Bhutan\",\"Bolivia\",\"Bosnia and Herzegovina\",\"Botswana\",\"Brazil\",\"British Virgin Islands\",\"Brunei\",\"Bulgaria\",\"Burkina Faso\",\"Burundi\",\"Cape Verde\",\"Cambodia\",\"Cameroon\",\"Canada\",\"Central African Republic\",\"Chad\",\"Chile\",\"China\",\"Colombia\",\"Comoros\",\"Republic of the Congo\",\"Cook Islands\",\"Costa Rica\",\"Ivory Coast\",\"Croatia\",\"Cuba\",\"Cyprus\",\"Czech Republic\",\"North Korea\",\"Democratic Republic of the Congo\",\"Denmark\",\"Djibouti\",\"Dominica\",\"Dominican Republic\",\"Ecuador\",\"Egypt\",\"El Salvador\",\"Equatorial Guinea\",\"Eritrea\",\"Estonia\",\"Eswatini\",\"Ethiopia\",\"Fiji\",\"Finland\",\"France\",\"Gabon\",\"The Gambia\",\"Georgia\",\"Germany\",\"Ghana\",\"Greece\",\"Grenada\",\"Guatemala\",\"Guinea\",\"Guinea0Bissau\",\"Guyana\",\"Haiti\",\"Vatican City\",\"Honduras\",\"Hungary\",\"Iceland\",\"India\",\"Indonesia\",\"Iran\",\"Iraq\",\"Republic of Ireland\",\"Israel\",\"Italy\",\"Jamaica\",\"Japan\",\"Jordan\",\"Kazakhstan\",\"Kenya\",\"Kiribati\",\"Kuwait\",\"Kyrgyzstan\",\"Laos\",\"Latvia\",\"Lebanon\",\"Lesotho\",\"Liberia\",\"Libya\",\"Liechtenstein\",\"Lithuania\",\"Luxembourg\",\"Madagascar\",\"Malawi\",\"Malaysia\",\"Maldives\",\"Mali\",\"Malta\",\"Marshall Islands\",\"Mauritania\",\"Mauritius\",\"Mexico\",\"Federated States of Micronesia\",\"Monaco\",\"Mongolia\",\"Montenegro\",\"Montserrat\",\"Morocco\",\"Mozambique\",\"Myanmar\",\"Namibia\",\"Nauru\",\"Nepal\",\"Netherlands\",\"New Zealand\",\"Nicaragua\",\"Niger\",\"Nigeria\",\"Niue\",\"North Macedonia\",\"Norway\",\"Oman\",\"Pakistan\",\"Palau\",\"Panama\",\"Papua New Guinea\",\"Paraguay\",\"Peru\",\"Philippines\",\"Poland\",\"Portugal\",\"Qatar\",\"South Korea\",\"Moldova\",\"Romania\",\"Russia\",\"Rwanda\",\"Saint Kitts and Nevis\",\"Saint Lucia\",\"Saint Vincent and the Grenadines\",\"Samoa\",\"San Marino\",\"S\\u00ef\\u00bf\\u00bd\\u00ef\\u00bf\\u00bd\\u00ef\\u00bf\\u00bd\\u00ef\\u00bf\\u00bd\\u00ef\\u00bf\\u00bd\\u00ef\\u00bf\\u00bd\\u00ef\\u00bf\\u00bd\\u00ef\\u00bf\",\"Saudi Arabia\",\"Senegal\",\"Serbia\",\"Seychelles\",\"Sierra Leone\",\"Singapore\",\"Slovakia\",\"Slovenia\",\"Solomon Islands\",\"Somalia\",\"South Africa\",\"South Sudan\",\"Spain\",\"Sri Lanka\",\"Palestinian National Authority\",\"Sudan\",\"Suriname\",\"Sweden\",\"Switzerland\",\"Syria\",\"Tajikistan\",\"Thailand\",\"East Timor\",\"Togo\",\"Tokelau\",\"Tonga\",\"Trinidad and Tobago\",\"Tunisia\",\"Turkey\",\"Turkmenistan\",\"Turks and Caicos Islands\",\"Tuvalu\",\"Uganda\",\"Ukraine\",\"United Arab Emirates\",\"United Kingdom\",\"Tanzania\",\"United States\",\"Uruguay\",\"Uzbekistan\",\"Vanuatu\",\"Venezuela\",\"Vietnam\",\"Yemen\",\"Zambia\",\"Zimbabwe\"],\"legendgroup\":\"\",\"marker\":{\"color\":[104.0,107.0,109.9,106.4,113.5,0.0,105.0,109.7,92.7,100.3,103.1,99.7,81.4,99.4,116.5,99.4,100.5,103.9,111.7,122.0,100.1,98.2,0.0,103.2,115.4,0.0,103.2,89.3,96.1,121.4,104.0,107.4,103.4,100.9,102.0,86.8,101.4,100.2,114.5,99.5,106.6,0.0,113.3,99.8,96.5,101.9,99.3,100.7,112.8,108.0,101.3,75.3,114.7,105.7,103.3,106.3,94.8,61.8,68.4,97.2,0.0,101.0,106.4,100.2,102.5,139.9,98.0,98.6,104.0,104.8,99.6,106.9,101.9,91.5,118.7,97.8,113.6,0.0,91.5,100.8,100.4,113.0,106.4,110.7,108.7,100.9,104.9,101.9,91.0,98.8,81.5,104.4,103.2,101.3,92.4,107.6,102.4,99.4,95.1,120.9,85.1,109.0,104.7,103.9,102.3,142.5,142.5,105.3,97.1,75.6,105.0,84.7,99.9,101.1,105.8,97.2,0.0,104.0,100.0,0.0,113.9,112.6,112.3,124.2,0.0,142.1,104.2,100.0,120.6,74.7,84.7,0.0,0.0,100.3,103.4,94.3,112.6,94.4,108.5,104.4,106.9,107.5,100.0,106.2,103.8,98.1,90.6,85.2,102.6,133.0,108.7,102.6,113.4,110.5,108.1,106.8,99.8,81.0,100.3,100.4,112.8,100.6,98.7,100.4,106.2,23.4,100.9,73.0,102.7,100.2,0.0,76.8,108.8,126.6,105.2,81.7,100.9,99.8,115.3,123.8,0.0,116.3,106.2,115.4,93.2,88.4,0.0,0.0,102.7,99.0,108.4,101.2,94.2,101.8,108.5,104.2,109.3,97.2,110.6,93.6,98.7,109.9],\"coloraxis\":\"coloraxis\",\"size\":[32.49,11.78,24.28,7.2,40.73,0.0,15.33,17.02,13.99,12.6,9.7,14.0,13.97,13.99,18.18,10.65,9.9,10.3,20.79,36.22,17.26,21.75,8.11,24.82,13.92,0.0,14.9,8.9,37.93,39.01,19.49,22.46,35.39,10.1,35.35,42.17,12.43,10.9,14.88,31.88,32.86,0.0,13.97,35.74,9.0,10.17,10.46,10.7,13.89,41.18,10.6,21.47,12.0,19.51,19.72,26.38,18.25,33.24,30.3,10.9,0.0,32.34,21.28,8.6,11.3,31.61,38.54,13.47,9.5,29.41,8.1,16.47,24.56,36.36,35.13,19.97,24.35,0.0,21.6,9.6,12.0,17.86,18.07,18.78,29.08,12.5,20.8,7.3,16.1,7.4,21.98,21.77,28.75,27.89,13.94,27.1,23.55,10.0,17.55,26.81,33.04,18.83,9.9,10.0,10.3,32.66,34.12,16.75,14.2,41.54,9.2,29.03,33.69,10.2,17.6,22.82,5.9,24.13,11.73,0.0,18.94,37.52,17.55,28.64,0.0,19.89,9.7,11.98,20.64,46.08,37.91,0.0,0.0,10.4,19.19,28.25,14.0,18.98,27.07,20.57,17.95,20.55,10.2,8.5,9.54,6.4,10.1,9.6,11.5,31.7,12.6,12.0,14.24,24.38,6.8,31.54,17.8,34.52,9.2,17.1,33.41,8.8,10.6,9.4,32.44,41.75,20.51,35.01,7.9,15.83,0.0,32.18,18.54,11.4,10.0,23.69,30.76,10.34,29.42,33.11,0.0,24.3,12.94,17.56,16.03,23.83,0.0,0.0,38.14,8.7,10.33,11.0,36.7,11.6,13.86,23.3,29.6,17.88,16.75,30.45,36.19,30.68],\"sizemode\":\"area\",\"sizeref\":0.1152,\"symbol\":\"circle\"},\"mode\":\"markers\",\"name\":\"\",\"orientation\":\"v\",\"showlegend\":false,\"x\":[\"Afghanistan\",\"Albania\",\"Algeria\",\"Andorra\",\"Angola\",\"Anguilla\",\"Antigua and Barbuda\",\"Argentina\",\"Armenia\",\"Australia\",\"Austria\",\"Azerbaijan\",\"The Bahamas\",\"Bahrain\",\"Bangladesh\",\"Barbados\",\"Belarus\",\"Belgium\",\"Belize\",\"Benin\",\"Bhutan\",\"Bolivia\",\"Bosnia and Herzegovina\",\"Botswana\",\"Brazil\",\"British Virgin Islands\",\"Brunei\",\"Bulgaria\",\"Burkina Faso\",\"Burundi\",\"Cape Verde\",\"Cambodia\",\"Cameroon\",\"Canada\",\"Central African Republic\",\"Chad\",\"Chile\",\"China\",\"Colombia\",\"Comoros\",\"Republic of the Congo\",\"Cook Islands\",\"Costa Rica\",\"Ivory Coast\",\"Croatia\",\"Cuba\",\"Cyprus\",\"Czech Republic\",\"North Korea\",\"Democratic Republic of the Congo\",\"Denmark\",\"Djibouti\",\"Dominica\",\"Dominican Republic\",\"Ecuador\",\"Egypt\",\"El Salvador\",\"Equatorial Guinea\",\"Eritrea\",\"Estonia\",\"Eswatini\",\"Ethiopia\",\"Fiji\",\"Finland\",\"France\",\"Gabon\",\"The Gambia\",\"Georgia\",\"Germany\",\"Ghana\",\"Greece\",\"Grenada\",\"Guatemala\",\"Guinea\",\"Guinea0Bissau\",\"Guyana\",\"Haiti\",\"Vatican City\",\"Honduras\",\"Hungary\",\"Iceland\",\"India\",\"Indonesia\",\"Iran\",\"Iraq\",\"Republic of Ireland\",\"Israel\",\"Italy\",\"Jamaica\",\"Japan\",\"Jordan\",\"Kazakhstan\",\"Kenya\",\"Kiribati\",\"Kuwait\",\"Kyrgyzstan\",\"Laos\",\"Latvia\",\"Lebanon\",\"Lesotho\",\"Liberia\",\"Libya\",\"Liechtenstein\",\"Lithuania\",\"Luxembourg\",\"Madagascar\",\"Malawi\",\"Malaysia\",\"Maldives\",\"Mali\",\"Malta\",\"Marshall Islands\",\"Mauritania\",\"Mauritius\",\"Mexico\",\"Federated States of Micronesia\",\"Monaco\",\"Mongolia\",\"Montenegro\",\"Montserrat\",\"Morocco\",\"Mozambique\",\"Myanmar\",\"Namibia\",\"Nauru\",\"Nepal\",\"Netherlands\",\"New Zealand\",\"Nicaragua\",\"Niger\",\"Nigeria\",\"Niue\",\"North Macedonia\",\"Norway\",\"Oman\",\"Pakistan\",\"Palau\",\"Panama\",\"Papua New Guinea\",\"Paraguay\",\"Peru\",\"Philippines\",\"Poland\",\"Portugal\",\"Qatar\",\"South Korea\",\"Moldova\",\"Romania\",\"Russia\",\"Rwanda\",\"Saint Kitts and Nevis\",\"Saint Lucia\",\"Saint Vincent and the Grenadines\",\"Samoa\",\"San Marino\",\"S\\u00ef\\u00bf\\u00bd\\u00ef\\u00bf\\u00bd\\u00ef\\u00bf\\u00bd\\u00ef\\u00bf\\u00bd\\u00ef\\u00bf\\u00bd\\u00ef\\u00bf\\u00bd\\u00ef\\u00bf\\u00bd\\u00ef\\u00bf\",\"Saudi Arabia\",\"Senegal\",\"Serbia\",\"Seychelles\",\"Sierra Leone\",\"Singapore\",\"Slovakia\",\"Slovenia\",\"Solomon Islands\",\"Somalia\",\"South Africa\",\"South Sudan\",\"Spain\",\"Sri Lanka\",\"Palestinian National Authority\",\"Sudan\",\"Suriname\",\"Sweden\",\"Switzerland\",\"Syria\",\"Tajikistan\",\"Thailand\",\"East Timor\",\"Togo\",\"Tokelau\",\"Tonga\",\"Trinidad and Tobago\",\"Tunisia\",\"Turkey\",\"Turkmenistan\",\"Turks and Caicos Islands\",\"Tuvalu\",\"Uganda\",\"Ukraine\",\"United Arab Emirates\",\"United Kingdom\",\"Tanzania\",\"United States\",\"Uruguay\",\"Uzbekistan\",\"Vanuatu\",\"Venezuela\",\"Vietnam\",\"Yemen\",\"Zambia\",\"Zimbabwe\"],\"xaxis\":\"x\",\"y\":[32.49,11.78,24.28,7.2,40.73,0.0,15.33,17.02,13.99,12.6,9.7,14.0,13.97,13.99,18.18,10.65,9.9,10.3,20.79,36.22,17.26,21.75,8.11,24.82,13.92,0.0,14.9,8.9,37.93,39.01,19.49,22.46,35.39,10.1,35.35,42.17,12.43,10.9,14.88,31.88,32.86,0.0,13.97,35.74,9.0,10.17,10.46,10.7,13.89,41.18,10.6,21.47,12.0,19.51,19.72,26.38,18.25,33.24,30.3,10.9,0.0,32.34,21.28,8.6,11.3,31.61,38.54,13.47,9.5,29.41,8.1,16.47,24.56,36.36,35.13,19.97,24.35,0.0,21.6,9.6,12.0,17.86,18.07,18.78,29.08,12.5,20.8,7.3,16.1,7.4,21.98,21.77,28.75,27.89,13.94,27.1,23.55,10.0,17.55,26.81,33.04,18.83,9.9,10.0,10.3,32.66,34.12,16.75,14.2,41.54,9.2,29.03,33.69,10.2,17.6,22.82,5.9,24.13,11.73,0.0,18.94,37.52,17.55,28.64,0.0,19.89,9.7,11.98,20.64,46.08,37.91,0.0,0.0,10.4,19.19,28.25,14.0,18.98,27.07,20.57,17.95,20.55,10.2,8.5,9.54,6.4,10.1,9.6,11.5,31.7,12.6,12.0,14.24,24.38,6.8,31.54,17.8,34.52,9.2,17.1,33.41,8.8,10.6,9.4,32.44,41.75,20.51,35.01,7.9,15.83,0.0,32.18,18.54,11.4,10.0,23.69,30.76,10.34,29.42,33.11,0.0,24.3,12.94,17.56,16.03,23.83,0.0,0.0,38.14,8.7,10.33,11.0,36.7,11.6,13.86,23.3,29.6,17.88,16.75,30.45,36.19,30.68],\"yaxis\":\"y\",\"type\":\"scatter\"}],                        {\"template\":{\"data\":{\"histogram2dcontour\":[{\"type\":\"histogram2dcontour\",\"colorbar\":{\"outlinewidth\":0,\"ticks\":\"\"},\"colorscale\":[[0.0,\"#0d0887\"],[0.1111111111111111,\"#46039f\"],[0.2222222222222222,\"#7201a8\"],[0.3333333333333333,\"#9c179e\"],[0.4444444444444444,\"#bd3786\"],[0.5555555555555556,\"#d8576b\"],[0.6666666666666666,\"#ed7953\"],[0.7777777777777778,\"#fb9f3a\"],[0.8888888888888888,\"#fdca26\"],[1.0,\"#f0f921\"]]}],\"choropleth\":[{\"type\":\"choropleth\",\"colorbar\":{\"outlinewidth\":0,\"ticks\":\"\"}}],\"histogram2d\":[{\"type\":\"histogram2d\",\"colorbar\":{\"outlinewidth\":0,\"ticks\":\"\"},\"colorscale\":[[0.0,\"#0d0887\"],[0.1111111111111111,\"#46039f\"],[0.2222222222222222,\"#7201a8\"],[0.3333333333333333,\"#9c179e\"],[0.4444444444444444,\"#bd3786\"],[0.5555555555555556,\"#d8576b\"],[0.6666666666666666,\"#ed7953\"],[0.7777777777777778,\"#fb9f3a\"],[0.8888888888888888,\"#fdca26\"],[1.0,\"#f0f921\"]]}],\"heatmap\":[{\"type\":\"heatmap\",\"colorbar\":{\"outlinewidth\":0,\"ticks\":\"\"},\"colorscale\":[[0.0,\"#0d0887\"],[0.1111111111111111,\"#46039f\"],[0.2222222222222222,\"#7201a8\"],[0.3333333333333333,\"#9c179e\"],[0.4444444444444444,\"#bd3786\"],[0.5555555555555556,\"#d8576b\"],[0.6666666666666666,\"#ed7953\"],[0.7777777777777778,\"#fb9f3a\"],[0.8888888888888888,\"#fdca26\"],[1.0,\"#f0f921\"]]}],\"heatmapgl\":[{\"type\":\"heatmapgl\",\"colorbar\":{\"outlinewidth\":0,\"ticks\":\"\"},\"colorscale\":[[0.0,\"#0d0887\"],[0.1111111111111111,\"#46039f\"],[0.2222222222222222,\"#7201a8\"],[0.3333333333333333,\"#9c179e\"],[0.4444444444444444,\"#bd3786\"],[0.5555555555555556,\"#d8576b\"],[0.6666666666666666,\"#ed7953\"],[0.7777777777777778,\"#fb9f3a\"],[0.8888888888888888,\"#fdca26\"],[1.0,\"#f0f921\"]]}],\"contourcarpet\":[{\"type\":\"contourcarpet\",\"colorbar\":{\"outlinewidth\":0,\"ticks\":\"\"}}],\"contour\":[{\"type\":\"contour\",\"colorbar\":{\"outlinewidth\":0,\"ticks\":\"\"},\"colorscale\":[[0.0,\"#0d0887\"],[0.1111111111111111,\"#46039f\"],[0.2222222222222222,\"#7201a8\"],[0.3333333333333333,\"#9c179e\"],[0.4444444444444444,\"#bd3786\"],[0.5555555555555556,\"#d8576b\"],[0.6666666666666666,\"#ed7953\"],[0.7777777777777778,\"#fb9f3a\"],[0.8888888888888888,\"#fdca26\"],[1.0,\"#f0f921\"]]}],\"surface\":[{\"type\":\"surface\",\"colorbar\":{\"outlinewidth\":0,\"ticks\":\"\"},\"colorscale\":[[0.0,\"#0d0887\"],[0.1111111111111111,\"#46039f\"],[0.2222222222222222,\"#7201a8\"],[0.3333333333333333,\"#9c179e\"],[0.4444444444444444,\"#bd3786\"],[0.5555555555555556,\"#d8576b\"],[0.6666666666666666,\"#ed7953\"],[0.7777777777777778,\"#fb9f3a\"],[0.8888888888888888,\"#fdca26\"],[1.0,\"#f0f921\"]]}],\"mesh3d\":[{\"type\":\"mesh3d\",\"colorbar\":{\"outlinewidth\":0,\"ticks\":\"\"}}],\"scatter\":[{\"fillpattern\":{\"fillmode\":\"overlay\",\"size\":10,\"solidity\":0.2},\"type\":\"scatter\"}],\"parcoords\":[{\"type\":\"parcoords\",\"line\":{\"colorbar\":{\"outlinewidth\":0,\"ticks\":\"\"}}}],\"scatterpolargl\":[{\"type\":\"scatterpolargl\",\"marker\":{\"colorbar\":{\"outlinewidth\":0,\"ticks\":\"\"}}}],\"bar\":[{\"error_x\":{\"color\":\"#2a3f5f\"},\"error_y\":{\"color\":\"#2a3f5f\"},\"marker\":{\"line\":{\"color\":\"#E5ECF6\",\"width\":0.5},\"pattern\":{\"fillmode\":\"overlay\",\"size\":10,\"solidity\":0.2}},\"type\":\"bar\"}],\"scattergeo\":[{\"type\":\"scattergeo\",\"marker\":{\"colorbar\":{\"outlinewidth\":0,\"ticks\":\"\"}}}],\"scatterpolar\":[{\"type\":\"scatterpolar\",\"marker\":{\"colorbar\":{\"outlinewidth\":0,\"ticks\":\"\"}}}],\"histogram\":[{\"marker\":{\"pattern\":{\"fillmode\":\"overlay\",\"size\":10,\"solidity\":0.2}},\"type\":\"histogram\"}],\"scattergl\":[{\"type\":\"scattergl\",\"marker\":{\"colorbar\":{\"outlinewidth\":0,\"ticks\":\"\"}}}],\"scatter3d\":[{\"type\":\"scatter3d\",\"line\":{\"colorbar\":{\"outlinewidth\":0,\"ticks\":\"\"}},\"marker\":{\"colorbar\":{\"outlinewidth\":0,\"ticks\":\"\"}}}],\"scattermapbox\":[{\"type\":\"scattermapbox\",\"marker\":{\"colorbar\":{\"outlinewidth\":0,\"ticks\":\"\"}}}],\"scatterternary\":[{\"type\":\"scatterternary\",\"marker\":{\"colorbar\":{\"outlinewidth\":0,\"ticks\":\"\"}}}],\"scattercarpet\":[{\"type\":\"scattercarpet\",\"marker\":{\"colorbar\":{\"outlinewidth\":0,\"ticks\":\"\"}}}],\"carpet\":[{\"aaxis\":{\"endlinecolor\":\"#2a3f5f\",\"gridcolor\":\"white\",\"linecolor\":\"white\",\"minorgridcolor\":\"white\",\"startlinecolor\":\"#2a3f5f\"},\"baxis\":{\"endlinecolor\":\"#2a3f5f\",\"gridcolor\":\"white\",\"linecolor\":\"white\",\"minorgridcolor\":\"white\",\"startlinecolor\":\"#2a3f5f\"},\"type\":\"carpet\"}],\"table\":[{\"cells\":{\"fill\":{\"color\":\"#EBF0F8\"},\"line\":{\"color\":\"white\"}},\"header\":{\"fill\":{\"color\":\"#C8D4E3\"},\"line\":{\"color\":\"white\"}},\"type\":\"table\"}],\"barpolar\":[{\"marker\":{\"line\":{\"color\":\"#E5ECF6\",\"width\":0.5},\"pattern\":{\"fillmode\":\"overlay\",\"size\":10,\"solidity\":0.2}},\"type\":\"barpolar\"}],\"pie\":[{\"automargin\":true,\"type\":\"pie\"}]},\"layout\":{\"autotypenumbers\":\"strict\",\"colorway\":[\"#636efa\",\"#EF553B\",\"#00cc96\",\"#ab63fa\",\"#FFA15A\",\"#19d3f3\",\"#FF6692\",\"#B6E880\",\"#FF97FF\",\"#FECB52\"],\"font\":{\"color\":\"#2a3f5f\"},\"hovermode\":\"closest\",\"hoverlabel\":{\"align\":\"left\"},\"paper_bgcolor\":\"white\",\"plot_bgcolor\":\"#E5ECF6\",\"polar\":{\"bgcolor\":\"#E5ECF6\",\"angularaxis\":{\"gridcolor\":\"white\",\"linecolor\":\"white\",\"ticks\":\"\"},\"radialaxis\":{\"gridcolor\":\"white\",\"linecolor\":\"white\",\"ticks\":\"\"}},\"ternary\":{\"bgcolor\":\"#E5ECF6\",\"aaxis\":{\"gridcolor\":\"white\",\"linecolor\":\"white\",\"ticks\":\"\"},\"baxis\":{\"gridcolor\":\"white\",\"linecolor\":\"white\",\"ticks\":\"\"},\"caxis\":{\"gridcolor\":\"white\",\"linecolor\":\"white\",\"ticks\":\"\"}},\"coloraxis\":{\"colorbar\":{\"outlinewidth\":0,\"ticks\":\"\"}},\"colorscale\":{\"sequential\":[[0.0,\"#0d0887\"],[0.1111111111111111,\"#46039f\"],[0.2222222222222222,\"#7201a8\"],[0.3333333333333333,\"#9c179e\"],[0.4444444444444444,\"#bd3786\"],[0.5555555555555556,\"#d8576b\"],[0.6666666666666666,\"#ed7953\"],[0.7777777777777778,\"#fb9f3a\"],[0.8888888888888888,\"#fdca26\"],[1.0,\"#f0f921\"]],\"sequentialminus\":[[0.0,\"#0d0887\"],[0.1111111111111111,\"#46039f\"],[0.2222222222222222,\"#7201a8\"],[0.3333333333333333,\"#9c179e\"],[0.4444444444444444,\"#bd3786\"],[0.5555555555555556,\"#d8576b\"],[0.6666666666666666,\"#ed7953\"],[0.7777777777777778,\"#fb9f3a\"],[0.8888888888888888,\"#fdca26\"],[1.0,\"#f0f921\"]],\"diverging\":[[0,\"#8e0152\"],[0.1,\"#c51b7d\"],[0.2,\"#de77ae\"],[0.3,\"#f1b6da\"],[0.4,\"#fde0ef\"],[0.5,\"#f7f7f7\"],[0.6,\"#e6f5d0\"],[0.7,\"#b8e186\"],[0.8,\"#7fbc41\"],[0.9,\"#4d9221\"],[1,\"#276419\"]]},\"xaxis\":{\"gridcolor\":\"white\",\"linecolor\":\"white\",\"ticks\":\"\",\"title\":{\"standoff\":15},\"zerolinecolor\":\"white\",\"automargin\":true,\"zerolinewidth\":2},\"yaxis\":{\"gridcolor\":\"white\",\"linecolor\":\"white\",\"ticks\":\"\",\"title\":{\"standoff\":15},\"zerolinecolor\":\"white\",\"automargin\":true,\"zerolinewidth\":2},\"scene\":{\"xaxis\":{\"backgroundcolor\":\"#E5ECF6\",\"gridcolor\":\"white\",\"linecolor\":\"white\",\"showbackground\":true,\"ticks\":\"\",\"zerolinecolor\":\"white\",\"gridwidth\":2},\"yaxis\":{\"backgroundcolor\":\"#E5ECF6\",\"gridcolor\":\"white\",\"linecolor\":\"white\",\"showbackground\":true,\"ticks\":\"\",\"zerolinecolor\":\"white\",\"gridwidth\":2},\"zaxis\":{\"backgroundcolor\":\"#E5ECF6\",\"gridcolor\":\"white\",\"linecolor\":\"white\",\"showbackground\":true,\"ticks\":\"\",\"zerolinecolor\":\"white\",\"gridwidth\":2}},\"shapedefaults\":{\"line\":{\"color\":\"#2a3f5f\"}},\"annotationdefaults\":{\"arrowcolor\":\"#2a3f5f\",\"arrowhead\":0,\"arrowwidth\":1},\"geo\":{\"bgcolor\":\"white\",\"landcolor\":\"#E5ECF6\",\"subunitcolor\":\"white\",\"showland\":true,\"showlakes\":true,\"lakecolor\":\"white\"},\"title\":{\"x\":0.05},\"mapbox\":{\"style\":\"light\"}}},\"xaxis\":{\"anchor\":\"y\",\"domain\":[0.0,1.0],\"title\":{\"text\":\"Countries and areas\"}},\"yaxis\":{\"anchor\":\"x\",\"domain\":[0.0,1.0],\"title\":{\"text\":\"Birth_Rate\"}},\"coloraxis\":{\"colorbar\":{\"title\":{\"text\":\"Gross_Primary_Education_Enrollment\"}},\"colorscale\":[[0.0,\"#0d0887\"],[0.1111111111111111,\"#46039f\"],[0.2222222222222222,\"#7201a8\"],[0.3333333333333333,\"#9c179e\"],[0.4444444444444444,\"#bd3786\"],[0.5555555555555556,\"#d8576b\"],[0.6666666666666666,\"#ed7953\"],[0.7777777777777778,\"#fb9f3a\"],[0.8888888888888888,\"#fdca26\"],[1.0,\"#f0f921\"]]},\"legend\":{\"tracegroupgap\":0,\"itemsizing\":\"constant\"},\"title\":{\"text\":\"Relationship Between Birth Rate and Primary Education Enrollment\"},\"hovermode\":\"closest\"},                        {\"responsive\": true}                    ).then(function(){\n",
       "                            \n",
       "var gd = document.getElementById('787cce55-87a9-47f6-9e5b-75e7a2271905');\n",
       "var x = new MutationObserver(function (mutations, observer) {{\n",
       "        var display = window.getComputedStyle(gd).display;\n",
       "        if (!display || display === 'none') {{\n",
       "            console.log([gd, 'removed!']);\n",
       "            Plotly.purge(gd);\n",
       "            observer.disconnect();\n",
       "        }}\n",
       "}});\n",
       "\n",
       "// Listen for the removal of the full notebook cells\n",
       "var notebookContainer = gd.closest('#notebook-container');\n",
       "if (notebookContainer) {{\n",
       "    x.observe(notebookContainer, {childList: true});\n",
       "}}\n",
       "\n",
       "// Listen for the clearing of the current output cell\n",
       "var outputEl = gd.closest('.output');\n",
       "if (outputEl) {{\n",
       "    x.observe(outputEl, {childList: true});\n",
       "}}\n",
       "\n",
       "                        })                };                });            </script>        </div>"
      ]
     },
     "metadata": {},
     "output_type": "display_data"
    }
   ],
   "source": [
    "# Task 2.1: Gender inequality in education data\n",
    "fig_preprimarygender_inequality = px.bar(df, x='Countries and areas',\n",
    "                               y=['OOSR_Pre0Primary_Age_Male', 'OOSR_Pre0Primary_Age_Female'],\n",
    "                               title='Out-of-School Rates by Gender (Pre-Primary Age)',\n",
    "                               labels={'value': 'Rate', 'variable': 'Gender'})\n",
    "fig_preprimarygender_inequality.update_traces(hoverinfo='all', hovertemplate=\"Country: %{x}<br>Rate: %{y}\")\n",
    "\n",
    "fig_primarygender_inequality = px.bar(df, x='Countries and areas',\n",
    "                               y=['OOSR_Primary_Age_Male', 'OOSR_Primary_Age_Female'],\n",
    "                               title='Out-of-School Rates by Gender (Primary Age)',\n",
    "                               labels={'value': 'Rate', 'variable': 'Gender'})\n",
    "fig_primarygender_inequality.update_traces(hoverinfo='all', hovertemplate=\"Country: %{x}<br>Rate: %{y}\")\n",
    "\n",
    "fig_lowersecgender_inequality = px.bar(df, x='Countries and areas',\n",
    "                               y=['OOSR_Lower_Secondary_Age_Male', 'OOSR_Lower_Secondary_Age_Female'],\n",
    "                               title='Out-of-School Rates by Gender (Lower_Secondary Age)',\n",
    "                               labels={'value': 'Rate', 'variable': 'Gender'})\n",
    "fig_lowersecgender_inequality.update_traces(hoverinfo='all', hovertemplate=\"Country: %{x}<br>Rate: %{y}\")\n",
    "\n",
    "fig_uppersecgender_inequality = px.bar(df, x='Countries and areas',\n",
    "                               y=['OOSR_Upper_Secondary_Age_Male', 'OOSR_Upper_Secondary_Age_Female'],\n",
    "                               title='Out-of-School Rates by Gender (Upper_Secondary Age)',\n",
    "                               labels={'value': 'Rate', 'variable': 'Gender'})\n",
    "fig_uppersecgender_inequality.update_traces(hoverinfo='all', hovertemplate=\"Country: %{x}<br>Rate: %{y}\")\n",
    "\n",
    "# Task 2.2: Relationship between primary education gross enrollment rate and birth rate\n",
    "fig_birthrate_education = px.scatter(df, x='Countries and areas', y='Birth_Rate',\n",
    "                                     size='Birth_Rate', color='Gross_Primary_Education_Enrollment',\n",
    "                                     title='Relationship Between Birth Rate and Primary Education Enrollment',\n",
    "                                     hover_name='Countries and areas')\n",
    "fig_birthrate_education.update_layout(hovermode='closest')\n",
    "\n",
    "fig_preprimarygender_inequality.show()\n",
    "fig_primarygender_inequality.show()\n",
    "fig_lowersecgender_inequality.show()\n",
    "fig_uppersecgender_inequality.show()\n",
    "fig_birthrate_education.show()"
   ]
  },
  {
   "cell_type": "code",
   "execution_count": 44,
   "id": "baa2bf9c",
   "metadata": {
    "scrolled": false
   },
   "outputs": [
    {
     "data": {
      "text/html": [
       "\n",
       "        <iframe\n",
       "            width=\"100%\"\n",
       "            height=\"650\"\n",
       "            src=\"http://127.0.0.1:8050/\"\n",
       "            frameborder=\"0\"\n",
       "            allowfullscreen\n",
       "            \n",
       "        ></iframe>\n",
       "        "
      ],
      "text/plain": [
       "<IPython.lib.display.IFrame at 0x15bff340400>"
      ]
     },
     "metadata": {},
     "output_type": "display_data"
    }
   ],
   "source": [
    "#Task 2.3: Global or regional differences in education indicators\n",
    "app = dash.Dash(__name__)\n",
    "\n",
    "# layout\n",
    "app.layout = html.Div([\n",
    "    html.Div([\n",
    "        dcc.Dropdown(\n",
    "            id='education-level-dropdown',\n",
    "            options=[\n",
    "                {'label': 'Primary Education Enrollment', 'value': 'Gross_Primary_Education_Enrollment'},\n",
    "                {'label': 'Tertiary Education Enrollment', 'value': 'Gross_Tertiary_Education_Enrollment'}\n",
    "            ],\n",
    "            value='Gross_Primary_Education_Enrollment',\n",
    "            placeholder=\"Select an education level\",\n",
    "            className='dropdown'\n",
    "        ),\n",
    "        dcc.Input(id='country-input', type='text', placeholder='Enter a country name', className='input'),\n",
    "        html.Button('Submit', id='submit-button', n_clicks=0, className='button')\n",
    "    ], className='control-panel'),\n",
    "    dcc.Graph(id='education-global-graph'),\n",
    "    html.Div(id='country-data-output', className='output')\n",
    "], className='container')\n",
    "\n",
    "\n",
    "@app.callback(\n",
    "    [Output('education-global-graph', 'figure'),\n",
    "     Output('country-data-output', 'children')],\n",
    "    [Input('submit-button', 'n_clicks'),\n",
    "     Input('education-level-dropdown', 'value')],\n",
    "    [State('country-input', 'value')]\n",
    ")\n",
    "def update_graph_and_data(n_clicks, selected_education_level, country_value):\n",
    "    # color channel\n",
    "    color_range = [df[selected_education_level].min(), df[selected_education_level].max()]\n",
    "\n",
    "    # show specific country\n",
    "    filtered_df = df[df['Countries and areas'] == country_value] if country_value in df['Countries and areas'].values else df\n",
    "    country_data_output = f\"Data for {country_value}: \\n{filtered_df.to_string(index=False)}\" if country_value in df['Countries and areas'].values else \"No data available or incorrect country name.\"\n",
    "\n",
    "    # create map\n",
    "    fig = px.choropleth(filtered_df, locations='Countries and areas', locationmode='country names',\n",
    "                        color=selected_education_level, range_color=color_range,\n",
    "                        title=f'Global {selected_education_level.replace(\"_\", \" \")} Rates')\n",
    "    fig.update_geos(projection_type=\"natural earth\", showcoastlines=True, coastlinecolor=\"RebeccaPurple\")\n",
    "\n",
    "    return fig, country_data_output\n",
    "\n",
    "if __name__ == '__main__':\n",
    "    app.run_server(debug=True)"
   ]
  },
  {
   "cell_type": "code",
   "execution_count": 45,
   "id": "d8f64555",
   "metadata": {},
   "outputs": [
    {
     "data": {
      "application/vnd.plotly.v1+json": {
       "config": {
        "plotlyServerURL": "https://plot.ly"
       },
       "data": [
        {
         "customdata": [
          [
           "Afghanistan"
          ]
         ],
         "hovertemplate": "Countries and areas=%{customdata[0]}<br>Gross_Primary_Education_Enrollment=%{x}<br>Unemployment_Rate=%{y}<extra></extra>",
         "legendgroup": "Afghanistan",
         "marker": {
          "color": "#636efa",
          "symbol": "circle"
         },
         "mode": "markers",
         "name": "Afghanistan",
         "orientation": "v",
         "showlegend": true,
         "type": "scatter",
         "x": [
          104
         ],
         "xaxis": "x",
         "y": [
          11.12
         ],
         "yaxis": "y"
        },
        {
         "customdata": [
          [
           "Albania"
          ]
         ],
         "hovertemplate": "Countries and areas=%{customdata[0]}<br>Gross_Primary_Education_Enrollment=%{x}<br>Unemployment_Rate=%{y}<extra></extra>",
         "legendgroup": "Albania",
         "marker": {
          "color": "#EF553B",
          "symbol": "circle"
         },
         "mode": "markers",
         "name": "Albania",
         "orientation": "v",
         "showlegend": true,
         "type": "scatter",
         "x": [
          107
         ],
         "xaxis": "x",
         "y": [
          12.33
         ],
         "yaxis": "y"
        },
        {
         "customdata": [
          [
           "Algeria"
          ]
         ],
         "hovertemplate": "Countries and areas=%{customdata[0]}<br>Gross_Primary_Education_Enrollment=%{x}<br>Unemployment_Rate=%{y}<extra></extra>",
         "legendgroup": "Algeria",
         "marker": {
          "color": "#00cc96",
          "symbol": "circle"
         },
         "mode": "markers",
         "name": "Algeria",
         "orientation": "v",
         "showlegend": true,
         "type": "scatter",
         "x": [
          109.9
         ],
         "xaxis": "x",
         "y": [
          11.7
         ],
         "yaxis": "y"
        },
        {
         "customdata": [
          [
           "Andorra"
          ]
         ],
         "hovertemplate": "Countries and areas=%{customdata[0]}<br>Gross_Primary_Education_Enrollment=%{x}<br>Unemployment_Rate=%{y}<extra></extra>",
         "legendgroup": "Andorra",
         "marker": {
          "color": "#ab63fa",
          "symbol": "circle"
         },
         "mode": "markers",
         "name": "Andorra",
         "orientation": "v",
         "showlegend": true,
         "type": "scatter",
         "x": [
          106.4
         ],
         "xaxis": "x",
         "y": [
          0
         ],
         "yaxis": "y"
        },
        {
         "customdata": [
          [
           "Angola"
          ]
         ],
         "hovertemplate": "Countries and areas=%{customdata[0]}<br>Gross_Primary_Education_Enrollment=%{x}<br>Unemployment_Rate=%{y}<extra></extra>",
         "legendgroup": "Angola",
         "marker": {
          "color": "#FFA15A",
          "symbol": "circle"
         },
         "mode": "markers",
         "name": "Angola",
         "orientation": "v",
         "showlegend": true,
         "type": "scatter",
         "x": [
          113.5
         ],
         "xaxis": "x",
         "y": [
          6.89
         ],
         "yaxis": "y"
        },
        {
         "customdata": [
          [
           "Anguilla"
          ]
         ],
         "hovertemplate": "Countries and areas=%{customdata[0]}<br>Gross_Primary_Education_Enrollment=%{x}<br>Unemployment_Rate=%{y}<extra></extra>",
         "legendgroup": "Anguilla",
         "marker": {
          "color": "#19d3f3",
          "symbol": "circle"
         },
         "mode": "markers",
         "name": "Anguilla",
         "orientation": "v",
         "showlegend": true,
         "type": "scatter",
         "x": [
          0
         ],
         "xaxis": "x",
         "y": [
          0
         ],
         "yaxis": "y"
        },
        {
         "customdata": [
          [
           "Antigua and Barbuda"
          ]
         ],
         "hovertemplate": "Countries and areas=%{customdata[0]}<br>Gross_Primary_Education_Enrollment=%{x}<br>Unemployment_Rate=%{y}<extra></extra>",
         "legendgroup": "Antigua and Barbuda",
         "marker": {
          "color": "#FF6692",
          "symbol": "circle"
         },
         "mode": "markers",
         "name": "Antigua and Barbuda",
         "orientation": "v",
         "showlegend": true,
         "type": "scatter",
         "x": [
          105
         ],
         "xaxis": "x",
         "y": [
          0
         ],
         "yaxis": "y"
        },
        {
         "customdata": [
          [
           "Argentina"
          ]
         ],
         "hovertemplate": "Countries and areas=%{customdata[0]}<br>Gross_Primary_Education_Enrollment=%{x}<br>Unemployment_Rate=%{y}<extra></extra>",
         "legendgroup": "Argentina",
         "marker": {
          "color": "#B6E880",
          "symbol": "circle"
         },
         "mode": "markers",
         "name": "Argentina",
         "orientation": "v",
         "showlegend": true,
         "type": "scatter",
         "x": [
          109.7
         ],
         "xaxis": "x",
         "y": [
          9.79
         ],
         "yaxis": "y"
        },
        {
         "customdata": [
          [
           "Armenia"
          ]
         ],
         "hovertemplate": "Countries and areas=%{customdata[0]}<br>Gross_Primary_Education_Enrollment=%{x}<br>Unemployment_Rate=%{y}<extra></extra>",
         "legendgroup": "Armenia",
         "marker": {
          "color": "#FF97FF",
          "symbol": "circle"
         },
         "mode": "markers",
         "name": "Armenia",
         "orientation": "v",
         "showlegend": true,
         "type": "scatter",
         "x": [
          92.7
         ],
         "xaxis": "x",
         "y": [
          16.99
         ],
         "yaxis": "y"
        },
        {
         "customdata": [
          [
           "Australia"
          ]
         ],
         "hovertemplate": "Countries and areas=%{customdata[0]}<br>Gross_Primary_Education_Enrollment=%{x}<br>Unemployment_Rate=%{y}<extra></extra>",
         "legendgroup": "Australia",
         "marker": {
          "color": "#FECB52",
          "symbol": "circle"
         },
         "mode": "markers",
         "name": "Australia",
         "orientation": "v",
         "showlegend": true,
         "type": "scatter",
         "x": [
          100.3
         ],
         "xaxis": "x",
         "y": [
          5.27
         ],
         "yaxis": "y"
        },
        {
         "customdata": [
          [
           "Austria"
          ]
         ],
         "hovertemplate": "Countries and areas=%{customdata[0]}<br>Gross_Primary_Education_Enrollment=%{x}<br>Unemployment_Rate=%{y}<extra></extra>",
         "legendgroup": "Austria",
         "marker": {
          "color": "#636efa",
          "symbol": "circle"
         },
         "mode": "markers",
         "name": "Austria",
         "orientation": "v",
         "showlegend": true,
         "type": "scatter",
         "x": [
          103.1
         ],
         "xaxis": "x",
         "y": [
          4.67
         ],
         "yaxis": "y"
        },
        {
         "customdata": [
          [
           "Azerbaijan"
          ]
         ],
         "hovertemplate": "Countries and areas=%{customdata[0]}<br>Gross_Primary_Education_Enrollment=%{x}<br>Unemployment_Rate=%{y}<extra></extra>",
         "legendgroup": "Azerbaijan",
         "marker": {
          "color": "#EF553B",
          "symbol": "circle"
         },
         "mode": "markers",
         "name": "Azerbaijan",
         "orientation": "v",
         "showlegend": true,
         "type": "scatter",
         "x": [
          99.7
         ],
         "xaxis": "x",
         "y": [
          5.51
         ],
         "yaxis": "y"
        },
        {
         "customdata": [
          [
           "The Bahamas"
          ]
         ],
         "hovertemplate": "Countries and areas=%{customdata[0]}<br>Gross_Primary_Education_Enrollment=%{x}<br>Unemployment_Rate=%{y}<extra></extra>",
         "legendgroup": "The Bahamas",
         "marker": {
          "color": "#00cc96",
          "symbol": "circle"
         },
         "mode": "markers",
         "name": "The Bahamas",
         "orientation": "v",
         "showlegend": true,
         "type": "scatter",
         "x": [
          81.4
         ],
         "xaxis": "x",
         "y": [
          10.36
         ],
         "yaxis": "y"
        },
        {
         "customdata": [
          [
           "Bahrain"
          ]
         ],
         "hovertemplate": "Countries and areas=%{customdata[0]}<br>Gross_Primary_Education_Enrollment=%{x}<br>Unemployment_Rate=%{y}<extra></extra>",
         "legendgroup": "Bahrain",
         "marker": {
          "color": "#ab63fa",
          "symbol": "circle"
         },
         "mode": "markers",
         "name": "Bahrain",
         "orientation": "v",
         "showlegend": true,
         "type": "scatter",
         "x": [
          99.4
         ],
         "xaxis": "x",
         "y": [
          0.71
         ],
         "yaxis": "y"
        },
        {
         "customdata": [
          [
           "Bangladesh"
          ]
         ],
         "hovertemplate": "Countries and areas=%{customdata[0]}<br>Gross_Primary_Education_Enrollment=%{x}<br>Unemployment_Rate=%{y}<extra></extra>",
         "legendgroup": "Bangladesh",
         "marker": {
          "color": "#FFA15A",
          "symbol": "circle"
         },
         "mode": "markers",
         "name": "Bangladesh",
         "orientation": "v",
         "showlegend": true,
         "type": "scatter",
         "x": [
          116.5
         ],
         "xaxis": "x",
         "y": [
          4.19
         ],
         "yaxis": "y"
        },
        {
         "customdata": [
          [
           "Barbados"
          ]
         ],
         "hovertemplate": "Countries and areas=%{customdata[0]}<br>Gross_Primary_Education_Enrollment=%{x}<br>Unemployment_Rate=%{y}<extra></extra>",
         "legendgroup": "Barbados",
         "marker": {
          "color": "#19d3f3",
          "symbol": "circle"
         },
         "mode": "markers",
         "name": "Barbados",
         "orientation": "v",
         "showlegend": true,
         "type": "scatter",
         "x": [
          99.4
         ],
         "xaxis": "x",
         "y": [
          10.33
         ],
         "yaxis": "y"
        },
        {
         "customdata": [
          [
           "Belarus"
          ]
         ],
         "hovertemplate": "Countries and areas=%{customdata[0]}<br>Gross_Primary_Education_Enrollment=%{x}<br>Unemployment_Rate=%{y}<extra></extra>",
         "legendgroup": "Belarus",
         "marker": {
          "color": "#FF6692",
          "symbol": "circle"
         },
         "mode": "markers",
         "name": "Belarus",
         "orientation": "v",
         "showlegend": true,
         "type": "scatter",
         "x": [
          100.5
         ],
         "xaxis": "x",
         "y": [
          4.59
         ],
         "yaxis": "y"
        },
        {
         "customdata": [
          [
           "Belgium"
          ]
         ],
         "hovertemplate": "Countries and areas=%{customdata[0]}<br>Gross_Primary_Education_Enrollment=%{x}<br>Unemployment_Rate=%{y}<extra></extra>",
         "legendgroup": "Belgium",
         "marker": {
          "color": "#B6E880",
          "symbol": "circle"
         },
         "mode": "markers",
         "name": "Belgium",
         "orientation": "v",
         "showlegend": true,
         "type": "scatter",
         "x": [
          103.9
         ],
         "xaxis": "x",
         "y": [
          5.59
         ],
         "yaxis": "y"
        },
        {
         "customdata": [
          [
           "Belize"
          ]
         ],
         "hovertemplate": "Countries and areas=%{customdata[0]}<br>Gross_Primary_Education_Enrollment=%{x}<br>Unemployment_Rate=%{y}<extra></extra>",
         "legendgroup": "Belize",
         "marker": {
          "color": "#FF97FF",
          "symbol": "circle"
         },
         "mode": "markers",
         "name": "Belize",
         "orientation": "v",
         "showlegend": true,
         "type": "scatter",
         "x": [
          111.7
         ],
         "xaxis": "x",
         "y": [
          6.41
         ],
         "yaxis": "y"
        },
        {
         "customdata": [
          [
           "Benin"
          ]
         ],
         "hovertemplate": "Countries and areas=%{customdata[0]}<br>Gross_Primary_Education_Enrollment=%{x}<br>Unemployment_Rate=%{y}<extra></extra>",
         "legendgroup": "Benin",
         "marker": {
          "color": "#FECB52",
          "symbol": "circle"
         },
         "mode": "markers",
         "name": "Benin",
         "orientation": "v",
         "showlegend": true,
         "type": "scatter",
         "x": [
          122
         ],
         "xaxis": "x",
         "y": [
          2.23
         ],
         "yaxis": "y"
        },
        {
         "customdata": [
          [
           "Bhutan"
          ]
         ],
         "hovertemplate": "Countries and areas=%{customdata[0]}<br>Gross_Primary_Education_Enrollment=%{x}<br>Unemployment_Rate=%{y}<extra></extra>",
         "legendgroup": "Bhutan",
         "marker": {
          "color": "#636efa",
          "symbol": "circle"
         },
         "mode": "markers",
         "name": "Bhutan",
         "orientation": "v",
         "showlegend": true,
         "type": "scatter",
         "x": [
          100.1
         ],
         "xaxis": "x",
         "y": [
          2.34
         ],
         "yaxis": "y"
        },
        {
         "customdata": [
          [
           "Bolivia"
          ]
         ],
         "hovertemplate": "Countries and areas=%{customdata[0]}<br>Gross_Primary_Education_Enrollment=%{x}<br>Unemployment_Rate=%{y}<extra></extra>",
         "legendgroup": "Bolivia",
         "marker": {
          "color": "#EF553B",
          "symbol": "circle"
         },
         "mode": "markers",
         "name": "Bolivia",
         "orientation": "v",
         "showlegend": true,
         "type": "scatter",
         "x": [
          98.2
         ],
         "xaxis": "x",
         "y": [
          3.5
         ],
         "yaxis": "y"
        },
        {
         "customdata": [
          [
           "Bosnia and Herzegovina"
          ]
         ],
         "hovertemplate": "Countries and areas=%{customdata[0]}<br>Gross_Primary_Education_Enrollment=%{x}<br>Unemployment_Rate=%{y}<extra></extra>",
         "legendgroup": "Bosnia and Herzegovina",
         "marker": {
          "color": "#00cc96",
          "symbol": "circle"
         },
         "mode": "markers",
         "name": "Bosnia and Herzegovina",
         "orientation": "v",
         "showlegend": true,
         "type": "scatter",
         "x": [
          0
         ],
         "xaxis": "x",
         "y": [
          18.42
         ],
         "yaxis": "y"
        },
        {
         "customdata": [
          [
           "Botswana"
          ]
         ],
         "hovertemplate": "Countries and areas=%{customdata[0]}<br>Gross_Primary_Education_Enrollment=%{x}<br>Unemployment_Rate=%{y}<extra></extra>",
         "legendgroup": "Botswana",
         "marker": {
          "color": "#ab63fa",
          "symbol": "circle"
         },
         "mode": "markers",
         "name": "Botswana",
         "orientation": "v",
         "showlegend": true,
         "type": "scatter",
         "x": [
          103.2
         ],
         "xaxis": "x",
         "y": [
          18.19
         ],
         "yaxis": "y"
        },
        {
         "customdata": [
          [
           "Brazil"
          ]
         ],
         "hovertemplate": "Countries and areas=%{customdata[0]}<br>Gross_Primary_Education_Enrollment=%{x}<br>Unemployment_Rate=%{y}<extra></extra>",
         "legendgroup": "Brazil",
         "marker": {
          "color": "#FFA15A",
          "symbol": "circle"
         },
         "mode": "markers",
         "name": "Brazil",
         "orientation": "v",
         "showlegend": true,
         "type": "scatter",
         "x": [
          115.4
         ],
         "xaxis": "x",
         "y": [
          12.08
         ],
         "yaxis": "y"
        },
        {
         "customdata": [
          [
           "British Virgin Islands"
          ]
         ],
         "hovertemplate": "Countries and areas=%{customdata[0]}<br>Gross_Primary_Education_Enrollment=%{x}<br>Unemployment_Rate=%{y}<extra></extra>",
         "legendgroup": "British Virgin Islands",
         "marker": {
          "color": "#19d3f3",
          "symbol": "circle"
         },
         "mode": "markers",
         "name": "British Virgin Islands",
         "orientation": "v",
         "showlegend": true,
         "type": "scatter",
         "x": [
          0
         ],
         "xaxis": "x",
         "y": [
          0
         ],
         "yaxis": "y"
        },
        {
         "customdata": [
          [
           "Brunei"
          ]
         ],
         "hovertemplate": "Countries and areas=%{customdata[0]}<br>Gross_Primary_Education_Enrollment=%{x}<br>Unemployment_Rate=%{y}<extra></extra>",
         "legendgroup": "Brunei",
         "marker": {
          "color": "#FF6692",
          "symbol": "circle"
         },
         "mode": "markers",
         "name": "Brunei",
         "orientation": "v",
         "showlegend": true,
         "type": "scatter",
         "x": [
          103.2
         ],
         "xaxis": "x",
         "y": [
          9.12
         ],
         "yaxis": "y"
        },
        {
         "customdata": [
          [
           "Bulgaria"
          ]
         ],
         "hovertemplate": "Countries and areas=%{customdata[0]}<br>Gross_Primary_Education_Enrollment=%{x}<br>Unemployment_Rate=%{y}<extra></extra>",
         "legendgroup": "Bulgaria",
         "marker": {
          "color": "#B6E880",
          "symbol": "circle"
         },
         "mode": "markers",
         "name": "Bulgaria",
         "orientation": "v",
         "showlegend": true,
         "type": "scatter",
         "x": [
          89.3
         ],
         "xaxis": "x",
         "y": [
          4.34
         ],
         "yaxis": "y"
        },
        {
         "customdata": [
          [
           "Burkina Faso"
          ]
         ],
         "hovertemplate": "Countries and areas=%{customdata[0]}<br>Gross_Primary_Education_Enrollment=%{x}<br>Unemployment_Rate=%{y}<extra></extra>",
         "legendgroup": "Burkina Faso",
         "marker": {
          "color": "#FF97FF",
          "symbol": "circle"
         },
         "mode": "markers",
         "name": "Burkina Faso",
         "orientation": "v",
         "showlegend": true,
         "type": "scatter",
         "x": [
          96.1
         ],
         "xaxis": "x",
         "y": [
          6.26
         ],
         "yaxis": "y"
        },
        {
         "customdata": [
          [
           "Burundi"
          ]
         ],
         "hovertemplate": "Countries and areas=%{customdata[0]}<br>Gross_Primary_Education_Enrollment=%{x}<br>Unemployment_Rate=%{y}<extra></extra>",
         "legendgroup": "Burundi",
         "marker": {
          "color": "#FECB52",
          "symbol": "circle"
         },
         "mode": "markers",
         "name": "Burundi",
         "orientation": "v",
         "showlegend": true,
         "type": "scatter",
         "x": [
          121.4
         ],
         "xaxis": "x",
         "y": [
          1.43
         ],
         "yaxis": "y"
        },
        {
         "customdata": [
          [
           "Cape Verde"
          ]
         ],
         "hovertemplate": "Countries and areas=%{customdata[0]}<br>Gross_Primary_Education_Enrollment=%{x}<br>Unemployment_Rate=%{y}<extra></extra>",
         "legendgroup": "Cape Verde",
         "marker": {
          "color": "#636efa",
          "symbol": "circle"
         },
         "mode": "markers",
         "name": "Cape Verde",
         "orientation": "v",
         "showlegend": true,
         "type": "scatter",
         "x": [
          104
         ],
         "xaxis": "x",
         "y": [
          12.25
         ],
         "yaxis": "y"
        },
        {
         "customdata": [
          [
           "Cambodia"
          ]
         ],
         "hovertemplate": "Countries and areas=%{customdata[0]}<br>Gross_Primary_Education_Enrollment=%{x}<br>Unemployment_Rate=%{y}<extra></extra>",
         "legendgroup": "Cambodia",
         "marker": {
          "color": "#EF553B",
          "symbol": "circle"
         },
         "mode": "markers",
         "name": "Cambodia",
         "orientation": "v",
         "showlegend": true,
         "type": "scatter",
         "x": [
          107.4
         ],
         "xaxis": "x",
         "y": [
          0.68
         ],
         "yaxis": "y"
        },
        {
         "customdata": [
          [
           "Cameroon"
          ]
         ],
         "hovertemplate": "Countries and areas=%{customdata[0]}<br>Gross_Primary_Education_Enrollment=%{x}<br>Unemployment_Rate=%{y}<extra></extra>",
         "legendgroup": "Cameroon",
         "marker": {
          "color": "#00cc96",
          "symbol": "circle"
         },
         "mode": "markers",
         "name": "Cameroon",
         "orientation": "v",
         "showlegend": true,
         "type": "scatter",
         "x": [
          103.4
         ],
         "xaxis": "x",
         "y": [
          3.38
         ],
         "yaxis": "y"
        },
        {
         "customdata": [
          [
           "Canada"
          ]
         ],
         "hovertemplate": "Countries and areas=%{customdata[0]}<br>Gross_Primary_Education_Enrollment=%{x}<br>Unemployment_Rate=%{y}<extra></extra>",
         "legendgroup": "Canada",
         "marker": {
          "color": "#ab63fa",
          "symbol": "circle"
         },
         "mode": "markers",
         "name": "Canada",
         "orientation": "v",
         "showlegend": true,
         "type": "scatter",
         "x": [
          100.9
         ],
         "xaxis": "x",
         "y": [
          5.56
         ],
         "yaxis": "y"
        },
        {
         "customdata": [
          [
           "Central African Republic"
          ]
         ],
         "hovertemplate": "Countries and areas=%{customdata[0]}<br>Gross_Primary_Education_Enrollment=%{x}<br>Unemployment_Rate=%{y}<extra></extra>",
         "legendgroup": "Central African Republic",
         "marker": {
          "color": "#FFA15A",
          "symbol": "circle"
         },
         "mode": "markers",
         "name": "Central African Republic",
         "orientation": "v",
         "showlegend": true,
         "type": "scatter",
         "x": [
          102
         ],
         "xaxis": "x",
         "y": [
          3.68
         ],
         "yaxis": "y"
        },
        {
         "customdata": [
          [
           "Chad"
          ]
         ],
         "hovertemplate": "Countries and areas=%{customdata[0]}<br>Gross_Primary_Education_Enrollment=%{x}<br>Unemployment_Rate=%{y}<extra></extra>",
         "legendgroup": "Chad",
         "marker": {
          "color": "#19d3f3",
          "symbol": "circle"
         },
         "mode": "markers",
         "name": "Chad",
         "orientation": "v",
         "showlegend": true,
         "type": "scatter",
         "x": [
          86.8
         ],
         "xaxis": "x",
         "y": [
          1.89
         ],
         "yaxis": "y"
        },
        {
         "customdata": [
          [
           "Chile"
          ]
         ],
         "hovertemplate": "Countries and areas=%{customdata[0]}<br>Gross_Primary_Education_Enrollment=%{x}<br>Unemployment_Rate=%{y}<extra></extra>",
         "legendgroup": "Chile",
         "marker": {
          "color": "#FF6692",
          "symbol": "circle"
         },
         "mode": "markers",
         "name": "Chile",
         "orientation": "v",
         "showlegend": true,
         "type": "scatter",
         "x": [
          101.4
         ],
         "xaxis": "x",
         "y": [
          7.09
         ],
         "yaxis": "y"
        },
        {
         "customdata": [
          [
           "China"
          ]
         ],
         "hovertemplate": "Countries and areas=%{customdata[0]}<br>Gross_Primary_Education_Enrollment=%{x}<br>Unemployment_Rate=%{y}<extra></extra>",
         "legendgroup": "China",
         "marker": {
          "color": "#B6E880",
          "symbol": "circle"
         },
         "mode": "markers",
         "name": "China",
         "orientation": "v",
         "showlegend": true,
         "type": "scatter",
         "x": [
          100.2
         ],
         "xaxis": "x",
         "y": [
          4.32
         ],
         "yaxis": "y"
        },
        {
         "customdata": [
          [
           "Colombia"
          ]
         ],
         "hovertemplate": "Countries and areas=%{customdata[0]}<br>Gross_Primary_Education_Enrollment=%{x}<br>Unemployment_Rate=%{y}<extra></extra>",
         "legendgroup": "Colombia",
         "marker": {
          "color": "#FF97FF",
          "symbol": "circle"
         },
         "mode": "markers",
         "name": "Colombia",
         "orientation": "v",
         "showlegend": true,
         "type": "scatter",
         "x": [
          114.5
         ],
         "xaxis": "x",
         "y": [
          9.71
         ],
         "yaxis": "y"
        },
        {
         "customdata": [
          [
           "Comoros"
          ]
         ],
         "hovertemplate": "Countries and areas=%{customdata[0]}<br>Gross_Primary_Education_Enrollment=%{x}<br>Unemployment_Rate=%{y}<extra></extra>",
         "legendgroup": "Comoros",
         "marker": {
          "color": "#FECB52",
          "symbol": "circle"
         },
         "mode": "markers",
         "name": "Comoros",
         "orientation": "v",
         "showlegend": true,
         "type": "scatter",
         "x": [
          99.5
         ],
         "xaxis": "x",
         "y": [
          4.34
         ],
         "yaxis": "y"
        },
        {
         "customdata": [
          [
           "Republic of the Congo"
          ]
         ],
         "hovertemplate": "Countries and areas=%{customdata[0]}<br>Gross_Primary_Education_Enrollment=%{x}<br>Unemployment_Rate=%{y}<extra></extra>",
         "legendgroup": "Republic of the Congo",
         "marker": {
          "color": "#636efa",
          "symbol": "circle"
         },
         "mode": "markers",
         "name": "Republic of the Congo",
         "orientation": "v",
         "showlegend": true,
         "type": "scatter",
         "x": [
          106.6
         ],
         "xaxis": "x",
         "y": [
          9.47
         ],
         "yaxis": "y"
        },
        {
         "customdata": [
          [
           "Cook Islands"
          ]
         ],
         "hovertemplate": "Countries and areas=%{customdata[0]}<br>Gross_Primary_Education_Enrollment=%{x}<br>Unemployment_Rate=%{y}<extra></extra>",
         "legendgroup": "Cook Islands",
         "marker": {
          "color": "#EF553B",
          "symbol": "circle"
         },
         "mode": "markers",
         "name": "Cook Islands",
         "orientation": "v",
         "showlegend": true,
         "type": "scatter",
         "x": [
          0
         ],
         "xaxis": "x",
         "y": [
          0
         ],
         "yaxis": "y"
        },
        {
         "customdata": [
          [
           "Costa Rica"
          ]
         ],
         "hovertemplate": "Countries and areas=%{customdata[0]}<br>Gross_Primary_Education_Enrollment=%{x}<br>Unemployment_Rate=%{y}<extra></extra>",
         "legendgroup": "Costa Rica",
         "marker": {
          "color": "#00cc96",
          "symbol": "circle"
         },
         "mode": "markers",
         "name": "Costa Rica",
         "orientation": "v",
         "showlegend": true,
         "type": "scatter",
         "x": [
          113.3
         ],
         "xaxis": "x",
         "y": [
          11.85
         ],
         "yaxis": "y"
        },
        {
         "customdata": [
          [
           "Ivory Coast"
          ]
         ],
         "hovertemplate": "Countries and areas=%{customdata[0]}<br>Gross_Primary_Education_Enrollment=%{x}<br>Unemployment_Rate=%{y}<extra></extra>",
         "legendgroup": "Ivory Coast",
         "marker": {
          "color": "#ab63fa",
          "symbol": "circle"
         },
         "mode": "markers",
         "name": "Ivory Coast",
         "orientation": "v",
         "showlegend": true,
         "type": "scatter",
         "x": [
          99.8
         ],
         "xaxis": "x",
         "y": [
          3.32
         ],
         "yaxis": "y"
        },
        {
         "customdata": [
          [
           "Croatia"
          ]
         ],
         "hovertemplate": "Countries and areas=%{customdata[0]}<br>Gross_Primary_Education_Enrollment=%{x}<br>Unemployment_Rate=%{y}<extra></extra>",
         "legendgroup": "Croatia",
         "marker": {
          "color": "#FFA15A",
          "symbol": "circle"
         },
         "mode": "markers",
         "name": "Croatia",
         "orientation": "v",
         "showlegend": true,
         "type": "scatter",
         "x": [
          96.5
         ],
         "xaxis": "x",
         "y": [
          6.93
         ],
         "yaxis": "y"
        },
        {
         "customdata": [
          [
           "Cuba"
          ]
         ],
         "hovertemplate": "Countries and areas=%{customdata[0]}<br>Gross_Primary_Education_Enrollment=%{x}<br>Unemployment_Rate=%{y}<extra></extra>",
         "legendgroup": "Cuba",
         "marker": {
          "color": "#19d3f3",
          "symbol": "circle"
         },
         "mode": "markers",
         "name": "Cuba",
         "orientation": "v",
         "showlegend": true,
         "type": "scatter",
         "x": [
          101.9
         ],
         "xaxis": "x",
         "y": [
          1.64
         ],
         "yaxis": "y"
        },
        {
         "customdata": [
          [
           "Cyprus"
          ]
         ],
         "hovertemplate": "Countries and areas=%{customdata[0]}<br>Gross_Primary_Education_Enrollment=%{x}<br>Unemployment_Rate=%{y}<extra></extra>",
         "legendgroup": "Cyprus",
         "marker": {
          "color": "#FF6692",
          "symbol": "circle"
         },
         "mode": "markers",
         "name": "Cyprus",
         "orientation": "v",
         "showlegend": true,
         "type": "scatter",
         "x": [
          99.3
         ],
         "xaxis": "x",
         "y": [
          7.27
         ],
         "yaxis": "y"
        },
        {
         "customdata": [
          [
           "Czech Republic"
          ]
         ],
         "hovertemplate": "Countries and areas=%{customdata[0]}<br>Gross_Primary_Education_Enrollment=%{x}<br>Unemployment_Rate=%{y}<extra></extra>",
         "legendgroup": "Czech Republic",
         "marker": {
          "color": "#B6E880",
          "symbol": "circle"
         },
         "mode": "markers",
         "name": "Czech Republic",
         "orientation": "v",
         "showlegend": true,
         "type": "scatter",
         "x": [
          100.7
         ],
         "xaxis": "x",
         "y": [
          1.93
         ],
         "yaxis": "y"
        },
        {
         "customdata": [
          [
           "North Korea"
          ]
         ],
         "hovertemplate": "Countries and areas=%{customdata[0]}<br>Gross_Primary_Education_Enrollment=%{x}<br>Unemployment_Rate=%{y}<extra></extra>",
         "legendgroup": "North Korea",
         "marker": {
          "color": "#FF97FF",
          "symbol": "circle"
         },
         "mode": "markers",
         "name": "North Korea",
         "orientation": "v",
         "showlegend": true,
         "type": "scatter",
         "x": [
          112.8
         ],
         "xaxis": "x",
         "y": [
          2.74
         ],
         "yaxis": "y"
        },
        {
         "customdata": [
          [
           "Democratic Republic of the Congo"
          ]
         ],
         "hovertemplate": "Countries and areas=%{customdata[0]}<br>Gross_Primary_Education_Enrollment=%{x}<br>Unemployment_Rate=%{y}<extra></extra>",
         "legendgroup": "Democratic Republic of the Congo",
         "marker": {
          "color": "#FECB52",
          "symbol": "circle"
         },
         "mode": "markers",
         "name": "Democratic Republic of the Congo",
         "orientation": "v",
         "showlegend": true,
         "type": "scatter",
         "x": [
          108
         ],
         "xaxis": "x",
         "y": [
          4.24
         ],
         "yaxis": "y"
        },
        {
         "customdata": [
          [
           "Denmark"
          ]
         ],
         "hovertemplate": "Countries and areas=%{customdata[0]}<br>Gross_Primary_Education_Enrollment=%{x}<br>Unemployment_Rate=%{y}<extra></extra>",
         "legendgroup": "Denmark",
         "marker": {
          "color": "#636efa",
          "symbol": "circle"
         },
         "mode": "markers",
         "name": "Denmark",
         "orientation": "v",
         "showlegend": true,
         "type": "scatter",
         "x": [
          101.3
         ],
         "xaxis": "x",
         "y": [
          4.91
         ],
         "yaxis": "y"
        },
        {
         "customdata": [
          [
           "Djibouti"
          ]
         ],
         "hovertemplate": "Countries and areas=%{customdata[0]}<br>Gross_Primary_Education_Enrollment=%{x}<br>Unemployment_Rate=%{y}<extra></extra>",
         "legendgroup": "Djibouti",
         "marker": {
          "color": "#EF553B",
          "symbol": "circle"
         },
         "mode": "markers",
         "name": "Djibouti",
         "orientation": "v",
         "showlegend": true,
         "type": "scatter",
         "x": [
          75.3
         ],
         "xaxis": "x",
         "y": [
          10.3
         ],
         "yaxis": "y"
        },
        {
         "customdata": [
          [
           "Dominica"
          ]
         ],
         "hovertemplate": "Countries and areas=%{customdata[0]}<br>Gross_Primary_Education_Enrollment=%{x}<br>Unemployment_Rate=%{y}<extra></extra>",
         "legendgroup": "Dominica",
         "marker": {
          "color": "#00cc96",
          "symbol": "circle"
         },
         "mode": "markers",
         "name": "Dominica",
         "orientation": "v",
         "showlegend": true,
         "type": "scatter",
         "x": [
          114.7
         ],
         "xaxis": "x",
         "y": [
          0
         ],
         "yaxis": "y"
        },
        {
         "customdata": [
          [
           "Dominican Republic"
          ]
         ],
         "hovertemplate": "Countries and areas=%{customdata[0]}<br>Gross_Primary_Education_Enrollment=%{x}<br>Unemployment_Rate=%{y}<extra></extra>",
         "legendgroup": "Dominican Republic",
         "marker": {
          "color": "#ab63fa",
          "symbol": "circle"
         },
         "mode": "markers",
         "name": "Dominican Republic",
         "orientation": "v",
         "showlegend": true,
         "type": "scatter",
         "x": [
          105.7
         ],
         "xaxis": "x",
         "y": [
          5.84
         ],
         "yaxis": "y"
        },
        {
         "customdata": [
          [
           "Ecuador"
          ]
         ],
         "hovertemplate": "Countries and areas=%{customdata[0]}<br>Gross_Primary_Education_Enrollment=%{x}<br>Unemployment_Rate=%{y}<extra></extra>",
         "legendgroup": "Ecuador",
         "marker": {
          "color": "#FFA15A",
          "symbol": "circle"
         },
         "mode": "markers",
         "name": "Ecuador",
         "orientation": "v",
         "showlegend": true,
         "type": "scatter",
         "x": [
          103.3
         ],
         "xaxis": "x",
         "y": [
          3.97
         ],
         "yaxis": "y"
        },
        {
         "customdata": [
          [
           "Egypt"
          ]
         ],
         "hovertemplate": "Countries and areas=%{customdata[0]}<br>Gross_Primary_Education_Enrollment=%{x}<br>Unemployment_Rate=%{y}<extra></extra>",
         "legendgroup": "Egypt",
         "marker": {
          "color": "#19d3f3",
          "symbol": "circle"
         },
         "mode": "markers",
         "name": "Egypt",
         "orientation": "v",
         "showlegend": true,
         "type": "scatter",
         "x": [
          106.3
         ],
         "xaxis": "x",
         "y": [
          10.76
         ],
         "yaxis": "y"
        },
        {
         "customdata": [
          [
           "El Salvador"
          ]
         ],
         "hovertemplate": "Countries and areas=%{customdata[0]}<br>Gross_Primary_Education_Enrollment=%{x}<br>Unemployment_Rate=%{y}<extra></extra>",
         "legendgroup": "El Salvador",
         "marker": {
          "color": "#FF6692",
          "symbol": "circle"
         },
         "mode": "markers",
         "name": "El Salvador",
         "orientation": "v",
         "showlegend": true,
         "type": "scatter",
         "x": [
          94.8
         ],
         "xaxis": "x",
         "y": [
          4.11
         ],
         "yaxis": "y"
        },
        {
         "customdata": [
          [
           "Equatorial Guinea"
          ]
         ],
         "hovertemplate": "Countries and areas=%{customdata[0]}<br>Gross_Primary_Education_Enrollment=%{x}<br>Unemployment_Rate=%{y}<extra></extra>",
         "legendgroup": "Equatorial Guinea",
         "marker": {
          "color": "#B6E880",
          "symbol": "circle"
         },
         "mode": "markers",
         "name": "Equatorial Guinea",
         "orientation": "v",
         "showlegend": true,
         "type": "scatter",
         "x": [
          61.8
         ],
         "xaxis": "x",
         "y": [
          6.43
         ],
         "yaxis": "y"
        },
        {
         "customdata": [
          [
           "Eritrea"
          ]
         ],
         "hovertemplate": "Countries and areas=%{customdata[0]}<br>Gross_Primary_Education_Enrollment=%{x}<br>Unemployment_Rate=%{y}<extra></extra>",
         "legendgroup": "Eritrea",
         "marker": {
          "color": "#FF97FF",
          "symbol": "circle"
         },
         "mode": "markers",
         "name": "Eritrea",
         "orientation": "v",
         "showlegend": true,
         "type": "scatter",
         "x": [
          68.4
         ],
         "xaxis": "x",
         "y": [
          5.14
         ],
         "yaxis": "y"
        },
        {
         "customdata": [
          [
           "Estonia"
          ]
         ],
         "hovertemplate": "Countries and areas=%{customdata[0]}<br>Gross_Primary_Education_Enrollment=%{x}<br>Unemployment_Rate=%{y}<extra></extra>",
         "legendgroup": "Estonia",
         "marker": {
          "color": "#FECB52",
          "symbol": "circle"
         },
         "mode": "markers",
         "name": "Estonia",
         "orientation": "v",
         "showlegend": true,
         "type": "scatter",
         "x": [
          97.2
         ],
         "xaxis": "x",
         "y": [
          5.11
         ],
         "yaxis": "y"
        },
        {
         "customdata": [
          [
           "Eswatini"
          ]
         ],
         "hovertemplate": "Countries and areas=%{customdata[0]}<br>Gross_Primary_Education_Enrollment=%{x}<br>Unemployment_Rate=%{y}<extra></extra>",
         "legendgroup": "Eswatini",
         "marker": {
          "color": "#636efa",
          "symbol": "circle"
         },
         "mode": "markers",
         "name": "Eswatini",
         "orientation": "v",
         "showlegend": true,
         "type": "scatter",
         "x": [
          0
         ],
         "xaxis": "x",
         "y": [
          0
         ],
         "yaxis": "y"
        },
        {
         "customdata": [
          [
           "Ethiopia"
          ]
         ],
         "hovertemplate": "Countries and areas=%{customdata[0]}<br>Gross_Primary_Education_Enrollment=%{x}<br>Unemployment_Rate=%{y}<extra></extra>",
         "legendgroup": "Ethiopia",
         "marker": {
          "color": "#EF553B",
          "symbol": "circle"
         },
         "mode": "markers",
         "name": "Ethiopia",
         "orientation": "v",
         "showlegend": true,
         "type": "scatter",
         "x": [
          101
         ],
         "xaxis": "x",
         "y": [
          2.08
         ],
         "yaxis": "y"
        },
        {
         "customdata": [
          [
           "Fiji"
          ]
         ],
         "hovertemplate": "Countries and areas=%{customdata[0]}<br>Gross_Primary_Education_Enrollment=%{x}<br>Unemployment_Rate=%{y}<extra></extra>",
         "legendgroup": "Fiji",
         "marker": {
          "color": "#00cc96",
          "symbol": "circle"
         },
         "mode": "markers",
         "name": "Fiji",
         "orientation": "v",
         "showlegend": true,
         "type": "scatter",
         "x": [
          106.4
         ],
         "xaxis": "x",
         "y": [
          4.1
         ],
         "yaxis": "y"
        },
        {
         "customdata": [
          [
           "Finland"
          ]
         ],
         "hovertemplate": "Countries and areas=%{customdata[0]}<br>Gross_Primary_Education_Enrollment=%{x}<br>Unemployment_Rate=%{y}<extra></extra>",
         "legendgroup": "Finland",
         "marker": {
          "color": "#ab63fa",
          "symbol": "circle"
         },
         "mode": "markers",
         "name": "Finland",
         "orientation": "v",
         "showlegend": true,
         "type": "scatter",
         "x": [
          100.2
         ],
         "xaxis": "x",
         "y": [
          6.59
         ],
         "yaxis": "y"
        },
        {
         "customdata": [
          [
           "France"
          ]
         ],
         "hovertemplate": "Countries and areas=%{customdata[0]}<br>Gross_Primary_Education_Enrollment=%{x}<br>Unemployment_Rate=%{y}<extra></extra>",
         "legendgroup": "France",
         "marker": {
          "color": "#FFA15A",
          "symbol": "circle"
         },
         "mode": "markers",
         "name": "France",
         "orientation": "v",
         "showlegend": true,
         "type": "scatter",
         "x": [
          102.5
         ],
         "xaxis": "x",
         "y": [
          8.43
         ],
         "yaxis": "y"
        },
        {
         "customdata": [
          [
           "Gabon"
          ]
         ],
         "hovertemplate": "Countries and areas=%{customdata[0]}<br>Gross_Primary_Education_Enrollment=%{x}<br>Unemployment_Rate=%{y}<extra></extra>",
         "legendgroup": "Gabon",
         "marker": {
          "color": "#19d3f3",
          "symbol": "circle"
         },
         "mode": "markers",
         "name": "Gabon",
         "orientation": "v",
         "showlegend": true,
         "type": "scatter",
         "x": [
          139.9
         ],
         "xaxis": "x",
         "y": [
          20
         ],
         "yaxis": "y"
        },
        {
         "customdata": [
          [
           "The Gambia"
          ]
         ],
         "hovertemplate": "Countries and areas=%{customdata[0]}<br>Gross_Primary_Education_Enrollment=%{x}<br>Unemployment_Rate=%{y}<extra></extra>",
         "legendgroup": "The Gambia",
         "marker": {
          "color": "#FF6692",
          "symbol": "circle"
         },
         "mode": "markers",
         "name": "The Gambia",
         "orientation": "v",
         "showlegend": true,
         "type": "scatter",
         "x": [
          98
         ],
         "xaxis": "x",
         "y": [
          9.06
         ],
         "yaxis": "y"
        },
        {
         "customdata": [
          [
           "Georgia"
          ]
         ],
         "hovertemplate": "Countries and areas=%{customdata[0]}<br>Gross_Primary_Education_Enrollment=%{x}<br>Unemployment_Rate=%{y}<extra></extra>",
         "legendgroup": "Georgia",
         "marker": {
          "color": "#B6E880",
          "symbol": "circle"
         },
         "mode": "markers",
         "name": "Georgia",
         "orientation": "v",
         "showlegend": true,
         "type": "scatter",
         "x": [
          98.6
         ],
         "xaxis": "x",
         "y": [
          14.4
         ],
         "yaxis": "y"
        },
        {
         "customdata": [
          [
           "Germany"
          ]
         ],
         "hovertemplate": "Countries and areas=%{customdata[0]}<br>Gross_Primary_Education_Enrollment=%{x}<br>Unemployment_Rate=%{y}<extra></extra>",
         "legendgroup": "Germany",
         "marker": {
          "color": "#FF97FF",
          "symbol": "circle"
         },
         "mode": "markers",
         "name": "Germany",
         "orientation": "v",
         "showlegend": true,
         "type": "scatter",
         "x": [
          104
         ],
         "xaxis": "x",
         "y": [
          3.04
         ],
         "yaxis": "y"
        },
        {
         "customdata": [
          [
           "Ghana"
          ]
         ],
         "hovertemplate": "Countries and areas=%{customdata[0]}<br>Gross_Primary_Education_Enrollment=%{x}<br>Unemployment_Rate=%{y}<extra></extra>",
         "legendgroup": "Ghana",
         "marker": {
          "color": "#FECB52",
          "symbol": "circle"
         },
         "mode": "markers",
         "name": "Ghana",
         "orientation": "v",
         "showlegend": true,
         "type": "scatter",
         "x": [
          104.8
         ],
         "xaxis": "x",
         "y": [
          4.33
         ],
         "yaxis": "y"
        },
        {
         "customdata": [
          [
           "Greece"
          ]
         ],
         "hovertemplate": "Countries and areas=%{customdata[0]}<br>Gross_Primary_Education_Enrollment=%{x}<br>Unemployment_Rate=%{y}<extra></extra>",
         "legendgroup": "Greece",
         "marker": {
          "color": "#636efa",
          "symbol": "circle"
         },
         "mode": "markers",
         "name": "Greece",
         "orientation": "v",
         "showlegend": true,
         "type": "scatter",
         "x": [
          99.6
         ],
         "xaxis": "x",
         "y": [
          17.24
         ],
         "yaxis": "y"
        },
        {
         "customdata": [
          [
           "Grenada"
          ]
         ],
         "hovertemplate": "Countries and areas=%{customdata[0]}<br>Gross_Primary_Education_Enrollment=%{x}<br>Unemployment_Rate=%{y}<extra></extra>",
         "legendgroup": "Grenada",
         "marker": {
          "color": "#EF553B",
          "symbol": "circle"
         },
         "mode": "markers",
         "name": "Grenada",
         "orientation": "v",
         "showlegend": true,
         "type": "scatter",
         "x": [
          106.9
         ],
         "xaxis": "x",
         "y": [
          0
         ],
         "yaxis": "y"
        },
        {
         "customdata": [
          [
           "Guatemala"
          ]
         ],
         "hovertemplate": "Countries and areas=%{customdata[0]}<br>Gross_Primary_Education_Enrollment=%{x}<br>Unemployment_Rate=%{y}<extra></extra>",
         "legendgroup": "Guatemala",
         "marker": {
          "color": "#00cc96",
          "symbol": "circle"
         },
         "mode": "markers",
         "name": "Guatemala",
         "orientation": "v",
         "showlegend": true,
         "type": "scatter",
         "x": [
          101.9
         ],
         "xaxis": "x",
         "y": [
          2.46
         ],
         "yaxis": "y"
        },
        {
         "customdata": [
          [
           "Guinea"
          ]
         ],
         "hovertemplate": "Countries and areas=%{customdata[0]}<br>Gross_Primary_Education_Enrollment=%{x}<br>Unemployment_Rate=%{y}<extra></extra>",
         "legendgroup": "Guinea",
         "marker": {
          "color": "#ab63fa",
          "symbol": "circle"
         },
         "mode": "markers",
         "name": "Guinea",
         "orientation": "v",
         "showlegend": true,
         "type": "scatter",
         "x": [
          91.5
         ],
         "xaxis": "x",
         "y": [
          4.3
         ],
         "yaxis": "y"
        },
        {
         "customdata": [
          [
           "Guinea0Bissau"
          ]
         ],
         "hovertemplate": "Countries and areas=%{customdata[0]}<br>Gross_Primary_Education_Enrollment=%{x}<br>Unemployment_Rate=%{y}<extra></extra>",
         "legendgroup": "Guinea0Bissau",
         "marker": {
          "color": "#FFA15A",
          "symbol": "circle"
         },
         "mode": "markers",
         "name": "Guinea0Bissau",
         "orientation": "v",
         "showlegend": true,
         "type": "scatter",
         "x": [
          118.7
         ],
         "xaxis": "x",
         "y": [
          2.47
         ],
         "yaxis": "y"
        },
        {
         "customdata": [
          [
           "Guyana"
          ]
         ],
         "hovertemplate": "Countries and areas=%{customdata[0]}<br>Gross_Primary_Education_Enrollment=%{x}<br>Unemployment_Rate=%{y}<extra></extra>",
         "legendgroup": "Guyana",
         "marker": {
          "color": "#19d3f3",
          "symbol": "circle"
         },
         "mode": "markers",
         "name": "Guyana",
         "orientation": "v",
         "showlegend": true,
         "type": "scatter",
         "x": [
          97.8
         ],
         "xaxis": "x",
         "y": [
          11.85
         ],
         "yaxis": "y"
        },
        {
         "customdata": [
          [
           "Haiti"
          ]
         ],
         "hovertemplate": "Countries and areas=%{customdata[0]}<br>Gross_Primary_Education_Enrollment=%{x}<br>Unemployment_Rate=%{y}<extra></extra>",
         "legendgroup": "Haiti",
         "marker": {
          "color": "#FF6692",
          "symbol": "circle"
         },
         "mode": "markers",
         "name": "Haiti",
         "orientation": "v",
         "showlegend": true,
         "type": "scatter",
         "x": [
          113.6
         ],
         "xaxis": "x",
         "y": [
          13.78
         ],
         "yaxis": "y"
        },
        {
         "customdata": [
          [
           "Vatican City"
          ]
         ],
         "hovertemplate": "Countries and areas=%{customdata[0]}<br>Gross_Primary_Education_Enrollment=%{x}<br>Unemployment_Rate=%{y}<extra></extra>",
         "legendgroup": "Vatican City",
         "marker": {
          "color": "#B6E880",
          "symbol": "circle"
         },
         "mode": "markers",
         "name": "Vatican City",
         "orientation": "v",
         "showlegend": true,
         "type": "scatter",
         "x": [
          0
         ],
         "xaxis": "x",
         "y": [
          0
         ],
         "yaxis": "y"
        },
        {
         "customdata": [
          [
           "Honduras"
          ]
         ],
         "hovertemplate": "Countries and areas=%{customdata[0]}<br>Gross_Primary_Education_Enrollment=%{x}<br>Unemployment_Rate=%{y}<extra></extra>",
         "legendgroup": "Honduras",
         "marker": {
          "color": "#FF97FF",
          "symbol": "circle"
         },
         "mode": "markers",
         "name": "Honduras",
         "orientation": "v",
         "showlegend": true,
         "type": "scatter",
         "x": [
          91.5
         ],
         "xaxis": "x",
         "y": [
          5.39
         ],
         "yaxis": "y"
        },
        {
         "customdata": [
          [
           "Hungary"
          ]
         ],
         "hovertemplate": "Countries and areas=%{customdata[0]}<br>Gross_Primary_Education_Enrollment=%{x}<br>Unemployment_Rate=%{y}<extra></extra>",
         "legendgroup": "Hungary",
         "marker": {
          "color": "#FECB52",
          "symbol": "circle"
         },
         "mode": "markers",
         "name": "Hungary",
         "orientation": "v",
         "showlegend": true,
         "type": "scatter",
         "x": [
          100.8
         ],
         "xaxis": "x",
         "y": [
          3.4
         ],
         "yaxis": "y"
        },
        {
         "customdata": [
          [
           "Iceland"
          ]
         ],
         "hovertemplate": "Countries and areas=%{customdata[0]}<br>Gross_Primary_Education_Enrollment=%{x}<br>Unemployment_Rate=%{y}<extra></extra>",
         "legendgroup": "Iceland",
         "marker": {
          "color": "#636efa",
          "symbol": "circle"
         },
         "mode": "markers",
         "name": "Iceland",
         "orientation": "v",
         "showlegend": true,
         "type": "scatter",
         "x": [
          100.4
         ],
         "xaxis": "x",
         "y": [
          2.84
         ],
         "yaxis": "y"
        },
        {
         "customdata": [
          [
           "India"
          ]
         ],
         "hovertemplate": "Countries and areas=%{customdata[0]}<br>Gross_Primary_Education_Enrollment=%{x}<br>Unemployment_Rate=%{y}<extra></extra>",
         "legendgroup": "India",
         "marker": {
          "color": "#EF553B",
          "symbol": "circle"
         },
         "mode": "markers",
         "name": "India",
         "orientation": "v",
         "showlegend": true,
         "type": "scatter",
         "x": [
          113
         ],
         "xaxis": "x",
         "y": [
          5.36
         ],
         "yaxis": "y"
        },
        {
         "customdata": [
          [
           "Indonesia"
          ]
         ],
         "hovertemplate": "Countries and areas=%{customdata[0]}<br>Gross_Primary_Education_Enrollment=%{x}<br>Unemployment_Rate=%{y}<extra></extra>",
         "legendgroup": "Indonesia",
         "marker": {
          "color": "#00cc96",
          "symbol": "circle"
         },
         "mode": "markers",
         "name": "Indonesia",
         "orientation": "v",
         "showlegend": true,
         "type": "scatter",
         "x": [
          106.4
         ],
         "xaxis": "x",
         "y": [
          4.69
         ],
         "yaxis": "y"
        },
        {
         "customdata": [
          [
           "Iran"
          ]
         ],
         "hovertemplate": "Countries and areas=%{customdata[0]}<br>Gross_Primary_Education_Enrollment=%{x}<br>Unemployment_Rate=%{y}<extra></extra>",
         "legendgroup": "Iran",
         "marker": {
          "color": "#ab63fa",
          "symbol": "circle"
         },
         "mode": "markers",
         "name": "Iran",
         "orientation": "v",
         "showlegend": true,
         "type": "scatter",
         "x": [
          110.7
         ],
         "xaxis": "x",
         "y": [
          11.38
         ],
         "yaxis": "y"
        },
        {
         "customdata": [
          [
           "Iraq"
          ]
         ],
         "hovertemplate": "Countries and areas=%{customdata[0]}<br>Gross_Primary_Education_Enrollment=%{x}<br>Unemployment_Rate=%{y}<extra></extra>",
         "legendgroup": "Iraq",
         "marker": {
          "color": "#FFA15A",
          "symbol": "circle"
         },
         "mode": "markers",
         "name": "Iraq",
         "orientation": "v",
         "showlegend": true,
         "type": "scatter",
         "x": [
          108.7
         ],
         "xaxis": "x",
         "y": [
          12.82
         ],
         "yaxis": "y"
        },
        {
         "customdata": [
          [
           "Republic of Ireland"
          ]
         ],
         "hovertemplate": "Countries and areas=%{customdata[0]}<br>Gross_Primary_Education_Enrollment=%{x}<br>Unemployment_Rate=%{y}<extra></extra>",
         "legendgroup": "Republic of Ireland",
         "marker": {
          "color": "#19d3f3",
          "symbol": "circle"
         },
         "mode": "markers",
         "name": "Republic of Ireland",
         "orientation": "v",
         "showlegend": true,
         "type": "scatter",
         "x": [
          100.9
         ],
         "xaxis": "x",
         "y": [
          4.93
         ],
         "yaxis": "y"
        },
        {
         "customdata": [
          [
           "Israel"
          ]
         ],
         "hovertemplate": "Countries and areas=%{customdata[0]}<br>Gross_Primary_Education_Enrollment=%{x}<br>Unemployment_Rate=%{y}<extra></extra>",
         "legendgroup": "Israel",
         "marker": {
          "color": "#FF6692",
          "symbol": "circle"
         },
         "mode": "markers",
         "name": "Israel",
         "orientation": "v",
         "showlegend": true,
         "type": "scatter",
         "x": [
          104.9
         ],
         "xaxis": "x",
         "y": [
          3.86
         ],
         "yaxis": "y"
        },
        {
         "customdata": [
          [
           "Italy"
          ]
         ],
         "hovertemplate": "Countries and areas=%{customdata[0]}<br>Gross_Primary_Education_Enrollment=%{x}<br>Unemployment_Rate=%{y}<extra></extra>",
         "legendgroup": "Italy",
         "marker": {
          "color": "#B6E880",
          "symbol": "circle"
         },
         "mode": "markers",
         "name": "Italy",
         "orientation": "v",
         "showlegend": true,
         "type": "scatter",
         "x": [
          101.9
         ],
         "xaxis": "x",
         "y": [
          9.89
         ],
         "yaxis": "y"
        },
        {
         "customdata": [
          [
           "Jamaica"
          ]
         ],
         "hovertemplate": "Countries and areas=%{customdata[0]}<br>Gross_Primary_Education_Enrollment=%{x}<br>Unemployment_Rate=%{y}<extra></extra>",
         "legendgroup": "Jamaica",
         "marker": {
          "color": "#FF97FF",
          "symbol": "circle"
         },
         "mode": "markers",
         "name": "Jamaica",
         "orientation": "v",
         "showlegend": true,
         "type": "scatter",
         "x": [
          91
         ],
         "xaxis": "x",
         "y": [
          8
         ],
         "yaxis": "y"
        },
        {
         "customdata": [
          [
           "Japan"
          ]
         ],
         "hovertemplate": "Countries and areas=%{customdata[0]}<br>Gross_Primary_Education_Enrollment=%{x}<br>Unemployment_Rate=%{y}<extra></extra>",
         "legendgroup": "Japan",
         "marker": {
          "color": "#FECB52",
          "symbol": "circle"
         },
         "mode": "markers",
         "name": "Japan",
         "orientation": "v",
         "showlegend": true,
         "type": "scatter",
         "x": [
          98.8
         ],
         "xaxis": "x",
         "y": [
          2.29
         ],
         "yaxis": "y"
        },
        {
         "customdata": [
          [
           "Jordan"
          ]
         ],
         "hovertemplate": "Countries and areas=%{customdata[0]}<br>Gross_Primary_Education_Enrollment=%{x}<br>Unemployment_Rate=%{y}<extra></extra>",
         "legendgroup": "Jordan",
         "marker": {
          "color": "#636efa",
          "symbol": "circle"
         },
         "mode": "markers",
         "name": "Jordan",
         "orientation": "v",
         "showlegend": true,
         "type": "scatter",
         "x": [
          81.5
         ],
         "xaxis": "x",
         "y": [
          14.72
         ],
         "yaxis": "y"
        },
        {
         "customdata": [
          [
           "Kazakhstan"
          ]
         ],
         "hovertemplate": "Countries and areas=%{customdata[0]}<br>Gross_Primary_Education_Enrollment=%{x}<br>Unemployment_Rate=%{y}<extra></extra>",
         "legendgroup": "Kazakhstan",
         "marker": {
          "color": "#EF553B",
          "symbol": "circle"
         },
         "mode": "markers",
         "name": "Kazakhstan",
         "orientation": "v",
         "showlegend": true,
         "type": "scatter",
         "x": [
          104.4
         ],
         "xaxis": "x",
         "y": [
          4.59
         ],
         "yaxis": "y"
        },
        {
         "customdata": [
          [
           "Kenya"
          ]
         ],
         "hovertemplate": "Countries and areas=%{customdata[0]}<br>Gross_Primary_Education_Enrollment=%{x}<br>Unemployment_Rate=%{y}<extra></extra>",
         "legendgroup": "Kenya",
         "marker": {
          "color": "#00cc96",
          "symbol": "circle"
         },
         "mode": "markers",
         "name": "Kenya",
         "orientation": "v",
         "showlegend": true,
         "type": "scatter",
         "x": [
          103.2
         ],
         "xaxis": "x",
         "y": [
          2.64
         ],
         "yaxis": "y"
        },
        {
         "customdata": [
          [
           "Kiribati"
          ]
         ],
         "hovertemplate": "Countries and areas=%{customdata[0]}<br>Gross_Primary_Education_Enrollment=%{x}<br>Unemployment_Rate=%{y}<extra></extra>",
         "legendgroup": "Kiribati",
         "marker": {
          "color": "#ab63fa",
          "symbol": "circle"
         },
         "mode": "markers",
         "name": "Kiribati",
         "orientation": "v",
         "showlegend": true,
         "type": "scatter",
         "x": [
          101.3
         ],
         "xaxis": "x",
         "y": [
          0
         ],
         "yaxis": "y"
        },
        {
         "customdata": [
          [
           "Kuwait"
          ]
         ],
         "hovertemplate": "Countries and areas=%{customdata[0]}<br>Gross_Primary_Education_Enrollment=%{x}<br>Unemployment_Rate=%{y}<extra></extra>",
         "legendgroup": "Kuwait",
         "marker": {
          "color": "#FFA15A",
          "symbol": "circle"
         },
         "mode": "markers",
         "name": "Kuwait",
         "orientation": "v",
         "showlegend": true,
         "type": "scatter",
         "x": [
          92.4
         ],
         "xaxis": "x",
         "y": [
          2.18
         ],
         "yaxis": "y"
        },
        {
         "customdata": [
          [
           "Kyrgyzstan"
          ]
         ],
         "hovertemplate": "Countries and areas=%{customdata[0]}<br>Gross_Primary_Education_Enrollment=%{x}<br>Unemployment_Rate=%{y}<extra></extra>",
         "legendgroup": "Kyrgyzstan",
         "marker": {
          "color": "#19d3f3",
          "symbol": "circle"
         },
         "mode": "markers",
         "name": "Kyrgyzstan",
         "orientation": "v",
         "showlegend": true,
         "type": "scatter",
         "x": [
          107.6
         ],
         "xaxis": "x",
         "y": [
          6.33
         ],
         "yaxis": "y"
        },
        {
         "customdata": [
          [
           "Laos"
          ]
         ],
         "hovertemplate": "Countries and areas=%{customdata[0]}<br>Gross_Primary_Education_Enrollment=%{x}<br>Unemployment_Rate=%{y}<extra></extra>",
         "legendgroup": "Laos",
         "marker": {
          "color": "#FF6692",
          "symbol": "circle"
         },
         "mode": "markers",
         "name": "Laos",
         "orientation": "v",
         "showlegend": true,
         "type": "scatter",
         "x": [
          102.4
         ],
         "xaxis": "x",
         "y": [
          0.63
         ],
         "yaxis": "y"
        },
        {
         "customdata": [
          [
           "Latvia"
          ]
         ],
         "hovertemplate": "Countries and areas=%{customdata[0]}<br>Gross_Primary_Education_Enrollment=%{x}<br>Unemployment_Rate=%{y}<extra></extra>",
         "legendgroup": "Latvia",
         "marker": {
          "color": "#B6E880",
          "symbol": "circle"
         },
         "mode": "markers",
         "name": "Latvia",
         "orientation": "v",
         "showlegend": true,
         "type": "scatter",
         "x": [
          99.4
         ],
         "xaxis": "x",
         "y": [
          6.52
         ],
         "yaxis": "y"
        },
        {
         "customdata": [
          [
           "Lebanon"
          ]
         ],
         "hovertemplate": "Countries and areas=%{customdata[0]}<br>Gross_Primary_Education_Enrollment=%{x}<br>Unemployment_Rate=%{y}<extra></extra>",
         "legendgroup": "Lebanon",
         "marker": {
          "color": "#FF97FF",
          "symbol": "circle"
         },
         "mode": "markers",
         "name": "Lebanon",
         "orientation": "v",
         "showlegend": true,
         "type": "scatter",
         "x": [
          95.1
         ],
         "xaxis": "x",
         "y": [
          6.23
         ],
         "yaxis": "y"
        },
        {
         "customdata": [
          [
           "Lesotho"
          ]
         ],
         "hovertemplate": "Countries and areas=%{customdata[0]}<br>Gross_Primary_Education_Enrollment=%{x}<br>Unemployment_Rate=%{y}<extra></extra>",
         "legendgroup": "Lesotho",
         "marker": {
          "color": "#FECB52",
          "symbol": "circle"
         },
         "mode": "markers",
         "name": "Lesotho",
         "orientation": "v",
         "showlegend": true,
         "type": "scatter",
         "x": [
          120.9
         ],
         "xaxis": "x",
         "y": [
          23.41
         ],
         "yaxis": "y"
        },
        {
         "customdata": [
          [
           "Liberia"
          ]
         ],
         "hovertemplate": "Countries and areas=%{customdata[0]}<br>Gross_Primary_Education_Enrollment=%{x}<br>Unemployment_Rate=%{y}<extra></extra>",
         "legendgroup": "Liberia",
         "marker": {
          "color": "#636efa",
          "symbol": "circle"
         },
         "mode": "markers",
         "name": "Liberia",
         "orientation": "v",
         "showlegend": true,
         "type": "scatter",
         "x": [
          85.1
         ],
         "xaxis": "x",
         "y": [
          2.81
         ],
         "yaxis": "y"
        },
        {
         "customdata": [
          [
           "Libya"
          ]
         ],
         "hovertemplate": "Countries and areas=%{customdata[0]}<br>Gross_Primary_Education_Enrollment=%{x}<br>Unemployment_Rate=%{y}<extra></extra>",
         "legendgroup": "Libya",
         "marker": {
          "color": "#EF553B",
          "symbol": "circle"
         },
         "mode": "markers",
         "name": "Libya",
         "orientation": "v",
         "showlegend": true,
         "type": "scatter",
         "x": [
          109
         ],
         "xaxis": "x",
         "y": [
          18.56
         ],
         "yaxis": "y"
        },
        {
         "customdata": [
          [
           "Liechtenstein"
          ]
         ],
         "hovertemplate": "Countries and areas=%{customdata[0]}<br>Gross_Primary_Education_Enrollment=%{x}<br>Unemployment_Rate=%{y}<extra></extra>",
         "legendgroup": "Liechtenstein",
         "marker": {
          "color": "#00cc96",
          "symbol": "circle"
         },
         "mode": "markers",
         "name": "Liechtenstein",
         "orientation": "v",
         "showlegend": true,
         "type": "scatter",
         "x": [
          104.7
         ],
         "xaxis": "x",
         "y": [
          0
         ],
         "yaxis": "y"
        },
        {
         "customdata": [
          [
           "Lithuania"
          ]
         ],
         "hovertemplate": "Countries and areas=%{customdata[0]}<br>Gross_Primary_Education_Enrollment=%{x}<br>Unemployment_Rate=%{y}<extra></extra>",
         "legendgroup": "Lithuania",
         "marker": {
          "color": "#ab63fa",
          "symbol": "circle"
         },
         "mode": "markers",
         "name": "Lithuania",
         "orientation": "v",
         "showlegend": true,
         "type": "scatter",
         "x": [
          103.9
         ],
         "xaxis": "x",
         "y": [
          6.35
         ],
         "yaxis": "y"
        },
        {
         "customdata": [
          [
           "Luxembourg"
          ]
         ],
         "hovertemplate": "Countries and areas=%{customdata[0]}<br>Gross_Primary_Education_Enrollment=%{x}<br>Unemployment_Rate=%{y}<extra></extra>",
         "legendgroup": "Luxembourg",
         "marker": {
          "color": "#FFA15A",
          "symbol": "circle"
         },
         "mode": "markers",
         "name": "Luxembourg",
         "orientation": "v",
         "showlegend": true,
         "type": "scatter",
         "x": [
          102.3
         ],
         "xaxis": "x",
         "y": [
          5.36
         ],
         "yaxis": "y"
        },
        {
         "customdata": [
          [
           "Madagascar"
          ]
         ],
         "hovertemplate": "Countries and areas=%{customdata[0]}<br>Gross_Primary_Education_Enrollment=%{x}<br>Unemployment_Rate=%{y}<extra></extra>",
         "legendgroup": "Madagascar",
         "marker": {
          "color": "#19d3f3",
          "symbol": "circle"
         },
         "mode": "markers",
         "name": "Madagascar",
         "orientation": "v",
         "showlegend": true,
         "type": "scatter",
         "x": [
          142.5
         ],
         "xaxis": "x",
         "y": [
          1.76
         ],
         "yaxis": "y"
        },
        {
         "customdata": [
          [
           "Malawi"
          ]
         ],
         "hovertemplate": "Countries and areas=%{customdata[0]}<br>Gross_Primary_Education_Enrollment=%{x}<br>Unemployment_Rate=%{y}<extra></extra>",
         "legendgroup": "Malawi",
         "marker": {
          "color": "#FF6692",
          "symbol": "circle"
         },
         "mode": "markers",
         "name": "Malawi",
         "orientation": "v",
         "showlegend": true,
         "type": "scatter",
         "x": [
          142.5
         ],
         "xaxis": "x",
         "y": [
          5.65
         ],
         "yaxis": "y"
        },
        {
         "customdata": [
          [
           "Malaysia"
          ]
         ],
         "hovertemplate": "Countries and areas=%{customdata[0]}<br>Gross_Primary_Education_Enrollment=%{x}<br>Unemployment_Rate=%{y}<extra></extra>",
         "legendgroup": "Malaysia",
         "marker": {
          "color": "#B6E880",
          "symbol": "circle"
         },
         "mode": "markers",
         "name": "Malaysia",
         "orientation": "v",
         "showlegend": true,
         "type": "scatter",
         "x": [
          105.3
         ],
         "xaxis": "x",
         "y": [
          3.32
         ],
         "yaxis": "y"
        },
        {
         "customdata": [
          [
           "Maldives"
          ]
         ],
         "hovertemplate": "Countries and areas=%{customdata[0]}<br>Gross_Primary_Education_Enrollment=%{x}<br>Unemployment_Rate=%{y}<extra></extra>",
         "legendgroup": "Maldives",
         "marker": {
          "color": "#FF97FF",
          "symbol": "circle"
         },
         "mode": "markers",
         "name": "Maldives",
         "orientation": "v",
         "showlegend": true,
         "type": "scatter",
         "x": [
          97.1
         ],
         "xaxis": "x",
         "y": [
          6.14
         ],
         "yaxis": "y"
        },
        {
         "customdata": [
          [
           "Mali"
          ]
         ],
         "hovertemplate": "Countries and areas=%{customdata[0]}<br>Gross_Primary_Education_Enrollment=%{x}<br>Unemployment_Rate=%{y}<extra></extra>",
         "legendgroup": "Mali",
         "marker": {
          "color": "#FECB52",
          "symbol": "circle"
         },
         "mode": "markers",
         "name": "Mali",
         "orientation": "v",
         "showlegend": true,
         "type": "scatter",
         "x": [
          75.6
         ],
         "xaxis": "x",
         "y": [
          7.22
         ],
         "yaxis": "y"
        },
        {
         "customdata": [
          [
           "Malta"
          ]
         ],
         "hovertemplate": "Countries and areas=%{customdata[0]}<br>Gross_Primary_Education_Enrollment=%{x}<br>Unemployment_Rate=%{y}<extra></extra>",
         "legendgroup": "Malta",
         "marker": {
          "color": "#636efa",
          "symbol": "circle"
         },
         "mode": "markers",
         "name": "Malta",
         "orientation": "v",
         "showlegend": true,
         "type": "scatter",
         "x": [
          105
         ],
         "xaxis": "x",
         "y": [
          3.47
         ],
         "yaxis": "y"
        },
        {
         "customdata": [
          [
           "Marshall Islands"
          ]
         ],
         "hovertemplate": "Countries and areas=%{customdata[0]}<br>Gross_Primary_Education_Enrollment=%{x}<br>Unemployment_Rate=%{y}<extra></extra>",
         "legendgroup": "Marshall Islands",
         "marker": {
          "color": "#EF553B",
          "symbol": "circle"
         },
         "mode": "markers",
         "name": "Marshall Islands",
         "orientation": "v",
         "showlegend": true,
         "type": "scatter",
         "x": [
          84.7
         ],
         "xaxis": "x",
         "y": [
          0
         ],
         "yaxis": "y"
        },
        {
         "customdata": [
          [
           "Mauritania"
          ]
         ],
         "hovertemplate": "Countries and areas=%{customdata[0]}<br>Gross_Primary_Education_Enrollment=%{x}<br>Unemployment_Rate=%{y}<extra></extra>",
         "legendgroup": "Mauritania",
         "marker": {
          "color": "#00cc96",
          "symbol": "circle"
         },
         "mode": "markers",
         "name": "Mauritania",
         "orientation": "v",
         "showlegend": true,
         "type": "scatter",
         "x": [
          99.9
         ],
         "xaxis": "x",
         "y": [
          9.55
         ],
         "yaxis": "y"
        },
        {
         "customdata": [
          [
           "Mauritius"
          ]
         ],
         "hovertemplate": "Countries and areas=%{customdata[0]}<br>Gross_Primary_Education_Enrollment=%{x}<br>Unemployment_Rate=%{y}<extra></extra>",
         "legendgroup": "Mauritius",
         "marker": {
          "color": "#ab63fa",
          "symbol": "circle"
         },
         "mode": "markers",
         "name": "Mauritius",
         "orientation": "v",
         "showlegend": true,
         "type": "scatter",
         "x": [
          101.1
         ],
         "xaxis": "x",
         "y": [
          6.67
         ],
         "yaxis": "y"
        },
        {
         "customdata": [
          [
           "Mexico"
          ]
         ],
         "hovertemplate": "Countries and areas=%{customdata[0]}<br>Gross_Primary_Education_Enrollment=%{x}<br>Unemployment_Rate=%{y}<extra></extra>",
         "legendgroup": "Mexico",
         "marker": {
          "color": "#FFA15A",
          "symbol": "circle"
         },
         "mode": "markers",
         "name": "Mexico",
         "orientation": "v",
         "showlegend": true,
         "type": "scatter",
         "x": [
          105.8
         ],
         "xaxis": "x",
         "y": [
          3.42
         ],
         "yaxis": "y"
        },
        {
         "customdata": [
          [
           "Federated States of Micronesia"
          ]
         ],
         "hovertemplate": "Countries and areas=%{customdata[0]}<br>Gross_Primary_Education_Enrollment=%{x}<br>Unemployment_Rate=%{y}<extra></extra>",
         "legendgroup": "Federated States of Micronesia",
         "marker": {
          "color": "#19d3f3",
          "symbol": "circle"
         },
         "mode": "markers",
         "name": "Federated States of Micronesia",
         "orientation": "v",
         "showlegend": true,
         "type": "scatter",
         "x": [
          97.2
         ],
         "xaxis": "x",
         "y": [
          0
         ],
         "yaxis": "y"
        },
        {
         "customdata": [
          [
           "Monaco"
          ]
         ],
         "hovertemplate": "Countries and areas=%{customdata[0]}<br>Gross_Primary_Education_Enrollment=%{x}<br>Unemployment_Rate=%{y}<extra></extra>",
         "legendgroup": "Monaco",
         "marker": {
          "color": "#FF6692",
          "symbol": "circle"
         },
         "mode": "markers",
         "name": "Monaco",
         "orientation": "v",
         "showlegend": true,
         "type": "scatter",
         "x": [
          0
         ],
         "xaxis": "x",
         "y": [
          0
         ],
         "yaxis": "y"
        },
        {
         "customdata": [
          [
           "Mongolia"
          ]
         ],
         "hovertemplate": "Countries and areas=%{customdata[0]}<br>Gross_Primary_Education_Enrollment=%{x}<br>Unemployment_Rate=%{y}<extra></extra>",
         "legendgroup": "Mongolia",
         "marker": {
          "color": "#B6E880",
          "symbol": "circle"
         },
         "mode": "markers",
         "name": "Mongolia",
         "orientation": "v",
         "showlegend": true,
         "type": "scatter",
         "x": [
          104
         ],
         "xaxis": "x",
         "y": [
          6.01
         ],
         "yaxis": "y"
        },
        {
         "customdata": [
          [
           "Montenegro"
          ]
         ],
         "hovertemplate": "Countries and areas=%{customdata[0]}<br>Gross_Primary_Education_Enrollment=%{x}<br>Unemployment_Rate=%{y}<extra></extra>",
         "legendgroup": "Montenegro",
         "marker": {
          "color": "#FF97FF",
          "symbol": "circle"
         },
         "mode": "markers",
         "name": "Montenegro",
         "orientation": "v",
         "showlegend": true,
         "type": "scatter",
         "x": [
          100
         ],
         "xaxis": "x",
         "y": [
          14.88
         ],
         "yaxis": "y"
        },
        {
         "customdata": [
          [
           "Montserrat"
          ]
         ],
         "hovertemplate": "Countries and areas=%{customdata[0]}<br>Gross_Primary_Education_Enrollment=%{x}<br>Unemployment_Rate=%{y}<extra></extra>",
         "legendgroup": "Montserrat",
         "marker": {
          "color": "#FECB52",
          "symbol": "circle"
         },
         "mode": "markers",
         "name": "Montserrat",
         "orientation": "v",
         "showlegend": true,
         "type": "scatter",
         "x": [
          0
         ],
         "xaxis": "x",
         "y": [
          0
         ],
         "yaxis": "y"
        },
        {
         "customdata": [
          [
           "Morocco"
          ]
         ],
         "hovertemplate": "Countries and areas=%{customdata[0]}<br>Gross_Primary_Education_Enrollment=%{x}<br>Unemployment_Rate=%{y}<extra></extra>",
         "legendgroup": "Morocco",
         "marker": {
          "color": "#636efa",
          "symbol": "circle"
         },
         "mode": "markers",
         "name": "Morocco",
         "orientation": "v",
         "showlegend": true,
         "type": "scatter",
         "x": [
          113.9
         ],
         "xaxis": "x",
         "y": [
          9.02
         ],
         "yaxis": "y"
        },
        {
         "customdata": [
          [
           "Mozambique"
          ]
         ],
         "hovertemplate": "Countries and areas=%{customdata[0]}<br>Gross_Primary_Education_Enrollment=%{x}<br>Unemployment_Rate=%{y}<extra></extra>",
         "legendgroup": "Mozambique",
         "marker": {
          "color": "#EF553B",
          "symbol": "circle"
         },
         "mode": "markers",
         "name": "Mozambique",
         "orientation": "v",
         "showlegend": true,
         "type": "scatter",
         "x": [
          112.6
         ],
         "xaxis": "x",
         "y": [
          3.24
         ],
         "yaxis": "y"
        },
        {
         "customdata": [
          [
           "Myanmar"
          ]
         ],
         "hovertemplate": "Countries and areas=%{customdata[0]}<br>Gross_Primary_Education_Enrollment=%{x}<br>Unemployment_Rate=%{y}<extra></extra>",
         "legendgroup": "Myanmar",
         "marker": {
          "color": "#00cc96",
          "symbol": "circle"
         },
         "mode": "markers",
         "name": "Myanmar",
         "orientation": "v",
         "showlegend": true,
         "type": "scatter",
         "x": [
          112.3
         ],
         "xaxis": "x",
         "y": [
          1.58
         ],
         "yaxis": "y"
        },
        {
         "customdata": [
          [
           "Namibia"
          ]
         ],
         "hovertemplate": "Countries and areas=%{customdata[0]}<br>Gross_Primary_Education_Enrollment=%{x}<br>Unemployment_Rate=%{y}<extra></extra>",
         "legendgroup": "Namibia",
         "marker": {
          "color": "#ab63fa",
          "symbol": "circle"
         },
         "mode": "markers",
         "name": "Namibia",
         "orientation": "v",
         "showlegend": true,
         "type": "scatter",
         "x": [
          124.2
         ],
         "xaxis": "x",
         "y": [
          20.27
         ],
         "yaxis": "y"
        },
        {
         "customdata": [
          [
           "Nauru"
          ]
         ],
         "hovertemplate": "Countries and areas=%{customdata[0]}<br>Gross_Primary_Education_Enrollment=%{x}<br>Unemployment_Rate=%{y}<extra></extra>",
         "legendgroup": "Nauru",
         "marker": {
          "color": "#FFA15A",
          "symbol": "circle"
         },
         "mode": "markers",
         "name": "Nauru",
         "orientation": "v",
         "showlegend": true,
         "type": "scatter",
         "x": [
          0
         ],
         "xaxis": "x",
         "y": [
          0
         ],
         "yaxis": "y"
        },
        {
         "customdata": [
          [
           "Nepal"
          ]
         ],
         "hovertemplate": "Countries and areas=%{customdata[0]}<br>Gross_Primary_Education_Enrollment=%{x}<br>Unemployment_Rate=%{y}<extra></extra>",
         "legendgroup": "Nepal",
         "marker": {
          "color": "#19d3f3",
          "symbol": "circle"
         },
         "mode": "markers",
         "name": "Nepal",
         "orientation": "v",
         "showlegend": true,
         "type": "scatter",
         "x": [
          142.1
         ],
         "xaxis": "x",
         "y": [
          1.41
         ],
         "yaxis": "y"
        },
        {
         "customdata": [
          [
           "Netherlands"
          ]
         ],
         "hovertemplate": "Countries and areas=%{customdata[0]}<br>Gross_Primary_Education_Enrollment=%{x}<br>Unemployment_Rate=%{y}<extra></extra>",
         "legendgroup": "Netherlands",
         "marker": {
          "color": "#FF6692",
          "symbol": "circle"
         },
         "mode": "markers",
         "name": "Netherlands",
         "orientation": "v",
         "showlegend": true,
         "type": "scatter",
         "x": [
          104.2
         ],
         "xaxis": "x",
         "y": [
          3.2
         ],
         "yaxis": "y"
        },
        {
         "customdata": [
          [
           "New Zealand"
          ]
         ],
         "hovertemplate": "Countries and areas=%{customdata[0]}<br>Gross_Primary_Education_Enrollment=%{x}<br>Unemployment_Rate=%{y}<extra></extra>",
         "legendgroup": "New Zealand",
         "marker": {
          "color": "#B6E880",
          "symbol": "circle"
         },
         "mode": "markers",
         "name": "New Zealand",
         "orientation": "v",
         "showlegend": true,
         "type": "scatter",
         "x": [
          100
         ],
         "xaxis": "x",
         "y": [
          4.07
         ],
         "yaxis": "y"
        },
        {
         "customdata": [
          [
           "Nicaragua"
          ]
         ],
         "hovertemplate": "Countries and areas=%{customdata[0]}<br>Gross_Primary_Education_Enrollment=%{x}<br>Unemployment_Rate=%{y}<extra></extra>",
         "legendgroup": "Nicaragua",
         "marker": {
          "color": "#FF97FF",
          "symbol": "circle"
         },
         "mode": "markers",
         "name": "Nicaragua",
         "orientation": "v",
         "showlegend": true,
         "type": "scatter",
         "x": [
          120.6
         ],
         "xaxis": "x",
         "y": [
          6.84
         ],
         "yaxis": "y"
        },
        {
         "customdata": [
          [
           "Niger"
          ]
         ],
         "hovertemplate": "Countries and areas=%{customdata[0]}<br>Gross_Primary_Education_Enrollment=%{x}<br>Unemployment_Rate=%{y}<extra></extra>",
         "legendgroup": "Niger",
         "marker": {
          "color": "#FECB52",
          "symbol": "circle"
         },
         "mode": "markers",
         "name": "Niger",
         "orientation": "v",
         "showlegend": true,
         "type": "scatter",
         "x": [
          74.7
         ],
         "xaxis": "x",
         "y": [
          0.47
         ],
         "yaxis": "y"
        },
        {
         "customdata": [
          [
           "Nigeria"
          ]
         ],
         "hovertemplate": "Countries and areas=%{customdata[0]}<br>Gross_Primary_Education_Enrollment=%{x}<br>Unemployment_Rate=%{y}<extra></extra>",
         "legendgroup": "Nigeria",
         "marker": {
          "color": "#636efa",
          "symbol": "circle"
         },
         "mode": "markers",
         "name": "Nigeria",
         "orientation": "v",
         "showlegend": true,
         "type": "scatter",
         "x": [
          84.7
         ],
         "xaxis": "x",
         "y": [
          8.1
         ],
         "yaxis": "y"
        },
        {
         "customdata": [
          [
           "Niue"
          ]
         ],
         "hovertemplate": "Countries and areas=%{customdata[0]}<br>Gross_Primary_Education_Enrollment=%{x}<br>Unemployment_Rate=%{y}<extra></extra>",
         "legendgroup": "Niue",
         "marker": {
          "color": "#EF553B",
          "symbol": "circle"
         },
         "mode": "markers",
         "name": "Niue",
         "orientation": "v",
         "showlegend": true,
         "type": "scatter",
         "x": [
          0
         ],
         "xaxis": "x",
         "y": [
          0
         ],
         "yaxis": "y"
        },
        {
         "customdata": [
          [
           "North Macedonia"
          ]
         ],
         "hovertemplate": "Countries and areas=%{customdata[0]}<br>Gross_Primary_Education_Enrollment=%{x}<br>Unemployment_Rate=%{y}<extra></extra>",
         "legendgroup": "North Macedonia",
         "marker": {
          "color": "#00cc96",
          "symbol": "circle"
         },
         "mode": "markers",
         "name": "North Macedonia",
         "orientation": "v",
         "showlegend": true,
         "type": "scatter",
         "x": [
          0
         ],
         "xaxis": "x",
         "y": [
          0
         ],
         "yaxis": "y"
        },
        {
         "customdata": [
          [
           "Norway"
          ]
         ],
         "hovertemplate": "Countries and areas=%{customdata[0]}<br>Gross_Primary_Education_Enrollment=%{x}<br>Unemployment_Rate=%{y}<extra></extra>",
         "legendgroup": "Norway",
         "marker": {
          "color": "#ab63fa",
          "symbol": "circle"
         },
         "mode": "markers",
         "name": "Norway",
         "orientation": "v",
         "showlegend": true,
         "type": "scatter",
         "x": [
          100.3
         ],
         "xaxis": "x",
         "y": [
          3.35
         ],
         "yaxis": "y"
        },
        {
         "customdata": [
          [
           "Oman"
          ]
         ],
         "hovertemplate": "Countries and areas=%{customdata[0]}<br>Gross_Primary_Education_Enrollment=%{x}<br>Unemployment_Rate=%{y}<extra></extra>",
         "legendgroup": "Oman",
         "marker": {
          "color": "#FFA15A",
          "symbol": "circle"
         },
         "mode": "markers",
         "name": "Oman",
         "orientation": "v",
         "showlegend": true,
         "type": "scatter",
         "x": [
          103.4
         ],
         "xaxis": "x",
         "y": [
          2.67
         ],
         "yaxis": "y"
        },
        {
         "customdata": [
          [
           "Pakistan"
          ]
         ],
         "hovertemplate": "Countries and areas=%{customdata[0]}<br>Gross_Primary_Education_Enrollment=%{x}<br>Unemployment_Rate=%{y}<extra></extra>",
         "legendgroup": "Pakistan",
         "marker": {
          "color": "#19d3f3",
          "symbol": "circle"
         },
         "mode": "markers",
         "name": "Pakistan",
         "orientation": "v",
         "showlegend": true,
         "type": "scatter",
         "x": [
          94.3
         ],
         "xaxis": "x",
         "y": [
          4.45
         ],
         "yaxis": "y"
        },
        {
         "customdata": [
          [
           "Palau"
          ]
         ],
         "hovertemplate": "Countries and areas=%{customdata[0]}<br>Gross_Primary_Education_Enrollment=%{x}<br>Unemployment_Rate=%{y}<extra></extra>",
         "legendgroup": "Palau",
         "marker": {
          "color": "#FF6692",
          "symbol": "circle"
         },
         "mode": "markers",
         "name": "Palau",
         "orientation": "v",
         "showlegend": true,
         "type": "scatter",
         "x": [
          112.6
         ],
         "xaxis": "x",
         "y": [
          0
         ],
         "yaxis": "y"
        },
        {
         "customdata": [
          [
           "Panama"
          ]
         ],
         "hovertemplate": "Countries and areas=%{customdata[0]}<br>Gross_Primary_Education_Enrollment=%{x}<br>Unemployment_Rate=%{y}<extra></extra>",
         "legendgroup": "Panama",
         "marker": {
          "color": "#B6E880",
          "symbol": "circle"
         },
         "mode": "markers",
         "name": "Panama",
         "orientation": "v",
         "showlegend": true,
         "type": "scatter",
         "x": [
          94.4
         ],
         "xaxis": "x",
         "y": [
          3.9
         ],
         "yaxis": "y"
        },
        {
         "customdata": [
          [
           "Papua New Guinea"
          ]
         ],
         "hovertemplate": "Countries and areas=%{customdata[0]}<br>Gross_Primary_Education_Enrollment=%{x}<br>Unemployment_Rate=%{y}<extra></extra>",
         "legendgroup": "Papua New Guinea",
         "marker": {
          "color": "#FF97FF",
          "symbol": "circle"
         },
         "mode": "markers",
         "name": "Papua New Guinea",
         "orientation": "v",
         "showlegend": true,
         "type": "scatter",
         "x": [
          108.5
         ],
         "xaxis": "x",
         "y": [
          2.46
         ],
         "yaxis": "y"
        },
        {
         "customdata": [
          [
           "Paraguay"
          ]
         ],
         "hovertemplate": "Countries and areas=%{customdata[0]}<br>Gross_Primary_Education_Enrollment=%{x}<br>Unemployment_Rate=%{y}<extra></extra>",
         "legendgroup": "Paraguay",
         "marker": {
          "color": "#FECB52",
          "symbol": "circle"
         },
         "mode": "markers",
         "name": "Paraguay",
         "orientation": "v",
         "showlegend": true,
         "type": "scatter",
         "x": [
          104.4
         ],
         "xaxis": "x",
         "y": [
          4.81
         ],
         "yaxis": "y"
        },
        {
         "customdata": [
          [
           "Peru"
          ]
         ],
         "hovertemplate": "Countries and areas=%{customdata[0]}<br>Gross_Primary_Education_Enrollment=%{x}<br>Unemployment_Rate=%{y}<extra></extra>",
         "legendgroup": "Peru",
         "marker": {
          "color": "#636efa",
          "symbol": "circle"
         },
         "mode": "markers",
         "name": "Peru",
         "orientation": "v",
         "showlegend": true,
         "type": "scatter",
         "x": [
          106.9
         ],
         "xaxis": "x",
         "y": [
          3.31
         ],
         "yaxis": "y"
        },
        {
         "customdata": [
          [
           "Philippines"
          ]
         ],
         "hovertemplate": "Countries and areas=%{customdata[0]}<br>Gross_Primary_Education_Enrollment=%{x}<br>Unemployment_Rate=%{y}<extra></extra>",
         "legendgroup": "Philippines",
         "marker": {
          "color": "#EF553B",
          "symbol": "circle"
         },
         "mode": "markers",
         "name": "Philippines",
         "orientation": "v",
         "showlegend": true,
         "type": "scatter",
         "x": [
          107.5
         ],
         "xaxis": "x",
         "y": [
          2.15
         ],
         "yaxis": "y"
        },
        {
         "customdata": [
          [
           "Poland"
          ]
         ],
         "hovertemplate": "Countries and areas=%{customdata[0]}<br>Gross_Primary_Education_Enrollment=%{x}<br>Unemployment_Rate=%{y}<extra></extra>",
         "legendgroup": "Poland",
         "marker": {
          "color": "#00cc96",
          "symbol": "circle"
         },
         "mode": "markers",
         "name": "Poland",
         "orientation": "v",
         "showlegend": true,
         "type": "scatter",
         "x": [
          100
         ],
         "xaxis": "x",
         "y": [
          3.47
         ],
         "yaxis": "y"
        },
        {
         "customdata": [
          [
           "Portugal"
          ]
         ],
         "hovertemplate": "Countries and areas=%{customdata[0]}<br>Gross_Primary_Education_Enrollment=%{x}<br>Unemployment_Rate=%{y}<extra></extra>",
         "legendgroup": "Portugal",
         "marker": {
          "color": "#ab63fa",
          "symbol": "circle"
         },
         "mode": "markers",
         "name": "Portugal",
         "orientation": "v",
         "showlegend": true,
         "type": "scatter",
         "x": [
          106.2
         ],
         "xaxis": "x",
         "y": [
          6.33
         ],
         "yaxis": "y"
        },
        {
         "customdata": [
          [
           "Qatar"
          ]
         ],
         "hovertemplate": "Countries and areas=%{customdata[0]}<br>Gross_Primary_Education_Enrollment=%{x}<br>Unemployment_Rate=%{y}<extra></extra>",
         "legendgroup": "Qatar",
         "marker": {
          "color": "#FFA15A",
          "symbol": "circle"
         },
         "mode": "markers",
         "name": "Qatar",
         "orientation": "v",
         "showlegend": true,
         "type": "scatter",
         "x": [
          103.8
         ],
         "xaxis": "x",
         "y": [
          0.09
         ],
         "yaxis": "y"
        },
        {
         "customdata": [
          [
           "South Korea"
          ]
         ],
         "hovertemplate": "Countries and areas=%{customdata[0]}<br>Gross_Primary_Education_Enrollment=%{x}<br>Unemployment_Rate=%{y}<extra></extra>",
         "legendgroup": "South Korea",
         "marker": {
          "color": "#19d3f3",
          "symbol": "circle"
         },
         "mode": "markers",
         "name": "South Korea",
         "orientation": "v",
         "showlegend": true,
         "type": "scatter",
         "x": [
          98.1
         ],
         "xaxis": "x",
         "y": [
          4.15
         ],
         "yaxis": "y"
        },
        {
         "customdata": [
          [
           "Moldova"
          ]
         ],
         "hovertemplate": "Countries and areas=%{customdata[0]}<br>Gross_Primary_Education_Enrollment=%{x}<br>Unemployment_Rate=%{y}<extra></extra>",
         "legendgroup": "Moldova",
         "marker": {
          "color": "#FF6692",
          "symbol": "circle"
         },
         "mode": "markers",
         "name": "Moldova",
         "orientation": "v",
         "showlegend": true,
         "type": "scatter",
         "x": [
          90.6
         ],
         "xaxis": "x",
         "y": [
          5.47
         ],
         "yaxis": "y"
        },
        {
         "customdata": [
          [
           "Romania"
          ]
         ],
         "hovertemplate": "Countries and areas=%{customdata[0]}<br>Gross_Primary_Education_Enrollment=%{x}<br>Unemployment_Rate=%{y}<extra></extra>",
         "legendgroup": "Romania",
         "marker": {
          "color": "#B6E880",
          "symbol": "circle"
         },
         "mode": "markers",
         "name": "Romania",
         "orientation": "v",
         "showlegend": true,
         "type": "scatter",
         "x": [
          85.2
         ],
         "xaxis": "x",
         "y": [
          3.98
         ],
         "yaxis": "y"
        },
        {
         "customdata": [
          [
           "Russia"
          ]
         ],
         "hovertemplate": "Countries and areas=%{customdata[0]}<br>Gross_Primary_Education_Enrollment=%{x}<br>Unemployment_Rate=%{y}<extra></extra>",
         "legendgroup": "Russia",
         "marker": {
          "color": "#FF97FF",
          "symbol": "circle"
         },
         "mode": "markers",
         "name": "Russia",
         "orientation": "v",
         "showlegend": true,
         "type": "scatter",
         "x": [
          102.6
         ],
         "xaxis": "x",
         "y": [
          4.59
         ],
         "yaxis": "y"
        },
        {
         "customdata": [
          [
           "Rwanda"
          ]
         ],
         "hovertemplate": "Countries and areas=%{customdata[0]}<br>Gross_Primary_Education_Enrollment=%{x}<br>Unemployment_Rate=%{y}<extra></extra>",
         "legendgroup": "Rwanda",
         "marker": {
          "color": "#FECB52",
          "symbol": "circle"
         },
         "mode": "markers",
         "name": "Rwanda",
         "orientation": "v",
         "showlegend": true,
         "type": "scatter",
         "x": [
          133
         ],
         "xaxis": "x",
         "y": [
          1.03
         ],
         "yaxis": "y"
        },
        {
         "customdata": [
          [
           "Saint Kitts and Nevis"
          ]
         ],
         "hovertemplate": "Countries and areas=%{customdata[0]}<br>Gross_Primary_Education_Enrollment=%{x}<br>Unemployment_Rate=%{y}<extra></extra>",
         "legendgroup": "Saint Kitts and Nevis",
         "marker": {
          "color": "#636efa",
          "symbol": "circle"
         },
         "mode": "markers",
         "name": "Saint Kitts and Nevis",
         "orientation": "v",
         "showlegend": true,
         "type": "scatter",
         "x": [
          108.7
         ],
         "xaxis": "x",
         "y": [
          0
         ],
         "yaxis": "y"
        },
        {
         "customdata": [
          [
           "Saint Lucia"
          ]
         ],
         "hovertemplate": "Countries and areas=%{customdata[0]}<br>Gross_Primary_Education_Enrollment=%{x}<br>Unemployment_Rate=%{y}<extra></extra>",
         "legendgroup": "Saint Lucia",
         "marker": {
          "color": "#EF553B",
          "symbol": "circle"
         },
         "mode": "markers",
         "name": "Saint Lucia",
         "orientation": "v",
         "showlegend": true,
         "type": "scatter",
         "x": [
          102.6
         ],
         "xaxis": "x",
         "y": [
          20.71
         ],
         "yaxis": "y"
        },
        {
         "customdata": [
          [
           "Saint Vincent and the Grenadines"
          ]
         ],
         "hovertemplate": "Countries and areas=%{customdata[0]}<br>Gross_Primary_Education_Enrollment=%{x}<br>Unemployment_Rate=%{y}<extra></extra>",
         "legendgroup": "Saint Vincent and the Grenadines",
         "marker": {
          "color": "#00cc96",
          "symbol": "circle"
         },
         "mode": "markers",
         "name": "Saint Vincent and the Grenadines",
         "orientation": "v",
         "showlegend": true,
         "type": "scatter",
         "x": [
          113.4
         ],
         "xaxis": "x",
         "y": [
          18.88
         ],
         "yaxis": "y"
        },
        {
         "customdata": [
          [
           "Samoa"
          ]
         ],
         "hovertemplate": "Countries and areas=%{customdata[0]}<br>Gross_Primary_Education_Enrollment=%{x}<br>Unemployment_Rate=%{y}<extra></extra>",
         "legendgroup": "Samoa",
         "marker": {
          "color": "#ab63fa",
          "symbol": "circle"
         },
         "mode": "markers",
         "name": "Samoa",
         "orientation": "v",
         "showlegend": true,
         "type": "scatter",
         "x": [
          110.5
         ],
         "xaxis": "x",
         "y": [
          8.36
         ],
         "yaxis": "y"
        },
        {
         "customdata": [
          [
           "San Marino"
          ]
         ],
         "hovertemplate": "Countries and areas=%{customdata[0]}<br>Gross_Primary_Education_Enrollment=%{x}<br>Unemployment_Rate=%{y}<extra></extra>",
         "legendgroup": "San Marino",
         "marker": {
          "color": "#FFA15A",
          "symbol": "circle"
         },
         "mode": "markers",
         "name": "San Marino",
         "orientation": "v",
         "showlegend": true,
         "type": "scatter",
         "x": [
          108.1
         ],
         "xaxis": "x",
         "y": [
          0
         ],
         "yaxis": "y"
        },
        {
         "customdata": [
          [
           "Sï¿½ï¿½ï¿½ï¿½ï¿½ï¿½ï¿½ï¿"
          ]
         ],
         "hovertemplate": "Countries and areas=%{customdata[0]}<br>Gross_Primary_Education_Enrollment=%{x}<br>Unemployment_Rate=%{y}<extra></extra>",
         "legendgroup": "Sï¿½ï¿½ï¿½ï¿½ï¿½ï¿½ï¿½ï¿",
         "marker": {
          "color": "#19d3f3",
          "symbol": "circle"
         },
         "mode": "markers",
         "name": "Sï¿½ï¿½ï¿½ï¿½ï¿½ï¿½ï¿½ï¿",
         "orientation": "v",
         "showlegend": true,
         "type": "scatter",
         "x": [
          106.8
         ],
         "xaxis": "x",
         "y": [
          13.37
         ],
         "yaxis": "y"
        },
        {
         "customdata": [
          [
           "Saudi Arabia"
          ]
         ],
         "hovertemplate": "Countries and areas=%{customdata[0]}<br>Gross_Primary_Education_Enrollment=%{x}<br>Unemployment_Rate=%{y}<extra></extra>",
         "legendgroup": "Saudi Arabia",
         "marker": {
          "color": "#FF6692",
          "symbol": "circle"
         },
         "mode": "markers",
         "name": "Saudi Arabia",
         "orientation": "v",
         "showlegend": true,
         "type": "scatter",
         "x": [
          99.8
         ],
         "xaxis": "x",
         "y": [
          5.93
         ],
         "yaxis": "y"
        },
        {
         "customdata": [
          [
           "Senegal"
          ]
         ],
         "hovertemplate": "Countries and areas=%{customdata[0]}<br>Gross_Primary_Education_Enrollment=%{x}<br>Unemployment_Rate=%{y}<extra></extra>",
         "legendgroup": "Senegal",
         "marker": {
          "color": "#B6E880",
          "symbol": "circle"
         },
         "mode": "markers",
         "name": "Senegal",
         "orientation": "v",
         "showlegend": true,
         "type": "scatter",
         "x": [
          81
         ],
         "xaxis": "x",
         "y": [
          6.6
         ],
         "yaxis": "y"
        },
        {
         "customdata": [
          [
           "Serbia"
          ]
         ],
         "hovertemplate": "Countries and areas=%{customdata[0]}<br>Gross_Primary_Education_Enrollment=%{x}<br>Unemployment_Rate=%{y}<extra></extra>",
         "legendgroup": "Serbia",
         "marker": {
          "color": "#FF97FF",
          "symbol": "circle"
         },
         "mode": "markers",
         "name": "Serbia",
         "orientation": "v",
         "showlegend": true,
         "type": "scatter",
         "x": [
          100.3
         ],
         "xaxis": "x",
         "y": [
          12.69
         ],
         "yaxis": "y"
        },
        {
         "customdata": [
          [
           "Seychelles"
          ]
         ],
         "hovertemplate": "Countries and areas=%{customdata[0]}<br>Gross_Primary_Education_Enrollment=%{x}<br>Unemployment_Rate=%{y}<extra></extra>",
         "legendgroup": "Seychelles",
         "marker": {
          "color": "#FECB52",
          "symbol": "circle"
         },
         "mode": "markers",
         "name": "Seychelles",
         "orientation": "v",
         "showlegend": true,
         "type": "scatter",
         "x": [
          100.4
         ],
         "xaxis": "x",
         "y": [
          0
         ],
         "yaxis": "y"
        },
        {
         "customdata": [
          [
           "Sierra Leone"
          ]
         ],
         "hovertemplate": "Countries and areas=%{customdata[0]}<br>Gross_Primary_Education_Enrollment=%{x}<br>Unemployment_Rate=%{y}<extra></extra>",
         "legendgroup": "Sierra Leone",
         "marker": {
          "color": "#636efa",
          "symbol": "circle"
         },
         "mode": "markers",
         "name": "Sierra Leone",
         "orientation": "v",
         "showlegend": true,
         "type": "scatter",
         "x": [
          112.8
         ],
         "xaxis": "x",
         "y": [
          4.43
         ],
         "yaxis": "y"
        },
        {
         "customdata": [
          [
           "Singapore"
          ]
         ],
         "hovertemplate": "Countries and areas=%{customdata[0]}<br>Gross_Primary_Education_Enrollment=%{x}<br>Unemployment_Rate=%{y}<extra></extra>",
         "legendgroup": "Singapore",
         "marker": {
          "color": "#EF553B",
          "symbol": "circle"
         },
         "mode": "markers",
         "name": "Singapore",
         "orientation": "v",
         "showlegend": true,
         "type": "scatter",
         "x": [
          100.6
         ],
         "xaxis": "x",
         "y": [
          4.11
         ],
         "yaxis": "y"
        },
        {
         "customdata": [
          [
           "Slovakia"
          ]
         ],
         "hovertemplate": "Countries and areas=%{customdata[0]}<br>Gross_Primary_Education_Enrollment=%{x}<br>Unemployment_Rate=%{y}<extra></extra>",
         "legendgroup": "Slovakia",
         "marker": {
          "color": "#00cc96",
          "symbol": "circle"
         },
         "mode": "markers",
         "name": "Slovakia",
         "orientation": "v",
         "showlegend": true,
         "type": "scatter",
         "x": [
          98.7
         ],
         "xaxis": "x",
         "y": [
          5.56
         ],
         "yaxis": "y"
        },
        {
         "customdata": [
          [
           "Slovenia"
          ]
         ],
         "hovertemplate": "Countries and areas=%{customdata[0]}<br>Gross_Primary_Education_Enrollment=%{x}<br>Unemployment_Rate=%{y}<extra></extra>",
         "legendgroup": "Slovenia",
         "marker": {
          "color": "#ab63fa",
          "symbol": "circle"
         },
         "mode": "markers",
         "name": "Slovenia",
         "orientation": "v",
         "showlegend": true,
         "type": "scatter",
         "x": [
          100.4
         ],
         "xaxis": "x",
         "y": [
          4.2
         ],
         "yaxis": "y"
        },
        {
         "customdata": [
          [
           "Solomon Islands"
          ]
         ],
         "hovertemplate": "Countries and areas=%{customdata[0]}<br>Gross_Primary_Education_Enrollment=%{x}<br>Unemployment_Rate=%{y}<extra></extra>",
         "legendgroup": "Solomon Islands",
         "marker": {
          "color": "#FFA15A",
          "symbol": "circle"
         },
         "mode": "markers",
         "name": "Solomon Islands",
         "orientation": "v",
         "showlegend": true,
         "type": "scatter",
         "x": [
          106.2
         ],
         "xaxis": "x",
         "y": [
          0.58
         ],
         "yaxis": "y"
        },
        {
         "customdata": [
          [
           "Somalia"
          ]
         ],
         "hovertemplate": "Countries and areas=%{customdata[0]}<br>Gross_Primary_Education_Enrollment=%{x}<br>Unemployment_Rate=%{y}<extra></extra>",
         "legendgroup": "Somalia",
         "marker": {
          "color": "#19d3f3",
          "symbol": "circle"
         },
         "mode": "markers",
         "name": "Somalia",
         "orientation": "v",
         "showlegend": true,
         "type": "scatter",
         "x": [
          23.4
         ],
         "xaxis": "x",
         "y": [
          11.35
         ],
         "yaxis": "y"
        },
        {
         "customdata": [
          [
           "South Africa"
          ]
         ],
         "hovertemplate": "Countries and areas=%{customdata[0]}<br>Gross_Primary_Education_Enrollment=%{x}<br>Unemployment_Rate=%{y}<extra></extra>",
         "legendgroup": "South Africa",
         "marker": {
          "color": "#FF6692",
          "symbol": "circle"
         },
         "mode": "markers",
         "name": "South Africa",
         "orientation": "v",
         "showlegend": true,
         "type": "scatter",
         "x": [
          100.9
         ],
         "xaxis": "x",
         "y": [
          28.18
         ],
         "yaxis": "y"
        },
        {
         "customdata": [
          [
           "South Sudan"
          ]
         ],
         "hovertemplate": "Countries and areas=%{customdata[0]}<br>Gross_Primary_Education_Enrollment=%{x}<br>Unemployment_Rate=%{y}<extra></extra>",
         "legendgroup": "South Sudan",
         "marker": {
          "color": "#B6E880",
          "symbol": "circle"
         },
         "mode": "markers",
         "name": "South Sudan",
         "orientation": "v",
         "showlegend": true,
         "type": "scatter",
         "x": [
          73
         ],
         "xaxis": "x",
         "y": [
          12.24
         ],
         "yaxis": "y"
        },
        {
         "customdata": [
          [
           "Spain"
          ]
         ],
         "hovertemplate": "Countries and areas=%{customdata[0]}<br>Gross_Primary_Education_Enrollment=%{x}<br>Unemployment_Rate=%{y}<extra></extra>",
         "legendgroup": "Spain",
         "marker": {
          "color": "#FF97FF",
          "symbol": "circle"
         },
         "mode": "markers",
         "name": "Spain",
         "orientation": "v",
         "showlegend": true,
         "type": "scatter",
         "x": [
          102.7
         ],
         "xaxis": "x",
         "y": [
          13.96
         ],
         "yaxis": "y"
        },
        {
         "customdata": [
          [
           "Sri Lanka"
          ]
         ],
         "hovertemplate": "Countries and areas=%{customdata[0]}<br>Gross_Primary_Education_Enrollment=%{x}<br>Unemployment_Rate=%{y}<extra></extra>",
         "legendgroup": "Sri Lanka",
         "marker": {
          "color": "#FECB52",
          "symbol": "circle"
         },
         "mode": "markers",
         "name": "Sri Lanka",
         "orientation": "v",
         "showlegend": true,
         "type": "scatter",
         "x": [
          100.2
         ],
         "xaxis": "x",
         "y": [
          4.2
         ],
         "yaxis": "y"
        },
        {
         "customdata": [
          [
           "Palestinian National Authority"
          ]
         ],
         "hovertemplate": "Countries and areas=%{customdata[0]}<br>Gross_Primary_Education_Enrollment=%{x}<br>Unemployment_Rate=%{y}<extra></extra>",
         "legendgroup": "Palestinian National Authority",
         "marker": {
          "color": "#636efa",
          "symbol": "circle"
         },
         "mode": "markers",
         "name": "Palestinian National Authority",
         "orientation": "v",
         "showlegend": true,
         "type": "scatter",
         "x": [
          0
         ],
         "xaxis": "x",
         "y": [
          0
         ],
         "yaxis": "y"
        },
        {
         "customdata": [
          [
           "Sudan"
          ]
         ],
         "hovertemplate": "Countries and areas=%{customdata[0]}<br>Gross_Primary_Education_Enrollment=%{x}<br>Unemployment_Rate=%{y}<extra></extra>",
         "legendgroup": "Sudan",
         "marker": {
          "color": "#EF553B",
          "symbol": "circle"
         },
         "mode": "markers",
         "name": "Sudan",
         "orientation": "v",
         "showlegend": true,
         "type": "scatter",
         "x": [
          76.8
         ],
         "xaxis": "x",
         "y": [
          16.53
         ],
         "yaxis": "y"
        },
        {
         "customdata": [
          [
           "Suriname"
          ]
         ],
         "hovertemplate": "Countries and areas=%{customdata[0]}<br>Gross_Primary_Education_Enrollment=%{x}<br>Unemployment_Rate=%{y}<extra></extra>",
         "legendgroup": "Suriname",
         "marker": {
          "color": "#00cc96",
          "symbol": "circle"
         },
         "mode": "markers",
         "name": "Suriname",
         "orientation": "v",
         "showlegend": true,
         "type": "scatter",
         "x": [
          108.8
         ],
         "xaxis": "x",
         "y": [
          7.33
         ],
         "yaxis": "y"
        },
        {
         "customdata": [
          [
           "Sweden"
          ]
         ],
         "hovertemplate": "Countries and areas=%{customdata[0]}<br>Gross_Primary_Education_Enrollment=%{x}<br>Unemployment_Rate=%{y}<extra></extra>",
         "legendgroup": "Sweden",
         "marker": {
          "color": "#ab63fa",
          "symbol": "circle"
         },
         "mode": "markers",
         "name": "Sweden",
         "orientation": "v",
         "showlegend": true,
         "type": "scatter",
         "x": [
          126.6
         ],
         "xaxis": "x",
         "y": [
          6.48
         ],
         "yaxis": "y"
        },
        {
         "customdata": [
          [
           "Switzerland"
          ]
         ],
         "hovertemplate": "Countries and areas=%{customdata[0]}<br>Gross_Primary_Education_Enrollment=%{x}<br>Unemployment_Rate=%{y}<extra></extra>",
         "legendgroup": "Switzerland",
         "marker": {
          "color": "#FFA15A",
          "symbol": "circle"
         },
         "mode": "markers",
         "name": "Switzerland",
         "orientation": "v",
         "showlegend": true,
         "type": "scatter",
         "x": [
          105.2
         ],
         "xaxis": "x",
         "y": [
          4.58
         ],
         "yaxis": "y"
        },
        {
         "customdata": [
          [
           "Syria"
          ]
         ],
         "hovertemplate": "Countries and areas=%{customdata[0]}<br>Gross_Primary_Education_Enrollment=%{x}<br>Unemployment_Rate=%{y}<extra></extra>",
         "legendgroup": "Syria",
         "marker": {
          "color": "#19d3f3",
          "symbol": "circle"
         },
         "mode": "markers",
         "name": "Syria",
         "orientation": "v",
         "showlegend": true,
         "type": "scatter",
         "x": [
          81.7
         ],
         "xaxis": "x",
         "y": [
          8.37
         ],
         "yaxis": "y"
        },
        {
         "customdata": [
          [
           "Tajikistan"
          ]
         ],
         "hovertemplate": "Countries and areas=%{customdata[0]}<br>Gross_Primary_Education_Enrollment=%{x}<br>Unemployment_Rate=%{y}<extra></extra>",
         "legendgroup": "Tajikistan",
         "marker": {
          "color": "#FF6692",
          "symbol": "circle"
         },
         "mode": "markers",
         "name": "Tajikistan",
         "orientation": "v",
         "showlegend": true,
         "type": "scatter",
         "x": [
          100.9
         ],
         "xaxis": "x",
         "y": [
          11.02
         ],
         "yaxis": "y"
        },
        {
         "customdata": [
          [
           "Thailand"
          ]
         ],
         "hovertemplate": "Countries and areas=%{customdata[0]}<br>Gross_Primary_Education_Enrollment=%{x}<br>Unemployment_Rate=%{y}<extra></extra>",
         "legendgroup": "Thailand",
         "marker": {
          "color": "#B6E880",
          "symbol": "circle"
         },
         "mode": "markers",
         "name": "Thailand",
         "orientation": "v",
         "showlegend": true,
         "type": "scatter",
         "x": [
          99.8
         ],
         "xaxis": "x",
         "y": [
          0.75
         ],
         "yaxis": "y"
        },
        {
         "customdata": [
          [
           "East Timor"
          ]
         ],
         "hovertemplate": "Countries and areas=%{customdata[0]}<br>Gross_Primary_Education_Enrollment=%{x}<br>Unemployment_Rate=%{y}<extra></extra>",
         "legendgroup": "East Timor",
         "marker": {
          "color": "#FF97FF",
          "symbol": "circle"
         },
         "mode": "markers",
         "name": "East Timor",
         "orientation": "v",
         "showlegend": true,
         "type": "scatter",
         "x": [
          115.3
         ],
         "xaxis": "x",
         "y": [
          4.55
         ],
         "yaxis": "y"
        },
        {
         "customdata": [
          [
           "Togo"
          ]
         ],
         "hovertemplate": "Countries and areas=%{customdata[0]}<br>Gross_Primary_Education_Enrollment=%{x}<br>Unemployment_Rate=%{y}<extra></extra>",
         "legendgroup": "Togo",
         "marker": {
          "color": "#FECB52",
          "symbol": "circle"
         },
         "mode": "markers",
         "name": "Togo",
         "orientation": "v",
         "showlegend": true,
         "type": "scatter",
         "x": [
          123.8
         ],
         "xaxis": "x",
         "y": [
          2.04
         ],
         "yaxis": "y"
        },
        {
         "customdata": [
          [
           "Tokelau"
          ]
         ],
         "hovertemplate": "Countries and areas=%{customdata[0]}<br>Gross_Primary_Education_Enrollment=%{x}<br>Unemployment_Rate=%{y}<extra></extra>",
         "legendgroup": "Tokelau",
         "marker": {
          "color": "#636efa",
          "symbol": "circle"
         },
         "mode": "markers",
         "name": "Tokelau",
         "orientation": "v",
         "showlegend": true,
         "type": "scatter",
         "x": [
          0
         ],
         "xaxis": "x",
         "y": [
          0
         ],
         "yaxis": "y"
        },
        {
         "customdata": [
          [
           "Tonga"
          ]
         ],
         "hovertemplate": "Countries and areas=%{customdata[0]}<br>Gross_Primary_Education_Enrollment=%{x}<br>Unemployment_Rate=%{y}<extra></extra>",
         "legendgroup": "Tonga",
         "marker": {
          "color": "#EF553B",
          "symbol": "circle"
         },
         "mode": "markers",
         "name": "Tonga",
         "orientation": "v",
         "showlegend": true,
         "type": "scatter",
         "x": [
          116.3
         ],
         "xaxis": "x",
         "y": [
          1.12
         ],
         "yaxis": "y"
        },
        {
         "customdata": [
          [
           "Trinidad and Tobago"
          ]
         ],
         "hovertemplate": "Countries and areas=%{customdata[0]}<br>Gross_Primary_Education_Enrollment=%{x}<br>Unemployment_Rate=%{y}<extra></extra>",
         "legendgroup": "Trinidad and Tobago",
         "marker": {
          "color": "#00cc96",
          "symbol": "circle"
         },
         "mode": "markers",
         "name": "Trinidad and Tobago",
         "orientation": "v",
         "showlegend": true,
         "type": "scatter",
         "x": [
          106.2
         ],
         "xaxis": "x",
         "y": [
          2.69
         ],
         "yaxis": "y"
        },
        {
         "customdata": [
          [
           "Tunisia"
          ]
         ],
         "hovertemplate": "Countries and areas=%{customdata[0]}<br>Gross_Primary_Education_Enrollment=%{x}<br>Unemployment_Rate=%{y}<extra></extra>",
         "legendgroup": "Tunisia",
         "marker": {
          "color": "#ab63fa",
          "symbol": "circle"
         },
         "mode": "markers",
         "name": "Tunisia",
         "orientation": "v",
         "showlegend": true,
         "type": "scatter",
         "x": [
          115.4
         ],
         "xaxis": "x",
         "y": [
          16.02
         ],
         "yaxis": "y"
        },
        {
         "customdata": [
          [
           "Turkey"
          ]
         ],
         "hovertemplate": "Countries and areas=%{customdata[0]}<br>Gross_Primary_Education_Enrollment=%{x}<br>Unemployment_Rate=%{y}<extra></extra>",
         "legendgroup": "Turkey",
         "marker": {
          "color": "#FFA15A",
          "symbol": "circle"
         },
         "mode": "markers",
         "name": "Turkey",
         "orientation": "v",
         "showlegend": true,
         "type": "scatter",
         "x": [
          93.2
         ],
         "xaxis": "x",
         "y": [
          13.49
         ],
         "yaxis": "y"
        },
        {
         "customdata": [
          [
           "Turkmenistan"
          ]
         ],
         "hovertemplate": "Countries and areas=%{customdata[0]}<br>Gross_Primary_Education_Enrollment=%{x}<br>Unemployment_Rate=%{y}<extra></extra>",
         "legendgroup": "Turkmenistan",
         "marker": {
          "color": "#19d3f3",
          "symbol": "circle"
         },
         "mode": "markers",
         "name": "Turkmenistan",
         "orientation": "v",
         "showlegend": true,
         "type": "scatter",
         "x": [
          88.4
         ],
         "xaxis": "x",
         "y": [
          3.91
         ],
         "yaxis": "y"
        },
        {
         "customdata": [
          [
           "Turks and Caicos Islands"
          ]
         ],
         "hovertemplate": "Countries and areas=%{customdata[0]}<br>Gross_Primary_Education_Enrollment=%{x}<br>Unemployment_Rate=%{y}<extra></extra>",
         "legendgroup": "Turks and Caicos Islands",
         "marker": {
          "color": "#FF6692",
          "symbol": "circle"
         },
         "mode": "markers",
         "name": "Turks and Caicos Islands",
         "orientation": "v",
         "showlegend": true,
         "type": "scatter",
         "x": [
          0
         ],
         "xaxis": "x",
         "y": [
          0
         ],
         "yaxis": "y"
        },
        {
         "customdata": [
          [
           "Tuvalu"
          ]
         ],
         "hovertemplate": "Countries and areas=%{customdata[0]}<br>Gross_Primary_Education_Enrollment=%{x}<br>Unemployment_Rate=%{y}<extra></extra>",
         "legendgroup": "Tuvalu",
         "marker": {
          "color": "#B6E880",
          "symbol": "circle"
         },
         "mode": "markers",
         "name": "Tuvalu",
         "orientation": "v",
         "showlegend": true,
         "type": "scatter",
         "x": [
          0
         ],
         "xaxis": "x",
         "y": [
          0
         ],
         "yaxis": "y"
        },
        {
         "customdata": [
          [
           "Uganda"
          ]
         ],
         "hovertemplate": "Countries and areas=%{customdata[0]}<br>Gross_Primary_Education_Enrollment=%{x}<br>Unemployment_Rate=%{y}<extra></extra>",
         "legendgroup": "Uganda",
         "marker": {
          "color": "#FF97FF",
          "symbol": "circle"
         },
         "mode": "markers",
         "name": "Uganda",
         "orientation": "v",
         "showlegend": true,
         "type": "scatter",
         "x": [
          102.7
         ],
         "xaxis": "x",
         "y": [
          1.84
         ],
         "yaxis": "y"
        },
        {
         "customdata": [
          [
           "Ukraine"
          ]
         ],
         "hovertemplate": "Countries and areas=%{customdata[0]}<br>Gross_Primary_Education_Enrollment=%{x}<br>Unemployment_Rate=%{y}<extra></extra>",
         "legendgroup": "Ukraine",
         "marker": {
          "color": "#FECB52",
          "symbol": "circle"
         },
         "mode": "markers",
         "name": "Ukraine",
         "orientation": "v",
         "showlegend": true,
         "type": "scatter",
         "x": [
          99
         ],
         "xaxis": "x",
         "y": [
          8.88
         ],
         "yaxis": "y"
        },
        {
         "customdata": [
          [
           "United Arab Emirates"
          ]
         ],
         "hovertemplate": "Countries and areas=%{customdata[0]}<br>Gross_Primary_Education_Enrollment=%{x}<br>Unemployment_Rate=%{y}<extra></extra>",
         "legendgroup": "United Arab Emirates",
         "marker": {
          "color": "#636efa",
          "symbol": "circle"
         },
         "mode": "markers",
         "name": "United Arab Emirates",
         "orientation": "v",
         "showlegend": true,
         "type": "scatter",
         "x": [
          108.4
         ],
         "xaxis": "x",
         "y": [
          2.35
         ],
         "yaxis": "y"
        },
        {
         "customdata": [
          [
           "United Kingdom"
          ]
         ],
         "hovertemplate": "Countries and areas=%{customdata[0]}<br>Gross_Primary_Education_Enrollment=%{x}<br>Unemployment_Rate=%{y}<extra></extra>",
         "legendgroup": "United Kingdom",
         "marker": {
          "color": "#EF553B",
          "symbol": "circle"
         },
         "mode": "markers",
         "name": "United Kingdom",
         "orientation": "v",
         "showlegend": true,
         "type": "scatter",
         "x": [
          101.2
         ],
         "xaxis": "x",
         "y": [
          3.85
         ],
         "yaxis": "y"
        },
        {
         "customdata": [
          [
           "Tanzania"
          ]
         ],
         "hovertemplate": "Countries and areas=%{customdata[0]}<br>Gross_Primary_Education_Enrollment=%{x}<br>Unemployment_Rate=%{y}<extra></extra>",
         "legendgroup": "Tanzania",
         "marker": {
          "color": "#00cc96",
          "symbol": "circle"
         },
         "mode": "markers",
         "name": "Tanzania",
         "orientation": "v",
         "showlegend": true,
         "type": "scatter",
         "x": [
          94.2
         ],
         "xaxis": "x",
         "y": [
          1.98
         ],
         "yaxis": "y"
        },
        {
         "customdata": [
          [
           "United States"
          ]
         ],
         "hovertemplate": "Countries and areas=%{customdata[0]}<br>Gross_Primary_Education_Enrollment=%{x}<br>Unemployment_Rate=%{y}<extra></extra>",
         "legendgroup": "United States",
         "marker": {
          "color": "#ab63fa",
          "symbol": "circle"
         },
         "mode": "markers",
         "name": "United States",
         "orientation": "v",
         "showlegend": true,
         "type": "scatter",
         "x": [
          101.8
         ],
         "xaxis": "x",
         "y": [
          14.7
         ],
         "yaxis": "y"
        },
        {
         "customdata": [
          [
           "Uruguay"
          ]
         ],
         "hovertemplate": "Countries and areas=%{customdata[0]}<br>Gross_Primary_Education_Enrollment=%{x}<br>Unemployment_Rate=%{y}<extra></extra>",
         "legendgroup": "Uruguay",
         "marker": {
          "color": "#FFA15A",
          "symbol": "circle"
         },
         "mode": "markers",
         "name": "Uruguay",
         "orientation": "v",
         "showlegend": true,
         "type": "scatter",
         "x": [
          108.5
         ],
         "xaxis": "x",
         "y": [
          8.73
         ],
         "yaxis": "y"
        },
        {
         "customdata": [
          [
           "Uzbekistan"
          ]
         ],
         "hovertemplate": "Countries and areas=%{customdata[0]}<br>Gross_Primary_Education_Enrollment=%{x}<br>Unemployment_Rate=%{y}<extra></extra>",
         "legendgroup": "Uzbekistan",
         "marker": {
          "color": "#19d3f3",
          "symbol": "circle"
         },
         "mode": "markers",
         "name": "Uzbekistan",
         "orientation": "v",
         "showlegend": true,
         "type": "scatter",
         "x": [
          104.2
         ],
         "xaxis": "x",
         "y": [
          5.92
         ],
         "yaxis": "y"
        },
        {
         "customdata": [
          [
           "Vanuatu"
          ]
         ],
         "hovertemplate": "Countries and areas=%{customdata[0]}<br>Gross_Primary_Education_Enrollment=%{x}<br>Unemployment_Rate=%{y}<extra></extra>",
         "legendgroup": "Vanuatu",
         "marker": {
          "color": "#FF6692",
          "symbol": "circle"
         },
         "mode": "markers",
         "name": "Vanuatu",
         "orientation": "v",
         "showlegend": true,
         "type": "scatter",
         "x": [
          109.3
         ],
         "xaxis": "x",
         "y": [
          4.39
         ],
         "yaxis": "y"
        },
        {
         "customdata": [
          [
           "Venezuela"
          ]
         ],
         "hovertemplate": "Countries and areas=%{customdata[0]}<br>Gross_Primary_Education_Enrollment=%{x}<br>Unemployment_Rate=%{y}<extra></extra>",
         "legendgroup": "Venezuela",
         "marker": {
          "color": "#B6E880",
          "symbol": "circle"
         },
         "mode": "markers",
         "name": "Venezuela",
         "orientation": "v",
         "showlegend": true,
         "type": "scatter",
         "x": [
          97.2
         ],
         "xaxis": "x",
         "y": [
          8.8
         ],
         "yaxis": "y"
        },
        {
         "customdata": [
          [
           "Vietnam"
          ]
         ],
         "hovertemplate": "Countries and areas=%{customdata[0]}<br>Gross_Primary_Education_Enrollment=%{x}<br>Unemployment_Rate=%{y}<extra></extra>",
         "legendgroup": "Vietnam",
         "marker": {
          "color": "#FF97FF",
          "symbol": "circle"
         },
         "mode": "markers",
         "name": "Vietnam",
         "orientation": "v",
         "showlegend": true,
         "type": "scatter",
         "x": [
          110.6
         ],
         "xaxis": "x",
         "y": [
          2.01
         ],
         "yaxis": "y"
        },
        {
         "customdata": [
          [
           "Yemen"
          ]
         ],
         "hovertemplate": "Countries and areas=%{customdata[0]}<br>Gross_Primary_Education_Enrollment=%{x}<br>Unemployment_Rate=%{y}<extra></extra>",
         "legendgroup": "Yemen",
         "marker": {
          "color": "#FECB52",
          "symbol": "circle"
         },
         "mode": "markers",
         "name": "Yemen",
         "orientation": "v",
         "showlegend": true,
         "type": "scatter",
         "x": [
          93.6
         ],
         "xaxis": "x",
         "y": [
          12.91
         ],
         "yaxis": "y"
        },
        {
         "customdata": [
          [
           "Zambia"
          ]
         ],
         "hovertemplate": "Countries and areas=%{customdata[0]}<br>Gross_Primary_Education_Enrollment=%{x}<br>Unemployment_Rate=%{y}<extra></extra>",
         "legendgroup": "Zambia",
         "marker": {
          "color": "#636efa",
          "symbol": "circle"
         },
         "mode": "markers",
         "name": "Zambia",
         "orientation": "v",
         "showlegend": true,
         "type": "scatter",
         "x": [
          98.7
         ],
         "xaxis": "x",
         "y": [
          11.43
         ],
         "yaxis": "y"
        },
        {
         "customdata": [
          [
           "Zimbabwe"
          ]
         ],
         "hovertemplate": "Countries and areas=%{customdata[0]}<br>Gross_Primary_Education_Enrollment=%{x}<br>Unemployment_Rate=%{y}<extra></extra>",
         "legendgroup": "Zimbabwe",
         "marker": {
          "color": "#EF553B",
          "symbol": "circle"
         },
         "mode": "markers",
         "name": "Zimbabwe",
         "orientation": "v",
         "showlegend": true,
         "type": "scatter",
         "x": [
          109.9
         ],
         "xaxis": "x",
         "y": [
          4.95
         ],
         "yaxis": "y"
        }
       ],
       "layout": {
        "legend": {
         "title": {
          "text": "Countries and areas"
         },
         "tracegroupgap": 0
        },
        "template": {
         "data": {
          "bar": [
           {
            "error_x": {
             "color": "#2a3f5f"
            },
            "error_y": {
             "color": "#2a3f5f"
            },
            "marker": {
             "line": {
              "color": "#E5ECF6",
              "width": 0.5
             },
             "pattern": {
              "fillmode": "overlay",
              "size": 10,
              "solidity": 0.2
             }
            },
            "type": "bar"
           }
          ],
          "barpolar": [
           {
            "marker": {
             "line": {
              "color": "#E5ECF6",
              "width": 0.5
             },
             "pattern": {
              "fillmode": "overlay",
              "size": 10,
              "solidity": 0.2
             }
            },
            "type": "barpolar"
           }
          ],
          "carpet": [
           {
            "aaxis": {
             "endlinecolor": "#2a3f5f",
             "gridcolor": "white",
             "linecolor": "white",
             "minorgridcolor": "white",
             "startlinecolor": "#2a3f5f"
            },
            "baxis": {
             "endlinecolor": "#2a3f5f",
             "gridcolor": "white",
             "linecolor": "white",
             "minorgridcolor": "white",
             "startlinecolor": "#2a3f5f"
            },
            "type": "carpet"
           }
          ],
          "choropleth": [
           {
            "colorbar": {
             "outlinewidth": 0,
             "ticks": ""
            },
            "type": "choropleth"
           }
          ],
          "contour": [
           {
            "colorbar": {
             "outlinewidth": 0,
             "ticks": ""
            },
            "colorscale": [
             [
              0,
              "#0d0887"
             ],
             [
              0.1111111111111111,
              "#46039f"
             ],
             [
              0.2222222222222222,
              "#7201a8"
             ],
             [
              0.3333333333333333,
              "#9c179e"
             ],
             [
              0.4444444444444444,
              "#bd3786"
             ],
             [
              0.5555555555555556,
              "#d8576b"
             ],
             [
              0.6666666666666666,
              "#ed7953"
             ],
             [
              0.7777777777777778,
              "#fb9f3a"
             ],
             [
              0.8888888888888888,
              "#fdca26"
             ],
             [
              1,
              "#f0f921"
             ]
            ],
            "type": "contour"
           }
          ],
          "contourcarpet": [
           {
            "colorbar": {
             "outlinewidth": 0,
             "ticks": ""
            },
            "type": "contourcarpet"
           }
          ],
          "heatmap": [
           {
            "colorbar": {
             "outlinewidth": 0,
             "ticks": ""
            },
            "colorscale": [
             [
              0,
              "#0d0887"
             ],
             [
              0.1111111111111111,
              "#46039f"
             ],
             [
              0.2222222222222222,
              "#7201a8"
             ],
             [
              0.3333333333333333,
              "#9c179e"
             ],
             [
              0.4444444444444444,
              "#bd3786"
             ],
             [
              0.5555555555555556,
              "#d8576b"
             ],
             [
              0.6666666666666666,
              "#ed7953"
             ],
             [
              0.7777777777777778,
              "#fb9f3a"
             ],
             [
              0.8888888888888888,
              "#fdca26"
             ],
             [
              1,
              "#f0f921"
             ]
            ],
            "type": "heatmap"
           }
          ],
          "heatmapgl": [
           {
            "colorbar": {
             "outlinewidth": 0,
             "ticks": ""
            },
            "colorscale": [
             [
              0,
              "#0d0887"
             ],
             [
              0.1111111111111111,
              "#46039f"
             ],
             [
              0.2222222222222222,
              "#7201a8"
             ],
             [
              0.3333333333333333,
              "#9c179e"
             ],
             [
              0.4444444444444444,
              "#bd3786"
             ],
             [
              0.5555555555555556,
              "#d8576b"
             ],
             [
              0.6666666666666666,
              "#ed7953"
             ],
             [
              0.7777777777777778,
              "#fb9f3a"
             ],
             [
              0.8888888888888888,
              "#fdca26"
             ],
             [
              1,
              "#f0f921"
             ]
            ],
            "type": "heatmapgl"
           }
          ],
          "histogram": [
           {
            "marker": {
             "pattern": {
              "fillmode": "overlay",
              "size": 10,
              "solidity": 0.2
             }
            },
            "type": "histogram"
           }
          ],
          "histogram2d": [
           {
            "colorbar": {
             "outlinewidth": 0,
             "ticks": ""
            },
            "colorscale": [
             [
              0,
              "#0d0887"
             ],
             [
              0.1111111111111111,
              "#46039f"
             ],
             [
              0.2222222222222222,
              "#7201a8"
             ],
             [
              0.3333333333333333,
              "#9c179e"
             ],
             [
              0.4444444444444444,
              "#bd3786"
             ],
             [
              0.5555555555555556,
              "#d8576b"
             ],
             [
              0.6666666666666666,
              "#ed7953"
             ],
             [
              0.7777777777777778,
              "#fb9f3a"
             ],
             [
              0.8888888888888888,
              "#fdca26"
             ],
             [
              1,
              "#f0f921"
             ]
            ],
            "type": "histogram2d"
           }
          ],
          "histogram2dcontour": [
           {
            "colorbar": {
             "outlinewidth": 0,
             "ticks": ""
            },
            "colorscale": [
             [
              0,
              "#0d0887"
             ],
             [
              0.1111111111111111,
              "#46039f"
             ],
             [
              0.2222222222222222,
              "#7201a8"
             ],
             [
              0.3333333333333333,
              "#9c179e"
             ],
             [
              0.4444444444444444,
              "#bd3786"
             ],
             [
              0.5555555555555556,
              "#d8576b"
             ],
             [
              0.6666666666666666,
              "#ed7953"
             ],
             [
              0.7777777777777778,
              "#fb9f3a"
             ],
             [
              0.8888888888888888,
              "#fdca26"
             ],
             [
              1,
              "#f0f921"
             ]
            ],
            "type": "histogram2dcontour"
           }
          ],
          "mesh3d": [
           {
            "colorbar": {
             "outlinewidth": 0,
             "ticks": ""
            },
            "type": "mesh3d"
           }
          ],
          "parcoords": [
           {
            "line": {
             "colorbar": {
              "outlinewidth": 0,
              "ticks": ""
             }
            },
            "type": "parcoords"
           }
          ],
          "pie": [
           {
            "automargin": true,
            "type": "pie"
           }
          ],
          "scatter": [
           {
            "fillpattern": {
             "fillmode": "overlay",
             "size": 10,
             "solidity": 0.2
            },
            "type": "scatter"
           }
          ],
          "scatter3d": [
           {
            "line": {
             "colorbar": {
              "outlinewidth": 0,
              "ticks": ""
             }
            },
            "marker": {
             "colorbar": {
              "outlinewidth": 0,
              "ticks": ""
             }
            },
            "type": "scatter3d"
           }
          ],
          "scattercarpet": [
           {
            "marker": {
             "colorbar": {
              "outlinewidth": 0,
              "ticks": ""
             }
            },
            "type": "scattercarpet"
           }
          ],
          "scattergeo": [
           {
            "marker": {
             "colorbar": {
              "outlinewidth": 0,
              "ticks": ""
             }
            },
            "type": "scattergeo"
           }
          ],
          "scattergl": [
           {
            "marker": {
             "colorbar": {
              "outlinewidth": 0,
              "ticks": ""
             }
            },
            "type": "scattergl"
           }
          ],
          "scattermapbox": [
           {
            "marker": {
             "colorbar": {
              "outlinewidth": 0,
              "ticks": ""
             }
            },
            "type": "scattermapbox"
           }
          ],
          "scatterpolar": [
           {
            "marker": {
             "colorbar": {
              "outlinewidth": 0,
              "ticks": ""
             }
            },
            "type": "scatterpolar"
           }
          ],
          "scatterpolargl": [
           {
            "marker": {
             "colorbar": {
              "outlinewidth": 0,
              "ticks": ""
             }
            },
            "type": "scatterpolargl"
           }
          ],
          "scatterternary": [
           {
            "marker": {
             "colorbar": {
              "outlinewidth": 0,
              "ticks": ""
             }
            },
            "type": "scatterternary"
           }
          ],
          "surface": [
           {
            "colorbar": {
             "outlinewidth": 0,
             "ticks": ""
            },
            "colorscale": [
             [
              0,
              "#0d0887"
             ],
             [
              0.1111111111111111,
              "#46039f"
             ],
             [
              0.2222222222222222,
              "#7201a8"
             ],
             [
              0.3333333333333333,
              "#9c179e"
             ],
             [
              0.4444444444444444,
              "#bd3786"
             ],
             [
              0.5555555555555556,
              "#d8576b"
             ],
             [
              0.6666666666666666,
              "#ed7953"
             ],
             [
              0.7777777777777778,
              "#fb9f3a"
             ],
             [
              0.8888888888888888,
              "#fdca26"
             ],
             [
              1,
              "#f0f921"
             ]
            ],
            "type": "surface"
           }
          ],
          "table": [
           {
            "cells": {
             "fill": {
              "color": "#EBF0F8"
             },
             "line": {
              "color": "white"
             }
            },
            "header": {
             "fill": {
              "color": "#C8D4E3"
             },
             "line": {
              "color": "white"
             }
            },
            "type": "table"
           }
          ]
         },
         "layout": {
          "annotationdefaults": {
           "arrowcolor": "#2a3f5f",
           "arrowhead": 0,
           "arrowwidth": 1
          },
          "autotypenumbers": "strict",
          "coloraxis": {
           "colorbar": {
            "outlinewidth": 0,
            "ticks": ""
           }
          },
          "colorscale": {
           "diverging": [
            [
             0,
             "#8e0152"
            ],
            [
             0.1,
             "#c51b7d"
            ],
            [
             0.2,
             "#de77ae"
            ],
            [
             0.3,
             "#f1b6da"
            ],
            [
             0.4,
             "#fde0ef"
            ],
            [
             0.5,
             "#f7f7f7"
            ],
            [
             0.6,
             "#e6f5d0"
            ],
            [
             0.7,
             "#b8e186"
            ],
            [
             0.8,
             "#7fbc41"
            ],
            [
             0.9,
             "#4d9221"
            ],
            [
             1,
             "#276419"
            ]
           ],
           "sequential": [
            [
             0,
             "#0d0887"
            ],
            [
             0.1111111111111111,
             "#46039f"
            ],
            [
             0.2222222222222222,
             "#7201a8"
            ],
            [
             0.3333333333333333,
             "#9c179e"
            ],
            [
             0.4444444444444444,
             "#bd3786"
            ],
            [
             0.5555555555555556,
             "#d8576b"
            ],
            [
             0.6666666666666666,
             "#ed7953"
            ],
            [
             0.7777777777777778,
             "#fb9f3a"
            ],
            [
             0.8888888888888888,
             "#fdca26"
            ],
            [
             1,
             "#f0f921"
            ]
           ],
           "sequentialminus": [
            [
             0,
             "#0d0887"
            ],
            [
             0.1111111111111111,
             "#46039f"
            ],
            [
             0.2222222222222222,
             "#7201a8"
            ],
            [
             0.3333333333333333,
             "#9c179e"
            ],
            [
             0.4444444444444444,
             "#bd3786"
            ],
            [
             0.5555555555555556,
             "#d8576b"
            ],
            [
             0.6666666666666666,
             "#ed7953"
            ],
            [
             0.7777777777777778,
             "#fb9f3a"
            ],
            [
             0.8888888888888888,
             "#fdca26"
            ],
            [
             1,
             "#f0f921"
            ]
           ]
          },
          "colorway": [
           "#636efa",
           "#EF553B",
           "#00cc96",
           "#ab63fa",
           "#FFA15A",
           "#19d3f3",
           "#FF6692",
           "#B6E880",
           "#FF97FF",
           "#FECB52"
          ],
          "font": {
           "color": "#2a3f5f"
          },
          "geo": {
           "bgcolor": "white",
           "lakecolor": "white",
           "landcolor": "#E5ECF6",
           "showlakes": true,
           "showland": true,
           "subunitcolor": "white"
          },
          "hoverlabel": {
           "align": "left"
          },
          "hovermode": "closest",
          "mapbox": {
           "style": "light"
          },
          "paper_bgcolor": "white",
          "plot_bgcolor": "#E5ECF6",
          "polar": {
           "angularaxis": {
            "gridcolor": "white",
            "linecolor": "white",
            "ticks": ""
           },
           "bgcolor": "#E5ECF6",
           "radialaxis": {
            "gridcolor": "white",
            "linecolor": "white",
            "ticks": ""
           }
          },
          "scene": {
           "xaxis": {
            "backgroundcolor": "#E5ECF6",
            "gridcolor": "white",
            "gridwidth": 2,
            "linecolor": "white",
            "showbackground": true,
            "ticks": "",
            "zerolinecolor": "white"
           },
           "yaxis": {
            "backgroundcolor": "#E5ECF6",
            "gridcolor": "white",
            "gridwidth": 2,
            "linecolor": "white",
            "showbackground": true,
            "ticks": "",
            "zerolinecolor": "white"
           },
           "zaxis": {
            "backgroundcolor": "#E5ECF6",
            "gridcolor": "white",
            "gridwidth": 2,
            "linecolor": "white",
            "showbackground": true,
            "ticks": "",
            "zerolinecolor": "white"
           }
          },
          "shapedefaults": {
           "line": {
            "color": "#2a3f5f"
           }
          },
          "ternary": {
           "aaxis": {
            "gridcolor": "white",
            "linecolor": "white",
            "ticks": ""
           },
           "baxis": {
            "gridcolor": "white",
            "linecolor": "white",
            "ticks": ""
           },
           "bgcolor": "#E5ECF6",
           "caxis": {
            "gridcolor": "white",
            "linecolor": "white",
            "ticks": ""
           }
          },
          "title": {
           "x": 0.05
          },
          "xaxis": {
           "automargin": true,
           "gridcolor": "white",
           "linecolor": "white",
           "ticks": "",
           "title": {
            "standoff": 15
           },
           "zerolinecolor": "white",
           "zerolinewidth": 2
          },
          "yaxis": {
           "automargin": true,
           "gridcolor": "white",
           "linecolor": "white",
           "ticks": "",
           "title": {
            "standoff": 15
           },
           "zerolinecolor": "white",
           "zerolinewidth": 2
          }
         }
        },
        "title": {
         "text": "Relation between Primary Education Enrollment and Unemployment Rate"
        },
        "xaxis": {
         "anchor": "y",
         "domain": [
          0,
          1
         ],
         "title": {
          "text": "Gross_Primary_Education_Enrollment"
         }
        },
        "yaxis": {
         "anchor": "x",
         "domain": [
          0,
          1
         ],
         "title": {
          "text": "Unemployment_Rate"
         }
        }
       }
      },
      "text/html": [
       "<div>                            <div id=\"c7dfbb96-5770-4b5b-9fac-44b119e06c9c\" class=\"plotly-graph-div\" style=\"height:525px; width:100%;\"></div>            <script type=\"text/javascript\">                require([\"plotly\"], function(Plotly) {                    window.PLOTLYENV=window.PLOTLYENV || {};                                    if (document.getElementById(\"c7dfbb96-5770-4b5b-9fac-44b119e06c9c\")) {                    Plotly.newPlot(                        \"c7dfbb96-5770-4b5b-9fac-44b119e06c9c\",                        [{\"customdata\":[[\"Afghanistan\"]],\"hovertemplate\":\"Countries and areas=%{customdata[0]}<br>Gross_Primary_Education_Enrollment=%{x}<br>Unemployment_Rate=%{y}<extra></extra>\",\"legendgroup\":\"Afghanistan\",\"marker\":{\"color\":\"#636efa\",\"symbol\":\"circle\"},\"mode\":\"markers\",\"name\":\"Afghanistan\",\"orientation\":\"v\",\"showlegend\":true,\"x\":[104.0],\"xaxis\":\"x\",\"y\":[11.12],\"yaxis\":\"y\",\"type\":\"scatter\"},{\"customdata\":[[\"Albania\"]],\"hovertemplate\":\"Countries and areas=%{customdata[0]}<br>Gross_Primary_Education_Enrollment=%{x}<br>Unemployment_Rate=%{y}<extra></extra>\",\"legendgroup\":\"Albania\",\"marker\":{\"color\":\"#EF553B\",\"symbol\":\"circle\"},\"mode\":\"markers\",\"name\":\"Albania\",\"orientation\":\"v\",\"showlegend\":true,\"x\":[107.0],\"xaxis\":\"x\",\"y\":[12.33],\"yaxis\":\"y\",\"type\":\"scatter\"},{\"customdata\":[[\"Algeria\"]],\"hovertemplate\":\"Countries and areas=%{customdata[0]}<br>Gross_Primary_Education_Enrollment=%{x}<br>Unemployment_Rate=%{y}<extra></extra>\",\"legendgroup\":\"Algeria\",\"marker\":{\"color\":\"#00cc96\",\"symbol\":\"circle\"},\"mode\":\"markers\",\"name\":\"Algeria\",\"orientation\":\"v\",\"showlegend\":true,\"x\":[109.9],\"xaxis\":\"x\",\"y\":[11.7],\"yaxis\":\"y\",\"type\":\"scatter\"},{\"customdata\":[[\"Andorra\"]],\"hovertemplate\":\"Countries and areas=%{customdata[0]}<br>Gross_Primary_Education_Enrollment=%{x}<br>Unemployment_Rate=%{y}<extra></extra>\",\"legendgroup\":\"Andorra\",\"marker\":{\"color\":\"#ab63fa\",\"symbol\":\"circle\"},\"mode\":\"markers\",\"name\":\"Andorra\",\"orientation\":\"v\",\"showlegend\":true,\"x\":[106.4],\"xaxis\":\"x\",\"y\":[0.0],\"yaxis\":\"y\",\"type\":\"scatter\"},{\"customdata\":[[\"Angola\"]],\"hovertemplate\":\"Countries and areas=%{customdata[0]}<br>Gross_Primary_Education_Enrollment=%{x}<br>Unemployment_Rate=%{y}<extra></extra>\",\"legendgroup\":\"Angola\",\"marker\":{\"color\":\"#FFA15A\",\"symbol\":\"circle\"},\"mode\":\"markers\",\"name\":\"Angola\",\"orientation\":\"v\",\"showlegend\":true,\"x\":[113.5],\"xaxis\":\"x\",\"y\":[6.89],\"yaxis\":\"y\",\"type\":\"scatter\"},{\"customdata\":[[\"Anguilla\"]],\"hovertemplate\":\"Countries and areas=%{customdata[0]}<br>Gross_Primary_Education_Enrollment=%{x}<br>Unemployment_Rate=%{y}<extra></extra>\",\"legendgroup\":\"Anguilla\",\"marker\":{\"color\":\"#19d3f3\",\"symbol\":\"circle\"},\"mode\":\"markers\",\"name\":\"Anguilla\",\"orientation\":\"v\",\"showlegend\":true,\"x\":[0.0],\"xaxis\":\"x\",\"y\":[0.0],\"yaxis\":\"y\",\"type\":\"scatter\"},{\"customdata\":[[\"Antigua and Barbuda\"]],\"hovertemplate\":\"Countries and areas=%{customdata[0]}<br>Gross_Primary_Education_Enrollment=%{x}<br>Unemployment_Rate=%{y}<extra></extra>\",\"legendgroup\":\"Antigua and Barbuda\",\"marker\":{\"color\":\"#FF6692\",\"symbol\":\"circle\"},\"mode\":\"markers\",\"name\":\"Antigua and Barbuda\",\"orientation\":\"v\",\"showlegend\":true,\"x\":[105.0],\"xaxis\":\"x\",\"y\":[0.0],\"yaxis\":\"y\",\"type\":\"scatter\"},{\"customdata\":[[\"Argentina\"]],\"hovertemplate\":\"Countries and areas=%{customdata[0]}<br>Gross_Primary_Education_Enrollment=%{x}<br>Unemployment_Rate=%{y}<extra></extra>\",\"legendgroup\":\"Argentina\",\"marker\":{\"color\":\"#B6E880\",\"symbol\":\"circle\"},\"mode\":\"markers\",\"name\":\"Argentina\",\"orientation\":\"v\",\"showlegend\":true,\"x\":[109.7],\"xaxis\":\"x\",\"y\":[9.79],\"yaxis\":\"y\",\"type\":\"scatter\"},{\"customdata\":[[\"Armenia\"]],\"hovertemplate\":\"Countries and areas=%{customdata[0]}<br>Gross_Primary_Education_Enrollment=%{x}<br>Unemployment_Rate=%{y}<extra></extra>\",\"legendgroup\":\"Armenia\",\"marker\":{\"color\":\"#FF97FF\",\"symbol\":\"circle\"},\"mode\":\"markers\",\"name\":\"Armenia\",\"orientation\":\"v\",\"showlegend\":true,\"x\":[92.7],\"xaxis\":\"x\",\"y\":[16.99],\"yaxis\":\"y\",\"type\":\"scatter\"},{\"customdata\":[[\"Australia\"]],\"hovertemplate\":\"Countries and areas=%{customdata[0]}<br>Gross_Primary_Education_Enrollment=%{x}<br>Unemployment_Rate=%{y}<extra></extra>\",\"legendgroup\":\"Australia\",\"marker\":{\"color\":\"#FECB52\",\"symbol\":\"circle\"},\"mode\":\"markers\",\"name\":\"Australia\",\"orientation\":\"v\",\"showlegend\":true,\"x\":[100.3],\"xaxis\":\"x\",\"y\":[5.27],\"yaxis\":\"y\",\"type\":\"scatter\"},{\"customdata\":[[\"Austria\"]],\"hovertemplate\":\"Countries and areas=%{customdata[0]}<br>Gross_Primary_Education_Enrollment=%{x}<br>Unemployment_Rate=%{y}<extra></extra>\",\"legendgroup\":\"Austria\",\"marker\":{\"color\":\"#636efa\",\"symbol\":\"circle\"},\"mode\":\"markers\",\"name\":\"Austria\",\"orientation\":\"v\",\"showlegend\":true,\"x\":[103.1],\"xaxis\":\"x\",\"y\":[4.67],\"yaxis\":\"y\",\"type\":\"scatter\"},{\"customdata\":[[\"Azerbaijan\"]],\"hovertemplate\":\"Countries and areas=%{customdata[0]}<br>Gross_Primary_Education_Enrollment=%{x}<br>Unemployment_Rate=%{y}<extra></extra>\",\"legendgroup\":\"Azerbaijan\",\"marker\":{\"color\":\"#EF553B\",\"symbol\":\"circle\"},\"mode\":\"markers\",\"name\":\"Azerbaijan\",\"orientation\":\"v\",\"showlegend\":true,\"x\":[99.7],\"xaxis\":\"x\",\"y\":[5.51],\"yaxis\":\"y\",\"type\":\"scatter\"},{\"customdata\":[[\"The Bahamas\"]],\"hovertemplate\":\"Countries and areas=%{customdata[0]}<br>Gross_Primary_Education_Enrollment=%{x}<br>Unemployment_Rate=%{y}<extra></extra>\",\"legendgroup\":\"The Bahamas\",\"marker\":{\"color\":\"#00cc96\",\"symbol\":\"circle\"},\"mode\":\"markers\",\"name\":\"The Bahamas\",\"orientation\":\"v\",\"showlegend\":true,\"x\":[81.4],\"xaxis\":\"x\",\"y\":[10.36],\"yaxis\":\"y\",\"type\":\"scatter\"},{\"customdata\":[[\"Bahrain\"]],\"hovertemplate\":\"Countries and areas=%{customdata[0]}<br>Gross_Primary_Education_Enrollment=%{x}<br>Unemployment_Rate=%{y}<extra></extra>\",\"legendgroup\":\"Bahrain\",\"marker\":{\"color\":\"#ab63fa\",\"symbol\":\"circle\"},\"mode\":\"markers\",\"name\":\"Bahrain\",\"orientation\":\"v\",\"showlegend\":true,\"x\":[99.4],\"xaxis\":\"x\",\"y\":[0.71],\"yaxis\":\"y\",\"type\":\"scatter\"},{\"customdata\":[[\"Bangladesh\"]],\"hovertemplate\":\"Countries and areas=%{customdata[0]}<br>Gross_Primary_Education_Enrollment=%{x}<br>Unemployment_Rate=%{y}<extra></extra>\",\"legendgroup\":\"Bangladesh\",\"marker\":{\"color\":\"#FFA15A\",\"symbol\":\"circle\"},\"mode\":\"markers\",\"name\":\"Bangladesh\",\"orientation\":\"v\",\"showlegend\":true,\"x\":[116.5],\"xaxis\":\"x\",\"y\":[4.19],\"yaxis\":\"y\",\"type\":\"scatter\"},{\"customdata\":[[\"Barbados\"]],\"hovertemplate\":\"Countries and areas=%{customdata[0]}<br>Gross_Primary_Education_Enrollment=%{x}<br>Unemployment_Rate=%{y}<extra></extra>\",\"legendgroup\":\"Barbados\",\"marker\":{\"color\":\"#19d3f3\",\"symbol\":\"circle\"},\"mode\":\"markers\",\"name\":\"Barbados\",\"orientation\":\"v\",\"showlegend\":true,\"x\":[99.4],\"xaxis\":\"x\",\"y\":[10.33],\"yaxis\":\"y\",\"type\":\"scatter\"},{\"customdata\":[[\"Belarus\"]],\"hovertemplate\":\"Countries and areas=%{customdata[0]}<br>Gross_Primary_Education_Enrollment=%{x}<br>Unemployment_Rate=%{y}<extra></extra>\",\"legendgroup\":\"Belarus\",\"marker\":{\"color\":\"#FF6692\",\"symbol\":\"circle\"},\"mode\":\"markers\",\"name\":\"Belarus\",\"orientation\":\"v\",\"showlegend\":true,\"x\":[100.5],\"xaxis\":\"x\",\"y\":[4.59],\"yaxis\":\"y\",\"type\":\"scatter\"},{\"customdata\":[[\"Belgium\"]],\"hovertemplate\":\"Countries and areas=%{customdata[0]}<br>Gross_Primary_Education_Enrollment=%{x}<br>Unemployment_Rate=%{y}<extra></extra>\",\"legendgroup\":\"Belgium\",\"marker\":{\"color\":\"#B6E880\",\"symbol\":\"circle\"},\"mode\":\"markers\",\"name\":\"Belgium\",\"orientation\":\"v\",\"showlegend\":true,\"x\":[103.9],\"xaxis\":\"x\",\"y\":[5.59],\"yaxis\":\"y\",\"type\":\"scatter\"},{\"customdata\":[[\"Belize\"]],\"hovertemplate\":\"Countries and areas=%{customdata[0]}<br>Gross_Primary_Education_Enrollment=%{x}<br>Unemployment_Rate=%{y}<extra></extra>\",\"legendgroup\":\"Belize\",\"marker\":{\"color\":\"#FF97FF\",\"symbol\":\"circle\"},\"mode\":\"markers\",\"name\":\"Belize\",\"orientation\":\"v\",\"showlegend\":true,\"x\":[111.7],\"xaxis\":\"x\",\"y\":[6.41],\"yaxis\":\"y\",\"type\":\"scatter\"},{\"customdata\":[[\"Benin\"]],\"hovertemplate\":\"Countries and areas=%{customdata[0]}<br>Gross_Primary_Education_Enrollment=%{x}<br>Unemployment_Rate=%{y}<extra></extra>\",\"legendgroup\":\"Benin\",\"marker\":{\"color\":\"#FECB52\",\"symbol\":\"circle\"},\"mode\":\"markers\",\"name\":\"Benin\",\"orientation\":\"v\",\"showlegend\":true,\"x\":[122.0],\"xaxis\":\"x\",\"y\":[2.23],\"yaxis\":\"y\",\"type\":\"scatter\"},{\"customdata\":[[\"Bhutan\"]],\"hovertemplate\":\"Countries and areas=%{customdata[0]}<br>Gross_Primary_Education_Enrollment=%{x}<br>Unemployment_Rate=%{y}<extra></extra>\",\"legendgroup\":\"Bhutan\",\"marker\":{\"color\":\"#636efa\",\"symbol\":\"circle\"},\"mode\":\"markers\",\"name\":\"Bhutan\",\"orientation\":\"v\",\"showlegend\":true,\"x\":[100.1],\"xaxis\":\"x\",\"y\":[2.34],\"yaxis\":\"y\",\"type\":\"scatter\"},{\"customdata\":[[\"Bolivia\"]],\"hovertemplate\":\"Countries and areas=%{customdata[0]}<br>Gross_Primary_Education_Enrollment=%{x}<br>Unemployment_Rate=%{y}<extra></extra>\",\"legendgroup\":\"Bolivia\",\"marker\":{\"color\":\"#EF553B\",\"symbol\":\"circle\"},\"mode\":\"markers\",\"name\":\"Bolivia\",\"orientation\":\"v\",\"showlegend\":true,\"x\":[98.2],\"xaxis\":\"x\",\"y\":[3.5],\"yaxis\":\"y\",\"type\":\"scatter\"},{\"customdata\":[[\"Bosnia and Herzegovina\"]],\"hovertemplate\":\"Countries and areas=%{customdata[0]}<br>Gross_Primary_Education_Enrollment=%{x}<br>Unemployment_Rate=%{y}<extra></extra>\",\"legendgroup\":\"Bosnia and Herzegovina\",\"marker\":{\"color\":\"#00cc96\",\"symbol\":\"circle\"},\"mode\":\"markers\",\"name\":\"Bosnia and Herzegovina\",\"orientation\":\"v\",\"showlegend\":true,\"x\":[0.0],\"xaxis\":\"x\",\"y\":[18.42],\"yaxis\":\"y\",\"type\":\"scatter\"},{\"customdata\":[[\"Botswana\"]],\"hovertemplate\":\"Countries and areas=%{customdata[0]}<br>Gross_Primary_Education_Enrollment=%{x}<br>Unemployment_Rate=%{y}<extra></extra>\",\"legendgroup\":\"Botswana\",\"marker\":{\"color\":\"#ab63fa\",\"symbol\":\"circle\"},\"mode\":\"markers\",\"name\":\"Botswana\",\"orientation\":\"v\",\"showlegend\":true,\"x\":[103.2],\"xaxis\":\"x\",\"y\":[18.19],\"yaxis\":\"y\",\"type\":\"scatter\"},{\"customdata\":[[\"Brazil\"]],\"hovertemplate\":\"Countries and areas=%{customdata[0]}<br>Gross_Primary_Education_Enrollment=%{x}<br>Unemployment_Rate=%{y}<extra></extra>\",\"legendgroup\":\"Brazil\",\"marker\":{\"color\":\"#FFA15A\",\"symbol\":\"circle\"},\"mode\":\"markers\",\"name\":\"Brazil\",\"orientation\":\"v\",\"showlegend\":true,\"x\":[115.4],\"xaxis\":\"x\",\"y\":[12.08],\"yaxis\":\"y\",\"type\":\"scatter\"},{\"customdata\":[[\"British Virgin Islands\"]],\"hovertemplate\":\"Countries and areas=%{customdata[0]}<br>Gross_Primary_Education_Enrollment=%{x}<br>Unemployment_Rate=%{y}<extra></extra>\",\"legendgroup\":\"British Virgin Islands\",\"marker\":{\"color\":\"#19d3f3\",\"symbol\":\"circle\"},\"mode\":\"markers\",\"name\":\"British Virgin Islands\",\"orientation\":\"v\",\"showlegend\":true,\"x\":[0.0],\"xaxis\":\"x\",\"y\":[0.0],\"yaxis\":\"y\",\"type\":\"scatter\"},{\"customdata\":[[\"Brunei\"]],\"hovertemplate\":\"Countries and areas=%{customdata[0]}<br>Gross_Primary_Education_Enrollment=%{x}<br>Unemployment_Rate=%{y}<extra></extra>\",\"legendgroup\":\"Brunei\",\"marker\":{\"color\":\"#FF6692\",\"symbol\":\"circle\"},\"mode\":\"markers\",\"name\":\"Brunei\",\"orientation\":\"v\",\"showlegend\":true,\"x\":[103.2],\"xaxis\":\"x\",\"y\":[9.12],\"yaxis\":\"y\",\"type\":\"scatter\"},{\"customdata\":[[\"Bulgaria\"]],\"hovertemplate\":\"Countries and areas=%{customdata[0]}<br>Gross_Primary_Education_Enrollment=%{x}<br>Unemployment_Rate=%{y}<extra></extra>\",\"legendgroup\":\"Bulgaria\",\"marker\":{\"color\":\"#B6E880\",\"symbol\":\"circle\"},\"mode\":\"markers\",\"name\":\"Bulgaria\",\"orientation\":\"v\",\"showlegend\":true,\"x\":[89.3],\"xaxis\":\"x\",\"y\":[4.34],\"yaxis\":\"y\",\"type\":\"scatter\"},{\"customdata\":[[\"Burkina Faso\"]],\"hovertemplate\":\"Countries and areas=%{customdata[0]}<br>Gross_Primary_Education_Enrollment=%{x}<br>Unemployment_Rate=%{y}<extra></extra>\",\"legendgroup\":\"Burkina Faso\",\"marker\":{\"color\":\"#FF97FF\",\"symbol\":\"circle\"},\"mode\":\"markers\",\"name\":\"Burkina Faso\",\"orientation\":\"v\",\"showlegend\":true,\"x\":[96.1],\"xaxis\":\"x\",\"y\":[6.26],\"yaxis\":\"y\",\"type\":\"scatter\"},{\"customdata\":[[\"Burundi\"]],\"hovertemplate\":\"Countries and areas=%{customdata[0]}<br>Gross_Primary_Education_Enrollment=%{x}<br>Unemployment_Rate=%{y}<extra></extra>\",\"legendgroup\":\"Burundi\",\"marker\":{\"color\":\"#FECB52\",\"symbol\":\"circle\"},\"mode\":\"markers\",\"name\":\"Burundi\",\"orientation\":\"v\",\"showlegend\":true,\"x\":[121.4],\"xaxis\":\"x\",\"y\":[1.43],\"yaxis\":\"y\",\"type\":\"scatter\"},{\"customdata\":[[\"Cape Verde\"]],\"hovertemplate\":\"Countries and areas=%{customdata[0]}<br>Gross_Primary_Education_Enrollment=%{x}<br>Unemployment_Rate=%{y}<extra></extra>\",\"legendgroup\":\"Cape Verde\",\"marker\":{\"color\":\"#636efa\",\"symbol\":\"circle\"},\"mode\":\"markers\",\"name\":\"Cape Verde\",\"orientation\":\"v\",\"showlegend\":true,\"x\":[104.0],\"xaxis\":\"x\",\"y\":[12.25],\"yaxis\":\"y\",\"type\":\"scatter\"},{\"customdata\":[[\"Cambodia\"]],\"hovertemplate\":\"Countries and areas=%{customdata[0]}<br>Gross_Primary_Education_Enrollment=%{x}<br>Unemployment_Rate=%{y}<extra></extra>\",\"legendgroup\":\"Cambodia\",\"marker\":{\"color\":\"#EF553B\",\"symbol\":\"circle\"},\"mode\":\"markers\",\"name\":\"Cambodia\",\"orientation\":\"v\",\"showlegend\":true,\"x\":[107.4],\"xaxis\":\"x\",\"y\":[0.68],\"yaxis\":\"y\",\"type\":\"scatter\"},{\"customdata\":[[\"Cameroon\"]],\"hovertemplate\":\"Countries and areas=%{customdata[0]}<br>Gross_Primary_Education_Enrollment=%{x}<br>Unemployment_Rate=%{y}<extra></extra>\",\"legendgroup\":\"Cameroon\",\"marker\":{\"color\":\"#00cc96\",\"symbol\":\"circle\"},\"mode\":\"markers\",\"name\":\"Cameroon\",\"orientation\":\"v\",\"showlegend\":true,\"x\":[103.4],\"xaxis\":\"x\",\"y\":[3.38],\"yaxis\":\"y\",\"type\":\"scatter\"},{\"customdata\":[[\"Canada\"]],\"hovertemplate\":\"Countries and areas=%{customdata[0]}<br>Gross_Primary_Education_Enrollment=%{x}<br>Unemployment_Rate=%{y}<extra></extra>\",\"legendgroup\":\"Canada\",\"marker\":{\"color\":\"#ab63fa\",\"symbol\":\"circle\"},\"mode\":\"markers\",\"name\":\"Canada\",\"orientation\":\"v\",\"showlegend\":true,\"x\":[100.9],\"xaxis\":\"x\",\"y\":[5.56],\"yaxis\":\"y\",\"type\":\"scatter\"},{\"customdata\":[[\"Central African Republic\"]],\"hovertemplate\":\"Countries and areas=%{customdata[0]}<br>Gross_Primary_Education_Enrollment=%{x}<br>Unemployment_Rate=%{y}<extra></extra>\",\"legendgroup\":\"Central African Republic\",\"marker\":{\"color\":\"#FFA15A\",\"symbol\":\"circle\"},\"mode\":\"markers\",\"name\":\"Central African Republic\",\"orientation\":\"v\",\"showlegend\":true,\"x\":[102.0],\"xaxis\":\"x\",\"y\":[3.68],\"yaxis\":\"y\",\"type\":\"scatter\"},{\"customdata\":[[\"Chad\"]],\"hovertemplate\":\"Countries and areas=%{customdata[0]}<br>Gross_Primary_Education_Enrollment=%{x}<br>Unemployment_Rate=%{y}<extra></extra>\",\"legendgroup\":\"Chad\",\"marker\":{\"color\":\"#19d3f3\",\"symbol\":\"circle\"},\"mode\":\"markers\",\"name\":\"Chad\",\"orientation\":\"v\",\"showlegend\":true,\"x\":[86.8],\"xaxis\":\"x\",\"y\":[1.89],\"yaxis\":\"y\",\"type\":\"scatter\"},{\"customdata\":[[\"Chile\"]],\"hovertemplate\":\"Countries and areas=%{customdata[0]}<br>Gross_Primary_Education_Enrollment=%{x}<br>Unemployment_Rate=%{y}<extra></extra>\",\"legendgroup\":\"Chile\",\"marker\":{\"color\":\"#FF6692\",\"symbol\":\"circle\"},\"mode\":\"markers\",\"name\":\"Chile\",\"orientation\":\"v\",\"showlegend\":true,\"x\":[101.4],\"xaxis\":\"x\",\"y\":[7.09],\"yaxis\":\"y\",\"type\":\"scatter\"},{\"customdata\":[[\"China\"]],\"hovertemplate\":\"Countries and areas=%{customdata[0]}<br>Gross_Primary_Education_Enrollment=%{x}<br>Unemployment_Rate=%{y}<extra></extra>\",\"legendgroup\":\"China\",\"marker\":{\"color\":\"#B6E880\",\"symbol\":\"circle\"},\"mode\":\"markers\",\"name\":\"China\",\"orientation\":\"v\",\"showlegend\":true,\"x\":[100.2],\"xaxis\":\"x\",\"y\":[4.32],\"yaxis\":\"y\",\"type\":\"scatter\"},{\"customdata\":[[\"Colombia\"]],\"hovertemplate\":\"Countries and areas=%{customdata[0]}<br>Gross_Primary_Education_Enrollment=%{x}<br>Unemployment_Rate=%{y}<extra></extra>\",\"legendgroup\":\"Colombia\",\"marker\":{\"color\":\"#FF97FF\",\"symbol\":\"circle\"},\"mode\":\"markers\",\"name\":\"Colombia\",\"orientation\":\"v\",\"showlegend\":true,\"x\":[114.5],\"xaxis\":\"x\",\"y\":[9.71],\"yaxis\":\"y\",\"type\":\"scatter\"},{\"customdata\":[[\"Comoros\"]],\"hovertemplate\":\"Countries and areas=%{customdata[0]}<br>Gross_Primary_Education_Enrollment=%{x}<br>Unemployment_Rate=%{y}<extra></extra>\",\"legendgroup\":\"Comoros\",\"marker\":{\"color\":\"#FECB52\",\"symbol\":\"circle\"},\"mode\":\"markers\",\"name\":\"Comoros\",\"orientation\":\"v\",\"showlegend\":true,\"x\":[99.5],\"xaxis\":\"x\",\"y\":[4.34],\"yaxis\":\"y\",\"type\":\"scatter\"},{\"customdata\":[[\"Republic of the Congo\"]],\"hovertemplate\":\"Countries and areas=%{customdata[0]}<br>Gross_Primary_Education_Enrollment=%{x}<br>Unemployment_Rate=%{y}<extra></extra>\",\"legendgroup\":\"Republic of the Congo\",\"marker\":{\"color\":\"#636efa\",\"symbol\":\"circle\"},\"mode\":\"markers\",\"name\":\"Republic of the Congo\",\"orientation\":\"v\",\"showlegend\":true,\"x\":[106.6],\"xaxis\":\"x\",\"y\":[9.47],\"yaxis\":\"y\",\"type\":\"scatter\"},{\"customdata\":[[\"Cook Islands\"]],\"hovertemplate\":\"Countries and areas=%{customdata[0]}<br>Gross_Primary_Education_Enrollment=%{x}<br>Unemployment_Rate=%{y}<extra></extra>\",\"legendgroup\":\"Cook Islands\",\"marker\":{\"color\":\"#EF553B\",\"symbol\":\"circle\"},\"mode\":\"markers\",\"name\":\"Cook Islands\",\"orientation\":\"v\",\"showlegend\":true,\"x\":[0.0],\"xaxis\":\"x\",\"y\":[0.0],\"yaxis\":\"y\",\"type\":\"scatter\"},{\"customdata\":[[\"Costa Rica\"]],\"hovertemplate\":\"Countries and areas=%{customdata[0]}<br>Gross_Primary_Education_Enrollment=%{x}<br>Unemployment_Rate=%{y}<extra></extra>\",\"legendgroup\":\"Costa Rica\",\"marker\":{\"color\":\"#00cc96\",\"symbol\":\"circle\"},\"mode\":\"markers\",\"name\":\"Costa Rica\",\"orientation\":\"v\",\"showlegend\":true,\"x\":[113.3],\"xaxis\":\"x\",\"y\":[11.85],\"yaxis\":\"y\",\"type\":\"scatter\"},{\"customdata\":[[\"Ivory Coast\"]],\"hovertemplate\":\"Countries and areas=%{customdata[0]}<br>Gross_Primary_Education_Enrollment=%{x}<br>Unemployment_Rate=%{y}<extra></extra>\",\"legendgroup\":\"Ivory Coast\",\"marker\":{\"color\":\"#ab63fa\",\"symbol\":\"circle\"},\"mode\":\"markers\",\"name\":\"Ivory Coast\",\"orientation\":\"v\",\"showlegend\":true,\"x\":[99.8],\"xaxis\":\"x\",\"y\":[3.32],\"yaxis\":\"y\",\"type\":\"scatter\"},{\"customdata\":[[\"Croatia\"]],\"hovertemplate\":\"Countries and areas=%{customdata[0]}<br>Gross_Primary_Education_Enrollment=%{x}<br>Unemployment_Rate=%{y}<extra></extra>\",\"legendgroup\":\"Croatia\",\"marker\":{\"color\":\"#FFA15A\",\"symbol\":\"circle\"},\"mode\":\"markers\",\"name\":\"Croatia\",\"orientation\":\"v\",\"showlegend\":true,\"x\":[96.5],\"xaxis\":\"x\",\"y\":[6.93],\"yaxis\":\"y\",\"type\":\"scatter\"},{\"customdata\":[[\"Cuba\"]],\"hovertemplate\":\"Countries and areas=%{customdata[0]}<br>Gross_Primary_Education_Enrollment=%{x}<br>Unemployment_Rate=%{y}<extra></extra>\",\"legendgroup\":\"Cuba\",\"marker\":{\"color\":\"#19d3f3\",\"symbol\":\"circle\"},\"mode\":\"markers\",\"name\":\"Cuba\",\"orientation\":\"v\",\"showlegend\":true,\"x\":[101.9],\"xaxis\":\"x\",\"y\":[1.64],\"yaxis\":\"y\",\"type\":\"scatter\"},{\"customdata\":[[\"Cyprus\"]],\"hovertemplate\":\"Countries and areas=%{customdata[0]}<br>Gross_Primary_Education_Enrollment=%{x}<br>Unemployment_Rate=%{y}<extra></extra>\",\"legendgroup\":\"Cyprus\",\"marker\":{\"color\":\"#FF6692\",\"symbol\":\"circle\"},\"mode\":\"markers\",\"name\":\"Cyprus\",\"orientation\":\"v\",\"showlegend\":true,\"x\":[99.3],\"xaxis\":\"x\",\"y\":[7.27],\"yaxis\":\"y\",\"type\":\"scatter\"},{\"customdata\":[[\"Czech Republic\"]],\"hovertemplate\":\"Countries and areas=%{customdata[0]}<br>Gross_Primary_Education_Enrollment=%{x}<br>Unemployment_Rate=%{y}<extra></extra>\",\"legendgroup\":\"Czech Republic\",\"marker\":{\"color\":\"#B6E880\",\"symbol\":\"circle\"},\"mode\":\"markers\",\"name\":\"Czech Republic\",\"orientation\":\"v\",\"showlegend\":true,\"x\":[100.7],\"xaxis\":\"x\",\"y\":[1.93],\"yaxis\":\"y\",\"type\":\"scatter\"},{\"customdata\":[[\"North Korea\"]],\"hovertemplate\":\"Countries and areas=%{customdata[0]}<br>Gross_Primary_Education_Enrollment=%{x}<br>Unemployment_Rate=%{y}<extra></extra>\",\"legendgroup\":\"North Korea\",\"marker\":{\"color\":\"#FF97FF\",\"symbol\":\"circle\"},\"mode\":\"markers\",\"name\":\"North Korea\",\"orientation\":\"v\",\"showlegend\":true,\"x\":[112.8],\"xaxis\":\"x\",\"y\":[2.74],\"yaxis\":\"y\",\"type\":\"scatter\"},{\"customdata\":[[\"Democratic Republic of the Congo\"]],\"hovertemplate\":\"Countries and areas=%{customdata[0]}<br>Gross_Primary_Education_Enrollment=%{x}<br>Unemployment_Rate=%{y}<extra></extra>\",\"legendgroup\":\"Democratic Republic of the Congo\",\"marker\":{\"color\":\"#FECB52\",\"symbol\":\"circle\"},\"mode\":\"markers\",\"name\":\"Democratic Republic of the Congo\",\"orientation\":\"v\",\"showlegend\":true,\"x\":[108.0],\"xaxis\":\"x\",\"y\":[4.24],\"yaxis\":\"y\",\"type\":\"scatter\"},{\"customdata\":[[\"Denmark\"]],\"hovertemplate\":\"Countries and areas=%{customdata[0]}<br>Gross_Primary_Education_Enrollment=%{x}<br>Unemployment_Rate=%{y}<extra></extra>\",\"legendgroup\":\"Denmark\",\"marker\":{\"color\":\"#636efa\",\"symbol\":\"circle\"},\"mode\":\"markers\",\"name\":\"Denmark\",\"orientation\":\"v\",\"showlegend\":true,\"x\":[101.3],\"xaxis\":\"x\",\"y\":[4.91],\"yaxis\":\"y\",\"type\":\"scatter\"},{\"customdata\":[[\"Djibouti\"]],\"hovertemplate\":\"Countries and areas=%{customdata[0]}<br>Gross_Primary_Education_Enrollment=%{x}<br>Unemployment_Rate=%{y}<extra></extra>\",\"legendgroup\":\"Djibouti\",\"marker\":{\"color\":\"#EF553B\",\"symbol\":\"circle\"},\"mode\":\"markers\",\"name\":\"Djibouti\",\"orientation\":\"v\",\"showlegend\":true,\"x\":[75.3],\"xaxis\":\"x\",\"y\":[10.3],\"yaxis\":\"y\",\"type\":\"scatter\"},{\"customdata\":[[\"Dominica\"]],\"hovertemplate\":\"Countries and areas=%{customdata[0]}<br>Gross_Primary_Education_Enrollment=%{x}<br>Unemployment_Rate=%{y}<extra></extra>\",\"legendgroup\":\"Dominica\",\"marker\":{\"color\":\"#00cc96\",\"symbol\":\"circle\"},\"mode\":\"markers\",\"name\":\"Dominica\",\"orientation\":\"v\",\"showlegend\":true,\"x\":[114.7],\"xaxis\":\"x\",\"y\":[0.0],\"yaxis\":\"y\",\"type\":\"scatter\"},{\"customdata\":[[\"Dominican Republic\"]],\"hovertemplate\":\"Countries and areas=%{customdata[0]}<br>Gross_Primary_Education_Enrollment=%{x}<br>Unemployment_Rate=%{y}<extra></extra>\",\"legendgroup\":\"Dominican Republic\",\"marker\":{\"color\":\"#ab63fa\",\"symbol\":\"circle\"},\"mode\":\"markers\",\"name\":\"Dominican Republic\",\"orientation\":\"v\",\"showlegend\":true,\"x\":[105.7],\"xaxis\":\"x\",\"y\":[5.84],\"yaxis\":\"y\",\"type\":\"scatter\"},{\"customdata\":[[\"Ecuador\"]],\"hovertemplate\":\"Countries and areas=%{customdata[0]}<br>Gross_Primary_Education_Enrollment=%{x}<br>Unemployment_Rate=%{y}<extra></extra>\",\"legendgroup\":\"Ecuador\",\"marker\":{\"color\":\"#FFA15A\",\"symbol\":\"circle\"},\"mode\":\"markers\",\"name\":\"Ecuador\",\"orientation\":\"v\",\"showlegend\":true,\"x\":[103.3],\"xaxis\":\"x\",\"y\":[3.97],\"yaxis\":\"y\",\"type\":\"scatter\"},{\"customdata\":[[\"Egypt\"]],\"hovertemplate\":\"Countries and areas=%{customdata[0]}<br>Gross_Primary_Education_Enrollment=%{x}<br>Unemployment_Rate=%{y}<extra></extra>\",\"legendgroup\":\"Egypt\",\"marker\":{\"color\":\"#19d3f3\",\"symbol\":\"circle\"},\"mode\":\"markers\",\"name\":\"Egypt\",\"orientation\":\"v\",\"showlegend\":true,\"x\":[106.3],\"xaxis\":\"x\",\"y\":[10.76],\"yaxis\":\"y\",\"type\":\"scatter\"},{\"customdata\":[[\"El Salvador\"]],\"hovertemplate\":\"Countries and areas=%{customdata[0]}<br>Gross_Primary_Education_Enrollment=%{x}<br>Unemployment_Rate=%{y}<extra></extra>\",\"legendgroup\":\"El Salvador\",\"marker\":{\"color\":\"#FF6692\",\"symbol\":\"circle\"},\"mode\":\"markers\",\"name\":\"El Salvador\",\"orientation\":\"v\",\"showlegend\":true,\"x\":[94.8],\"xaxis\":\"x\",\"y\":[4.11],\"yaxis\":\"y\",\"type\":\"scatter\"},{\"customdata\":[[\"Equatorial Guinea\"]],\"hovertemplate\":\"Countries and areas=%{customdata[0]}<br>Gross_Primary_Education_Enrollment=%{x}<br>Unemployment_Rate=%{y}<extra></extra>\",\"legendgroup\":\"Equatorial Guinea\",\"marker\":{\"color\":\"#B6E880\",\"symbol\":\"circle\"},\"mode\":\"markers\",\"name\":\"Equatorial Guinea\",\"orientation\":\"v\",\"showlegend\":true,\"x\":[61.8],\"xaxis\":\"x\",\"y\":[6.43],\"yaxis\":\"y\",\"type\":\"scatter\"},{\"customdata\":[[\"Eritrea\"]],\"hovertemplate\":\"Countries and areas=%{customdata[0]}<br>Gross_Primary_Education_Enrollment=%{x}<br>Unemployment_Rate=%{y}<extra></extra>\",\"legendgroup\":\"Eritrea\",\"marker\":{\"color\":\"#FF97FF\",\"symbol\":\"circle\"},\"mode\":\"markers\",\"name\":\"Eritrea\",\"orientation\":\"v\",\"showlegend\":true,\"x\":[68.4],\"xaxis\":\"x\",\"y\":[5.14],\"yaxis\":\"y\",\"type\":\"scatter\"},{\"customdata\":[[\"Estonia\"]],\"hovertemplate\":\"Countries and areas=%{customdata[0]}<br>Gross_Primary_Education_Enrollment=%{x}<br>Unemployment_Rate=%{y}<extra></extra>\",\"legendgroup\":\"Estonia\",\"marker\":{\"color\":\"#FECB52\",\"symbol\":\"circle\"},\"mode\":\"markers\",\"name\":\"Estonia\",\"orientation\":\"v\",\"showlegend\":true,\"x\":[97.2],\"xaxis\":\"x\",\"y\":[5.11],\"yaxis\":\"y\",\"type\":\"scatter\"},{\"customdata\":[[\"Eswatini\"]],\"hovertemplate\":\"Countries and areas=%{customdata[0]}<br>Gross_Primary_Education_Enrollment=%{x}<br>Unemployment_Rate=%{y}<extra></extra>\",\"legendgroup\":\"Eswatini\",\"marker\":{\"color\":\"#636efa\",\"symbol\":\"circle\"},\"mode\":\"markers\",\"name\":\"Eswatini\",\"orientation\":\"v\",\"showlegend\":true,\"x\":[0.0],\"xaxis\":\"x\",\"y\":[0.0],\"yaxis\":\"y\",\"type\":\"scatter\"},{\"customdata\":[[\"Ethiopia\"]],\"hovertemplate\":\"Countries and areas=%{customdata[0]}<br>Gross_Primary_Education_Enrollment=%{x}<br>Unemployment_Rate=%{y}<extra></extra>\",\"legendgroup\":\"Ethiopia\",\"marker\":{\"color\":\"#EF553B\",\"symbol\":\"circle\"},\"mode\":\"markers\",\"name\":\"Ethiopia\",\"orientation\":\"v\",\"showlegend\":true,\"x\":[101.0],\"xaxis\":\"x\",\"y\":[2.08],\"yaxis\":\"y\",\"type\":\"scatter\"},{\"customdata\":[[\"Fiji\"]],\"hovertemplate\":\"Countries and areas=%{customdata[0]}<br>Gross_Primary_Education_Enrollment=%{x}<br>Unemployment_Rate=%{y}<extra></extra>\",\"legendgroup\":\"Fiji\",\"marker\":{\"color\":\"#00cc96\",\"symbol\":\"circle\"},\"mode\":\"markers\",\"name\":\"Fiji\",\"orientation\":\"v\",\"showlegend\":true,\"x\":[106.4],\"xaxis\":\"x\",\"y\":[4.1],\"yaxis\":\"y\",\"type\":\"scatter\"},{\"customdata\":[[\"Finland\"]],\"hovertemplate\":\"Countries and areas=%{customdata[0]}<br>Gross_Primary_Education_Enrollment=%{x}<br>Unemployment_Rate=%{y}<extra></extra>\",\"legendgroup\":\"Finland\",\"marker\":{\"color\":\"#ab63fa\",\"symbol\":\"circle\"},\"mode\":\"markers\",\"name\":\"Finland\",\"orientation\":\"v\",\"showlegend\":true,\"x\":[100.2],\"xaxis\":\"x\",\"y\":[6.59],\"yaxis\":\"y\",\"type\":\"scatter\"},{\"customdata\":[[\"France\"]],\"hovertemplate\":\"Countries and areas=%{customdata[0]}<br>Gross_Primary_Education_Enrollment=%{x}<br>Unemployment_Rate=%{y}<extra></extra>\",\"legendgroup\":\"France\",\"marker\":{\"color\":\"#FFA15A\",\"symbol\":\"circle\"},\"mode\":\"markers\",\"name\":\"France\",\"orientation\":\"v\",\"showlegend\":true,\"x\":[102.5],\"xaxis\":\"x\",\"y\":[8.43],\"yaxis\":\"y\",\"type\":\"scatter\"},{\"customdata\":[[\"Gabon\"]],\"hovertemplate\":\"Countries and areas=%{customdata[0]}<br>Gross_Primary_Education_Enrollment=%{x}<br>Unemployment_Rate=%{y}<extra></extra>\",\"legendgroup\":\"Gabon\",\"marker\":{\"color\":\"#19d3f3\",\"symbol\":\"circle\"},\"mode\":\"markers\",\"name\":\"Gabon\",\"orientation\":\"v\",\"showlegend\":true,\"x\":[139.9],\"xaxis\":\"x\",\"y\":[20.0],\"yaxis\":\"y\",\"type\":\"scatter\"},{\"customdata\":[[\"The Gambia\"]],\"hovertemplate\":\"Countries and areas=%{customdata[0]}<br>Gross_Primary_Education_Enrollment=%{x}<br>Unemployment_Rate=%{y}<extra></extra>\",\"legendgroup\":\"The Gambia\",\"marker\":{\"color\":\"#FF6692\",\"symbol\":\"circle\"},\"mode\":\"markers\",\"name\":\"The Gambia\",\"orientation\":\"v\",\"showlegend\":true,\"x\":[98.0],\"xaxis\":\"x\",\"y\":[9.06],\"yaxis\":\"y\",\"type\":\"scatter\"},{\"customdata\":[[\"Georgia\"]],\"hovertemplate\":\"Countries and areas=%{customdata[0]}<br>Gross_Primary_Education_Enrollment=%{x}<br>Unemployment_Rate=%{y}<extra></extra>\",\"legendgroup\":\"Georgia\",\"marker\":{\"color\":\"#B6E880\",\"symbol\":\"circle\"},\"mode\":\"markers\",\"name\":\"Georgia\",\"orientation\":\"v\",\"showlegend\":true,\"x\":[98.6],\"xaxis\":\"x\",\"y\":[14.4],\"yaxis\":\"y\",\"type\":\"scatter\"},{\"customdata\":[[\"Germany\"]],\"hovertemplate\":\"Countries and areas=%{customdata[0]}<br>Gross_Primary_Education_Enrollment=%{x}<br>Unemployment_Rate=%{y}<extra></extra>\",\"legendgroup\":\"Germany\",\"marker\":{\"color\":\"#FF97FF\",\"symbol\":\"circle\"},\"mode\":\"markers\",\"name\":\"Germany\",\"orientation\":\"v\",\"showlegend\":true,\"x\":[104.0],\"xaxis\":\"x\",\"y\":[3.04],\"yaxis\":\"y\",\"type\":\"scatter\"},{\"customdata\":[[\"Ghana\"]],\"hovertemplate\":\"Countries and areas=%{customdata[0]}<br>Gross_Primary_Education_Enrollment=%{x}<br>Unemployment_Rate=%{y}<extra></extra>\",\"legendgroup\":\"Ghana\",\"marker\":{\"color\":\"#FECB52\",\"symbol\":\"circle\"},\"mode\":\"markers\",\"name\":\"Ghana\",\"orientation\":\"v\",\"showlegend\":true,\"x\":[104.8],\"xaxis\":\"x\",\"y\":[4.33],\"yaxis\":\"y\",\"type\":\"scatter\"},{\"customdata\":[[\"Greece\"]],\"hovertemplate\":\"Countries and areas=%{customdata[0]}<br>Gross_Primary_Education_Enrollment=%{x}<br>Unemployment_Rate=%{y}<extra></extra>\",\"legendgroup\":\"Greece\",\"marker\":{\"color\":\"#636efa\",\"symbol\":\"circle\"},\"mode\":\"markers\",\"name\":\"Greece\",\"orientation\":\"v\",\"showlegend\":true,\"x\":[99.6],\"xaxis\":\"x\",\"y\":[17.24],\"yaxis\":\"y\",\"type\":\"scatter\"},{\"customdata\":[[\"Grenada\"]],\"hovertemplate\":\"Countries and areas=%{customdata[0]}<br>Gross_Primary_Education_Enrollment=%{x}<br>Unemployment_Rate=%{y}<extra></extra>\",\"legendgroup\":\"Grenada\",\"marker\":{\"color\":\"#EF553B\",\"symbol\":\"circle\"},\"mode\":\"markers\",\"name\":\"Grenada\",\"orientation\":\"v\",\"showlegend\":true,\"x\":[106.9],\"xaxis\":\"x\",\"y\":[0.0],\"yaxis\":\"y\",\"type\":\"scatter\"},{\"customdata\":[[\"Guatemala\"]],\"hovertemplate\":\"Countries and areas=%{customdata[0]}<br>Gross_Primary_Education_Enrollment=%{x}<br>Unemployment_Rate=%{y}<extra></extra>\",\"legendgroup\":\"Guatemala\",\"marker\":{\"color\":\"#00cc96\",\"symbol\":\"circle\"},\"mode\":\"markers\",\"name\":\"Guatemala\",\"orientation\":\"v\",\"showlegend\":true,\"x\":[101.9],\"xaxis\":\"x\",\"y\":[2.46],\"yaxis\":\"y\",\"type\":\"scatter\"},{\"customdata\":[[\"Guinea\"]],\"hovertemplate\":\"Countries and areas=%{customdata[0]}<br>Gross_Primary_Education_Enrollment=%{x}<br>Unemployment_Rate=%{y}<extra></extra>\",\"legendgroup\":\"Guinea\",\"marker\":{\"color\":\"#ab63fa\",\"symbol\":\"circle\"},\"mode\":\"markers\",\"name\":\"Guinea\",\"orientation\":\"v\",\"showlegend\":true,\"x\":[91.5],\"xaxis\":\"x\",\"y\":[4.3],\"yaxis\":\"y\",\"type\":\"scatter\"},{\"customdata\":[[\"Guinea0Bissau\"]],\"hovertemplate\":\"Countries and areas=%{customdata[0]}<br>Gross_Primary_Education_Enrollment=%{x}<br>Unemployment_Rate=%{y}<extra></extra>\",\"legendgroup\":\"Guinea0Bissau\",\"marker\":{\"color\":\"#FFA15A\",\"symbol\":\"circle\"},\"mode\":\"markers\",\"name\":\"Guinea0Bissau\",\"orientation\":\"v\",\"showlegend\":true,\"x\":[118.7],\"xaxis\":\"x\",\"y\":[2.47],\"yaxis\":\"y\",\"type\":\"scatter\"},{\"customdata\":[[\"Guyana\"]],\"hovertemplate\":\"Countries and areas=%{customdata[0]}<br>Gross_Primary_Education_Enrollment=%{x}<br>Unemployment_Rate=%{y}<extra></extra>\",\"legendgroup\":\"Guyana\",\"marker\":{\"color\":\"#19d3f3\",\"symbol\":\"circle\"},\"mode\":\"markers\",\"name\":\"Guyana\",\"orientation\":\"v\",\"showlegend\":true,\"x\":[97.8],\"xaxis\":\"x\",\"y\":[11.85],\"yaxis\":\"y\",\"type\":\"scatter\"},{\"customdata\":[[\"Haiti\"]],\"hovertemplate\":\"Countries and areas=%{customdata[0]}<br>Gross_Primary_Education_Enrollment=%{x}<br>Unemployment_Rate=%{y}<extra></extra>\",\"legendgroup\":\"Haiti\",\"marker\":{\"color\":\"#FF6692\",\"symbol\":\"circle\"},\"mode\":\"markers\",\"name\":\"Haiti\",\"orientation\":\"v\",\"showlegend\":true,\"x\":[113.6],\"xaxis\":\"x\",\"y\":[13.78],\"yaxis\":\"y\",\"type\":\"scatter\"},{\"customdata\":[[\"Vatican City\"]],\"hovertemplate\":\"Countries and areas=%{customdata[0]}<br>Gross_Primary_Education_Enrollment=%{x}<br>Unemployment_Rate=%{y}<extra></extra>\",\"legendgroup\":\"Vatican City\",\"marker\":{\"color\":\"#B6E880\",\"symbol\":\"circle\"},\"mode\":\"markers\",\"name\":\"Vatican City\",\"orientation\":\"v\",\"showlegend\":true,\"x\":[0.0],\"xaxis\":\"x\",\"y\":[0.0],\"yaxis\":\"y\",\"type\":\"scatter\"},{\"customdata\":[[\"Honduras\"]],\"hovertemplate\":\"Countries and areas=%{customdata[0]}<br>Gross_Primary_Education_Enrollment=%{x}<br>Unemployment_Rate=%{y}<extra></extra>\",\"legendgroup\":\"Honduras\",\"marker\":{\"color\":\"#FF97FF\",\"symbol\":\"circle\"},\"mode\":\"markers\",\"name\":\"Honduras\",\"orientation\":\"v\",\"showlegend\":true,\"x\":[91.5],\"xaxis\":\"x\",\"y\":[5.39],\"yaxis\":\"y\",\"type\":\"scatter\"},{\"customdata\":[[\"Hungary\"]],\"hovertemplate\":\"Countries and areas=%{customdata[0]}<br>Gross_Primary_Education_Enrollment=%{x}<br>Unemployment_Rate=%{y}<extra></extra>\",\"legendgroup\":\"Hungary\",\"marker\":{\"color\":\"#FECB52\",\"symbol\":\"circle\"},\"mode\":\"markers\",\"name\":\"Hungary\",\"orientation\":\"v\",\"showlegend\":true,\"x\":[100.8],\"xaxis\":\"x\",\"y\":[3.4],\"yaxis\":\"y\",\"type\":\"scatter\"},{\"customdata\":[[\"Iceland\"]],\"hovertemplate\":\"Countries and areas=%{customdata[0]}<br>Gross_Primary_Education_Enrollment=%{x}<br>Unemployment_Rate=%{y}<extra></extra>\",\"legendgroup\":\"Iceland\",\"marker\":{\"color\":\"#636efa\",\"symbol\":\"circle\"},\"mode\":\"markers\",\"name\":\"Iceland\",\"orientation\":\"v\",\"showlegend\":true,\"x\":[100.4],\"xaxis\":\"x\",\"y\":[2.84],\"yaxis\":\"y\",\"type\":\"scatter\"},{\"customdata\":[[\"India\"]],\"hovertemplate\":\"Countries and areas=%{customdata[0]}<br>Gross_Primary_Education_Enrollment=%{x}<br>Unemployment_Rate=%{y}<extra></extra>\",\"legendgroup\":\"India\",\"marker\":{\"color\":\"#EF553B\",\"symbol\":\"circle\"},\"mode\":\"markers\",\"name\":\"India\",\"orientation\":\"v\",\"showlegend\":true,\"x\":[113.0],\"xaxis\":\"x\",\"y\":[5.36],\"yaxis\":\"y\",\"type\":\"scatter\"},{\"customdata\":[[\"Indonesia\"]],\"hovertemplate\":\"Countries and areas=%{customdata[0]}<br>Gross_Primary_Education_Enrollment=%{x}<br>Unemployment_Rate=%{y}<extra></extra>\",\"legendgroup\":\"Indonesia\",\"marker\":{\"color\":\"#00cc96\",\"symbol\":\"circle\"},\"mode\":\"markers\",\"name\":\"Indonesia\",\"orientation\":\"v\",\"showlegend\":true,\"x\":[106.4],\"xaxis\":\"x\",\"y\":[4.69],\"yaxis\":\"y\",\"type\":\"scatter\"},{\"customdata\":[[\"Iran\"]],\"hovertemplate\":\"Countries and areas=%{customdata[0]}<br>Gross_Primary_Education_Enrollment=%{x}<br>Unemployment_Rate=%{y}<extra></extra>\",\"legendgroup\":\"Iran\",\"marker\":{\"color\":\"#ab63fa\",\"symbol\":\"circle\"},\"mode\":\"markers\",\"name\":\"Iran\",\"orientation\":\"v\",\"showlegend\":true,\"x\":[110.7],\"xaxis\":\"x\",\"y\":[11.38],\"yaxis\":\"y\",\"type\":\"scatter\"},{\"customdata\":[[\"Iraq\"]],\"hovertemplate\":\"Countries and areas=%{customdata[0]}<br>Gross_Primary_Education_Enrollment=%{x}<br>Unemployment_Rate=%{y}<extra></extra>\",\"legendgroup\":\"Iraq\",\"marker\":{\"color\":\"#FFA15A\",\"symbol\":\"circle\"},\"mode\":\"markers\",\"name\":\"Iraq\",\"orientation\":\"v\",\"showlegend\":true,\"x\":[108.7],\"xaxis\":\"x\",\"y\":[12.82],\"yaxis\":\"y\",\"type\":\"scatter\"},{\"customdata\":[[\"Republic of Ireland\"]],\"hovertemplate\":\"Countries and areas=%{customdata[0]}<br>Gross_Primary_Education_Enrollment=%{x}<br>Unemployment_Rate=%{y}<extra></extra>\",\"legendgroup\":\"Republic of Ireland\",\"marker\":{\"color\":\"#19d3f3\",\"symbol\":\"circle\"},\"mode\":\"markers\",\"name\":\"Republic of Ireland\",\"orientation\":\"v\",\"showlegend\":true,\"x\":[100.9],\"xaxis\":\"x\",\"y\":[4.93],\"yaxis\":\"y\",\"type\":\"scatter\"},{\"customdata\":[[\"Israel\"]],\"hovertemplate\":\"Countries and areas=%{customdata[0]}<br>Gross_Primary_Education_Enrollment=%{x}<br>Unemployment_Rate=%{y}<extra></extra>\",\"legendgroup\":\"Israel\",\"marker\":{\"color\":\"#FF6692\",\"symbol\":\"circle\"},\"mode\":\"markers\",\"name\":\"Israel\",\"orientation\":\"v\",\"showlegend\":true,\"x\":[104.9],\"xaxis\":\"x\",\"y\":[3.86],\"yaxis\":\"y\",\"type\":\"scatter\"},{\"customdata\":[[\"Italy\"]],\"hovertemplate\":\"Countries and areas=%{customdata[0]}<br>Gross_Primary_Education_Enrollment=%{x}<br>Unemployment_Rate=%{y}<extra></extra>\",\"legendgroup\":\"Italy\",\"marker\":{\"color\":\"#B6E880\",\"symbol\":\"circle\"},\"mode\":\"markers\",\"name\":\"Italy\",\"orientation\":\"v\",\"showlegend\":true,\"x\":[101.9],\"xaxis\":\"x\",\"y\":[9.89],\"yaxis\":\"y\",\"type\":\"scatter\"},{\"customdata\":[[\"Jamaica\"]],\"hovertemplate\":\"Countries and areas=%{customdata[0]}<br>Gross_Primary_Education_Enrollment=%{x}<br>Unemployment_Rate=%{y}<extra></extra>\",\"legendgroup\":\"Jamaica\",\"marker\":{\"color\":\"#FF97FF\",\"symbol\":\"circle\"},\"mode\":\"markers\",\"name\":\"Jamaica\",\"orientation\":\"v\",\"showlegend\":true,\"x\":[91.0],\"xaxis\":\"x\",\"y\":[8.0],\"yaxis\":\"y\",\"type\":\"scatter\"},{\"customdata\":[[\"Japan\"]],\"hovertemplate\":\"Countries and areas=%{customdata[0]}<br>Gross_Primary_Education_Enrollment=%{x}<br>Unemployment_Rate=%{y}<extra></extra>\",\"legendgroup\":\"Japan\",\"marker\":{\"color\":\"#FECB52\",\"symbol\":\"circle\"},\"mode\":\"markers\",\"name\":\"Japan\",\"orientation\":\"v\",\"showlegend\":true,\"x\":[98.8],\"xaxis\":\"x\",\"y\":[2.29],\"yaxis\":\"y\",\"type\":\"scatter\"},{\"customdata\":[[\"Jordan\"]],\"hovertemplate\":\"Countries and areas=%{customdata[0]}<br>Gross_Primary_Education_Enrollment=%{x}<br>Unemployment_Rate=%{y}<extra></extra>\",\"legendgroup\":\"Jordan\",\"marker\":{\"color\":\"#636efa\",\"symbol\":\"circle\"},\"mode\":\"markers\",\"name\":\"Jordan\",\"orientation\":\"v\",\"showlegend\":true,\"x\":[81.5],\"xaxis\":\"x\",\"y\":[14.72],\"yaxis\":\"y\",\"type\":\"scatter\"},{\"customdata\":[[\"Kazakhstan\"]],\"hovertemplate\":\"Countries and areas=%{customdata[0]}<br>Gross_Primary_Education_Enrollment=%{x}<br>Unemployment_Rate=%{y}<extra></extra>\",\"legendgroup\":\"Kazakhstan\",\"marker\":{\"color\":\"#EF553B\",\"symbol\":\"circle\"},\"mode\":\"markers\",\"name\":\"Kazakhstan\",\"orientation\":\"v\",\"showlegend\":true,\"x\":[104.4],\"xaxis\":\"x\",\"y\":[4.59],\"yaxis\":\"y\",\"type\":\"scatter\"},{\"customdata\":[[\"Kenya\"]],\"hovertemplate\":\"Countries and areas=%{customdata[0]}<br>Gross_Primary_Education_Enrollment=%{x}<br>Unemployment_Rate=%{y}<extra></extra>\",\"legendgroup\":\"Kenya\",\"marker\":{\"color\":\"#00cc96\",\"symbol\":\"circle\"},\"mode\":\"markers\",\"name\":\"Kenya\",\"orientation\":\"v\",\"showlegend\":true,\"x\":[103.2],\"xaxis\":\"x\",\"y\":[2.64],\"yaxis\":\"y\",\"type\":\"scatter\"},{\"customdata\":[[\"Kiribati\"]],\"hovertemplate\":\"Countries and areas=%{customdata[0]}<br>Gross_Primary_Education_Enrollment=%{x}<br>Unemployment_Rate=%{y}<extra></extra>\",\"legendgroup\":\"Kiribati\",\"marker\":{\"color\":\"#ab63fa\",\"symbol\":\"circle\"},\"mode\":\"markers\",\"name\":\"Kiribati\",\"orientation\":\"v\",\"showlegend\":true,\"x\":[101.3],\"xaxis\":\"x\",\"y\":[0.0],\"yaxis\":\"y\",\"type\":\"scatter\"},{\"customdata\":[[\"Kuwait\"]],\"hovertemplate\":\"Countries and areas=%{customdata[0]}<br>Gross_Primary_Education_Enrollment=%{x}<br>Unemployment_Rate=%{y}<extra></extra>\",\"legendgroup\":\"Kuwait\",\"marker\":{\"color\":\"#FFA15A\",\"symbol\":\"circle\"},\"mode\":\"markers\",\"name\":\"Kuwait\",\"orientation\":\"v\",\"showlegend\":true,\"x\":[92.4],\"xaxis\":\"x\",\"y\":[2.18],\"yaxis\":\"y\",\"type\":\"scatter\"},{\"customdata\":[[\"Kyrgyzstan\"]],\"hovertemplate\":\"Countries and areas=%{customdata[0]}<br>Gross_Primary_Education_Enrollment=%{x}<br>Unemployment_Rate=%{y}<extra></extra>\",\"legendgroup\":\"Kyrgyzstan\",\"marker\":{\"color\":\"#19d3f3\",\"symbol\":\"circle\"},\"mode\":\"markers\",\"name\":\"Kyrgyzstan\",\"orientation\":\"v\",\"showlegend\":true,\"x\":[107.6],\"xaxis\":\"x\",\"y\":[6.33],\"yaxis\":\"y\",\"type\":\"scatter\"},{\"customdata\":[[\"Laos\"]],\"hovertemplate\":\"Countries and areas=%{customdata[0]}<br>Gross_Primary_Education_Enrollment=%{x}<br>Unemployment_Rate=%{y}<extra></extra>\",\"legendgroup\":\"Laos\",\"marker\":{\"color\":\"#FF6692\",\"symbol\":\"circle\"},\"mode\":\"markers\",\"name\":\"Laos\",\"orientation\":\"v\",\"showlegend\":true,\"x\":[102.4],\"xaxis\":\"x\",\"y\":[0.63],\"yaxis\":\"y\",\"type\":\"scatter\"},{\"customdata\":[[\"Latvia\"]],\"hovertemplate\":\"Countries and areas=%{customdata[0]}<br>Gross_Primary_Education_Enrollment=%{x}<br>Unemployment_Rate=%{y}<extra></extra>\",\"legendgroup\":\"Latvia\",\"marker\":{\"color\":\"#B6E880\",\"symbol\":\"circle\"},\"mode\":\"markers\",\"name\":\"Latvia\",\"orientation\":\"v\",\"showlegend\":true,\"x\":[99.4],\"xaxis\":\"x\",\"y\":[6.52],\"yaxis\":\"y\",\"type\":\"scatter\"},{\"customdata\":[[\"Lebanon\"]],\"hovertemplate\":\"Countries and areas=%{customdata[0]}<br>Gross_Primary_Education_Enrollment=%{x}<br>Unemployment_Rate=%{y}<extra></extra>\",\"legendgroup\":\"Lebanon\",\"marker\":{\"color\":\"#FF97FF\",\"symbol\":\"circle\"},\"mode\":\"markers\",\"name\":\"Lebanon\",\"orientation\":\"v\",\"showlegend\":true,\"x\":[95.1],\"xaxis\":\"x\",\"y\":[6.23],\"yaxis\":\"y\",\"type\":\"scatter\"},{\"customdata\":[[\"Lesotho\"]],\"hovertemplate\":\"Countries and areas=%{customdata[0]}<br>Gross_Primary_Education_Enrollment=%{x}<br>Unemployment_Rate=%{y}<extra></extra>\",\"legendgroup\":\"Lesotho\",\"marker\":{\"color\":\"#FECB52\",\"symbol\":\"circle\"},\"mode\":\"markers\",\"name\":\"Lesotho\",\"orientation\":\"v\",\"showlegend\":true,\"x\":[120.9],\"xaxis\":\"x\",\"y\":[23.41],\"yaxis\":\"y\",\"type\":\"scatter\"},{\"customdata\":[[\"Liberia\"]],\"hovertemplate\":\"Countries and areas=%{customdata[0]}<br>Gross_Primary_Education_Enrollment=%{x}<br>Unemployment_Rate=%{y}<extra></extra>\",\"legendgroup\":\"Liberia\",\"marker\":{\"color\":\"#636efa\",\"symbol\":\"circle\"},\"mode\":\"markers\",\"name\":\"Liberia\",\"orientation\":\"v\",\"showlegend\":true,\"x\":[85.1],\"xaxis\":\"x\",\"y\":[2.81],\"yaxis\":\"y\",\"type\":\"scatter\"},{\"customdata\":[[\"Libya\"]],\"hovertemplate\":\"Countries and areas=%{customdata[0]}<br>Gross_Primary_Education_Enrollment=%{x}<br>Unemployment_Rate=%{y}<extra></extra>\",\"legendgroup\":\"Libya\",\"marker\":{\"color\":\"#EF553B\",\"symbol\":\"circle\"},\"mode\":\"markers\",\"name\":\"Libya\",\"orientation\":\"v\",\"showlegend\":true,\"x\":[109.0],\"xaxis\":\"x\",\"y\":[18.56],\"yaxis\":\"y\",\"type\":\"scatter\"},{\"customdata\":[[\"Liechtenstein\"]],\"hovertemplate\":\"Countries and areas=%{customdata[0]}<br>Gross_Primary_Education_Enrollment=%{x}<br>Unemployment_Rate=%{y}<extra></extra>\",\"legendgroup\":\"Liechtenstein\",\"marker\":{\"color\":\"#00cc96\",\"symbol\":\"circle\"},\"mode\":\"markers\",\"name\":\"Liechtenstein\",\"orientation\":\"v\",\"showlegend\":true,\"x\":[104.7],\"xaxis\":\"x\",\"y\":[0.0],\"yaxis\":\"y\",\"type\":\"scatter\"},{\"customdata\":[[\"Lithuania\"]],\"hovertemplate\":\"Countries and areas=%{customdata[0]}<br>Gross_Primary_Education_Enrollment=%{x}<br>Unemployment_Rate=%{y}<extra></extra>\",\"legendgroup\":\"Lithuania\",\"marker\":{\"color\":\"#ab63fa\",\"symbol\":\"circle\"},\"mode\":\"markers\",\"name\":\"Lithuania\",\"orientation\":\"v\",\"showlegend\":true,\"x\":[103.9],\"xaxis\":\"x\",\"y\":[6.35],\"yaxis\":\"y\",\"type\":\"scatter\"},{\"customdata\":[[\"Luxembourg\"]],\"hovertemplate\":\"Countries and areas=%{customdata[0]}<br>Gross_Primary_Education_Enrollment=%{x}<br>Unemployment_Rate=%{y}<extra></extra>\",\"legendgroup\":\"Luxembourg\",\"marker\":{\"color\":\"#FFA15A\",\"symbol\":\"circle\"},\"mode\":\"markers\",\"name\":\"Luxembourg\",\"orientation\":\"v\",\"showlegend\":true,\"x\":[102.3],\"xaxis\":\"x\",\"y\":[5.36],\"yaxis\":\"y\",\"type\":\"scatter\"},{\"customdata\":[[\"Madagascar\"]],\"hovertemplate\":\"Countries and areas=%{customdata[0]}<br>Gross_Primary_Education_Enrollment=%{x}<br>Unemployment_Rate=%{y}<extra></extra>\",\"legendgroup\":\"Madagascar\",\"marker\":{\"color\":\"#19d3f3\",\"symbol\":\"circle\"},\"mode\":\"markers\",\"name\":\"Madagascar\",\"orientation\":\"v\",\"showlegend\":true,\"x\":[142.5],\"xaxis\":\"x\",\"y\":[1.76],\"yaxis\":\"y\",\"type\":\"scatter\"},{\"customdata\":[[\"Malawi\"]],\"hovertemplate\":\"Countries and areas=%{customdata[0]}<br>Gross_Primary_Education_Enrollment=%{x}<br>Unemployment_Rate=%{y}<extra></extra>\",\"legendgroup\":\"Malawi\",\"marker\":{\"color\":\"#FF6692\",\"symbol\":\"circle\"},\"mode\":\"markers\",\"name\":\"Malawi\",\"orientation\":\"v\",\"showlegend\":true,\"x\":[142.5],\"xaxis\":\"x\",\"y\":[5.65],\"yaxis\":\"y\",\"type\":\"scatter\"},{\"customdata\":[[\"Malaysia\"]],\"hovertemplate\":\"Countries and areas=%{customdata[0]}<br>Gross_Primary_Education_Enrollment=%{x}<br>Unemployment_Rate=%{y}<extra></extra>\",\"legendgroup\":\"Malaysia\",\"marker\":{\"color\":\"#B6E880\",\"symbol\":\"circle\"},\"mode\":\"markers\",\"name\":\"Malaysia\",\"orientation\":\"v\",\"showlegend\":true,\"x\":[105.3],\"xaxis\":\"x\",\"y\":[3.32],\"yaxis\":\"y\",\"type\":\"scatter\"},{\"customdata\":[[\"Maldives\"]],\"hovertemplate\":\"Countries and areas=%{customdata[0]}<br>Gross_Primary_Education_Enrollment=%{x}<br>Unemployment_Rate=%{y}<extra></extra>\",\"legendgroup\":\"Maldives\",\"marker\":{\"color\":\"#FF97FF\",\"symbol\":\"circle\"},\"mode\":\"markers\",\"name\":\"Maldives\",\"orientation\":\"v\",\"showlegend\":true,\"x\":[97.1],\"xaxis\":\"x\",\"y\":[6.14],\"yaxis\":\"y\",\"type\":\"scatter\"},{\"customdata\":[[\"Mali\"]],\"hovertemplate\":\"Countries and areas=%{customdata[0]}<br>Gross_Primary_Education_Enrollment=%{x}<br>Unemployment_Rate=%{y}<extra></extra>\",\"legendgroup\":\"Mali\",\"marker\":{\"color\":\"#FECB52\",\"symbol\":\"circle\"},\"mode\":\"markers\",\"name\":\"Mali\",\"orientation\":\"v\",\"showlegend\":true,\"x\":[75.6],\"xaxis\":\"x\",\"y\":[7.22],\"yaxis\":\"y\",\"type\":\"scatter\"},{\"customdata\":[[\"Malta\"]],\"hovertemplate\":\"Countries and areas=%{customdata[0]}<br>Gross_Primary_Education_Enrollment=%{x}<br>Unemployment_Rate=%{y}<extra></extra>\",\"legendgroup\":\"Malta\",\"marker\":{\"color\":\"#636efa\",\"symbol\":\"circle\"},\"mode\":\"markers\",\"name\":\"Malta\",\"orientation\":\"v\",\"showlegend\":true,\"x\":[105.0],\"xaxis\":\"x\",\"y\":[3.47],\"yaxis\":\"y\",\"type\":\"scatter\"},{\"customdata\":[[\"Marshall Islands\"]],\"hovertemplate\":\"Countries and areas=%{customdata[0]}<br>Gross_Primary_Education_Enrollment=%{x}<br>Unemployment_Rate=%{y}<extra></extra>\",\"legendgroup\":\"Marshall Islands\",\"marker\":{\"color\":\"#EF553B\",\"symbol\":\"circle\"},\"mode\":\"markers\",\"name\":\"Marshall Islands\",\"orientation\":\"v\",\"showlegend\":true,\"x\":[84.7],\"xaxis\":\"x\",\"y\":[0.0],\"yaxis\":\"y\",\"type\":\"scatter\"},{\"customdata\":[[\"Mauritania\"]],\"hovertemplate\":\"Countries and areas=%{customdata[0]}<br>Gross_Primary_Education_Enrollment=%{x}<br>Unemployment_Rate=%{y}<extra></extra>\",\"legendgroup\":\"Mauritania\",\"marker\":{\"color\":\"#00cc96\",\"symbol\":\"circle\"},\"mode\":\"markers\",\"name\":\"Mauritania\",\"orientation\":\"v\",\"showlegend\":true,\"x\":[99.9],\"xaxis\":\"x\",\"y\":[9.55],\"yaxis\":\"y\",\"type\":\"scatter\"},{\"customdata\":[[\"Mauritius\"]],\"hovertemplate\":\"Countries and areas=%{customdata[0]}<br>Gross_Primary_Education_Enrollment=%{x}<br>Unemployment_Rate=%{y}<extra></extra>\",\"legendgroup\":\"Mauritius\",\"marker\":{\"color\":\"#ab63fa\",\"symbol\":\"circle\"},\"mode\":\"markers\",\"name\":\"Mauritius\",\"orientation\":\"v\",\"showlegend\":true,\"x\":[101.1],\"xaxis\":\"x\",\"y\":[6.67],\"yaxis\":\"y\",\"type\":\"scatter\"},{\"customdata\":[[\"Mexico\"]],\"hovertemplate\":\"Countries and areas=%{customdata[0]}<br>Gross_Primary_Education_Enrollment=%{x}<br>Unemployment_Rate=%{y}<extra></extra>\",\"legendgroup\":\"Mexico\",\"marker\":{\"color\":\"#FFA15A\",\"symbol\":\"circle\"},\"mode\":\"markers\",\"name\":\"Mexico\",\"orientation\":\"v\",\"showlegend\":true,\"x\":[105.8],\"xaxis\":\"x\",\"y\":[3.42],\"yaxis\":\"y\",\"type\":\"scatter\"},{\"customdata\":[[\"Federated States of Micronesia\"]],\"hovertemplate\":\"Countries and areas=%{customdata[0]}<br>Gross_Primary_Education_Enrollment=%{x}<br>Unemployment_Rate=%{y}<extra></extra>\",\"legendgroup\":\"Federated States of Micronesia\",\"marker\":{\"color\":\"#19d3f3\",\"symbol\":\"circle\"},\"mode\":\"markers\",\"name\":\"Federated States of Micronesia\",\"orientation\":\"v\",\"showlegend\":true,\"x\":[97.2],\"xaxis\":\"x\",\"y\":[0.0],\"yaxis\":\"y\",\"type\":\"scatter\"},{\"customdata\":[[\"Monaco\"]],\"hovertemplate\":\"Countries and areas=%{customdata[0]}<br>Gross_Primary_Education_Enrollment=%{x}<br>Unemployment_Rate=%{y}<extra></extra>\",\"legendgroup\":\"Monaco\",\"marker\":{\"color\":\"#FF6692\",\"symbol\":\"circle\"},\"mode\":\"markers\",\"name\":\"Monaco\",\"orientation\":\"v\",\"showlegend\":true,\"x\":[0.0],\"xaxis\":\"x\",\"y\":[0.0],\"yaxis\":\"y\",\"type\":\"scatter\"},{\"customdata\":[[\"Mongolia\"]],\"hovertemplate\":\"Countries and areas=%{customdata[0]}<br>Gross_Primary_Education_Enrollment=%{x}<br>Unemployment_Rate=%{y}<extra></extra>\",\"legendgroup\":\"Mongolia\",\"marker\":{\"color\":\"#B6E880\",\"symbol\":\"circle\"},\"mode\":\"markers\",\"name\":\"Mongolia\",\"orientation\":\"v\",\"showlegend\":true,\"x\":[104.0],\"xaxis\":\"x\",\"y\":[6.01],\"yaxis\":\"y\",\"type\":\"scatter\"},{\"customdata\":[[\"Montenegro\"]],\"hovertemplate\":\"Countries and areas=%{customdata[0]}<br>Gross_Primary_Education_Enrollment=%{x}<br>Unemployment_Rate=%{y}<extra></extra>\",\"legendgroup\":\"Montenegro\",\"marker\":{\"color\":\"#FF97FF\",\"symbol\":\"circle\"},\"mode\":\"markers\",\"name\":\"Montenegro\",\"orientation\":\"v\",\"showlegend\":true,\"x\":[100.0],\"xaxis\":\"x\",\"y\":[14.88],\"yaxis\":\"y\",\"type\":\"scatter\"},{\"customdata\":[[\"Montserrat\"]],\"hovertemplate\":\"Countries and areas=%{customdata[0]}<br>Gross_Primary_Education_Enrollment=%{x}<br>Unemployment_Rate=%{y}<extra></extra>\",\"legendgroup\":\"Montserrat\",\"marker\":{\"color\":\"#FECB52\",\"symbol\":\"circle\"},\"mode\":\"markers\",\"name\":\"Montserrat\",\"orientation\":\"v\",\"showlegend\":true,\"x\":[0.0],\"xaxis\":\"x\",\"y\":[0.0],\"yaxis\":\"y\",\"type\":\"scatter\"},{\"customdata\":[[\"Morocco\"]],\"hovertemplate\":\"Countries and areas=%{customdata[0]}<br>Gross_Primary_Education_Enrollment=%{x}<br>Unemployment_Rate=%{y}<extra></extra>\",\"legendgroup\":\"Morocco\",\"marker\":{\"color\":\"#636efa\",\"symbol\":\"circle\"},\"mode\":\"markers\",\"name\":\"Morocco\",\"orientation\":\"v\",\"showlegend\":true,\"x\":[113.9],\"xaxis\":\"x\",\"y\":[9.02],\"yaxis\":\"y\",\"type\":\"scatter\"},{\"customdata\":[[\"Mozambique\"]],\"hovertemplate\":\"Countries and areas=%{customdata[0]}<br>Gross_Primary_Education_Enrollment=%{x}<br>Unemployment_Rate=%{y}<extra></extra>\",\"legendgroup\":\"Mozambique\",\"marker\":{\"color\":\"#EF553B\",\"symbol\":\"circle\"},\"mode\":\"markers\",\"name\":\"Mozambique\",\"orientation\":\"v\",\"showlegend\":true,\"x\":[112.6],\"xaxis\":\"x\",\"y\":[3.24],\"yaxis\":\"y\",\"type\":\"scatter\"},{\"customdata\":[[\"Myanmar\"]],\"hovertemplate\":\"Countries and areas=%{customdata[0]}<br>Gross_Primary_Education_Enrollment=%{x}<br>Unemployment_Rate=%{y}<extra></extra>\",\"legendgroup\":\"Myanmar\",\"marker\":{\"color\":\"#00cc96\",\"symbol\":\"circle\"},\"mode\":\"markers\",\"name\":\"Myanmar\",\"orientation\":\"v\",\"showlegend\":true,\"x\":[112.3],\"xaxis\":\"x\",\"y\":[1.58],\"yaxis\":\"y\",\"type\":\"scatter\"},{\"customdata\":[[\"Namibia\"]],\"hovertemplate\":\"Countries and areas=%{customdata[0]}<br>Gross_Primary_Education_Enrollment=%{x}<br>Unemployment_Rate=%{y}<extra></extra>\",\"legendgroup\":\"Namibia\",\"marker\":{\"color\":\"#ab63fa\",\"symbol\":\"circle\"},\"mode\":\"markers\",\"name\":\"Namibia\",\"orientation\":\"v\",\"showlegend\":true,\"x\":[124.2],\"xaxis\":\"x\",\"y\":[20.27],\"yaxis\":\"y\",\"type\":\"scatter\"},{\"customdata\":[[\"Nauru\"]],\"hovertemplate\":\"Countries and areas=%{customdata[0]}<br>Gross_Primary_Education_Enrollment=%{x}<br>Unemployment_Rate=%{y}<extra></extra>\",\"legendgroup\":\"Nauru\",\"marker\":{\"color\":\"#FFA15A\",\"symbol\":\"circle\"},\"mode\":\"markers\",\"name\":\"Nauru\",\"orientation\":\"v\",\"showlegend\":true,\"x\":[0.0],\"xaxis\":\"x\",\"y\":[0.0],\"yaxis\":\"y\",\"type\":\"scatter\"},{\"customdata\":[[\"Nepal\"]],\"hovertemplate\":\"Countries and areas=%{customdata[0]}<br>Gross_Primary_Education_Enrollment=%{x}<br>Unemployment_Rate=%{y}<extra></extra>\",\"legendgroup\":\"Nepal\",\"marker\":{\"color\":\"#19d3f3\",\"symbol\":\"circle\"},\"mode\":\"markers\",\"name\":\"Nepal\",\"orientation\":\"v\",\"showlegend\":true,\"x\":[142.1],\"xaxis\":\"x\",\"y\":[1.41],\"yaxis\":\"y\",\"type\":\"scatter\"},{\"customdata\":[[\"Netherlands\"]],\"hovertemplate\":\"Countries and areas=%{customdata[0]}<br>Gross_Primary_Education_Enrollment=%{x}<br>Unemployment_Rate=%{y}<extra></extra>\",\"legendgroup\":\"Netherlands\",\"marker\":{\"color\":\"#FF6692\",\"symbol\":\"circle\"},\"mode\":\"markers\",\"name\":\"Netherlands\",\"orientation\":\"v\",\"showlegend\":true,\"x\":[104.2],\"xaxis\":\"x\",\"y\":[3.2],\"yaxis\":\"y\",\"type\":\"scatter\"},{\"customdata\":[[\"New Zealand\"]],\"hovertemplate\":\"Countries and areas=%{customdata[0]}<br>Gross_Primary_Education_Enrollment=%{x}<br>Unemployment_Rate=%{y}<extra></extra>\",\"legendgroup\":\"New Zealand\",\"marker\":{\"color\":\"#B6E880\",\"symbol\":\"circle\"},\"mode\":\"markers\",\"name\":\"New Zealand\",\"orientation\":\"v\",\"showlegend\":true,\"x\":[100.0],\"xaxis\":\"x\",\"y\":[4.07],\"yaxis\":\"y\",\"type\":\"scatter\"},{\"customdata\":[[\"Nicaragua\"]],\"hovertemplate\":\"Countries and areas=%{customdata[0]}<br>Gross_Primary_Education_Enrollment=%{x}<br>Unemployment_Rate=%{y}<extra></extra>\",\"legendgroup\":\"Nicaragua\",\"marker\":{\"color\":\"#FF97FF\",\"symbol\":\"circle\"},\"mode\":\"markers\",\"name\":\"Nicaragua\",\"orientation\":\"v\",\"showlegend\":true,\"x\":[120.6],\"xaxis\":\"x\",\"y\":[6.84],\"yaxis\":\"y\",\"type\":\"scatter\"},{\"customdata\":[[\"Niger\"]],\"hovertemplate\":\"Countries and areas=%{customdata[0]}<br>Gross_Primary_Education_Enrollment=%{x}<br>Unemployment_Rate=%{y}<extra></extra>\",\"legendgroup\":\"Niger\",\"marker\":{\"color\":\"#FECB52\",\"symbol\":\"circle\"},\"mode\":\"markers\",\"name\":\"Niger\",\"orientation\":\"v\",\"showlegend\":true,\"x\":[74.7],\"xaxis\":\"x\",\"y\":[0.47],\"yaxis\":\"y\",\"type\":\"scatter\"},{\"customdata\":[[\"Nigeria\"]],\"hovertemplate\":\"Countries and areas=%{customdata[0]}<br>Gross_Primary_Education_Enrollment=%{x}<br>Unemployment_Rate=%{y}<extra></extra>\",\"legendgroup\":\"Nigeria\",\"marker\":{\"color\":\"#636efa\",\"symbol\":\"circle\"},\"mode\":\"markers\",\"name\":\"Nigeria\",\"orientation\":\"v\",\"showlegend\":true,\"x\":[84.7],\"xaxis\":\"x\",\"y\":[8.1],\"yaxis\":\"y\",\"type\":\"scatter\"},{\"customdata\":[[\"Niue\"]],\"hovertemplate\":\"Countries and areas=%{customdata[0]}<br>Gross_Primary_Education_Enrollment=%{x}<br>Unemployment_Rate=%{y}<extra></extra>\",\"legendgroup\":\"Niue\",\"marker\":{\"color\":\"#EF553B\",\"symbol\":\"circle\"},\"mode\":\"markers\",\"name\":\"Niue\",\"orientation\":\"v\",\"showlegend\":true,\"x\":[0.0],\"xaxis\":\"x\",\"y\":[0.0],\"yaxis\":\"y\",\"type\":\"scatter\"},{\"customdata\":[[\"North Macedonia\"]],\"hovertemplate\":\"Countries and areas=%{customdata[0]}<br>Gross_Primary_Education_Enrollment=%{x}<br>Unemployment_Rate=%{y}<extra></extra>\",\"legendgroup\":\"North Macedonia\",\"marker\":{\"color\":\"#00cc96\",\"symbol\":\"circle\"},\"mode\":\"markers\",\"name\":\"North Macedonia\",\"orientation\":\"v\",\"showlegend\":true,\"x\":[0.0],\"xaxis\":\"x\",\"y\":[0.0],\"yaxis\":\"y\",\"type\":\"scatter\"},{\"customdata\":[[\"Norway\"]],\"hovertemplate\":\"Countries and areas=%{customdata[0]}<br>Gross_Primary_Education_Enrollment=%{x}<br>Unemployment_Rate=%{y}<extra></extra>\",\"legendgroup\":\"Norway\",\"marker\":{\"color\":\"#ab63fa\",\"symbol\":\"circle\"},\"mode\":\"markers\",\"name\":\"Norway\",\"orientation\":\"v\",\"showlegend\":true,\"x\":[100.3],\"xaxis\":\"x\",\"y\":[3.35],\"yaxis\":\"y\",\"type\":\"scatter\"},{\"customdata\":[[\"Oman\"]],\"hovertemplate\":\"Countries and areas=%{customdata[0]}<br>Gross_Primary_Education_Enrollment=%{x}<br>Unemployment_Rate=%{y}<extra></extra>\",\"legendgroup\":\"Oman\",\"marker\":{\"color\":\"#FFA15A\",\"symbol\":\"circle\"},\"mode\":\"markers\",\"name\":\"Oman\",\"orientation\":\"v\",\"showlegend\":true,\"x\":[103.4],\"xaxis\":\"x\",\"y\":[2.67],\"yaxis\":\"y\",\"type\":\"scatter\"},{\"customdata\":[[\"Pakistan\"]],\"hovertemplate\":\"Countries and areas=%{customdata[0]}<br>Gross_Primary_Education_Enrollment=%{x}<br>Unemployment_Rate=%{y}<extra></extra>\",\"legendgroup\":\"Pakistan\",\"marker\":{\"color\":\"#19d3f3\",\"symbol\":\"circle\"},\"mode\":\"markers\",\"name\":\"Pakistan\",\"orientation\":\"v\",\"showlegend\":true,\"x\":[94.3],\"xaxis\":\"x\",\"y\":[4.45],\"yaxis\":\"y\",\"type\":\"scatter\"},{\"customdata\":[[\"Palau\"]],\"hovertemplate\":\"Countries and areas=%{customdata[0]}<br>Gross_Primary_Education_Enrollment=%{x}<br>Unemployment_Rate=%{y}<extra></extra>\",\"legendgroup\":\"Palau\",\"marker\":{\"color\":\"#FF6692\",\"symbol\":\"circle\"},\"mode\":\"markers\",\"name\":\"Palau\",\"orientation\":\"v\",\"showlegend\":true,\"x\":[112.6],\"xaxis\":\"x\",\"y\":[0.0],\"yaxis\":\"y\",\"type\":\"scatter\"},{\"customdata\":[[\"Panama\"]],\"hovertemplate\":\"Countries and areas=%{customdata[0]}<br>Gross_Primary_Education_Enrollment=%{x}<br>Unemployment_Rate=%{y}<extra></extra>\",\"legendgroup\":\"Panama\",\"marker\":{\"color\":\"#B6E880\",\"symbol\":\"circle\"},\"mode\":\"markers\",\"name\":\"Panama\",\"orientation\":\"v\",\"showlegend\":true,\"x\":[94.4],\"xaxis\":\"x\",\"y\":[3.9],\"yaxis\":\"y\",\"type\":\"scatter\"},{\"customdata\":[[\"Papua New Guinea\"]],\"hovertemplate\":\"Countries and areas=%{customdata[0]}<br>Gross_Primary_Education_Enrollment=%{x}<br>Unemployment_Rate=%{y}<extra></extra>\",\"legendgroup\":\"Papua New Guinea\",\"marker\":{\"color\":\"#FF97FF\",\"symbol\":\"circle\"},\"mode\":\"markers\",\"name\":\"Papua New Guinea\",\"orientation\":\"v\",\"showlegend\":true,\"x\":[108.5],\"xaxis\":\"x\",\"y\":[2.46],\"yaxis\":\"y\",\"type\":\"scatter\"},{\"customdata\":[[\"Paraguay\"]],\"hovertemplate\":\"Countries and areas=%{customdata[0]}<br>Gross_Primary_Education_Enrollment=%{x}<br>Unemployment_Rate=%{y}<extra></extra>\",\"legendgroup\":\"Paraguay\",\"marker\":{\"color\":\"#FECB52\",\"symbol\":\"circle\"},\"mode\":\"markers\",\"name\":\"Paraguay\",\"orientation\":\"v\",\"showlegend\":true,\"x\":[104.4],\"xaxis\":\"x\",\"y\":[4.81],\"yaxis\":\"y\",\"type\":\"scatter\"},{\"customdata\":[[\"Peru\"]],\"hovertemplate\":\"Countries and areas=%{customdata[0]}<br>Gross_Primary_Education_Enrollment=%{x}<br>Unemployment_Rate=%{y}<extra></extra>\",\"legendgroup\":\"Peru\",\"marker\":{\"color\":\"#636efa\",\"symbol\":\"circle\"},\"mode\":\"markers\",\"name\":\"Peru\",\"orientation\":\"v\",\"showlegend\":true,\"x\":[106.9],\"xaxis\":\"x\",\"y\":[3.31],\"yaxis\":\"y\",\"type\":\"scatter\"},{\"customdata\":[[\"Philippines\"]],\"hovertemplate\":\"Countries and areas=%{customdata[0]}<br>Gross_Primary_Education_Enrollment=%{x}<br>Unemployment_Rate=%{y}<extra></extra>\",\"legendgroup\":\"Philippines\",\"marker\":{\"color\":\"#EF553B\",\"symbol\":\"circle\"},\"mode\":\"markers\",\"name\":\"Philippines\",\"orientation\":\"v\",\"showlegend\":true,\"x\":[107.5],\"xaxis\":\"x\",\"y\":[2.15],\"yaxis\":\"y\",\"type\":\"scatter\"},{\"customdata\":[[\"Poland\"]],\"hovertemplate\":\"Countries and areas=%{customdata[0]}<br>Gross_Primary_Education_Enrollment=%{x}<br>Unemployment_Rate=%{y}<extra></extra>\",\"legendgroup\":\"Poland\",\"marker\":{\"color\":\"#00cc96\",\"symbol\":\"circle\"},\"mode\":\"markers\",\"name\":\"Poland\",\"orientation\":\"v\",\"showlegend\":true,\"x\":[100.0],\"xaxis\":\"x\",\"y\":[3.47],\"yaxis\":\"y\",\"type\":\"scatter\"},{\"customdata\":[[\"Portugal\"]],\"hovertemplate\":\"Countries and areas=%{customdata[0]}<br>Gross_Primary_Education_Enrollment=%{x}<br>Unemployment_Rate=%{y}<extra></extra>\",\"legendgroup\":\"Portugal\",\"marker\":{\"color\":\"#ab63fa\",\"symbol\":\"circle\"},\"mode\":\"markers\",\"name\":\"Portugal\",\"orientation\":\"v\",\"showlegend\":true,\"x\":[106.2],\"xaxis\":\"x\",\"y\":[6.33],\"yaxis\":\"y\",\"type\":\"scatter\"},{\"customdata\":[[\"Qatar\"]],\"hovertemplate\":\"Countries and areas=%{customdata[0]}<br>Gross_Primary_Education_Enrollment=%{x}<br>Unemployment_Rate=%{y}<extra></extra>\",\"legendgroup\":\"Qatar\",\"marker\":{\"color\":\"#FFA15A\",\"symbol\":\"circle\"},\"mode\":\"markers\",\"name\":\"Qatar\",\"orientation\":\"v\",\"showlegend\":true,\"x\":[103.8],\"xaxis\":\"x\",\"y\":[0.09],\"yaxis\":\"y\",\"type\":\"scatter\"},{\"customdata\":[[\"South Korea\"]],\"hovertemplate\":\"Countries and areas=%{customdata[0]}<br>Gross_Primary_Education_Enrollment=%{x}<br>Unemployment_Rate=%{y}<extra></extra>\",\"legendgroup\":\"South Korea\",\"marker\":{\"color\":\"#19d3f3\",\"symbol\":\"circle\"},\"mode\":\"markers\",\"name\":\"South Korea\",\"orientation\":\"v\",\"showlegend\":true,\"x\":[98.1],\"xaxis\":\"x\",\"y\":[4.15],\"yaxis\":\"y\",\"type\":\"scatter\"},{\"customdata\":[[\"Moldova\"]],\"hovertemplate\":\"Countries and areas=%{customdata[0]}<br>Gross_Primary_Education_Enrollment=%{x}<br>Unemployment_Rate=%{y}<extra></extra>\",\"legendgroup\":\"Moldova\",\"marker\":{\"color\":\"#FF6692\",\"symbol\":\"circle\"},\"mode\":\"markers\",\"name\":\"Moldova\",\"orientation\":\"v\",\"showlegend\":true,\"x\":[90.6],\"xaxis\":\"x\",\"y\":[5.47],\"yaxis\":\"y\",\"type\":\"scatter\"},{\"customdata\":[[\"Romania\"]],\"hovertemplate\":\"Countries and areas=%{customdata[0]}<br>Gross_Primary_Education_Enrollment=%{x}<br>Unemployment_Rate=%{y}<extra></extra>\",\"legendgroup\":\"Romania\",\"marker\":{\"color\":\"#B6E880\",\"symbol\":\"circle\"},\"mode\":\"markers\",\"name\":\"Romania\",\"orientation\":\"v\",\"showlegend\":true,\"x\":[85.2],\"xaxis\":\"x\",\"y\":[3.98],\"yaxis\":\"y\",\"type\":\"scatter\"},{\"customdata\":[[\"Russia\"]],\"hovertemplate\":\"Countries and areas=%{customdata[0]}<br>Gross_Primary_Education_Enrollment=%{x}<br>Unemployment_Rate=%{y}<extra></extra>\",\"legendgroup\":\"Russia\",\"marker\":{\"color\":\"#FF97FF\",\"symbol\":\"circle\"},\"mode\":\"markers\",\"name\":\"Russia\",\"orientation\":\"v\",\"showlegend\":true,\"x\":[102.6],\"xaxis\":\"x\",\"y\":[4.59],\"yaxis\":\"y\",\"type\":\"scatter\"},{\"customdata\":[[\"Rwanda\"]],\"hovertemplate\":\"Countries and areas=%{customdata[0]}<br>Gross_Primary_Education_Enrollment=%{x}<br>Unemployment_Rate=%{y}<extra></extra>\",\"legendgroup\":\"Rwanda\",\"marker\":{\"color\":\"#FECB52\",\"symbol\":\"circle\"},\"mode\":\"markers\",\"name\":\"Rwanda\",\"orientation\":\"v\",\"showlegend\":true,\"x\":[133.0],\"xaxis\":\"x\",\"y\":[1.03],\"yaxis\":\"y\",\"type\":\"scatter\"},{\"customdata\":[[\"Saint Kitts and Nevis\"]],\"hovertemplate\":\"Countries and areas=%{customdata[0]}<br>Gross_Primary_Education_Enrollment=%{x}<br>Unemployment_Rate=%{y}<extra></extra>\",\"legendgroup\":\"Saint Kitts and Nevis\",\"marker\":{\"color\":\"#636efa\",\"symbol\":\"circle\"},\"mode\":\"markers\",\"name\":\"Saint Kitts and Nevis\",\"orientation\":\"v\",\"showlegend\":true,\"x\":[108.7],\"xaxis\":\"x\",\"y\":[0.0],\"yaxis\":\"y\",\"type\":\"scatter\"},{\"customdata\":[[\"Saint Lucia\"]],\"hovertemplate\":\"Countries and areas=%{customdata[0]}<br>Gross_Primary_Education_Enrollment=%{x}<br>Unemployment_Rate=%{y}<extra></extra>\",\"legendgroup\":\"Saint Lucia\",\"marker\":{\"color\":\"#EF553B\",\"symbol\":\"circle\"},\"mode\":\"markers\",\"name\":\"Saint Lucia\",\"orientation\":\"v\",\"showlegend\":true,\"x\":[102.6],\"xaxis\":\"x\",\"y\":[20.71],\"yaxis\":\"y\",\"type\":\"scatter\"},{\"customdata\":[[\"Saint Vincent and the Grenadines\"]],\"hovertemplate\":\"Countries and areas=%{customdata[0]}<br>Gross_Primary_Education_Enrollment=%{x}<br>Unemployment_Rate=%{y}<extra></extra>\",\"legendgroup\":\"Saint Vincent and the Grenadines\",\"marker\":{\"color\":\"#00cc96\",\"symbol\":\"circle\"},\"mode\":\"markers\",\"name\":\"Saint Vincent and the Grenadines\",\"orientation\":\"v\",\"showlegend\":true,\"x\":[113.4],\"xaxis\":\"x\",\"y\":[18.88],\"yaxis\":\"y\",\"type\":\"scatter\"},{\"customdata\":[[\"Samoa\"]],\"hovertemplate\":\"Countries and areas=%{customdata[0]}<br>Gross_Primary_Education_Enrollment=%{x}<br>Unemployment_Rate=%{y}<extra></extra>\",\"legendgroup\":\"Samoa\",\"marker\":{\"color\":\"#ab63fa\",\"symbol\":\"circle\"},\"mode\":\"markers\",\"name\":\"Samoa\",\"orientation\":\"v\",\"showlegend\":true,\"x\":[110.5],\"xaxis\":\"x\",\"y\":[8.36],\"yaxis\":\"y\",\"type\":\"scatter\"},{\"customdata\":[[\"San Marino\"]],\"hovertemplate\":\"Countries and areas=%{customdata[0]}<br>Gross_Primary_Education_Enrollment=%{x}<br>Unemployment_Rate=%{y}<extra></extra>\",\"legendgroup\":\"San Marino\",\"marker\":{\"color\":\"#FFA15A\",\"symbol\":\"circle\"},\"mode\":\"markers\",\"name\":\"San Marino\",\"orientation\":\"v\",\"showlegend\":true,\"x\":[108.1],\"xaxis\":\"x\",\"y\":[0.0],\"yaxis\":\"y\",\"type\":\"scatter\"},{\"customdata\":[[\"S\\u00ef\\u00bf\\u00bd\\u00ef\\u00bf\\u00bd\\u00ef\\u00bf\\u00bd\\u00ef\\u00bf\\u00bd\\u00ef\\u00bf\\u00bd\\u00ef\\u00bf\\u00bd\\u00ef\\u00bf\\u00bd\\u00ef\\u00bf\"]],\"hovertemplate\":\"Countries and areas=%{customdata[0]}<br>Gross_Primary_Education_Enrollment=%{x}<br>Unemployment_Rate=%{y}<extra></extra>\",\"legendgroup\":\"S\\u00ef\\u00bf\\u00bd\\u00ef\\u00bf\\u00bd\\u00ef\\u00bf\\u00bd\\u00ef\\u00bf\\u00bd\\u00ef\\u00bf\\u00bd\\u00ef\\u00bf\\u00bd\\u00ef\\u00bf\\u00bd\\u00ef\\u00bf\",\"marker\":{\"color\":\"#19d3f3\",\"symbol\":\"circle\"},\"mode\":\"markers\",\"name\":\"S\\u00ef\\u00bf\\u00bd\\u00ef\\u00bf\\u00bd\\u00ef\\u00bf\\u00bd\\u00ef\\u00bf\\u00bd\\u00ef\\u00bf\\u00bd\\u00ef\\u00bf\\u00bd\\u00ef\\u00bf\\u00bd\\u00ef\\u00bf\",\"orientation\":\"v\",\"showlegend\":true,\"x\":[106.8],\"xaxis\":\"x\",\"y\":[13.37],\"yaxis\":\"y\",\"type\":\"scatter\"},{\"customdata\":[[\"Saudi Arabia\"]],\"hovertemplate\":\"Countries and areas=%{customdata[0]}<br>Gross_Primary_Education_Enrollment=%{x}<br>Unemployment_Rate=%{y}<extra></extra>\",\"legendgroup\":\"Saudi Arabia\",\"marker\":{\"color\":\"#FF6692\",\"symbol\":\"circle\"},\"mode\":\"markers\",\"name\":\"Saudi Arabia\",\"orientation\":\"v\",\"showlegend\":true,\"x\":[99.8],\"xaxis\":\"x\",\"y\":[5.93],\"yaxis\":\"y\",\"type\":\"scatter\"},{\"customdata\":[[\"Senegal\"]],\"hovertemplate\":\"Countries and areas=%{customdata[0]}<br>Gross_Primary_Education_Enrollment=%{x}<br>Unemployment_Rate=%{y}<extra></extra>\",\"legendgroup\":\"Senegal\",\"marker\":{\"color\":\"#B6E880\",\"symbol\":\"circle\"},\"mode\":\"markers\",\"name\":\"Senegal\",\"orientation\":\"v\",\"showlegend\":true,\"x\":[81.0],\"xaxis\":\"x\",\"y\":[6.6],\"yaxis\":\"y\",\"type\":\"scatter\"},{\"customdata\":[[\"Serbia\"]],\"hovertemplate\":\"Countries and areas=%{customdata[0]}<br>Gross_Primary_Education_Enrollment=%{x}<br>Unemployment_Rate=%{y}<extra></extra>\",\"legendgroup\":\"Serbia\",\"marker\":{\"color\":\"#FF97FF\",\"symbol\":\"circle\"},\"mode\":\"markers\",\"name\":\"Serbia\",\"orientation\":\"v\",\"showlegend\":true,\"x\":[100.3],\"xaxis\":\"x\",\"y\":[12.69],\"yaxis\":\"y\",\"type\":\"scatter\"},{\"customdata\":[[\"Seychelles\"]],\"hovertemplate\":\"Countries and areas=%{customdata[0]}<br>Gross_Primary_Education_Enrollment=%{x}<br>Unemployment_Rate=%{y}<extra></extra>\",\"legendgroup\":\"Seychelles\",\"marker\":{\"color\":\"#FECB52\",\"symbol\":\"circle\"},\"mode\":\"markers\",\"name\":\"Seychelles\",\"orientation\":\"v\",\"showlegend\":true,\"x\":[100.4],\"xaxis\":\"x\",\"y\":[0.0],\"yaxis\":\"y\",\"type\":\"scatter\"},{\"customdata\":[[\"Sierra Leone\"]],\"hovertemplate\":\"Countries and areas=%{customdata[0]}<br>Gross_Primary_Education_Enrollment=%{x}<br>Unemployment_Rate=%{y}<extra></extra>\",\"legendgroup\":\"Sierra Leone\",\"marker\":{\"color\":\"#636efa\",\"symbol\":\"circle\"},\"mode\":\"markers\",\"name\":\"Sierra Leone\",\"orientation\":\"v\",\"showlegend\":true,\"x\":[112.8],\"xaxis\":\"x\",\"y\":[4.43],\"yaxis\":\"y\",\"type\":\"scatter\"},{\"customdata\":[[\"Singapore\"]],\"hovertemplate\":\"Countries and areas=%{customdata[0]}<br>Gross_Primary_Education_Enrollment=%{x}<br>Unemployment_Rate=%{y}<extra></extra>\",\"legendgroup\":\"Singapore\",\"marker\":{\"color\":\"#EF553B\",\"symbol\":\"circle\"},\"mode\":\"markers\",\"name\":\"Singapore\",\"orientation\":\"v\",\"showlegend\":true,\"x\":[100.6],\"xaxis\":\"x\",\"y\":[4.11],\"yaxis\":\"y\",\"type\":\"scatter\"},{\"customdata\":[[\"Slovakia\"]],\"hovertemplate\":\"Countries and areas=%{customdata[0]}<br>Gross_Primary_Education_Enrollment=%{x}<br>Unemployment_Rate=%{y}<extra></extra>\",\"legendgroup\":\"Slovakia\",\"marker\":{\"color\":\"#00cc96\",\"symbol\":\"circle\"},\"mode\":\"markers\",\"name\":\"Slovakia\",\"orientation\":\"v\",\"showlegend\":true,\"x\":[98.7],\"xaxis\":\"x\",\"y\":[5.56],\"yaxis\":\"y\",\"type\":\"scatter\"},{\"customdata\":[[\"Slovenia\"]],\"hovertemplate\":\"Countries and areas=%{customdata[0]}<br>Gross_Primary_Education_Enrollment=%{x}<br>Unemployment_Rate=%{y}<extra></extra>\",\"legendgroup\":\"Slovenia\",\"marker\":{\"color\":\"#ab63fa\",\"symbol\":\"circle\"},\"mode\":\"markers\",\"name\":\"Slovenia\",\"orientation\":\"v\",\"showlegend\":true,\"x\":[100.4],\"xaxis\":\"x\",\"y\":[4.2],\"yaxis\":\"y\",\"type\":\"scatter\"},{\"customdata\":[[\"Solomon Islands\"]],\"hovertemplate\":\"Countries and areas=%{customdata[0]}<br>Gross_Primary_Education_Enrollment=%{x}<br>Unemployment_Rate=%{y}<extra></extra>\",\"legendgroup\":\"Solomon Islands\",\"marker\":{\"color\":\"#FFA15A\",\"symbol\":\"circle\"},\"mode\":\"markers\",\"name\":\"Solomon Islands\",\"orientation\":\"v\",\"showlegend\":true,\"x\":[106.2],\"xaxis\":\"x\",\"y\":[0.58],\"yaxis\":\"y\",\"type\":\"scatter\"},{\"customdata\":[[\"Somalia\"]],\"hovertemplate\":\"Countries and areas=%{customdata[0]}<br>Gross_Primary_Education_Enrollment=%{x}<br>Unemployment_Rate=%{y}<extra></extra>\",\"legendgroup\":\"Somalia\",\"marker\":{\"color\":\"#19d3f3\",\"symbol\":\"circle\"},\"mode\":\"markers\",\"name\":\"Somalia\",\"orientation\":\"v\",\"showlegend\":true,\"x\":[23.4],\"xaxis\":\"x\",\"y\":[11.35],\"yaxis\":\"y\",\"type\":\"scatter\"},{\"customdata\":[[\"South Africa\"]],\"hovertemplate\":\"Countries and areas=%{customdata[0]}<br>Gross_Primary_Education_Enrollment=%{x}<br>Unemployment_Rate=%{y}<extra></extra>\",\"legendgroup\":\"South Africa\",\"marker\":{\"color\":\"#FF6692\",\"symbol\":\"circle\"},\"mode\":\"markers\",\"name\":\"South Africa\",\"orientation\":\"v\",\"showlegend\":true,\"x\":[100.9],\"xaxis\":\"x\",\"y\":[28.18],\"yaxis\":\"y\",\"type\":\"scatter\"},{\"customdata\":[[\"South Sudan\"]],\"hovertemplate\":\"Countries and areas=%{customdata[0]}<br>Gross_Primary_Education_Enrollment=%{x}<br>Unemployment_Rate=%{y}<extra></extra>\",\"legendgroup\":\"South Sudan\",\"marker\":{\"color\":\"#B6E880\",\"symbol\":\"circle\"},\"mode\":\"markers\",\"name\":\"South Sudan\",\"orientation\":\"v\",\"showlegend\":true,\"x\":[73.0],\"xaxis\":\"x\",\"y\":[12.24],\"yaxis\":\"y\",\"type\":\"scatter\"},{\"customdata\":[[\"Spain\"]],\"hovertemplate\":\"Countries and areas=%{customdata[0]}<br>Gross_Primary_Education_Enrollment=%{x}<br>Unemployment_Rate=%{y}<extra></extra>\",\"legendgroup\":\"Spain\",\"marker\":{\"color\":\"#FF97FF\",\"symbol\":\"circle\"},\"mode\":\"markers\",\"name\":\"Spain\",\"orientation\":\"v\",\"showlegend\":true,\"x\":[102.7],\"xaxis\":\"x\",\"y\":[13.96],\"yaxis\":\"y\",\"type\":\"scatter\"},{\"customdata\":[[\"Sri Lanka\"]],\"hovertemplate\":\"Countries and areas=%{customdata[0]}<br>Gross_Primary_Education_Enrollment=%{x}<br>Unemployment_Rate=%{y}<extra></extra>\",\"legendgroup\":\"Sri Lanka\",\"marker\":{\"color\":\"#FECB52\",\"symbol\":\"circle\"},\"mode\":\"markers\",\"name\":\"Sri Lanka\",\"orientation\":\"v\",\"showlegend\":true,\"x\":[100.2],\"xaxis\":\"x\",\"y\":[4.2],\"yaxis\":\"y\",\"type\":\"scatter\"},{\"customdata\":[[\"Palestinian National Authority\"]],\"hovertemplate\":\"Countries and areas=%{customdata[0]}<br>Gross_Primary_Education_Enrollment=%{x}<br>Unemployment_Rate=%{y}<extra></extra>\",\"legendgroup\":\"Palestinian National Authority\",\"marker\":{\"color\":\"#636efa\",\"symbol\":\"circle\"},\"mode\":\"markers\",\"name\":\"Palestinian National Authority\",\"orientation\":\"v\",\"showlegend\":true,\"x\":[0.0],\"xaxis\":\"x\",\"y\":[0.0],\"yaxis\":\"y\",\"type\":\"scatter\"},{\"customdata\":[[\"Sudan\"]],\"hovertemplate\":\"Countries and areas=%{customdata[0]}<br>Gross_Primary_Education_Enrollment=%{x}<br>Unemployment_Rate=%{y}<extra></extra>\",\"legendgroup\":\"Sudan\",\"marker\":{\"color\":\"#EF553B\",\"symbol\":\"circle\"},\"mode\":\"markers\",\"name\":\"Sudan\",\"orientation\":\"v\",\"showlegend\":true,\"x\":[76.8],\"xaxis\":\"x\",\"y\":[16.53],\"yaxis\":\"y\",\"type\":\"scatter\"},{\"customdata\":[[\"Suriname\"]],\"hovertemplate\":\"Countries and areas=%{customdata[0]}<br>Gross_Primary_Education_Enrollment=%{x}<br>Unemployment_Rate=%{y}<extra></extra>\",\"legendgroup\":\"Suriname\",\"marker\":{\"color\":\"#00cc96\",\"symbol\":\"circle\"},\"mode\":\"markers\",\"name\":\"Suriname\",\"orientation\":\"v\",\"showlegend\":true,\"x\":[108.8],\"xaxis\":\"x\",\"y\":[7.33],\"yaxis\":\"y\",\"type\":\"scatter\"},{\"customdata\":[[\"Sweden\"]],\"hovertemplate\":\"Countries and areas=%{customdata[0]}<br>Gross_Primary_Education_Enrollment=%{x}<br>Unemployment_Rate=%{y}<extra></extra>\",\"legendgroup\":\"Sweden\",\"marker\":{\"color\":\"#ab63fa\",\"symbol\":\"circle\"},\"mode\":\"markers\",\"name\":\"Sweden\",\"orientation\":\"v\",\"showlegend\":true,\"x\":[126.6],\"xaxis\":\"x\",\"y\":[6.48],\"yaxis\":\"y\",\"type\":\"scatter\"},{\"customdata\":[[\"Switzerland\"]],\"hovertemplate\":\"Countries and areas=%{customdata[0]}<br>Gross_Primary_Education_Enrollment=%{x}<br>Unemployment_Rate=%{y}<extra></extra>\",\"legendgroup\":\"Switzerland\",\"marker\":{\"color\":\"#FFA15A\",\"symbol\":\"circle\"},\"mode\":\"markers\",\"name\":\"Switzerland\",\"orientation\":\"v\",\"showlegend\":true,\"x\":[105.2],\"xaxis\":\"x\",\"y\":[4.58],\"yaxis\":\"y\",\"type\":\"scatter\"},{\"customdata\":[[\"Syria\"]],\"hovertemplate\":\"Countries and areas=%{customdata[0]}<br>Gross_Primary_Education_Enrollment=%{x}<br>Unemployment_Rate=%{y}<extra></extra>\",\"legendgroup\":\"Syria\",\"marker\":{\"color\":\"#19d3f3\",\"symbol\":\"circle\"},\"mode\":\"markers\",\"name\":\"Syria\",\"orientation\":\"v\",\"showlegend\":true,\"x\":[81.7],\"xaxis\":\"x\",\"y\":[8.37],\"yaxis\":\"y\",\"type\":\"scatter\"},{\"customdata\":[[\"Tajikistan\"]],\"hovertemplate\":\"Countries and areas=%{customdata[0]}<br>Gross_Primary_Education_Enrollment=%{x}<br>Unemployment_Rate=%{y}<extra></extra>\",\"legendgroup\":\"Tajikistan\",\"marker\":{\"color\":\"#FF6692\",\"symbol\":\"circle\"},\"mode\":\"markers\",\"name\":\"Tajikistan\",\"orientation\":\"v\",\"showlegend\":true,\"x\":[100.9],\"xaxis\":\"x\",\"y\":[11.02],\"yaxis\":\"y\",\"type\":\"scatter\"},{\"customdata\":[[\"Thailand\"]],\"hovertemplate\":\"Countries and areas=%{customdata[0]}<br>Gross_Primary_Education_Enrollment=%{x}<br>Unemployment_Rate=%{y}<extra></extra>\",\"legendgroup\":\"Thailand\",\"marker\":{\"color\":\"#B6E880\",\"symbol\":\"circle\"},\"mode\":\"markers\",\"name\":\"Thailand\",\"orientation\":\"v\",\"showlegend\":true,\"x\":[99.8],\"xaxis\":\"x\",\"y\":[0.75],\"yaxis\":\"y\",\"type\":\"scatter\"},{\"customdata\":[[\"East Timor\"]],\"hovertemplate\":\"Countries and areas=%{customdata[0]}<br>Gross_Primary_Education_Enrollment=%{x}<br>Unemployment_Rate=%{y}<extra></extra>\",\"legendgroup\":\"East Timor\",\"marker\":{\"color\":\"#FF97FF\",\"symbol\":\"circle\"},\"mode\":\"markers\",\"name\":\"East Timor\",\"orientation\":\"v\",\"showlegend\":true,\"x\":[115.3],\"xaxis\":\"x\",\"y\":[4.55],\"yaxis\":\"y\",\"type\":\"scatter\"},{\"customdata\":[[\"Togo\"]],\"hovertemplate\":\"Countries and areas=%{customdata[0]}<br>Gross_Primary_Education_Enrollment=%{x}<br>Unemployment_Rate=%{y}<extra></extra>\",\"legendgroup\":\"Togo\",\"marker\":{\"color\":\"#FECB52\",\"symbol\":\"circle\"},\"mode\":\"markers\",\"name\":\"Togo\",\"orientation\":\"v\",\"showlegend\":true,\"x\":[123.8],\"xaxis\":\"x\",\"y\":[2.04],\"yaxis\":\"y\",\"type\":\"scatter\"},{\"customdata\":[[\"Tokelau\"]],\"hovertemplate\":\"Countries and areas=%{customdata[0]}<br>Gross_Primary_Education_Enrollment=%{x}<br>Unemployment_Rate=%{y}<extra></extra>\",\"legendgroup\":\"Tokelau\",\"marker\":{\"color\":\"#636efa\",\"symbol\":\"circle\"},\"mode\":\"markers\",\"name\":\"Tokelau\",\"orientation\":\"v\",\"showlegend\":true,\"x\":[0.0],\"xaxis\":\"x\",\"y\":[0.0],\"yaxis\":\"y\",\"type\":\"scatter\"},{\"customdata\":[[\"Tonga\"]],\"hovertemplate\":\"Countries and areas=%{customdata[0]}<br>Gross_Primary_Education_Enrollment=%{x}<br>Unemployment_Rate=%{y}<extra></extra>\",\"legendgroup\":\"Tonga\",\"marker\":{\"color\":\"#EF553B\",\"symbol\":\"circle\"},\"mode\":\"markers\",\"name\":\"Tonga\",\"orientation\":\"v\",\"showlegend\":true,\"x\":[116.3],\"xaxis\":\"x\",\"y\":[1.12],\"yaxis\":\"y\",\"type\":\"scatter\"},{\"customdata\":[[\"Trinidad and Tobago\"]],\"hovertemplate\":\"Countries and areas=%{customdata[0]}<br>Gross_Primary_Education_Enrollment=%{x}<br>Unemployment_Rate=%{y}<extra></extra>\",\"legendgroup\":\"Trinidad and Tobago\",\"marker\":{\"color\":\"#00cc96\",\"symbol\":\"circle\"},\"mode\":\"markers\",\"name\":\"Trinidad and Tobago\",\"orientation\":\"v\",\"showlegend\":true,\"x\":[106.2],\"xaxis\":\"x\",\"y\":[2.69],\"yaxis\":\"y\",\"type\":\"scatter\"},{\"customdata\":[[\"Tunisia\"]],\"hovertemplate\":\"Countries and areas=%{customdata[0]}<br>Gross_Primary_Education_Enrollment=%{x}<br>Unemployment_Rate=%{y}<extra></extra>\",\"legendgroup\":\"Tunisia\",\"marker\":{\"color\":\"#ab63fa\",\"symbol\":\"circle\"},\"mode\":\"markers\",\"name\":\"Tunisia\",\"orientation\":\"v\",\"showlegend\":true,\"x\":[115.4],\"xaxis\":\"x\",\"y\":[16.02],\"yaxis\":\"y\",\"type\":\"scatter\"},{\"customdata\":[[\"Turkey\"]],\"hovertemplate\":\"Countries and areas=%{customdata[0]}<br>Gross_Primary_Education_Enrollment=%{x}<br>Unemployment_Rate=%{y}<extra></extra>\",\"legendgroup\":\"Turkey\",\"marker\":{\"color\":\"#FFA15A\",\"symbol\":\"circle\"},\"mode\":\"markers\",\"name\":\"Turkey\",\"orientation\":\"v\",\"showlegend\":true,\"x\":[93.2],\"xaxis\":\"x\",\"y\":[13.49],\"yaxis\":\"y\",\"type\":\"scatter\"},{\"customdata\":[[\"Turkmenistan\"]],\"hovertemplate\":\"Countries and areas=%{customdata[0]}<br>Gross_Primary_Education_Enrollment=%{x}<br>Unemployment_Rate=%{y}<extra></extra>\",\"legendgroup\":\"Turkmenistan\",\"marker\":{\"color\":\"#19d3f3\",\"symbol\":\"circle\"},\"mode\":\"markers\",\"name\":\"Turkmenistan\",\"orientation\":\"v\",\"showlegend\":true,\"x\":[88.4],\"xaxis\":\"x\",\"y\":[3.91],\"yaxis\":\"y\",\"type\":\"scatter\"},{\"customdata\":[[\"Turks and Caicos Islands\"]],\"hovertemplate\":\"Countries and areas=%{customdata[0]}<br>Gross_Primary_Education_Enrollment=%{x}<br>Unemployment_Rate=%{y}<extra></extra>\",\"legendgroup\":\"Turks and Caicos Islands\",\"marker\":{\"color\":\"#FF6692\",\"symbol\":\"circle\"},\"mode\":\"markers\",\"name\":\"Turks and Caicos Islands\",\"orientation\":\"v\",\"showlegend\":true,\"x\":[0.0],\"xaxis\":\"x\",\"y\":[0.0],\"yaxis\":\"y\",\"type\":\"scatter\"},{\"customdata\":[[\"Tuvalu\"]],\"hovertemplate\":\"Countries and areas=%{customdata[0]}<br>Gross_Primary_Education_Enrollment=%{x}<br>Unemployment_Rate=%{y}<extra></extra>\",\"legendgroup\":\"Tuvalu\",\"marker\":{\"color\":\"#B6E880\",\"symbol\":\"circle\"},\"mode\":\"markers\",\"name\":\"Tuvalu\",\"orientation\":\"v\",\"showlegend\":true,\"x\":[0.0],\"xaxis\":\"x\",\"y\":[0.0],\"yaxis\":\"y\",\"type\":\"scatter\"},{\"customdata\":[[\"Uganda\"]],\"hovertemplate\":\"Countries and areas=%{customdata[0]}<br>Gross_Primary_Education_Enrollment=%{x}<br>Unemployment_Rate=%{y}<extra></extra>\",\"legendgroup\":\"Uganda\",\"marker\":{\"color\":\"#FF97FF\",\"symbol\":\"circle\"},\"mode\":\"markers\",\"name\":\"Uganda\",\"orientation\":\"v\",\"showlegend\":true,\"x\":[102.7],\"xaxis\":\"x\",\"y\":[1.84],\"yaxis\":\"y\",\"type\":\"scatter\"},{\"customdata\":[[\"Ukraine\"]],\"hovertemplate\":\"Countries and areas=%{customdata[0]}<br>Gross_Primary_Education_Enrollment=%{x}<br>Unemployment_Rate=%{y}<extra></extra>\",\"legendgroup\":\"Ukraine\",\"marker\":{\"color\":\"#FECB52\",\"symbol\":\"circle\"},\"mode\":\"markers\",\"name\":\"Ukraine\",\"orientation\":\"v\",\"showlegend\":true,\"x\":[99.0],\"xaxis\":\"x\",\"y\":[8.88],\"yaxis\":\"y\",\"type\":\"scatter\"},{\"customdata\":[[\"United Arab Emirates\"]],\"hovertemplate\":\"Countries and areas=%{customdata[0]}<br>Gross_Primary_Education_Enrollment=%{x}<br>Unemployment_Rate=%{y}<extra></extra>\",\"legendgroup\":\"United Arab Emirates\",\"marker\":{\"color\":\"#636efa\",\"symbol\":\"circle\"},\"mode\":\"markers\",\"name\":\"United Arab Emirates\",\"orientation\":\"v\",\"showlegend\":true,\"x\":[108.4],\"xaxis\":\"x\",\"y\":[2.35],\"yaxis\":\"y\",\"type\":\"scatter\"},{\"customdata\":[[\"United Kingdom\"]],\"hovertemplate\":\"Countries and areas=%{customdata[0]}<br>Gross_Primary_Education_Enrollment=%{x}<br>Unemployment_Rate=%{y}<extra></extra>\",\"legendgroup\":\"United Kingdom\",\"marker\":{\"color\":\"#EF553B\",\"symbol\":\"circle\"},\"mode\":\"markers\",\"name\":\"United Kingdom\",\"orientation\":\"v\",\"showlegend\":true,\"x\":[101.2],\"xaxis\":\"x\",\"y\":[3.85],\"yaxis\":\"y\",\"type\":\"scatter\"},{\"customdata\":[[\"Tanzania\"]],\"hovertemplate\":\"Countries and areas=%{customdata[0]}<br>Gross_Primary_Education_Enrollment=%{x}<br>Unemployment_Rate=%{y}<extra></extra>\",\"legendgroup\":\"Tanzania\",\"marker\":{\"color\":\"#00cc96\",\"symbol\":\"circle\"},\"mode\":\"markers\",\"name\":\"Tanzania\",\"orientation\":\"v\",\"showlegend\":true,\"x\":[94.2],\"xaxis\":\"x\",\"y\":[1.98],\"yaxis\":\"y\",\"type\":\"scatter\"},{\"customdata\":[[\"United States\"]],\"hovertemplate\":\"Countries and areas=%{customdata[0]}<br>Gross_Primary_Education_Enrollment=%{x}<br>Unemployment_Rate=%{y}<extra></extra>\",\"legendgroup\":\"United States\",\"marker\":{\"color\":\"#ab63fa\",\"symbol\":\"circle\"},\"mode\":\"markers\",\"name\":\"United States\",\"orientation\":\"v\",\"showlegend\":true,\"x\":[101.8],\"xaxis\":\"x\",\"y\":[14.7],\"yaxis\":\"y\",\"type\":\"scatter\"},{\"customdata\":[[\"Uruguay\"]],\"hovertemplate\":\"Countries and areas=%{customdata[0]}<br>Gross_Primary_Education_Enrollment=%{x}<br>Unemployment_Rate=%{y}<extra></extra>\",\"legendgroup\":\"Uruguay\",\"marker\":{\"color\":\"#FFA15A\",\"symbol\":\"circle\"},\"mode\":\"markers\",\"name\":\"Uruguay\",\"orientation\":\"v\",\"showlegend\":true,\"x\":[108.5],\"xaxis\":\"x\",\"y\":[8.73],\"yaxis\":\"y\",\"type\":\"scatter\"},{\"customdata\":[[\"Uzbekistan\"]],\"hovertemplate\":\"Countries and areas=%{customdata[0]}<br>Gross_Primary_Education_Enrollment=%{x}<br>Unemployment_Rate=%{y}<extra></extra>\",\"legendgroup\":\"Uzbekistan\",\"marker\":{\"color\":\"#19d3f3\",\"symbol\":\"circle\"},\"mode\":\"markers\",\"name\":\"Uzbekistan\",\"orientation\":\"v\",\"showlegend\":true,\"x\":[104.2],\"xaxis\":\"x\",\"y\":[5.92],\"yaxis\":\"y\",\"type\":\"scatter\"},{\"customdata\":[[\"Vanuatu\"]],\"hovertemplate\":\"Countries and areas=%{customdata[0]}<br>Gross_Primary_Education_Enrollment=%{x}<br>Unemployment_Rate=%{y}<extra></extra>\",\"legendgroup\":\"Vanuatu\",\"marker\":{\"color\":\"#FF6692\",\"symbol\":\"circle\"},\"mode\":\"markers\",\"name\":\"Vanuatu\",\"orientation\":\"v\",\"showlegend\":true,\"x\":[109.3],\"xaxis\":\"x\",\"y\":[4.39],\"yaxis\":\"y\",\"type\":\"scatter\"},{\"customdata\":[[\"Venezuela\"]],\"hovertemplate\":\"Countries and areas=%{customdata[0]}<br>Gross_Primary_Education_Enrollment=%{x}<br>Unemployment_Rate=%{y}<extra></extra>\",\"legendgroup\":\"Venezuela\",\"marker\":{\"color\":\"#B6E880\",\"symbol\":\"circle\"},\"mode\":\"markers\",\"name\":\"Venezuela\",\"orientation\":\"v\",\"showlegend\":true,\"x\":[97.2],\"xaxis\":\"x\",\"y\":[8.8],\"yaxis\":\"y\",\"type\":\"scatter\"},{\"customdata\":[[\"Vietnam\"]],\"hovertemplate\":\"Countries and areas=%{customdata[0]}<br>Gross_Primary_Education_Enrollment=%{x}<br>Unemployment_Rate=%{y}<extra></extra>\",\"legendgroup\":\"Vietnam\",\"marker\":{\"color\":\"#FF97FF\",\"symbol\":\"circle\"},\"mode\":\"markers\",\"name\":\"Vietnam\",\"orientation\":\"v\",\"showlegend\":true,\"x\":[110.6],\"xaxis\":\"x\",\"y\":[2.01],\"yaxis\":\"y\",\"type\":\"scatter\"},{\"customdata\":[[\"Yemen\"]],\"hovertemplate\":\"Countries and areas=%{customdata[0]}<br>Gross_Primary_Education_Enrollment=%{x}<br>Unemployment_Rate=%{y}<extra></extra>\",\"legendgroup\":\"Yemen\",\"marker\":{\"color\":\"#FECB52\",\"symbol\":\"circle\"},\"mode\":\"markers\",\"name\":\"Yemen\",\"orientation\":\"v\",\"showlegend\":true,\"x\":[93.6],\"xaxis\":\"x\",\"y\":[12.91],\"yaxis\":\"y\",\"type\":\"scatter\"},{\"customdata\":[[\"Zambia\"]],\"hovertemplate\":\"Countries and areas=%{customdata[0]}<br>Gross_Primary_Education_Enrollment=%{x}<br>Unemployment_Rate=%{y}<extra></extra>\",\"legendgroup\":\"Zambia\",\"marker\":{\"color\":\"#636efa\",\"symbol\":\"circle\"},\"mode\":\"markers\",\"name\":\"Zambia\",\"orientation\":\"v\",\"showlegend\":true,\"x\":[98.7],\"xaxis\":\"x\",\"y\":[11.43],\"yaxis\":\"y\",\"type\":\"scatter\"},{\"customdata\":[[\"Zimbabwe\"]],\"hovertemplate\":\"Countries and areas=%{customdata[0]}<br>Gross_Primary_Education_Enrollment=%{x}<br>Unemployment_Rate=%{y}<extra></extra>\",\"legendgroup\":\"Zimbabwe\",\"marker\":{\"color\":\"#EF553B\",\"symbol\":\"circle\"},\"mode\":\"markers\",\"name\":\"Zimbabwe\",\"orientation\":\"v\",\"showlegend\":true,\"x\":[109.9],\"xaxis\":\"x\",\"y\":[4.95],\"yaxis\":\"y\",\"type\":\"scatter\"}],                        {\"template\":{\"data\":{\"histogram2dcontour\":[{\"type\":\"histogram2dcontour\",\"colorbar\":{\"outlinewidth\":0,\"ticks\":\"\"},\"colorscale\":[[0.0,\"#0d0887\"],[0.1111111111111111,\"#46039f\"],[0.2222222222222222,\"#7201a8\"],[0.3333333333333333,\"#9c179e\"],[0.4444444444444444,\"#bd3786\"],[0.5555555555555556,\"#d8576b\"],[0.6666666666666666,\"#ed7953\"],[0.7777777777777778,\"#fb9f3a\"],[0.8888888888888888,\"#fdca26\"],[1.0,\"#f0f921\"]]}],\"choropleth\":[{\"type\":\"choropleth\",\"colorbar\":{\"outlinewidth\":0,\"ticks\":\"\"}}],\"histogram2d\":[{\"type\":\"histogram2d\",\"colorbar\":{\"outlinewidth\":0,\"ticks\":\"\"},\"colorscale\":[[0.0,\"#0d0887\"],[0.1111111111111111,\"#46039f\"],[0.2222222222222222,\"#7201a8\"],[0.3333333333333333,\"#9c179e\"],[0.4444444444444444,\"#bd3786\"],[0.5555555555555556,\"#d8576b\"],[0.6666666666666666,\"#ed7953\"],[0.7777777777777778,\"#fb9f3a\"],[0.8888888888888888,\"#fdca26\"],[1.0,\"#f0f921\"]]}],\"heatmap\":[{\"type\":\"heatmap\",\"colorbar\":{\"outlinewidth\":0,\"ticks\":\"\"},\"colorscale\":[[0.0,\"#0d0887\"],[0.1111111111111111,\"#46039f\"],[0.2222222222222222,\"#7201a8\"],[0.3333333333333333,\"#9c179e\"],[0.4444444444444444,\"#bd3786\"],[0.5555555555555556,\"#d8576b\"],[0.6666666666666666,\"#ed7953\"],[0.7777777777777778,\"#fb9f3a\"],[0.8888888888888888,\"#fdca26\"],[1.0,\"#f0f921\"]]}],\"heatmapgl\":[{\"type\":\"heatmapgl\",\"colorbar\":{\"outlinewidth\":0,\"ticks\":\"\"},\"colorscale\":[[0.0,\"#0d0887\"],[0.1111111111111111,\"#46039f\"],[0.2222222222222222,\"#7201a8\"],[0.3333333333333333,\"#9c179e\"],[0.4444444444444444,\"#bd3786\"],[0.5555555555555556,\"#d8576b\"],[0.6666666666666666,\"#ed7953\"],[0.7777777777777778,\"#fb9f3a\"],[0.8888888888888888,\"#fdca26\"],[1.0,\"#f0f921\"]]}],\"contourcarpet\":[{\"type\":\"contourcarpet\",\"colorbar\":{\"outlinewidth\":0,\"ticks\":\"\"}}],\"contour\":[{\"type\":\"contour\",\"colorbar\":{\"outlinewidth\":0,\"ticks\":\"\"},\"colorscale\":[[0.0,\"#0d0887\"],[0.1111111111111111,\"#46039f\"],[0.2222222222222222,\"#7201a8\"],[0.3333333333333333,\"#9c179e\"],[0.4444444444444444,\"#bd3786\"],[0.5555555555555556,\"#d8576b\"],[0.6666666666666666,\"#ed7953\"],[0.7777777777777778,\"#fb9f3a\"],[0.8888888888888888,\"#fdca26\"],[1.0,\"#f0f921\"]]}],\"surface\":[{\"type\":\"surface\",\"colorbar\":{\"outlinewidth\":0,\"ticks\":\"\"},\"colorscale\":[[0.0,\"#0d0887\"],[0.1111111111111111,\"#46039f\"],[0.2222222222222222,\"#7201a8\"],[0.3333333333333333,\"#9c179e\"],[0.4444444444444444,\"#bd3786\"],[0.5555555555555556,\"#d8576b\"],[0.6666666666666666,\"#ed7953\"],[0.7777777777777778,\"#fb9f3a\"],[0.8888888888888888,\"#fdca26\"],[1.0,\"#f0f921\"]]}],\"mesh3d\":[{\"type\":\"mesh3d\",\"colorbar\":{\"outlinewidth\":0,\"ticks\":\"\"}}],\"scatter\":[{\"fillpattern\":{\"fillmode\":\"overlay\",\"size\":10,\"solidity\":0.2},\"type\":\"scatter\"}],\"parcoords\":[{\"type\":\"parcoords\",\"line\":{\"colorbar\":{\"outlinewidth\":0,\"ticks\":\"\"}}}],\"scatterpolargl\":[{\"type\":\"scatterpolargl\",\"marker\":{\"colorbar\":{\"outlinewidth\":0,\"ticks\":\"\"}}}],\"bar\":[{\"error_x\":{\"color\":\"#2a3f5f\"},\"error_y\":{\"color\":\"#2a3f5f\"},\"marker\":{\"line\":{\"color\":\"#E5ECF6\",\"width\":0.5},\"pattern\":{\"fillmode\":\"overlay\",\"size\":10,\"solidity\":0.2}},\"type\":\"bar\"}],\"scattergeo\":[{\"type\":\"scattergeo\",\"marker\":{\"colorbar\":{\"outlinewidth\":0,\"ticks\":\"\"}}}],\"scatterpolar\":[{\"type\":\"scatterpolar\",\"marker\":{\"colorbar\":{\"outlinewidth\":0,\"ticks\":\"\"}}}],\"histogram\":[{\"marker\":{\"pattern\":{\"fillmode\":\"overlay\",\"size\":10,\"solidity\":0.2}},\"type\":\"histogram\"}],\"scattergl\":[{\"type\":\"scattergl\",\"marker\":{\"colorbar\":{\"outlinewidth\":0,\"ticks\":\"\"}}}],\"scatter3d\":[{\"type\":\"scatter3d\",\"line\":{\"colorbar\":{\"outlinewidth\":0,\"ticks\":\"\"}},\"marker\":{\"colorbar\":{\"outlinewidth\":0,\"ticks\":\"\"}}}],\"scattermapbox\":[{\"type\":\"scattermapbox\",\"marker\":{\"colorbar\":{\"outlinewidth\":0,\"ticks\":\"\"}}}],\"scatterternary\":[{\"type\":\"scatterternary\",\"marker\":{\"colorbar\":{\"outlinewidth\":0,\"ticks\":\"\"}}}],\"scattercarpet\":[{\"type\":\"scattercarpet\",\"marker\":{\"colorbar\":{\"outlinewidth\":0,\"ticks\":\"\"}}}],\"carpet\":[{\"aaxis\":{\"endlinecolor\":\"#2a3f5f\",\"gridcolor\":\"white\",\"linecolor\":\"white\",\"minorgridcolor\":\"white\",\"startlinecolor\":\"#2a3f5f\"},\"baxis\":{\"endlinecolor\":\"#2a3f5f\",\"gridcolor\":\"white\",\"linecolor\":\"white\",\"minorgridcolor\":\"white\",\"startlinecolor\":\"#2a3f5f\"},\"type\":\"carpet\"}],\"table\":[{\"cells\":{\"fill\":{\"color\":\"#EBF0F8\"},\"line\":{\"color\":\"white\"}},\"header\":{\"fill\":{\"color\":\"#C8D4E3\"},\"line\":{\"color\":\"white\"}},\"type\":\"table\"}],\"barpolar\":[{\"marker\":{\"line\":{\"color\":\"#E5ECF6\",\"width\":0.5},\"pattern\":{\"fillmode\":\"overlay\",\"size\":10,\"solidity\":0.2}},\"type\":\"barpolar\"}],\"pie\":[{\"automargin\":true,\"type\":\"pie\"}]},\"layout\":{\"autotypenumbers\":\"strict\",\"colorway\":[\"#636efa\",\"#EF553B\",\"#00cc96\",\"#ab63fa\",\"#FFA15A\",\"#19d3f3\",\"#FF6692\",\"#B6E880\",\"#FF97FF\",\"#FECB52\"],\"font\":{\"color\":\"#2a3f5f\"},\"hovermode\":\"closest\",\"hoverlabel\":{\"align\":\"left\"},\"paper_bgcolor\":\"white\",\"plot_bgcolor\":\"#E5ECF6\",\"polar\":{\"bgcolor\":\"#E5ECF6\",\"angularaxis\":{\"gridcolor\":\"white\",\"linecolor\":\"white\",\"ticks\":\"\"},\"radialaxis\":{\"gridcolor\":\"white\",\"linecolor\":\"white\",\"ticks\":\"\"}},\"ternary\":{\"bgcolor\":\"#E5ECF6\",\"aaxis\":{\"gridcolor\":\"white\",\"linecolor\":\"white\",\"ticks\":\"\"},\"baxis\":{\"gridcolor\":\"white\",\"linecolor\":\"white\",\"ticks\":\"\"},\"caxis\":{\"gridcolor\":\"white\",\"linecolor\":\"white\",\"ticks\":\"\"}},\"coloraxis\":{\"colorbar\":{\"outlinewidth\":0,\"ticks\":\"\"}},\"colorscale\":{\"sequential\":[[0.0,\"#0d0887\"],[0.1111111111111111,\"#46039f\"],[0.2222222222222222,\"#7201a8\"],[0.3333333333333333,\"#9c179e\"],[0.4444444444444444,\"#bd3786\"],[0.5555555555555556,\"#d8576b\"],[0.6666666666666666,\"#ed7953\"],[0.7777777777777778,\"#fb9f3a\"],[0.8888888888888888,\"#fdca26\"],[1.0,\"#f0f921\"]],\"sequentialminus\":[[0.0,\"#0d0887\"],[0.1111111111111111,\"#46039f\"],[0.2222222222222222,\"#7201a8\"],[0.3333333333333333,\"#9c179e\"],[0.4444444444444444,\"#bd3786\"],[0.5555555555555556,\"#d8576b\"],[0.6666666666666666,\"#ed7953\"],[0.7777777777777778,\"#fb9f3a\"],[0.8888888888888888,\"#fdca26\"],[1.0,\"#f0f921\"]],\"diverging\":[[0,\"#8e0152\"],[0.1,\"#c51b7d\"],[0.2,\"#de77ae\"],[0.3,\"#f1b6da\"],[0.4,\"#fde0ef\"],[0.5,\"#f7f7f7\"],[0.6,\"#e6f5d0\"],[0.7,\"#b8e186\"],[0.8,\"#7fbc41\"],[0.9,\"#4d9221\"],[1,\"#276419\"]]},\"xaxis\":{\"gridcolor\":\"white\",\"linecolor\":\"white\",\"ticks\":\"\",\"title\":{\"standoff\":15},\"zerolinecolor\":\"white\",\"automargin\":true,\"zerolinewidth\":2},\"yaxis\":{\"gridcolor\":\"white\",\"linecolor\":\"white\",\"ticks\":\"\",\"title\":{\"standoff\":15},\"zerolinecolor\":\"white\",\"automargin\":true,\"zerolinewidth\":2},\"scene\":{\"xaxis\":{\"backgroundcolor\":\"#E5ECF6\",\"gridcolor\":\"white\",\"linecolor\":\"white\",\"showbackground\":true,\"ticks\":\"\",\"zerolinecolor\":\"white\",\"gridwidth\":2},\"yaxis\":{\"backgroundcolor\":\"#E5ECF6\",\"gridcolor\":\"white\",\"linecolor\":\"white\",\"showbackground\":true,\"ticks\":\"\",\"zerolinecolor\":\"white\",\"gridwidth\":2},\"zaxis\":{\"backgroundcolor\":\"#E5ECF6\",\"gridcolor\":\"white\",\"linecolor\":\"white\",\"showbackground\":true,\"ticks\":\"\",\"zerolinecolor\":\"white\",\"gridwidth\":2}},\"shapedefaults\":{\"line\":{\"color\":\"#2a3f5f\"}},\"annotationdefaults\":{\"arrowcolor\":\"#2a3f5f\",\"arrowhead\":0,\"arrowwidth\":1},\"geo\":{\"bgcolor\":\"white\",\"landcolor\":\"#E5ECF6\",\"subunitcolor\":\"white\",\"showland\":true,\"showlakes\":true,\"lakecolor\":\"white\"},\"title\":{\"x\":0.05},\"mapbox\":{\"style\":\"light\"}}},\"xaxis\":{\"anchor\":\"y\",\"domain\":[0.0,1.0],\"title\":{\"text\":\"Gross_Primary_Education_Enrollment\"}},\"yaxis\":{\"anchor\":\"x\",\"domain\":[0.0,1.0],\"title\":{\"text\":\"Unemployment_Rate\"}},\"legend\":{\"title\":{\"text\":\"Countries and areas\"},\"tracegroupgap\":0},\"title\":{\"text\":\"Relation between Primary Education Enrollment and Unemployment Rate\"}},                        {\"responsive\": true}                    ).then(function(){\n",
       "                            \n",
       "var gd = document.getElementById('c7dfbb96-5770-4b5b-9fac-44b119e06c9c');\n",
       "var x = new MutationObserver(function (mutations, observer) {{\n",
       "        var display = window.getComputedStyle(gd).display;\n",
       "        if (!display || display === 'none') {{\n",
       "            console.log([gd, 'removed!']);\n",
       "            Plotly.purge(gd);\n",
       "            observer.disconnect();\n",
       "        }}\n",
       "}});\n",
       "\n",
       "// Listen for the removal of the full notebook cells\n",
       "var notebookContainer = gd.closest('#notebook-container');\n",
       "if (notebookContainer) {{\n",
       "    x.observe(notebookContainer, {childList: true});\n",
       "}}\n",
       "\n",
       "// Listen for the clearing of the current output cell\n",
       "var outputEl = gd.closest('.output');\n",
       "if (outputEl) {{\n",
       "    x.observe(outputEl, {childList: true});\n",
       "}}\n",
       "\n",
       "                        })                };                });            </script>        </div>"
      ]
     },
     "metadata": {},
     "output_type": "display_data"
    }
   ],
   "source": [
    "# Task 4: Analysis of the relationship between education indicators and economic development：The relationship between primary education gross enrollment rate and unemployment rate\n",
    "fig_education_economy = px.scatter(df, x='Gross_Primary_Education_Enrollment', y='Unemployment_Rate',\n",
    "                                   color='Countries and areas',\n",
    "                                   hover_data=['Countries and areas', 'Gross_Primary_Education_Enrollment', 'Unemployment_Rate'],\n",
    "                                   title='Relation between Primary Education Enrollment and Unemployment Rate')\n",
    "fig_education_economy.show()"
   ]
  },
  {
   "cell_type": "code",
   "execution_count": 47,
   "id": "f771a14e",
   "metadata": {},
   "outputs": [
    {
     "data": {
      "application/vnd.plotly.v1+json": {
       "config": {
        "plotlyServerURL": "https://plot.ly"
       },
       "data": [
        {
         "mode": "markers",
         "name": "Male Literacy Rate",
         "type": "scatter",
         "x": [
          32.49,
          11.78,
          24.28,
          7.2,
          40.73,
          0,
          15.33,
          17.02,
          13.99,
          12.6,
          9.7,
          14,
          13.97,
          13.99,
          18.18,
          10.65,
          9.9,
          10.3,
          20.79,
          36.22,
          17.26,
          21.75,
          8.11,
          24.82,
          13.92,
          0,
          14.9,
          8.9,
          37.93,
          39.01,
          19.49,
          22.46,
          35.39,
          10.1,
          35.35,
          42.17,
          12.43,
          10.9,
          14.88,
          31.88,
          32.86,
          0,
          13.97,
          35.74,
          9,
          10.17,
          10.46,
          10.7,
          13.89,
          41.18,
          10.6,
          21.47,
          12,
          19.51,
          19.72,
          26.38,
          18.25,
          33.24,
          30.3,
          10.9,
          0,
          32.34,
          21.28,
          8.6,
          11.3,
          31.61,
          38.54,
          13.47,
          9.5,
          29.41,
          8.1,
          16.47,
          24.56,
          36.36,
          35.13,
          19.97,
          24.35,
          0,
          21.6,
          9.6,
          12,
          17.86,
          18.07,
          18.78,
          29.08,
          12.5,
          20.8,
          7.3,
          16.1,
          7.4,
          21.98,
          21.77,
          28.75,
          27.89,
          13.94,
          27.1,
          23.55,
          10,
          17.55,
          26.81,
          33.04,
          18.83,
          9.9,
          10,
          10.3,
          32.66,
          34.12,
          16.75,
          14.2,
          41.54,
          9.2,
          29.03,
          33.69,
          10.2,
          17.6,
          22.82,
          5.9,
          24.13,
          11.73,
          0,
          18.94,
          37.52,
          17.55,
          28.64,
          0,
          19.89,
          9.7,
          11.98,
          20.64,
          46.08,
          37.91,
          0,
          0,
          10.4,
          19.19,
          28.25,
          14,
          18.98,
          27.07,
          20.57,
          17.95,
          20.55,
          10.2,
          8.5,
          9.54,
          6.4,
          10.1,
          9.6,
          11.5,
          31.7,
          12.6,
          12,
          14.24,
          24.38,
          6.8,
          31.54,
          17.8,
          34.52,
          9.2,
          17.1,
          33.41,
          8.8,
          10.6,
          9.4,
          32.44,
          41.75,
          20.51,
          35.01,
          7.9,
          15.83,
          0,
          32.18,
          18.54,
          11.4,
          10,
          23.69,
          30.76,
          10.34,
          29.42,
          33.11,
          0,
          24.3,
          12.94,
          17.56,
          16.03,
          23.83,
          0,
          0,
          38.14,
          8.7,
          10.33,
          11,
          36.7,
          11.6,
          13.86,
          23.3,
          29.6,
          17.88,
          16.75,
          30.45,
          36.19,
          30.68
         ],
         "xaxis": "x",
         "y": [
          74,
          99,
          98,
          0,
          0,
          0,
          0,
          99,
          0,
          0,
          0,
          0,
          0,
          100,
          94,
          0,
          100,
          0,
          0,
          70,
          0,
          0,
          0,
          0,
          99,
          0,
          100,
          0,
          62,
          0,
          0,
          0,
          88,
          0,
          48,
          0,
          0,
          100,
          99,
          78,
          85,
          0,
          99,
          64,
          0,
          0,
          0,
          0,
          0,
          0,
          0,
          0,
          0,
          0,
          0,
          0,
          98,
          0,
          94,
          0,
          94,
          0,
          0,
          0,
          0,
          88,
          0,
          0,
          0,
          93,
          99,
          0,
          0,
          70,
          0,
          0,
          0,
          0,
          95,
          0,
          0,
          93,
          100,
          0,
          0,
          0,
          0,
          100,
          0,
          0,
          99,
          100,
          88,
          0,
          99,
          100,
          0,
          100,
          100,
          0,
          0,
          0,
          0,
          0,
          0,
          82,
          0,
          97,
          0,
          58,
          99,
          0,
          0,
          99,
          99,
          0,
          0,
          98,
          99,
          0,
          98,
          0,
          0,
          94,
          0,
          94,
          0,
          0,
          0,
          51,
          82,
          0,
          0,
          0,
          98,
          0,
          0,
          99,
          0,
          98,
          99,
          0,
          0,
          100,
          0,
          0,
          0,
          99,
          100,
          84,
          0,
          0,
          0,
          99,
          100,
          98,
          0,
          0,
          0,
          99,
          71,
          100,
          0,
          0,
          0,
          0,
          0,
          48,
          100,
          99,
          99,
          73,
          99,
          0,
          0,
          0,
          0,
          98,
          82,
          0,
          0,
          99,
          0,
          0,
          0,
          0,
          0,
          0,
          89,
          0,
          0,
          0,
          0,
          0,
          99,
          100,
          96,
          0,
          98,
          0,
          93,
          0
         ],
         "yaxis": "y"
        },
        {
         "mode": "markers",
         "name": "Female Literacy Rate",
         "type": "scatter",
         "x": [
          32.49,
          11.78,
          24.28,
          7.2,
          40.73,
          0,
          15.33,
          17.02,
          13.99,
          12.6,
          9.7,
          14,
          13.97,
          13.99,
          18.18,
          10.65,
          9.9,
          10.3,
          20.79,
          36.22,
          17.26,
          21.75,
          8.11,
          24.82,
          13.92,
          0,
          14.9,
          8.9,
          37.93,
          39.01,
          19.49,
          22.46,
          35.39,
          10.1,
          35.35,
          42.17,
          12.43,
          10.9,
          14.88,
          31.88,
          32.86,
          0,
          13.97,
          35.74,
          9,
          10.17,
          10.46,
          10.7,
          13.89,
          41.18,
          10.6,
          21.47,
          12,
          19.51,
          19.72,
          26.38,
          18.25,
          33.24,
          30.3,
          10.9,
          0,
          32.34,
          21.28,
          8.6,
          11.3,
          31.61,
          38.54,
          13.47,
          9.5,
          29.41,
          8.1,
          16.47,
          24.56,
          36.36,
          35.13,
          19.97,
          24.35,
          0,
          21.6,
          9.6,
          12,
          17.86,
          18.07,
          18.78,
          29.08,
          12.5,
          20.8,
          7.3,
          16.1,
          7.4,
          21.98,
          21.77,
          28.75,
          27.89,
          13.94,
          27.1,
          23.55,
          10,
          17.55,
          26.81,
          33.04,
          18.83,
          9.9,
          10,
          10.3,
          32.66,
          34.12,
          16.75,
          14.2,
          41.54,
          9.2,
          29.03,
          33.69,
          10.2,
          17.6,
          22.82,
          5.9,
          24.13,
          11.73,
          0,
          18.94,
          37.52,
          17.55,
          28.64,
          0,
          19.89,
          9.7,
          11.98,
          20.64,
          46.08,
          37.91,
          0,
          0,
          10.4,
          19.19,
          28.25,
          14,
          18.98,
          27.07,
          20.57,
          17.95,
          20.55,
          10.2,
          8.5,
          9.54,
          6.4,
          10.1,
          9.6,
          11.5,
          31.7,
          12.6,
          12,
          14.24,
          24.38,
          6.8,
          31.54,
          17.8,
          34.52,
          9.2,
          17.1,
          33.41,
          8.8,
          10.6,
          9.4,
          32.44,
          41.75,
          20.51,
          35.01,
          7.9,
          15.83,
          0,
          32.18,
          18.54,
          11.4,
          10,
          23.69,
          30.76,
          10.34,
          29.42,
          33.11,
          0,
          24.3,
          12.94,
          17.56,
          16.03,
          23.83,
          0,
          0,
          38.14,
          8.7,
          10.33,
          11,
          36.7,
          11.6,
          13.86,
          23.3,
          29.6,
          17.88,
          16.75,
          30.45,
          36.19,
          30.68
         ],
         "xaxis": "x",
         "y": [
          56,
          100,
          97,
          0,
          0,
          0,
          0,
          100,
          0,
          0,
          0,
          0,
          0,
          99,
          96,
          0,
          100,
          0,
          0,
          52,
          0,
          0,
          0,
          0,
          99,
          0,
          100,
          0,
          55,
          0,
          0,
          0,
          82,
          0,
          29,
          0,
          0,
          100,
          99,
          78,
          79,
          0,
          100,
          53,
          0,
          0,
          0,
          0,
          0,
          0,
          0,
          0,
          0,
          0,
          0,
          0,
          98,
          0,
          93,
          0,
          97,
          0,
          0,
          0,
          0,
          91,
          0,
          0,
          0,
          92,
          99,
          0,
          0,
          43,
          0,
          0,
          0,
          0,
          98,
          0,
          0,
          90,
          100,
          0,
          0,
          0,
          0,
          100,
          0,
          0,
          99,
          100,
          88,
          0,
          100,
          100,
          0,
          100,
          100,
          0,
          0,
          0,
          0,
          0,
          0,
          81,
          0,
          97,
          0,
          43,
          100,
          0,
          0,
          99,
          99,
          0,
          0,
          99,
          99,
          0,
          97,
          0,
          0,
          96,
          0,
          91,
          0,
          0,
          0,
          36,
          68,
          0,
          0,
          0,
          99,
          0,
          0,
          99,
          0,
          99,
          99,
          0,
          0,
          100,
          0,
          0,
          0,
          99,
          100,
          89,
          0,
          0,
          0,
          99,
          100,
          98,
          0,
          0,
          0,
          100,
          63,
          100,
          0,
          0,
          0,
          0,
          0,
          47,
          100,
          99,
          99,
          73,
          98,
          0,
          0,
          0,
          0,
          99,
          85,
          0,
          0,
          100,
          0,
          0,
          0,
          0,
          0,
          0,
          90,
          0,
          0,
          0,
          0,
          0,
          99,
          100,
          97,
          0,
          98,
          0,
          92,
          0
         ],
         "yaxis": "y"
        },
        {
         "name": "Primary Education Enrollment",
         "type": "bar",
         "x": [
          "Afghanistan",
          "Albania",
          "Algeria",
          "Andorra",
          "Angola",
          "Anguilla",
          "Antigua and Barbuda",
          "Argentina",
          "Armenia",
          "Australia",
          "Austria",
          "Azerbaijan",
          "The Bahamas",
          "Bahrain",
          "Bangladesh",
          "Barbados",
          "Belarus",
          "Belgium",
          "Belize",
          "Benin",
          "Bhutan",
          "Bolivia",
          "Bosnia and Herzegovina",
          "Botswana",
          "Brazil",
          "British Virgin Islands",
          "Brunei",
          "Bulgaria",
          "Burkina Faso",
          "Burundi",
          "Cape Verde",
          "Cambodia",
          "Cameroon",
          "Canada",
          "Central African Republic",
          "Chad",
          "Chile",
          "China",
          "Colombia",
          "Comoros",
          "Republic of the Congo",
          "Cook Islands",
          "Costa Rica",
          "Ivory Coast",
          "Croatia",
          "Cuba",
          "Cyprus",
          "Czech Republic",
          "North Korea",
          "Democratic Republic of the Congo",
          "Denmark",
          "Djibouti",
          "Dominica",
          "Dominican Republic",
          "Ecuador",
          "Egypt",
          "El Salvador",
          "Equatorial Guinea",
          "Eritrea",
          "Estonia",
          "Eswatini",
          "Ethiopia",
          "Fiji",
          "Finland",
          "France",
          "Gabon",
          "The Gambia",
          "Georgia",
          "Germany",
          "Ghana",
          "Greece",
          "Grenada",
          "Guatemala",
          "Guinea",
          "Guinea0Bissau",
          "Guyana",
          "Haiti",
          "Vatican City",
          "Honduras",
          "Hungary",
          "Iceland",
          "India",
          "Indonesia",
          "Iran",
          "Iraq",
          "Republic of Ireland",
          "Israel",
          "Italy",
          "Jamaica",
          "Japan",
          "Jordan",
          "Kazakhstan",
          "Kenya",
          "Kiribati",
          "Kuwait",
          "Kyrgyzstan",
          "Laos",
          "Latvia",
          "Lebanon",
          "Lesotho",
          "Liberia",
          "Libya",
          "Liechtenstein",
          "Lithuania",
          "Luxembourg",
          "Madagascar",
          "Malawi",
          "Malaysia",
          "Maldives",
          "Mali",
          "Malta",
          "Marshall Islands",
          "Mauritania",
          "Mauritius",
          "Mexico",
          "Federated States of Micronesia",
          "Monaco",
          "Mongolia",
          "Montenegro",
          "Montserrat",
          "Morocco",
          "Mozambique",
          "Myanmar",
          "Namibia",
          "Nauru",
          "Nepal",
          "Netherlands",
          "New Zealand",
          "Nicaragua",
          "Niger",
          "Nigeria",
          "Niue",
          "North Macedonia",
          "Norway",
          "Oman",
          "Pakistan",
          "Palau",
          "Panama",
          "Papua New Guinea",
          "Paraguay",
          "Peru",
          "Philippines",
          "Poland",
          "Portugal",
          "Qatar",
          "South Korea",
          "Moldova",
          "Romania",
          "Russia",
          "Rwanda",
          "Saint Kitts and Nevis",
          "Saint Lucia",
          "Saint Vincent and the Grenadines",
          "Samoa",
          "San Marino",
          "Sï¿½ï¿½ï¿½ï¿½ï¿½ï¿½ï¿½ï¿",
          "Saudi Arabia",
          "Senegal",
          "Serbia",
          "Seychelles",
          "Sierra Leone",
          "Singapore",
          "Slovakia",
          "Slovenia",
          "Solomon Islands",
          "Somalia",
          "South Africa",
          "South Sudan",
          "Spain",
          "Sri Lanka",
          "Palestinian National Authority",
          "Sudan",
          "Suriname",
          "Sweden",
          "Switzerland",
          "Syria",
          "Tajikistan",
          "Thailand",
          "East Timor",
          "Togo",
          "Tokelau",
          "Tonga",
          "Trinidad and Tobago",
          "Tunisia",
          "Turkey",
          "Turkmenistan",
          "Turks and Caicos Islands",
          "Tuvalu",
          "Uganda",
          "Ukraine",
          "United Arab Emirates",
          "United Kingdom",
          "Tanzania",
          "United States",
          "Uruguay",
          "Uzbekistan",
          "Vanuatu",
          "Venezuela",
          "Vietnam",
          "Yemen",
          "Zambia",
          "Zimbabwe"
         ],
         "xaxis": "x2",
         "y": [
          104,
          107,
          109.9,
          106.4,
          113.5,
          0,
          105,
          109.7,
          92.7,
          100.3,
          103.1,
          99.7,
          81.4,
          99.4,
          116.5,
          99.4,
          100.5,
          103.9,
          111.7,
          122,
          100.1,
          98.2,
          0,
          103.2,
          115.4,
          0,
          103.2,
          89.3,
          96.1,
          121.4,
          104,
          107.4,
          103.4,
          100.9,
          102,
          86.8,
          101.4,
          100.2,
          114.5,
          99.5,
          106.6,
          0,
          113.3,
          99.8,
          96.5,
          101.9,
          99.3,
          100.7,
          112.8,
          108,
          101.3,
          75.3,
          114.7,
          105.7,
          103.3,
          106.3,
          94.8,
          61.8,
          68.4,
          97.2,
          0,
          101,
          106.4,
          100.2,
          102.5,
          139.9,
          98,
          98.6,
          104,
          104.8,
          99.6,
          106.9,
          101.9,
          91.5,
          118.7,
          97.8,
          113.6,
          0,
          91.5,
          100.8,
          100.4,
          113,
          106.4,
          110.7,
          108.7,
          100.9,
          104.9,
          101.9,
          91,
          98.8,
          81.5,
          104.4,
          103.2,
          101.3,
          92.4,
          107.6,
          102.4,
          99.4,
          95.1,
          120.9,
          85.1,
          109,
          104.7,
          103.9,
          102.3,
          142.5,
          142.5,
          105.3,
          97.1,
          75.6,
          105,
          84.7,
          99.9,
          101.1,
          105.8,
          97.2,
          0,
          104,
          100,
          0,
          113.9,
          112.6,
          112.3,
          124.2,
          0,
          142.1,
          104.2,
          100,
          120.6,
          74.7,
          84.7,
          0,
          0,
          100.3,
          103.4,
          94.3,
          112.6,
          94.4,
          108.5,
          104.4,
          106.9,
          107.5,
          100,
          106.2,
          103.8,
          98.1,
          90.6,
          85.2,
          102.6,
          133,
          108.7,
          102.6,
          113.4,
          110.5,
          108.1,
          106.8,
          99.8,
          81,
          100.3,
          100.4,
          112.8,
          100.6,
          98.7,
          100.4,
          106.2,
          23.4,
          100.9,
          73,
          102.7,
          100.2,
          0,
          76.8,
          108.8,
          126.6,
          105.2,
          81.7,
          100.9,
          99.8,
          115.3,
          123.8,
          0,
          116.3,
          106.2,
          115.4,
          93.2,
          88.4,
          0,
          0,
          102.7,
          99,
          108.4,
          101.2,
          94.2,
          101.8,
          108.5,
          104.2,
          109.3,
          97.2,
          110.6,
          93.6,
          98.7,
          109.9
         ],
         "yaxis": "y2"
        }
       ],
       "layout": {
        "annotations": [
         {
          "font": {
           "size": 16
          },
          "showarrow": false,
          "text": "Literacy Rate vs Birth Rate",
          "x": 0.225,
          "xanchor": "center",
          "xref": "paper",
          "y": 1,
          "yanchor": "bottom",
          "yref": "paper"
         },
         {
          "font": {
           "size": 16
          },
          "showarrow": false,
          "text": "Primary Education Enrollment by Gender",
          "x": 0.775,
          "xanchor": "center",
          "xref": "paper",
          "y": 1,
          "yanchor": "bottom",
          "yref": "paper"
         }
        ],
        "template": {
         "data": {
          "bar": [
           {
            "error_x": {
             "color": "#2a3f5f"
            },
            "error_y": {
             "color": "#2a3f5f"
            },
            "marker": {
             "line": {
              "color": "#E5ECF6",
              "width": 0.5
             },
             "pattern": {
              "fillmode": "overlay",
              "size": 10,
              "solidity": 0.2
             }
            },
            "type": "bar"
           }
          ],
          "barpolar": [
           {
            "marker": {
             "line": {
              "color": "#E5ECF6",
              "width": 0.5
             },
             "pattern": {
              "fillmode": "overlay",
              "size": 10,
              "solidity": 0.2
             }
            },
            "type": "barpolar"
           }
          ],
          "carpet": [
           {
            "aaxis": {
             "endlinecolor": "#2a3f5f",
             "gridcolor": "white",
             "linecolor": "white",
             "minorgridcolor": "white",
             "startlinecolor": "#2a3f5f"
            },
            "baxis": {
             "endlinecolor": "#2a3f5f",
             "gridcolor": "white",
             "linecolor": "white",
             "minorgridcolor": "white",
             "startlinecolor": "#2a3f5f"
            },
            "type": "carpet"
           }
          ],
          "choropleth": [
           {
            "colorbar": {
             "outlinewidth": 0,
             "ticks": ""
            },
            "type": "choropleth"
           }
          ],
          "contour": [
           {
            "colorbar": {
             "outlinewidth": 0,
             "ticks": ""
            },
            "colorscale": [
             [
              0,
              "#0d0887"
             ],
             [
              0.1111111111111111,
              "#46039f"
             ],
             [
              0.2222222222222222,
              "#7201a8"
             ],
             [
              0.3333333333333333,
              "#9c179e"
             ],
             [
              0.4444444444444444,
              "#bd3786"
             ],
             [
              0.5555555555555556,
              "#d8576b"
             ],
             [
              0.6666666666666666,
              "#ed7953"
             ],
             [
              0.7777777777777778,
              "#fb9f3a"
             ],
             [
              0.8888888888888888,
              "#fdca26"
             ],
             [
              1,
              "#f0f921"
             ]
            ],
            "type": "contour"
           }
          ],
          "contourcarpet": [
           {
            "colorbar": {
             "outlinewidth": 0,
             "ticks": ""
            },
            "type": "contourcarpet"
           }
          ],
          "heatmap": [
           {
            "colorbar": {
             "outlinewidth": 0,
             "ticks": ""
            },
            "colorscale": [
             [
              0,
              "#0d0887"
             ],
             [
              0.1111111111111111,
              "#46039f"
             ],
             [
              0.2222222222222222,
              "#7201a8"
             ],
             [
              0.3333333333333333,
              "#9c179e"
             ],
             [
              0.4444444444444444,
              "#bd3786"
             ],
             [
              0.5555555555555556,
              "#d8576b"
             ],
             [
              0.6666666666666666,
              "#ed7953"
             ],
             [
              0.7777777777777778,
              "#fb9f3a"
             ],
             [
              0.8888888888888888,
              "#fdca26"
             ],
             [
              1,
              "#f0f921"
             ]
            ],
            "type": "heatmap"
           }
          ],
          "heatmapgl": [
           {
            "colorbar": {
             "outlinewidth": 0,
             "ticks": ""
            },
            "colorscale": [
             [
              0,
              "#0d0887"
             ],
             [
              0.1111111111111111,
              "#46039f"
             ],
             [
              0.2222222222222222,
              "#7201a8"
             ],
             [
              0.3333333333333333,
              "#9c179e"
             ],
             [
              0.4444444444444444,
              "#bd3786"
             ],
             [
              0.5555555555555556,
              "#d8576b"
             ],
             [
              0.6666666666666666,
              "#ed7953"
             ],
             [
              0.7777777777777778,
              "#fb9f3a"
             ],
             [
              0.8888888888888888,
              "#fdca26"
             ],
             [
              1,
              "#f0f921"
             ]
            ],
            "type": "heatmapgl"
           }
          ],
          "histogram": [
           {
            "marker": {
             "pattern": {
              "fillmode": "overlay",
              "size": 10,
              "solidity": 0.2
             }
            },
            "type": "histogram"
           }
          ],
          "histogram2d": [
           {
            "colorbar": {
             "outlinewidth": 0,
             "ticks": ""
            },
            "colorscale": [
             [
              0,
              "#0d0887"
             ],
             [
              0.1111111111111111,
              "#46039f"
             ],
             [
              0.2222222222222222,
              "#7201a8"
             ],
             [
              0.3333333333333333,
              "#9c179e"
             ],
             [
              0.4444444444444444,
              "#bd3786"
             ],
             [
              0.5555555555555556,
              "#d8576b"
             ],
             [
              0.6666666666666666,
              "#ed7953"
             ],
             [
              0.7777777777777778,
              "#fb9f3a"
             ],
             [
              0.8888888888888888,
              "#fdca26"
             ],
             [
              1,
              "#f0f921"
             ]
            ],
            "type": "histogram2d"
           }
          ],
          "histogram2dcontour": [
           {
            "colorbar": {
             "outlinewidth": 0,
             "ticks": ""
            },
            "colorscale": [
             [
              0,
              "#0d0887"
             ],
             [
              0.1111111111111111,
              "#46039f"
             ],
             [
              0.2222222222222222,
              "#7201a8"
             ],
             [
              0.3333333333333333,
              "#9c179e"
             ],
             [
              0.4444444444444444,
              "#bd3786"
             ],
             [
              0.5555555555555556,
              "#d8576b"
             ],
             [
              0.6666666666666666,
              "#ed7953"
             ],
             [
              0.7777777777777778,
              "#fb9f3a"
             ],
             [
              0.8888888888888888,
              "#fdca26"
             ],
             [
              1,
              "#f0f921"
             ]
            ],
            "type": "histogram2dcontour"
           }
          ],
          "mesh3d": [
           {
            "colorbar": {
             "outlinewidth": 0,
             "ticks": ""
            },
            "type": "mesh3d"
           }
          ],
          "parcoords": [
           {
            "line": {
             "colorbar": {
              "outlinewidth": 0,
              "ticks": ""
             }
            },
            "type": "parcoords"
           }
          ],
          "pie": [
           {
            "automargin": true,
            "type": "pie"
           }
          ],
          "scatter": [
           {
            "fillpattern": {
             "fillmode": "overlay",
             "size": 10,
             "solidity": 0.2
            },
            "type": "scatter"
           }
          ],
          "scatter3d": [
           {
            "line": {
             "colorbar": {
              "outlinewidth": 0,
              "ticks": ""
             }
            },
            "marker": {
             "colorbar": {
              "outlinewidth": 0,
              "ticks": ""
             }
            },
            "type": "scatter3d"
           }
          ],
          "scattercarpet": [
           {
            "marker": {
             "colorbar": {
              "outlinewidth": 0,
              "ticks": ""
             }
            },
            "type": "scattercarpet"
           }
          ],
          "scattergeo": [
           {
            "marker": {
             "colorbar": {
              "outlinewidth": 0,
              "ticks": ""
             }
            },
            "type": "scattergeo"
           }
          ],
          "scattergl": [
           {
            "marker": {
             "colorbar": {
              "outlinewidth": 0,
              "ticks": ""
             }
            },
            "type": "scattergl"
           }
          ],
          "scattermapbox": [
           {
            "marker": {
             "colorbar": {
              "outlinewidth": 0,
              "ticks": ""
             }
            },
            "type": "scattermapbox"
           }
          ],
          "scatterpolar": [
           {
            "marker": {
             "colorbar": {
              "outlinewidth": 0,
              "ticks": ""
             }
            },
            "type": "scatterpolar"
           }
          ],
          "scatterpolargl": [
           {
            "marker": {
             "colorbar": {
              "outlinewidth": 0,
              "ticks": ""
             }
            },
            "type": "scatterpolargl"
           }
          ],
          "scatterternary": [
           {
            "marker": {
             "colorbar": {
              "outlinewidth": 0,
              "ticks": ""
             }
            },
            "type": "scatterternary"
           }
          ],
          "surface": [
           {
            "colorbar": {
             "outlinewidth": 0,
             "ticks": ""
            },
            "colorscale": [
             [
              0,
              "#0d0887"
             ],
             [
              0.1111111111111111,
              "#46039f"
             ],
             [
              0.2222222222222222,
              "#7201a8"
             ],
             [
              0.3333333333333333,
              "#9c179e"
             ],
             [
              0.4444444444444444,
              "#bd3786"
             ],
             [
              0.5555555555555556,
              "#d8576b"
             ],
             [
              0.6666666666666666,
              "#ed7953"
             ],
             [
              0.7777777777777778,
              "#fb9f3a"
             ],
             [
              0.8888888888888888,
              "#fdca26"
             ],
             [
              1,
              "#f0f921"
             ]
            ],
            "type": "surface"
           }
          ],
          "table": [
           {
            "cells": {
             "fill": {
              "color": "#EBF0F8"
             },
             "line": {
              "color": "white"
             }
            },
            "header": {
             "fill": {
              "color": "#C8D4E3"
             },
             "line": {
              "color": "white"
             }
            },
            "type": "table"
           }
          ]
         },
         "layout": {
          "annotationdefaults": {
           "arrowcolor": "#2a3f5f",
           "arrowhead": 0,
           "arrowwidth": 1
          },
          "autotypenumbers": "strict",
          "coloraxis": {
           "colorbar": {
            "outlinewidth": 0,
            "ticks": ""
           }
          },
          "colorscale": {
           "diverging": [
            [
             0,
             "#8e0152"
            ],
            [
             0.1,
             "#c51b7d"
            ],
            [
             0.2,
             "#de77ae"
            ],
            [
             0.3,
             "#f1b6da"
            ],
            [
             0.4,
             "#fde0ef"
            ],
            [
             0.5,
             "#f7f7f7"
            ],
            [
             0.6,
             "#e6f5d0"
            ],
            [
             0.7,
             "#b8e186"
            ],
            [
             0.8,
             "#7fbc41"
            ],
            [
             0.9,
             "#4d9221"
            ],
            [
             1,
             "#276419"
            ]
           ],
           "sequential": [
            [
             0,
             "#0d0887"
            ],
            [
             0.1111111111111111,
             "#46039f"
            ],
            [
             0.2222222222222222,
             "#7201a8"
            ],
            [
             0.3333333333333333,
             "#9c179e"
            ],
            [
             0.4444444444444444,
             "#bd3786"
            ],
            [
             0.5555555555555556,
             "#d8576b"
            ],
            [
             0.6666666666666666,
             "#ed7953"
            ],
            [
             0.7777777777777778,
             "#fb9f3a"
            ],
            [
             0.8888888888888888,
             "#fdca26"
            ],
            [
             1,
             "#f0f921"
            ]
           ],
           "sequentialminus": [
            [
             0,
             "#0d0887"
            ],
            [
             0.1111111111111111,
             "#46039f"
            ],
            [
             0.2222222222222222,
             "#7201a8"
            ],
            [
             0.3333333333333333,
             "#9c179e"
            ],
            [
             0.4444444444444444,
             "#bd3786"
            ],
            [
             0.5555555555555556,
             "#d8576b"
            ],
            [
             0.6666666666666666,
             "#ed7953"
            ],
            [
             0.7777777777777778,
             "#fb9f3a"
            ],
            [
             0.8888888888888888,
             "#fdca26"
            ],
            [
             1,
             "#f0f921"
            ]
           ]
          },
          "colorway": [
           "#636efa",
           "#EF553B",
           "#00cc96",
           "#ab63fa",
           "#FFA15A",
           "#19d3f3",
           "#FF6692",
           "#B6E880",
           "#FF97FF",
           "#FECB52"
          ],
          "font": {
           "color": "#2a3f5f"
          },
          "geo": {
           "bgcolor": "white",
           "lakecolor": "white",
           "landcolor": "#E5ECF6",
           "showlakes": true,
           "showland": true,
           "subunitcolor": "white"
          },
          "hoverlabel": {
           "align": "left"
          },
          "hovermode": "closest",
          "mapbox": {
           "style": "light"
          },
          "paper_bgcolor": "white",
          "plot_bgcolor": "#E5ECF6",
          "polar": {
           "angularaxis": {
            "gridcolor": "white",
            "linecolor": "white",
            "ticks": ""
           },
           "bgcolor": "#E5ECF6",
           "radialaxis": {
            "gridcolor": "white",
            "linecolor": "white",
            "ticks": ""
           }
          },
          "scene": {
           "xaxis": {
            "backgroundcolor": "#E5ECF6",
            "gridcolor": "white",
            "gridwidth": 2,
            "linecolor": "white",
            "showbackground": true,
            "ticks": "",
            "zerolinecolor": "white"
           },
           "yaxis": {
            "backgroundcolor": "#E5ECF6",
            "gridcolor": "white",
            "gridwidth": 2,
            "linecolor": "white",
            "showbackground": true,
            "ticks": "",
            "zerolinecolor": "white"
           },
           "zaxis": {
            "backgroundcolor": "#E5ECF6",
            "gridcolor": "white",
            "gridwidth": 2,
            "linecolor": "white",
            "showbackground": true,
            "ticks": "",
            "zerolinecolor": "white"
           }
          },
          "shapedefaults": {
           "line": {
            "color": "#2a3f5f"
           }
          },
          "ternary": {
           "aaxis": {
            "gridcolor": "white",
            "linecolor": "white",
            "ticks": ""
           },
           "baxis": {
            "gridcolor": "white",
            "linecolor": "white",
            "ticks": ""
           },
           "bgcolor": "#E5ECF6",
           "caxis": {
            "gridcolor": "white",
            "linecolor": "white",
            "ticks": ""
           }
          },
          "title": {
           "x": 0.05
          },
          "xaxis": {
           "automargin": true,
           "gridcolor": "white",
           "linecolor": "white",
           "ticks": "",
           "title": {
            "standoff": 15
           },
           "zerolinecolor": "white",
           "zerolinewidth": 2
          },
          "yaxis": {
           "automargin": true,
           "gridcolor": "white",
           "linecolor": "white",
           "ticks": "",
           "title": {
            "standoff": 15
           },
           "zerolinecolor": "white",
           "zerolinewidth": 2
          }
         }
        },
        "title": {
         "text": "Education and Population Indicators Dashboard"
        },
        "xaxis": {
         "anchor": "y",
         "domain": [
          0,
          0.45
         ]
        },
        "xaxis2": {
         "anchor": "y2",
         "domain": [
          0.55,
          1
         ]
        },
        "yaxis": {
         "anchor": "x",
         "domain": [
          0,
          1
         ]
        },
        "yaxis2": {
         "anchor": "x2",
         "domain": [
          0,
          1
         ]
        }
       }
      },
      "text/html": [
       "<div>                            <div id=\"c9215f4e-8517-4312-856b-762710f0950f\" class=\"plotly-graph-div\" style=\"height:525px; width:100%;\"></div>            <script type=\"text/javascript\">                require([\"plotly\"], function(Plotly) {                    window.PLOTLYENV=window.PLOTLYENV || {};                                    if (document.getElementById(\"c9215f4e-8517-4312-856b-762710f0950f\")) {                    Plotly.newPlot(                        \"c9215f4e-8517-4312-856b-762710f0950f\",                        [{\"mode\":\"markers\",\"name\":\"Male Literacy Rate\",\"x\":[32.49,11.78,24.28,7.2,40.73,0.0,15.33,17.02,13.99,12.6,9.7,14.0,13.97,13.99,18.18,10.65,9.9,10.3,20.79,36.22,17.26,21.75,8.11,24.82,13.92,0.0,14.9,8.9,37.93,39.01,19.49,22.46,35.39,10.1,35.35,42.17,12.43,10.9,14.88,31.88,32.86,0.0,13.97,35.74,9.0,10.17,10.46,10.7,13.89,41.18,10.6,21.47,12.0,19.51,19.72,26.38,18.25,33.24,30.3,10.9,0.0,32.34,21.28,8.6,11.3,31.61,38.54,13.47,9.5,29.41,8.1,16.47,24.56,36.36,35.13,19.97,24.35,0.0,21.6,9.6,12.0,17.86,18.07,18.78,29.08,12.5,20.8,7.3,16.1,7.4,21.98,21.77,28.75,27.89,13.94,27.1,23.55,10.0,17.55,26.81,33.04,18.83,9.9,10.0,10.3,32.66,34.12,16.75,14.2,41.54,9.2,29.03,33.69,10.2,17.6,22.82,5.9,24.13,11.73,0.0,18.94,37.52,17.55,28.64,0.0,19.89,9.7,11.98,20.64,46.08,37.91,0.0,0.0,10.4,19.19,28.25,14.0,18.98,27.07,20.57,17.95,20.55,10.2,8.5,9.54,6.4,10.1,9.6,11.5,31.7,12.6,12.0,14.24,24.38,6.8,31.54,17.8,34.52,9.2,17.1,33.41,8.8,10.6,9.4,32.44,41.75,20.51,35.01,7.9,15.83,0.0,32.18,18.54,11.4,10.0,23.69,30.76,10.34,29.42,33.11,0.0,24.3,12.94,17.56,16.03,23.83,0.0,0.0,38.14,8.7,10.33,11.0,36.7,11.6,13.86,23.3,29.6,17.88,16.75,30.45,36.19,30.68],\"y\":[74,99,98,0,0,0,0,99,0,0,0,0,0,100,94,0,100,0,0,70,0,0,0,0,99,0,100,0,62,0,0,0,88,0,48,0,0,100,99,78,85,0,99,64,0,0,0,0,0,0,0,0,0,0,0,0,98,0,94,0,94,0,0,0,0,88,0,0,0,93,99,0,0,70,0,0,0,0,95,0,0,93,100,0,0,0,0,100,0,0,99,100,88,0,99,100,0,100,100,0,0,0,0,0,0,82,0,97,0,58,99,0,0,99,99,0,0,98,99,0,98,0,0,94,0,94,0,0,0,51,82,0,0,0,98,0,0,99,0,98,99,0,0,100,0,0,0,99,100,84,0,0,0,99,100,98,0,0,0,99,71,100,0,0,0,0,0,48,100,99,99,73,99,0,0,0,0,98,82,0,0,99,0,0,0,0,0,0,89,0,0,0,0,0,99,100,96,0,98,0,93,0],\"type\":\"scatter\",\"xaxis\":\"x\",\"yaxis\":\"y\"},{\"mode\":\"markers\",\"name\":\"Female Literacy Rate\",\"x\":[32.49,11.78,24.28,7.2,40.73,0.0,15.33,17.02,13.99,12.6,9.7,14.0,13.97,13.99,18.18,10.65,9.9,10.3,20.79,36.22,17.26,21.75,8.11,24.82,13.92,0.0,14.9,8.9,37.93,39.01,19.49,22.46,35.39,10.1,35.35,42.17,12.43,10.9,14.88,31.88,32.86,0.0,13.97,35.74,9.0,10.17,10.46,10.7,13.89,41.18,10.6,21.47,12.0,19.51,19.72,26.38,18.25,33.24,30.3,10.9,0.0,32.34,21.28,8.6,11.3,31.61,38.54,13.47,9.5,29.41,8.1,16.47,24.56,36.36,35.13,19.97,24.35,0.0,21.6,9.6,12.0,17.86,18.07,18.78,29.08,12.5,20.8,7.3,16.1,7.4,21.98,21.77,28.75,27.89,13.94,27.1,23.55,10.0,17.55,26.81,33.04,18.83,9.9,10.0,10.3,32.66,34.12,16.75,14.2,41.54,9.2,29.03,33.69,10.2,17.6,22.82,5.9,24.13,11.73,0.0,18.94,37.52,17.55,28.64,0.0,19.89,9.7,11.98,20.64,46.08,37.91,0.0,0.0,10.4,19.19,28.25,14.0,18.98,27.07,20.57,17.95,20.55,10.2,8.5,9.54,6.4,10.1,9.6,11.5,31.7,12.6,12.0,14.24,24.38,6.8,31.54,17.8,34.52,9.2,17.1,33.41,8.8,10.6,9.4,32.44,41.75,20.51,35.01,7.9,15.83,0.0,32.18,18.54,11.4,10.0,23.69,30.76,10.34,29.42,33.11,0.0,24.3,12.94,17.56,16.03,23.83,0.0,0.0,38.14,8.7,10.33,11.0,36.7,11.6,13.86,23.3,29.6,17.88,16.75,30.45,36.19,30.68],\"y\":[56,100,97,0,0,0,0,100,0,0,0,0,0,99,96,0,100,0,0,52,0,0,0,0,99,0,100,0,55,0,0,0,82,0,29,0,0,100,99,78,79,0,100,53,0,0,0,0,0,0,0,0,0,0,0,0,98,0,93,0,97,0,0,0,0,91,0,0,0,92,99,0,0,43,0,0,0,0,98,0,0,90,100,0,0,0,0,100,0,0,99,100,88,0,100,100,0,100,100,0,0,0,0,0,0,81,0,97,0,43,100,0,0,99,99,0,0,99,99,0,97,0,0,96,0,91,0,0,0,36,68,0,0,0,99,0,0,99,0,99,99,0,0,100,0,0,0,99,100,89,0,0,0,99,100,98,0,0,0,100,63,100,0,0,0,0,0,47,100,99,99,73,98,0,0,0,0,99,85,0,0,100,0,0,0,0,0,0,90,0,0,0,0,0,99,100,97,0,98,0,92,0],\"type\":\"scatter\",\"xaxis\":\"x\",\"yaxis\":\"y\"},{\"name\":\"Primary Education Enrollment\",\"x\":[\"Afghanistan\",\"Albania\",\"Algeria\",\"Andorra\",\"Angola\",\"Anguilla\",\"Antigua and Barbuda\",\"Argentina\",\"Armenia\",\"Australia\",\"Austria\",\"Azerbaijan\",\"The Bahamas\",\"Bahrain\",\"Bangladesh\",\"Barbados\",\"Belarus\",\"Belgium\",\"Belize\",\"Benin\",\"Bhutan\",\"Bolivia\",\"Bosnia and Herzegovina\",\"Botswana\",\"Brazil\",\"British Virgin Islands\",\"Brunei\",\"Bulgaria\",\"Burkina Faso\",\"Burundi\",\"Cape Verde\",\"Cambodia\",\"Cameroon\",\"Canada\",\"Central African Republic\",\"Chad\",\"Chile\",\"China\",\"Colombia\",\"Comoros\",\"Republic of the Congo\",\"Cook Islands\",\"Costa Rica\",\"Ivory Coast\",\"Croatia\",\"Cuba\",\"Cyprus\",\"Czech Republic\",\"North Korea\",\"Democratic Republic of the Congo\",\"Denmark\",\"Djibouti\",\"Dominica\",\"Dominican Republic\",\"Ecuador\",\"Egypt\",\"El Salvador\",\"Equatorial Guinea\",\"Eritrea\",\"Estonia\",\"Eswatini\",\"Ethiopia\",\"Fiji\",\"Finland\",\"France\",\"Gabon\",\"The Gambia\",\"Georgia\",\"Germany\",\"Ghana\",\"Greece\",\"Grenada\",\"Guatemala\",\"Guinea\",\"Guinea0Bissau\",\"Guyana\",\"Haiti\",\"Vatican City\",\"Honduras\",\"Hungary\",\"Iceland\",\"India\",\"Indonesia\",\"Iran\",\"Iraq\",\"Republic of Ireland\",\"Israel\",\"Italy\",\"Jamaica\",\"Japan\",\"Jordan\",\"Kazakhstan\",\"Kenya\",\"Kiribati\",\"Kuwait\",\"Kyrgyzstan\",\"Laos\",\"Latvia\",\"Lebanon\",\"Lesotho\",\"Liberia\",\"Libya\",\"Liechtenstein\",\"Lithuania\",\"Luxembourg\",\"Madagascar\",\"Malawi\",\"Malaysia\",\"Maldives\",\"Mali\",\"Malta\",\"Marshall Islands\",\"Mauritania\",\"Mauritius\",\"Mexico\",\"Federated States of Micronesia\",\"Monaco\",\"Mongolia\",\"Montenegro\",\"Montserrat\",\"Morocco\",\"Mozambique\",\"Myanmar\",\"Namibia\",\"Nauru\",\"Nepal\",\"Netherlands\",\"New Zealand\",\"Nicaragua\",\"Niger\",\"Nigeria\",\"Niue\",\"North Macedonia\",\"Norway\",\"Oman\",\"Pakistan\",\"Palau\",\"Panama\",\"Papua New Guinea\",\"Paraguay\",\"Peru\",\"Philippines\",\"Poland\",\"Portugal\",\"Qatar\",\"South Korea\",\"Moldova\",\"Romania\",\"Russia\",\"Rwanda\",\"Saint Kitts and Nevis\",\"Saint Lucia\",\"Saint Vincent and the Grenadines\",\"Samoa\",\"San Marino\",\"S\\u00ef\\u00bf\\u00bd\\u00ef\\u00bf\\u00bd\\u00ef\\u00bf\\u00bd\\u00ef\\u00bf\\u00bd\\u00ef\\u00bf\\u00bd\\u00ef\\u00bf\\u00bd\\u00ef\\u00bf\\u00bd\\u00ef\\u00bf\",\"Saudi Arabia\",\"Senegal\",\"Serbia\",\"Seychelles\",\"Sierra Leone\",\"Singapore\",\"Slovakia\",\"Slovenia\",\"Solomon Islands\",\"Somalia\",\"South Africa\",\"South Sudan\",\"Spain\",\"Sri Lanka\",\"Palestinian National Authority\",\"Sudan\",\"Suriname\",\"Sweden\",\"Switzerland\",\"Syria\",\"Tajikistan\",\"Thailand\",\"East Timor\",\"Togo\",\"Tokelau\",\"Tonga\",\"Trinidad and Tobago\",\"Tunisia\",\"Turkey\",\"Turkmenistan\",\"Turks and Caicos Islands\",\"Tuvalu\",\"Uganda\",\"Ukraine\",\"United Arab Emirates\",\"United Kingdom\",\"Tanzania\",\"United States\",\"Uruguay\",\"Uzbekistan\",\"Vanuatu\",\"Venezuela\",\"Vietnam\",\"Yemen\",\"Zambia\",\"Zimbabwe\"],\"y\":[104.0,107.0,109.9,106.4,113.5,0.0,105.0,109.7,92.7,100.3,103.1,99.7,81.4,99.4,116.5,99.4,100.5,103.9,111.7,122.0,100.1,98.2,0.0,103.2,115.4,0.0,103.2,89.3,96.1,121.4,104.0,107.4,103.4,100.9,102.0,86.8,101.4,100.2,114.5,99.5,106.6,0.0,113.3,99.8,96.5,101.9,99.3,100.7,112.8,108.0,101.3,75.3,114.7,105.7,103.3,106.3,94.8,61.8,68.4,97.2,0.0,101.0,106.4,100.2,102.5,139.9,98.0,98.6,104.0,104.8,99.6,106.9,101.9,91.5,118.7,97.8,113.6,0.0,91.5,100.8,100.4,113.0,106.4,110.7,108.7,100.9,104.9,101.9,91.0,98.8,81.5,104.4,103.2,101.3,92.4,107.6,102.4,99.4,95.1,120.9,85.1,109.0,104.7,103.9,102.3,142.5,142.5,105.3,97.1,75.6,105.0,84.7,99.9,101.1,105.8,97.2,0.0,104.0,100.0,0.0,113.9,112.6,112.3,124.2,0.0,142.1,104.2,100.0,120.6,74.7,84.7,0.0,0.0,100.3,103.4,94.3,112.6,94.4,108.5,104.4,106.9,107.5,100.0,106.2,103.8,98.1,90.6,85.2,102.6,133.0,108.7,102.6,113.4,110.5,108.1,106.8,99.8,81.0,100.3,100.4,112.8,100.6,98.7,100.4,106.2,23.4,100.9,73.0,102.7,100.2,0.0,76.8,108.8,126.6,105.2,81.7,100.9,99.8,115.3,123.8,0.0,116.3,106.2,115.4,93.2,88.4,0.0,0.0,102.7,99.0,108.4,101.2,94.2,101.8,108.5,104.2,109.3,97.2,110.6,93.6,98.7,109.9],\"type\":\"bar\",\"xaxis\":\"x2\",\"yaxis\":\"y2\"}],                        {\"template\":{\"data\":{\"histogram2dcontour\":[{\"type\":\"histogram2dcontour\",\"colorbar\":{\"outlinewidth\":0,\"ticks\":\"\"},\"colorscale\":[[0.0,\"#0d0887\"],[0.1111111111111111,\"#46039f\"],[0.2222222222222222,\"#7201a8\"],[0.3333333333333333,\"#9c179e\"],[0.4444444444444444,\"#bd3786\"],[0.5555555555555556,\"#d8576b\"],[0.6666666666666666,\"#ed7953\"],[0.7777777777777778,\"#fb9f3a\"],[0.8888888888888888,\"#fdca26\"],[1.0,\"#f0f921\"]]}],\"choropleth\":[{\"type\":\"choropleth\",\"colorbar\":{\"outlinewidth\":0,\"ticks\":\"\"}}],\"histogram2d\":[{\"type\":\"histogram2d\",\"colorbar\":{\"outlinewidth\":0,\"ticks\":\"\"},\"colorscale\":[[0.0,\"#0d0887\"],[0.1111111111111111,\"#46039f\"],[0.2222222222222222,\"#7201a8\"],[0.3333333333333333,\"#9c179e\"],[0.4444444444444444,\"#bd3786\"],[0.5555555555555556,\"#d8576b\"],[0.6666666666666666,\"#ed7953\"],[0.7777777777777778,\"#fb9f3a\"],[0.8888888888888888,\"#fdca26\"],[1.0,\"#f0f921\"]]}],\"heatmap\":[{\"type\":\"heatmap\",\"colorbar\":{\"outlinewidth\":0,\"ticks\":\"\"},\"colorscale\":[[0.0,\"#0d0887\"],[0.1111111111111111,\"#46039f\"],[0.2222222222222222,\"#7201a8\"],[0.3333333333333333,\"#9c179e\"],[0.4444444444444444,\"#bd3786\"],[0.5555555555555556,\"#d8576b\"],[0.6666666666666666,\"#ed7953\"],[0.7777777777777778,\"#fb9f3a\"],[0.8888888888888888,\"#fdca26\"],[1.0,\"#f0f921\"]]}],\"heatmapgl\":[{\"type\":\"heatmapgl\",\"colorbar\":{\"outlinewidth\":0,\"ticks\":\"\"},\"colorscale\":[[0.0,\"#0d0887\"],[0.1111111111111111,\"#46039f\"],[0.2222222222222222,\"#7201a8\"],[0.3333333333333333,\"#9c179e\"],[0.4444444444444444,\"#bd3786\"],[0.5555555555555556,\"#d8576b\"],[0.6666666666666666,\"#ed7953\"],[0.7777777777777778,\"#fb9f3a\"],[0.8888888888888888,\"#fdca26\"],[1.0,\"#f0f921\"]]}],\"contourcarpet\":[{\"type\":\"contourcarpet\",\"colorbar\":{\"outlinewidth\":0,\"ticks\":\"\"}}],\"contour\":[{\"type\":\"contour\",\"colorbar\":{\"outlinewidth\":0,\"ticks\":\"\"},\"colorscale\":[[0.0,\"#0d0887\"],[0.1111111111111111,\"#46039f\"],[0.2222222222222222,\"#7201a8\"],[0.3333333333333333,\"#9c179e\"],[0.4444444444444444,\"#bd3786\"],[0.5555555555555556,\"#d8576b\"],[0.6666666666666666,\"#ed7953\"],[0.7777777777777778,\"#fb9f3a\"],[0.8888888888888888,\"#fdca26\"],[1.0,\"#f0f921\"]]}],\"surface\":[{\"type\":\"surface\",\"colorbar\":{\"outlinewidth\":0,\"ticks\":\"\"},\"colorscale\":[[0.0,\"#0d0887\"],[0.1111111111111111,\"#46039f\"],[0.2222222222222222,\"#7201a8\"],[0.3333333333333333,\"#9c179e\"],[0.4444444444444444,\"#bd3786\"],[0.5555555555555556,\"#d8576b\"],[0.6666666666666666,\"#ed7953\"],[0.7777777777777778,\"#fb9f3a\"],[0.8888888888888888,\"#fdca26\"],[1.0,\"#f0f921\"]]}],\"mesh3d\":[{\"type\":\"mesh3d\",\"colorbar\":{\"outlinewidth\":0,\"ticks\":\"\"}}],\"scatter\":[{\"fillpattern\":{\"fillmode\":\"overlay\",\"size\":10,\"solidity\":0.2},\"type\":\"scatter\"}],\"parcoords\":[{\"type\":\"parcoords\",\"line\":{\"colorbar\":{\"outlinewidth\":0,\"ticks\":\"\"}}}],\"scatterpolargl\":[{\"type\":\"scatterpolargl\",\"marker\":{\"colorbar\":{\"outlinewidth\":0,\"ticks\":\"\"}}}],\"bar\":[{\"error_x\":{\"color\":\"#2a3f5f\"},\"error_y\":{\"color\":\"#2a3f5f\"},\"marker\":{\"line\":{\"color\":\"#E5ECF6\",\"width\":0.5},\"pattern\":{\"fillmode\":\"overlay\",\"size\":10,\"solidity\":0.2}},\"type\":\"bar\"}],\"scattergeo\":[{\"type\":\"scattergeo\",\"marker\":{\"colorbar\":{\"outlinewidth\":0,\"ticks\":\"\"}}}],\"scatterpolar\":[{\"type\":\"scatterpolar\",\"marker\":{\"colorbar\":{\"outlinewidth\":0,\"ticks\":\"\"}}}],\"histogram\":[{\"marker\":{\"pattern\":{\"fillmode\":\"overlay\",\"size\":10,\"solidity\":0.2}},\"type\":\"histogram\"}],\"scattergl\":[{\"type\":\"scattergl\",\"marker\":{\"colorbar\":{\"outlinewidth\":0,\"ticks\":\"\"}}}],\"scatter3d\":[{\"type\":\"scatter3d\",\"line\":{\"colorbar\":{\"outlinewidth\":0,\"ticks\":\"\"}},\"marker\":{\"colorbar\":{\"outlinewidth\":0,\"ticks\":\"\"}}}],\"scattermapbox\":[{\"type\":\"scattermapbox\",\"marker\":{\"colorbar\":{\"outlinewidth\":0,\"ticks\":\"\"}}}],\"scatterternary\":[{\"type\":\"scatterternary\",\"marker\":{\"colorbar\":{\"outlinewidth\":0,\"ticks\":\"\"}}}],\"scattercarpet\":[{\"type\":\"scattercarpet\",\"marker\":{\"colorbar\":{\"outlinewidth\":0,\"ticks\":\"\"}}}],\"carpet\":[{\"aaxis\":{\"endlinecolor\":\"#2a3f5f\",\"gridcolor\":\"white\",\"linecolor\":\"white\",\"minorgridcolor\":\"white\",\"startlinecolor\":\"#2a3f5f\"},\"baxis\":{\"endlinecolor\":\"#2a3f5f\",\"gridcolor\":\"white\",\"linecolor\":\"white\",\"minorgridcolor\":\"white\",\"startlinecolor\":\"#2a3f5f\"},\"type\":\"carpet\"}],\"table\":[{\"cells\":{\"fill\":{\"color\":\"#EBF0F8\"},\"line\":{\"color\":\"white\"}},\"header\":{\"fill\":{\"color\":\"#C8D4E3\"},\"line\":{\"color\":\"white\"}},\"type\":\"table\"}],\"barpolar\":[{\"marker\":{\"line\":{\"color\":\"#E5ECF6\",\"width\":0.5},\"pattern\":{\"fillmode\":\"overlay\",\"size\":10,\"solidity\":0.2}},\"type\":\"barpolar\"}],\"pie\":[{\"automargin\":true,\"type\":\"pie\"}]},\"layout\":{\"autotypenumbers\":\"strict\",\"colorway\":[\"#636efa\",\"#EF553B\",\"#00cc96\",\"#ab63fa\",\"#FFA15A\",\"#19d3f3\",\"#FF6692\",\"#B6E880\",\"#FF97FF\",\"#FECB52\"],\"font\":{\"color\":\"#2a3f5f\"},\"hovermode\":\"closest\",\"hoverlabel\":{\"align\":\"left\"},\"paper_bgcolor\":\"white\",\"plot_bgcolor\":\"#E5ECF6\",\"polar\":{\"bgcolor\":\"#E5ECF6\",\"angularaxis\":{\"gridcolor\":\"white\",\"linecolor\":\"white\",\"ticks\":\"\"},\"radialaxis\":{\"gridcolor\":\"white\",\"linecolor\":\"white\",\"ticks\":\"\"}},\"ternary\":{\"bgcolor\":\"#E5ECF6\",\"aaxis\":{\"gridcolor\":\"white\",\"linecolor\":\"white\",\"ticks\":\"\"},\"baxis\":{\"gridcolor\":\"white\",\"linecolor\":\"white\",\"ticks\":\"\"},\"caxis\":{\"gridcolor\":\"white\",\"linecolor\":\"white\",\"ticks\":\"\"}},\"coloraxis\":{\"colorbar\":{\"outlinewidth\":0,\"ticks\":\"\"}},\"colorscale\":{\"sequential\":[[0.0,\"#0d0887\"],[0.1111111111111111,\"#46039f\"],[0.2222222222222222,\"#7201a8\"],[0.3333333333333333,\"#9c179e\"],[0.4444444444444444,\"#bd3786\"],[0.5555555555555556,\"#d8576b\"],[0.6666666666666666,\"#ed7953\"],[0.7777777777777778,\"#fb9f3a\"],[0.8888888888888888,\"#fdca26\"],[1.0,\"#f0f921\"]],\"sequentialminus\":[[0.0,\"#0d0887\"],[0.1111111111111111,\"#46039f\"],[0.2222222222222222,\"#7201a8\"],[0.3333333333333333,\"#9c179e\"],[0.4444444444444444,\"#bd3786\"],[0.5555555555555556,\"#d8576b\"],[0.6666666666666666,\"#ed7953\"],[0.7777777777777778,\"#fb9f3a\"],[0.8888888888888888,\"#fdca26\"],[1.0,\"#f0f921\"]],\"diverging\":[[0,\"#8e0152\"],[0.1,\"#c51b7d\"],[0.2,\"#de77ae\"],[0.3,\"#f1b6da\"],[0.4,\"#fde0ef\"],[0.5,\"#f7f7f7\"],[0.6,\"#e6f5d0\"],[0.7,\"#b8e186\"],[0.8,\"#7fbc41\"],[0.9,\"#4d9221\"],[1,\"#276419\"]]},\"xaxis\":{\"gridcolor\":\"white\",\"linecolor\":\"white\",\"ticks\":\"\",\"title\":{\"standoff\":15},\"zerolinecolor\":\"white\",\"automargin\":true,\"zerolinewidth\":2},\"yaxis\":{\"gridcolor\":\"white\",\"linecolor\":\"white\",\"ticks\":\"\",\"title\":{\"standoff\":15},\"zerolinecolor\":\"white\",\"automargin\":true,\"zerolinewidth\":2},\"scene\":{\"xaxis\":{\"backgroundcolor\":\"#E5ECF6\",\"gridcolor\":\"white\",\"linecolor\":\"white\",\"showbackground\":true,\"ticks\":\"\",\"zerolinecolor\":\"white\",\"gridwidth\":2},\"yaxis\":{\"backgroundcolor\":\"#E5ECF6\",\"gridcolor\":\"white\",\"linecolor\":\"white\",\"showbackground\":true,\"ticks\":\"\",\"zerolinecolor\":\"white\",\"gridwidth\":2},\"zaxis\":{\"backgroundcolor\":\"#E5ECF6\",\"gridcolor\":\"white\",\"linecolor\":\"white\",\"showbackground\":true,\"ticks\":\"\",\"zerolinecolor\":\"white\",\"gridwidth\":2}},\"shapedefaults\":{\"line\":{\"color\":\"#2a3f5f\"}},\"annotationdefaults\":{\"arrowcolor\":\"#2a3f5f\",\"arrowhead\":0,\"arrowwidth\":1},\"geo\":{\"bgcolor\":\"white\",\"landcolor\":\"#E5ECF6\",\"subunitcolor\":\"white\",\"showland\":true,\"showlakes\":true,\"lakecolor\":\"white\"},\"title\":{\"x\":0.05},\"mapbox\":{\"style\":\"light\"}}},\"xaxis\":{\"anchor\":\"y\",\"domain\":[0.0,0.45]},\"yaxis\":{\"anchor\":\"x\",\"domain\":[0.0,1.0]},\"xaxis2\":{\"anchor\":\"y2\",\"domain\":[0.55,1.0]},\"yaxis2\":{\"anchor\":\"x2\",\"domain\":[0.0,1.0]},\"annotations\":[{\"font\":{\"size\":16},\"showarrow\":false,\"text\":\"Literacy Rate vs Birth Rate\",\"x\":0.225,\"xanchor\":\"center\",\"xref\":\"paper\",\"y\":1.0,\"yanchor\":\"bottom\",\"yref\":\"paper\"},{\"font\":{\"size\":16},\"showarrow\":false,\"text\":\"Primary Education Enrollment by Gender\",\"x\":0.775,\"xanchor\":\"center\",\"xref\":\"paper\",\"y\":1.0,\"yanchor\":\"bottom\",\"yref\":\"paper\"}],\"title\":{\"text\":\"Education and Population Indicators Dashboard\"}},                        {\"responsive\": true}                    ).then(function(){\n",
       "                            \n",
       "var gd = document.getElementById('c9215f4e-8517-4312-856b-762710f0950f');\n",
       "var x = new MutationObserver(function (mutations, observer) {{\n",
       "        var display = window.getComputedStyle(gd).display;\n",
       "        if (!display || display === 'none') {{\n",
       "            console.log([gd, 'removed!']);\n",
       "            Plotly.purge(gd);\n",
       "            observer.disconnect();\n",
       "        }}\n",
       "}});\n",
       "\n",
       "// Listen for the removal of the full notebook cells\n",
       "var notebookContainer = gd.closest('#notebook-container');\n",
       "if (notebookContainer) {{\n",
       "    x.observe(notebookContainer, {childList: true});\n",
       "}}\n",
       "\n",
       "// Listen for the clearing of the current output cell\n",
       "var outputEl = gd.closest('.output');\n",
       "if (outputEl) {{\n",
       "    x.observe(outputEl, {childList: true});\n",
       "}}\n",
       "\n",
       "                        })                };                });            </script>        </div>"
      ]
     },
     "metadata": {},
     "output_type": "display_data"
    }
   ],
   "source": [
    "# Task extra\n",
    "# Create dashboards with scatter plots and bar charts\n",
    "fig_dashboard = make_subplots(rows=1, cols=2, subplot_titles=('Literacy Rate vs Birth Rate', 'Primary Education Enrollment by Gender'))\n",
    "\n",
    "# Scatter Plot: Literacy Rate vs. Birth Rate\n",
    "fig_dashboard.add_trace(go.Scatter(x=df['Birth_Rate'], y=df['Youth_15_24_Literacy_Rate_Male'], mode='markers', name='Male Literacy Rate'),\n",
    "                        row=1, col=1)\n",
    "fig_dashboard.add_trace(go.Scatter(x=df['Birth_Rate'], y=df['Youth_15_24_Literacy_Rate_Female'], mode='markers', name='Female Literacy Rate'),\n",
    "                        row=1, col=1)\n",
    "\n",
    "# Bar chart: Primary education enrollment rates by country\n",
    "fig_dashboard.add_trace(go.Bar(x=df['Countries and areas'], y=df['Gross_Primary_Education_Enrollment'], name='Primary Education Enrollment'),\n",
    "                        row=1, col=2)\n",
    "\n",
    "fig_dashboard.update_layout(title_text='Education and Population Indicators Dashboard')\n",
    "fig_dashboard.show()"
   ]
  },
  {
   "cell_type": "code",
   "execution_count": null,
   "id": "6773680b",
   "metadata": {},
   "outputs": [],
   "source": []
  }
 ],
 "metadata": {
  "kernelspec": {
   "display_name": "Python 3 (ipykernel)",
   "language": "python",
   "name": "python3"
  },
  "language_info": {
   "codemirror_mode": {
    "name": "ipython",
    "version": 3
   },
   "file_extension": ".py",
   "mimetype": "text/x-python",
   "name": "python",
   "nbconvert_exporter": "python",
   "pygments_lexer": "ipython3",
   "version": "3.9.13"
  }
 },
 "nbformat": 4,
 "nbformat_minor": 5
}
